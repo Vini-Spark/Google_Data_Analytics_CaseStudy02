{
  "cells": [
    {
      "cell_type": "markdown",
      "metadata": {
        "id": "kLkvrRrE2uE9"
      },
      "source": [
        "# Case Study 02: How can a wellness company play it smart?\n",
        "\n",
        "\n",
        "Author: Vinícius Alves\n",
        "\n",
        "Date: 03/31/2023\n",
        "\n",
        "Version: 1.0"
      ]
    },
    {
      "cell_type": "markdown",
      "metadata": {
        "id": "snYWyAwtpgmO"
      },
      "source": [
        "## About the Company: Bellabeat\n",
        "\n",
        "[Bellabeat](https://bellabeat.com/) is a high-tech company that manufactures health-focused smart products. The company is focused on women and develop gadgets to collect data on activity, sleep, stress, and reproductive health.  That has allowed Bellabeat to empower women with the knowledge about their own health and habits.\n",
        "\n",
        "### Products\n",
        "- **Bellabeat app:** The Bellabeat app provides users with health data related to their activity, sleep, stress,\n",
        "menstrual cycle, and mindfulness habits. This data can help users better understand their current habits and\n",
        "make healthy decisions. The Bellabeat app connects to their line of smart wellness products.\n",
        "\n",
        "- **Leaf**: Bellabeat’s classic wellness tracker can be worn as a bracelet, necklace, or clip. The Leaf tracker connects\n",
        "to the Bellabeat app to track activity, sleep, and stress.\n",
        "\n",
        "- **Time**: This wellness watch combines the timeless look of a classic timepiece with smart technology to track user\n",
        "activity, sleep, and stress. The Time watch connects to the Bellabeat app to provide you with insights into your\n",
        "daily wellness.\n",
        "\n",
        "- **Spring**: This is a water bottle that tracks daily water intake using smart technology to ensure that you are\n",
        "appropriately hydrated throughout the day. The Spring bottle connects to the Bellabeat app to track your\n",
        "hydration levels.\n",
        "\n",
        "- **Bellabeat membership**: Bellabeat also oﬀers a subscription-based membership program for users.\n",
        "Membership gives users 24/7 access to fully personalized guidance on nutrition, activity, sleep, health and \n",
        "beauty, and mindfulness based on their lifestyle and goals."
      ]
    },
    {
      "cell_type": "markdown",
      "metadata": {
        "id": "dGyP9l_sovyl"
      },
      "source": [
        "# The analysis \n",
        "\n",
        "## Ask phase\n",
        "\n",
        "To help Bellabeat improve a product, a study was commissioned on user behavior using another company's healthy data collection gadgets.\n",
        "\n",
        "The questions raised in this analysis were:\n",
        "\n",
        "1. What are some trends in smart device usage? \n",
        "2. How could these trends apply to Bellabeat customers?\n",
        "3. How could these trends help inﬂuence Bellabeat marketing strategy? "
      ]
    },
    {
      "cell_type": "markdown",
      "metadata": {
        "id": "Wrv0ahx_B8lj"
      },
      "source": [
        "## Prepare phase:\n",
        "\n",
        "### The data used\n",
        "\n",
        "The data used in this analysis is from [Fitbit's gadgets](https://www.kaggle.com/datasets/arashnic/fitbit) available on Kaggle.\n",
        "\n",
        "This dataset was collected by a distributed survey via Amazon Mechanical Turk between March 12, 2016 and May 12, 2016. Thirty eligible Fitbit users consented to the submission of personal tracker data, including minute-level output for physical activity, heart rate, and sleep monitoring. The data does not have any personal information of the users.\n",
        "\n",
        "This data is open-source and have the CC0: Public Domain License, which means anyone can copy, modify, distribute, work with it, even for commercial purposes, without asking permission.\n",
        "\n",
        "### How was the data distributed?\n",
        "\n",
        "The dataset is composed of 18 .csv files. 15 in long format, 3 in wide format.\n",
        "\n",
        "### Bias\n",
        "\n",
        "About bias in the data, I think hat some points need to be discussed:\n",
        "\n",
        "\n",
        "#### About the Sampe size:\n",
        "\n",
        "The data has 33 people data in the majority of the shared datasets, \n",
        "but 33 people is just a piece of the entire population that uses \n",
        "smart gadgets. On some archives we just have 24 or 8 people \n",
        "information. Because of that we cannot say that our data is not biased.\n",
        "\n",
        "\n",
        "#### About the missing values:\n",
        "\n",
        "17 of the 18 archives have no missing information, but in the \n",
        "'weightLogInfo_merged.csv' we only have Fat information of two \n",
        "people. Thus, that information is not supposed to be used.\n",
        "\n",
        "\n",
        "#### About confounding variables:\n",
        "\n",
        "Most of the datasets have readible understandable variables, but, the \n",
        "'minuteSleep_merged.csv' has a variable called 'value' that its not \n",
        "clear what is. Maybe it is the minute slept, which in this case, the \n",
        "value 1 make sense, but in some points it has a value of 2 or 3.\n",
        "\n",
        "After checking [Fitabase Data Dictionary ](https://www.fitabase.com/media/1930/fitabasedatadictionary102320.pdf), these values can be translate in: 1 = asleep, 2 = restless, 3 = awake.\n",
        "\n",
        "\n",
        "#### About the selection and measurement bias:\n",
        "\n",
        "As this dataset was constructed with the consentiment of a few people \n",
        "that used these gadgets, it is already biased, because they knew that \n",
        "their data was being collected. So, we already know that we have the \n",
        "bias of type of people that used some gadgets and agreed to share the data, \n",
        "and about the change in the behavior in the period that the data was collected?"
      ]
    },
    {
      "cell_type": "code",
      "execution_count": 20,
      "metadata": {
        "id": "P16u4t_o2u8k"
      },
      "outputs": [],
      "source": [
        "# Libraries\n",
        "import pandas as pd\n",
        "import numpy as np\n",
        "import statistics as st\n",
        "\n",
        "import plotly.express as px\n",
        "from plotly.subplots import make_subplots\n",
        "import plotly.graph_objects as go\n",
        "\n",
        "import os\n"
      ]
    },
    {
      "cell_type": "markdown",
      "metadata": {
        "id": "0vNuWJJ2nnxZ"
      },
      "source": [
        "The data source archives used in this study are listed below with some data analysis"
      ]
    },
    {
      "cell_type": "code",
      "execution_count": 21,
      "metadata": {
        "colab": {
          "base_uri": "https://localhost:8080/"
        },
        "id": "EQOeSe8IGv0-",
        "outputId": "38e6156b-867b-4372-9978-6fc731558963"
      },
      "outputs": [
        {
          "data": {
            "text/plain": [
              "['Data_Coursera_CaseStudy02/dailyActivity_merged.csv',\n",
              " 'Data_Coursera_CaseStudy02/dailyCalories_merged.csv',\n",
              " 'Data_Coursera_CaseStudy02/dailyIntensities_merged.csv',\n",
              " 'Data_Coursera_CaseStudy02/dailySteps_merged.csv',\n",
              " 'Data_Coursera_CaseStudy02/heartrate_seconds_merged.csv',\n",
              " 'Data_Coursera_CaseStudy02/hourlyCalories_merged.csv',\n",
              " 'Data_Coursera_CaseStudy02/hourlyIntensities_merged.csv',\n",
              " 'Data_Coursera_CaseStudy02/hourlySteps_merged.csv',\n",
              " 'Data_Coursera_CaseStudy02/minuteCaloriesNarrow_merged.csv',\n",
              " 'Data_Coursera_CaseStudy02/minuteCaloriesWide_merged.csv',\n",
              " 'Data_Coursera_CaseStudy02/minuteIntensitiesNarrow_merged.csv',\n",
              " 'Data_Coursera_CaseStudy02/minuteIntensitiesWide_merged.csv',\n",
              " 'Data_Coursera_CaseStudy02/minuteMETsNarrow_merged.csv',\n",
              " 'Data_Coursera_CaseStudy02/minuteSleep_merged.csv',\n",
              " 'Data_Coursera_CaseStudy02/minuteStepsNarrow_merged.csv',\n",
              " 'Data_Coursera_CaseStudy02/minuteStepsWide_merged.csv',\n",
              " 'Data_Coursera_CaseStudy02/sleepDay_merged.csv',\n",
              " 'Data_Coursera_CaseStudy02/weightLogInfo_merged.csv']"
            ]
          },
          "execution_count": 21,
          "metadata": {},
          "output_type": "execute_result"
        }
      ],
      "source": [
        "# Getting the archives\n",
        "import fnmatch\n",
        "\n",
        "extensions = ['*.csv']\n",
        "\n",
        "archives = []\n",
        "\n",
        "folder_path = \"Data_Coursera_CaseStudy02/\"\n",
        "\n",
        "\n",
        "# Walk through the folder and its subdirectories to find CSV files\n",
        "for root, dirs, files in os.walk(folder_path):\n",
        "    for csv_extension in extensions:\n",
        "        for filename in fnmatch.filter(files, csv_extension):\n",
        "            csv_path = os.path.join(root, filename)\n",
        "            archives.append(csv_path)\n",
        "\n",
        "archives"
      ]
    },
    {
      "cell_type": "code",
      "execution_count": 22,
      "metadata": {
        "colab": {
          "base_uri": "https://localhost:8080/"
        },
        "id": "rIXKyEYxQhr6",
        "outputId": "38ce621b-5e7b-48a9-c189-b5cf668a44f1"
      },
      "outputs": [
        {
          "name": "stdout",
          "output_type": "stream",
          "text": [
            "archive:  dailyActivity_merged.csv\n",
            "Ids: 33\n",
            "Total line count: 863\n",
            "Missing values: 0\n",
            "-------------------------------------------\n",
            "archive:  dailyCalories_merged.csv\n",
            "Ids: 33\n",
            "Total line count: 940\n",
            "Missing values: 0\n",
            "-------------------------------------------\n",
            "archive:  dailyIntensities_merged.csv\n",
            "Ids: 33\n",
            "Total line count: 940\n",
            "Missing values: 0\n",
            "-------------------------------------------\n",
            "archive:  dailySteps_merged.csv\n",
            "Ids: 33\n",
            "Total line count: 863\n",
            "Missing values: 0\n",
            "-------------------------------------------\n",
            "archive:  heartrate_seconds_merged.csv\n",
            "Ids: 14\n",
            "Total line count: 2483658\n",
            "Missing values: 0\n",
            "-------------------------------------------\n",
            "archive:  hourlyCalories_merged.csv\n",
            "Ids: 33\n",
            "Total line count: 22099\n",
            "Missing values: 0\n",
            "-------------------------------------------\n",
            "archive:  hourlyIntensities_merged.csv\n",
            "Ids: 33\n",
            "Total line count: 22099\n",
            "Missing values: 0\n",
            "-------------------------------------------\n",
            "archive:  hourlySteps_merged.csv\n",
            "Ids: 33\n",
            "Total line count: 22099\n",
            "Missing values: 0\n",
            "-------------------------------------------\n",
            "archive:  minuteCaloriesNarrow_merged.csv\n",
            "Ids: 33\n",
            "Total line count: 1325580\n",
            "Missing values: 0\n",
            "-------------------------------------------\n",
            "archive:  minuteCaloriesWide_merged.csv\n",
            "Ids: 33\n",
            "Total line count: 21645\n",
            "Missing values: 0\n",
            "-------------------------------------------\n",
            "archive:  minuteIntensitiesNarrow_merged.csv\n",
            "Ids: 33\n",
            "Total line count: 1325580\n",
            "Missing values: 0\n",
            "-------------------------------------------\n",
            "archive:  minuteIntensitiesWide_merged.csv\n",
            "Ids: 33\n",
            "Total line count: 21645\n",
            "Missing values: 0\n",
            "-------------------------------------------\n",
            "archive:  minuteMETsNarrow_merged.csv\n",
            "Ids: 33\n",
            "Total line count: 1325573\n",
            "Missing values: 0\n",
            "-------------------------------------------\n",
            "archive:  minuteSleep_merged.csv\n",
            "Ids: 24\n",
            "Total line count: 187978\n",
            "Missing values: 0\n",
            "-------------------------------------------\n",
            "archive:  minuteStepsNarrow_merged.csv\n",
            "Ids: 33\n",
            "Total line count: 1325580\n",
            "Missing values: 0\n",
            "-------------------------------------------\n",
            "archive:  minuteStepsWide_merged.csv\n",
            "Ids: 33\n",
            "Total line count: 21645\n",
            "Missing values: 0\n",
            "-------------------------------------------\n",
            "archive:  sleepDay_merged.csv\n",
            "Ids: 24\n",
            "Total line count: 410\n",
            "Missing values: 0\n",
            "-------------------------------------------\n",
            "archive:  weightLogInfo_merged.csv\n",
            "Ids: 8\n",
            "Total line count: 67\n",
            "Missing values: 0\n",
            "-------------------------------------------\n"
          ]
        }
      ],
      "source": [
        "# Checking the data for bias:\n",
        "\n",
        "\n",
        "# 1 - Checking the sample size\n",
        "\n",
        "# For every dataset:\n",
        "# Check the number of ID (people)\n",
        "# Check the total line count\n",
        "# Check the missig values\n",
        "\n",
        "for archive in archives:\n",
        "  new_df = pd.read_csv(archive)\n",
        "\n",
        "  print(f\"archive: { archive.replace('Data_Coursera_CaseStudy02/',' ') }\")\n",
        "  print(f'Ids: {len(new_df.Id.unique())}')\n",
        "  print(f'Total line count: {len(new_df)}')\n",
        "  print(f'Missing values: {new_df.isnull().any(axis=1).sum()}')\n",
        "  print(\"-------------------------------------------\")\n",
        "\n",
        "\n",
        "\n"
      ]
    },
    {
      "cell_type": "markdown",
      "metadata": {
        "id": "YuPllctm62DE"
      },
      "source": [
        "Data:\n",
        "https://www.kaggle.com/datasets/arashnic/fitbit?resource=download"
      ]
    },
    {
      "cell_type": "markdown",
      "metadata": {
        "id": "7T3hcw8LCBm6"
      },
      "source": [
        "## Process phase:\n",
        "\n",
        "\n",
        "As you already can see, I will use a Jupyter Notebook to perform this analysis.\n",
        "\n",
        "First of all, I downloaded the data and put them into a folder called 'Data_Coursera_CaseStudy02', so I will read every file from there.\n",
        "\n",
        "\n",
        "To ensure that the data is clean, I will perform this steps in every archive:\n",
        "1. Checked for duplicates;\n",
        "2. Checked for rows with no data;\n",
        "3. Checked for inconsistent data;\n"
      ]
    },
    {
      "cell_type": "markdown",
      "metadata": {
        "id": "jKjcIN29fEnp"
      },
      "source": [
        "Is there any duplicated value in the files?"
      ]
    },
    {
      "cell_type": "code",
      "execution_count": 23,
      "metadata": {
        "id": "UO7Xd12KfEe-"
      },
      "outputs": [
        {
          "name": "stdout",
          "output_type": "stream",
          "text": [
            "archive:  dailyActivity_merged.csv\n",
            "Duplicated lines: 0\n",
            "-------------------------------------------\n",
            "archive:  dailyCalories_merged.csv\n",
            "Duplicated lines: 0\n",
            "-------------------------------------------\n",
            "archive:  dailyIntensities_merged.csv\n",
            "Duplicated lines: 0\n",
            "-------------------------------------------\n",
            "archive:  dailySteps_merged.csv\n",
            "Duplicated lines: 0\n",
            "-------------------------------------------\n",
            "archive:  heartrate_seconds_merged.csv\n",
            "Duplicated lines: 0\n",
            "-------------------------------------------\n",
            "archive:  hourlyCalories_merged.csv\n",
            "Duplicated lines: 0\n",
            "-------------------------------------------\n",
            "archive:  hourlyIntensities_merged.csv\n",
            "Duplicated lines: 0\n",
            "-------------------------------------------\n",
            "archive:  hourlySteps_merged.csv\n",
            "Duplicated lines: 0\n",
            "-------------------------------------------\n",
            "archive:  minuteCaloriesNarrow_merged.csv\n",
            "Duplicated lines: 0\n",
            "-------------------------------------------\n",
            "archive:  minuteCaloriesWide_merged.csv\n",
            "Duplicated lines: 0\n",
            "-------------------------------------------\n",
            "archive:  minuteIntensitiesNarrow_merged.csv\n",
            "Duplicated lines: 0\n",
            "-------------------------------------------\n",
            "archive:  minuteIntensitiesWide_merged.csv\n",
            "Duplicated lines: 0\n",
            "-------------------------------------------\n",
            "archive:  minuteMETsNarrow_merged.csv\n",
            "Duplicated lines: 0\n",
            "-------------------------------------------\n",
            "archive:  minuteSleep_merged.csv\n",
            "Duplicated lines: 0\n",
            "-------------------------------------------\n",
            "archive:  minuteStepsNarrow_merged.csv\n",
            "Duplicated lines: 0\n",
            "-------------------------------------------\n",
            "archive:  minuteStepsWide_merged.csv\n",
            "Duplicated lines: 0\n",
            "-------------------------------------------\n",
            "archive:  sleepDay_merged.csv\n",
            "Duplicated lines: 0\n",
            "-------------------------------------------\n",
            "archive:  weightLogInfo_merged.csv\n",
            "Duplicated lines: 0\n",
            "-------------------------------------------\n"
          ]
        }
      ],
      "source": [
        "for archive in archives:\n",
        "  new_df = pd.read_csv(archive)\n",
        "\n",
        "  print(f\"archive: { archive.replace('Data_Coursera_CaseStudy02/',' ') }\")\n",
        "  print(f'Duplicated lines: {new_df.duplicated().sum()}')\n",
        "  print(\"-------------------------------------------\")\n",
        "\n"
      ]
    },
    {
      "cell_type": "markdown",
      "metadata": {
        "id": "Ixpu6mN_gtdl"
      },
      "source": [
        "Duplicated rows were founded in two of the datasets:\n",
        "\n",
        "-------------------------------------------\n",
        "\n",
        "archive:  minuteSleep_merged.csv\n",
        "\n",
        "Duplicated lines: 543\n",
        "\n",
        "-------------------------------------------\n",
        "\n",
        "archive:  sleepDay_merged.csv\n",
        "\n",
        "Duplicated lines: 3\n",
        "\n",
        "-------------------------------------------\n",
        "\n",
        "Removing duplicates"
      ]
    },
    {
      "cell_type": "code",
      "execution_count": 24,
      "metadata": {
        "id": "0WeFvK8hgtVd"
      },
      "outputs": [],
      "source": [
        "# Removing duplicates\n",
        "for archive in archives:\n",
        "  new_df = pd.read_csv(archive)\n",
        "  if(new_df.duplicated().sum() > 0 ):\n",
        "    print(f\"Removing the duplicates from: {archive.replace('Data_Coursera_CaseStudy02/',' ')}\")\n",
        "    new_df.drop_duplicates(keep='first',inplace=True)\n",
        "    # Saving the Dataframe without the duplicated values\n",
        "    new_df.to_csv(archive)\n",
        "\n",
        "# Removing the duplicates from:  minuteSleep_merged.csv\n",
        "# Removing the duplicates from:  sleepDay_merged.csv"
      ]
    },
    {
      "cell_type": "markdown",
      "metadata": {
        "id": "YfA_P7vmfG_1"
      },
      "source": [
        "### Is there any missing value in the files?"
      ]
    },
    {
      "cell_type": "code",
      "execution_count": 25,
      "metadata": {
        "id": "Z8btKdqJCCN7"
      },
      "outputs": [
        {
          "name": "stdout",
          "output_type": "stream",
          "text": [
            "archive:  dailyActivity_merged.csv\n",
            "Total line count: 863\n",
            "Missing values: 0\n",
            "-------------------------------------------\n",
            "archive:  dailyCalories_merged.csv\n",
            "Total line count: 940\n",
            "Missing values: 0\n",
            "-------------------------------------------\n",
            "archive:  dailyIntensities_merged.csv\n",
            "Total line count: 940\n",
            "Missing values: 0\n",
            "-------------------------------------------\n",
            "archive:  dailySteps_merged.csv\n",
            "Total line count: 863\n",
            "Missing values: 0\n",
            "-------------------------------------------\n",
            "archive:  heartrate_seconds_merged.csv\n",
            "Total line count: 2483658\n",
            "Missing values: 0\n",
            "-------------------------------------------\n",
            "archive:  hourlyCalories_merged.csv\n",
            "Total line count: 22099\n",
            "Missing values: 0\n",
            "-------------------------------------------\n",
            "archive:  hourlyIntensities_merged.csv\n",
            "Total line count: 22099\n",
            "Missing values: 0\n",
            "-------------------------------------------\n",
            "archive:  hourlySteps_merged.csv\n",
            "Total line count: 22099\n",
            "Missing values: 0\n",
            "-------------------------------------------\n",
            "archive:  minuteCaloriesNarrow_merged.csv\n",
            "Total line count: 1325580\n",
            "Missing values: 0\n",
            "-------------------------------------------\n",
            "archive:  minuteCaloriesWide_merged.csv\n",
            "Total line count: 21645\n",
            "Missing values: 0\n",
            "-------------------------------------------\n",
            "archive:  minuteIntensitiesNarrow_merged.csv\n",
            "Total line count: 1325580\n",
            "Missing values: 0\n",
            "-------------------------------------------\n",
            "archive:  minuteIntensitiesWide_merged.csv\n",
            "Total line count: 21645\n",
            "Missing values: 0\n",
            "-------------------------------------------\n",
            "archive:  minuteMETsNarrow_merged.csv\n",
            "Total line count: 1325573\n",
            "Missing values: 0\n",
            "-------------------------------------------\n",
            "archive:  minuteSleep_merged.csv\n",
            "Total line count: 187978\n",
            "Missing values: 0\n",
            "-------------------------------------------\n",
            "archive:  minuteStepsNarrow_merged.csv\n",
            "Total line count: 1325580\n",
            "Missing values: 0\n",
            "-------------------------------------------\n",
            "archive:  minuteStepsWide_merged.csv\n",
            "Total line count: 21645\n",
            "Missing values: 0\n",
            "-------------------------------------------\n",
            "archive:  sleepDay_merged.csv\n",
            "Total line count: 410\n",
            "Missing values: 0\n",
            "-------------------------------------------\n",
            "archive:  weightLogInfo_merged.csv\n",
            "Total line count: 67\n",
            "Missing values: 0\n",
            "-------------------------------------------\n"
          ]
        }
      ],
      "source": [
        "# Searching for rows or column with no data:\n",
        "\n",
        "\n",
        "for archive in archives:\n",
        "  new_df = pd.read_csv(archive)\n",
        "\n",
        "  print(f\"archive: { archive.replace('Data_Coursera_CaseStudy02/',' ') }\")\n",
        "  print(f'Total line count: {len(new_df)}')\n",
        "  print(f'Missing values: {new_df.isnull().any(axis=1).sum()}')\n",
        "  print(\"-------------------------------------------\") \n"
      ]
    },
    {
      "cell_type": "markdown",
      "metadata": {
        "id": "VGpWnYvBgZke"
      },
      "source": [
        "Missing values detected in:\n",
        "\n",
        "-------------------------------------------\n",
        "archive:  weightLogInfo_merged.csv\n",
        "\n",
        "Total line count: 67\n",
        "\n",
        "Missing values: 65\n",
        "\n",
        "-------------------------------------------\n",
        "\n",
        "\n",
        "\n",
        "But this feels strange.\n",
        "\n",
        "Have checked the data, and that is a column with only 2 values.\n",
        "\n",
        "Need to remove that column, because we will not use that data.\n",
        "\n",
        "Removing the column 'Fat' from 'weightLogInfo_merged.csv' :"
      ]
    },
    {
      "cell_type": "markdown",
      "metadata": {
        "id": "_0EF0erQfM5V"
      },
      "source": [
        "### Evaluating for inconsistent data:"
      ]
    },
    {
      "cell_type": "code",
      "execution_count": 26,
      "metadata": {
        "colab": {
          "base_uri": "https://localhost:8080/"
        },
        "id": "mv3XYHx4fKL1",
        "outputId": "3a8c4649-faf0-4404-eaa0-851456f6fab6"
      },
      "outputs": [
        {
          "name": "stdout",
          "output_type": "stream",
          "text": [
            "archive:  dailyActivity_merged.csv\n",
            "Description:\n",
            "       Unnamed: 0            Id    TotalSteps  TotalDistance  TrackerDistance  \\\n",
            "count  863.000000  8.630000e+02    863.000000     863.000000       863.000000   \n",
            "mean   470.404403  4.857542e+09   8319.392816       5.979513         5.963882   \n",
            "std    270.542606  2.418405e+09   4744.967224       3.721044         3.703191   \n",
            "min      0.000000  1.503960e+09      4.000000       0.000000         0.000000   \n",
            "25%    240.500000  2.320127e+09   4923.000000       3.370000         3.370000   \n",
            "50%    471.000000  4.445115e+09   8053.000000       5.590000         5.590000   \n",
            "75%    708.500000  6.962181e+09  11092.500000       7.900000         7.880000   \n",
            "max    939.000000  8.877689e+09  36019.000000      28.030001        28.030001   \n",
            "\n",
            "       LoggedActivitiesDistance  VeryActiveDistance  ModeratelyActiveDistance  \\\n",
            "count                863.000000          863.000000                863.000000   \n",
            "mean                   0.117822            1.636756                  0.618181   \n",
            "std                    0.646111            2.735289                  0.905049   \n",
            "min                    0.000000            0.000000                  0.000000   \n",
            "25%                    0.000000            0.000000                  0.000000   \n",
            "50%                    0.000000            0.410000                  0.310000   \n",
            "75%                    0.000000            2.275000                  0.865000   \n",
            "max                    4.942142           21.920000                  6.480000   \n",
            "\n",
            "       LightActiveDistance  SedentaryActiveDistance  VeryActiveMinutes  \\\n",
            "count           863.000000               863.000000         863.000000   \n",
            "mean              3.638899                 0.001750          23.015064   \n",
            "std               1.857503                 0.007651          33.646118   \n",
            "min               0.000000                 0.000000           0.000000   \n",
            "25%               2.345000                 0.000000           0.000000   \n",
            "50%               3.580000                 0.000000           7.000000   \n",
            "75%               4.895000                 0.000000          35.000000   \n",
            "max              10.710000                 0.110000         210.000000   \n",
            "\n",
            "       FairlyActiveMinutes  LightlyActiveMinutes  SedentaryMinutes  \\\n",
            "count           863.000000            863.000000        863.000000   \n",
            "mean             14.775203            210.016222        955.753187   \n",
            "std              20.427405             96.781296        280.293359   \n",
            "min               0.000000              0.000000          0.000000   \n",
            "25%               0.000000            146.500000        721.500000   \n",
            "50%               8.000000            208.000000       1021.000000   \n",
            "75%              21.000000            272.000000       1189.000000   \n",
            "max             143.000000            518.000000       1440.000000   \n",
            "\n",
            "          Calories  \n",
            "count   863.000000  \n",
            "mean   2361.295481  \n",
            "std     702.711148  \n",
            "min      52.000000  \n",
            "25%    1855.500000  \n",
            "50%    2220.000000  \n",
            "75%    2832.000000  \n",
            "max    4900.000000  \n",
            "-------------------------------------------\n",
            "archive:  dailyCalories_merged.csv\n",
            "Description:\n",
            "                 Id     Calories\n",
            "count  9.400000e+02   940.000000\n",
            "mean   4.855407e+09  2303.609574\n",
            "std    2.424805e+09   718.166862\n",
            "min    1.503960e+09     0.000000\n",
            "25%    2.320127e+09  1828.500000\n",
            "50%    4.445115e+09  2134.000000\n",
            "75%    6.962181e+09  2793.250000\n",
            "max    8.877689e+09  4900.000000\n",
            "-------------------------------------------\n",
            "archive:  dailyIntensities_merged.csv\n",
            "Description:\n",
            "                 Id  SedentaryMinutes  LightlyActiveMinutes  \\\n",
            "count  9.400000e+02        940.000000            940.000000   \n",
            "mean   4.855407e+09        991.210638            192.812766   \n",
            "std    2.424805e+09        301.267437            109.174700   \n",
            "min    1.503960e+09          0.000000              0.000000   \n",
            "25%    2.320127e+09        729.750000            127.000000   \n",
            "50%    4.445115e+09       1057.500000            199.000000   \n",
            "75%    6.962181e+09       1229.500000            264.000000   \n",
            "max    8.877689e+09       1440.000000            518.000000   \n",
            "\n",
            "       FairlyActiveMinutes  VeryActiveMinutes  SedentaryActiveDistance  \\\n",
            "count           940.000000         940.000000               940.000000   \n",
            "mean             13.564894          21.164894                 0.001606   \n",
            "std              19.987404          32.844803                 0.007346   \n",
            "min               0.000000           0.000000                 0.000000   \n",
            "25%               0.000000           0.000000                 0.000000   \n",
            "50%               6.000000           4.000000                 0.000000   \n",
            "75%              19.000000          32.000000                 0.000000   \n",
            "max             143.000000         210.000000                 0.110000   \n",
            "\n",
            "       LightActiveDistance  ModeratelyActiveDistance  VeryActiveDistance  \n",
            "count           940.000000                940.000000          940.000000  \n",
            "mean              3.340819                  0.567543            1.502681  \n",
            "std               2.040655                  0.883580            2.658941  \n",
            "min               0.000000                  0.000000            0.000000  \n",
            "25%               1.945000                  0.000000            0.000000  \n",
            "50%               3.365000                  0.240000            0.210000  \n",
            "75%               4.782500                  0.800000            2.052500  \n",
            "max              10.710000                  6.480000           21.920000  \n",
            "-------------------------------------------\n",
            "archive:  dailySteps_merged.csv\n",
            "Description:\n",
            "       Unnamed: 0            Id     StepTotal\n",
            "count  863.000000  8.630000e+02    863.000000\n",
            "mean   470.404403  4.857542e+09   8319.392816\n",
            "std    270.542606  2.418405e+09   4744.967224\n",
            "min      0.000000  1.503960e+09      4.000000\n",
            "25%    240.500000  2.320127e+09   4923.000000\n",
            "50%    471.000000  4.445115e+09   8053.000000\n",
            "75%    708.500000  6.962181e+09  11092.500000\n",
            "max    939.000000  8.877689e+09  36019.000000\n",
            "-------------------------------------------\n",
            "archive:  heartrate_seconds_merged.csv\n",
            "Description:\n",
            "                 Id         Value\n",
            "count  2.483658e+06  2.483658e+06\n",
            "mean   5.513765e+09  7.732842e+01\n",
            "std    1.950224e+09  1.940450e+01\n",
            "min    2.022484e+09  3.600000e+01\n",
            "25%    4.388162e+09  6.300000e+01\n",
            "50%    5.553957e+09  7.300000e+01\n",
            "75%    6.962181e+09  8.800000e+01\n",
            "max    8.877689e+09  2.030000e+02\n",
            "-------------------------------------------\n",
            "archive:  hourlyCalories_merged.csv\n",
            "Description:\n",
            "                 Id      Calories\n",
            "count  2.209900e+04  22099.000000\n",
            "mean   4.848235e+09     97.386760\n",
            "std    2.422500e+09     60.702622\n",
            "min    1.503960e+09     42.000000\n",
            "25%    2.320127e+09     63.000000\n",
            "50%    4.445115e+09     83.000000\n",
            "75%    6.962181e+09    108.000000\n",
            "max    8.877689e+09    948.000000\n",
            "-------------------------------------------\n",
            "archive:  hourlyIntensities_merged.csv\n",
            "Description:\n",
            "                 Id  TotalIntensity  AverageIntensity\n",
            "count  2.209900e+04    22099.000000      22099.000000\n",
            "mean   4.848235e+09       12.035341          0.200589\n",
            "std    2.422500e+09       21.133110          0.352219\n",
            "min    1.503960e+09        0.000000          0.000000\n",
            "25%    2.320127e+09        0.000000          0.000000\n",
            "50%    4.445115e+09        3.000000          0.050000\n",
            "75%    6.962181e+09       16.000000          0.266667\n",
            "max    8.877689e+09      180.000000          3.000000\n",
            "-------------------------------------------\n",
            "archive:  hourlySteps_merged.csv\n",
            "Description:\n",
            "                 Id     StepTotal\n",
            "count  2.209900e+04  22099.000000\n",
            "mean   4.848235e+09    320.166342\n",
            "std    2.422500e+09    690.384228\n",
            "min    1.503960e+09      0.000000\n",
            "25%    2.320127e+09      0.000000\n",
            "50%    4.445115e+09     40.000000\n",
            "75%    6.962181e+09    357.000000\n",
            "max    8.877689e+09  10554.000000\n",
            "-------------------------------------------\n",
            "archive:  minuteCaloriesNarrow_merged.csv\n",
            "Description:\n",
            "                 Id      Calories\n",
            "count  1.325580e+06  1.325580e+06\n",
            "mean   4.847898e+09  1.623130e+00\n",
            "std    2.422313e+09  1.410447e+00\n",
            "min    1.503960e+09  0.000000e+00\n",
            "25%    2.320127e+09  9.357000e-01\n",
            "50%    4.445115e+09  1.217600e+00\n",
            "75%    6.962181e+09  1.432700e+00\n",
            "max    8.877689e+09  1.974995e+01\n",
            "-------------------------------------------\n",
            "archive:  minuteCaloriesWide_merged.csv\n",
            "Description:\n",
            "                 Id    Calories00    Calories01    Calories02    Calories03  \\\n",
            "count  2.164500e+04  21645.000000  21645.000000  21645.000000  21645.000000   \n",
            "mean   4.836965e+09      1.622629      1.626377      1.637824      1.635515   \n",
            "std    2.424088e+09      1.398418      1.395083      1.408828      1.419590   \n",
            "min    1.503960e+09      0.702700      0.702700      0.702700      0.702700   \n",
            "25%    2.320127e+09      0.935700      0.935700      0.937680      0.935700   \n",
            "50%    4.445115e+09      1.217600      1.217600      1.220400      1.218500   \n",
            "75%    6.962181e+09      1.432700      1.432700      1.432700      1.432700   \n",
            "max    8.877689e+09     19.727337     19.727337     19.727337     19.727337   \n",
            "\n",
            "         Calories04    Calories05    Calories06    Calories07    Calories08  \\\n",
            "count  21645.000000  21645.000000  21645.000000  21645.000000  21645.000000   \n",
            "mean       1.637997      1.638306      1.639910      1.629520      1.623686   \n",
            "std        1.433532      1.438253      1.435465      1.424092      1.411596   \n",
            "min        0.702700      0.702700      0.702700      0.702700      0.702700   \n",
            "25%        0.935700      0.935700      0.935700      0.935700      0.935700   \n",
            "50%        1.218500      1.218500      1.218500      1.217600      1.217600   \n",
            "75%        1.432700      1.432700      1.432700      1.432700      1.432700   \n",
            "max       19.727337     19.727337     19.727337     19.727337     19.727337   \n",
            "\n",
            "       ...    Calories50    Calories51    Calories52    Calories53  \\\n",
            "count  ...  21645.000000  21645.000000  21645.000000  21645.000000   \n",
            "mean   ...      1.623665      1.613643      1.620958      1.618227   \n",
            "std    ...      1.407171      1.395206      1.407914      1.400498   \n",
            "min    ...      0.702700      0.702700      0.702700      0.702700   \n",
            "25%    ...      0.935700      0.935700      0.935700      0.935700   \n",
            "50%    ...      1.217600      1.217600      1.217600      1.217600   \n",
            "75%    ...      1.432700      1.432700      1.432700      1.432700   \n",
            "max    ...     19.749947     19.749947     19.749947     19.749947   \n",
            "\n",
            "         Calories54    Calories55    Calories56    Calories57    Calories58  \\\n",
            "count  21645.000000  21645.000000  21645.000000  21645.000000  21645.000000   \n",
            "mean       1.621229      1.615972      1.608714      1.612657      1.611715   \n",
            "std        1.408974      1.392530      1.376827      1.369097      1.374954   \n",
            "min        0.702700      0.702700      0.702700      0.702700      0.702700   \n",
            "25%        0.935700      0.935700      0.935700      0.935700      0.935700   \n",
            "50%        1.217600      1.217600      1.217600      1.217600      1.217600   \n",
            "75%        1.432700      1.432700      1.432700      1.432700      1.432700   \n",
            "max       19.749947     19.749947     19.727337     19.727337     19.727337   \n",
            "\n",
            "         Calories59  \n",
            "count  21645.000000  \n",
            "mean       1.612110  \n",
            "std        1.373888  \n",
            "min        0.000000  \n",
            "25%        0.935700  \n",
            "50%        1.217600  \n",
            "75%        1.432700  \n",
            "max       19.727337  \n",
            "\n",
            "[8 rows x 61 columns]\n",
            "-------------------------------------------\n",
            "archive:  minuteIntensitiesNarrow_merged.csv\n",
            "Description:\n",
            "                 Id     Intensity\n",
            "count  1.325580e+06  1.325580e+06\n",
            "mean   4.847898e+09  2.005937e-01\n",
            "std    2.422313e+09  5.190227e-01\n",
            "min    1.503960e+09  0.000000e+00\n",
            "25%    2.320127e+09  0.000000e+00\n",
            "50%    4.445115e+09  0.000000e+00\n",
            "75%    6.962181e+09  0.000000e+00\n",
            "max    8.877689e+09  3.000000e+00\n",
            "-------------------------------------------\n",
            "archive:  minuteIntensitiesWide_merged.csv\n",
            "Description:\n",
            "                 Id   Intensity00   Intensity01   Intensity02   Intensity03  \\\n",
            "count  2.164500e+04  21645.000000  21645.000000  21645.000000  21645.000000   \n",
            "mean   4.836965e+09      0.199723      0.203326      0.208177      0.203835   \n",
            "std    2.424088e+09      0.509819      0.515432      0.521394      0.518137   \n",
            "min    1.503960e+09      0.000000      0.000000      0.000000      0.000000   \n",
            "25%    2.320127e+09      0.000000      0.000000      0.000000      0.000000   \n",
            "50%    4.445115e+09      0.000000      0.000000      0.000000      0.000000   \n",
            "75%    6.962181e+09      0.000000      0.000000      0.000000      0.000000   \n",
            "max    8.877689e+09      3.000000      3.000000      3.000000      3.000000   \n",
            "\n",
            "        Intensity04   Intensity05   Intensity06   Intensity07   Intensity08  \\\n",
            "count  21645.000000  21645.000000  21645.000000  21645.000000  21645.000000   \n",
            "mean       0.205082      0.204897      0.206560      0.201894      0.202310   \n",
            "std        0.521956      0.521054      0.523053      0.519074      0.522594   \n",
            "min        0.000000      0.000000      0.000000      0.000000      0.000000   \n",
            "25%        0.000000      0.000000      0.000000      0.000000      0.000000   \n",
            "50%        0.000000      0.000000      0.000000      0.000000      0.000000   \n",
            "75%        0.000000      0.000000      0.000000      0.000000      0.000000   \n",
            "max        3.000000      3.000000      3.000000      3.000000      3.000000   \n",
            "\n",
            "       ...   Intensity50   Intensity51   Intensity52   Intensity53  \\\n",
            "count  ...  21645.000000  21645.000000  21645.000000  21645.000000   \n",
            "mean   ...      0.201016      0.195796      0.198337      0.199399   \n",
            "std    ...      0.514814      0.510299      0.511264      0.513331   \n",
            "min    ...      0.000000      0.000000      0.000000      0.000000   \n",
            "25%    ...      0.000000      0.000000      0.000000      0.000000   \n",
            "50%    ...      0.000000      0.000000      0.000000      0.000000   \n",
            "75%    ...      0.000000      0.000000      0.000000      0.000000   \n",
            "max    ...      3.000000      3.000000      3.000000      3.000000   \n",
            "\n",
            "        Intensity54   Intensity55   Intensity56   Intensity57   Intensity58  \\\n",
            "count  21645.000000  21645.000000  21645.000000  21645.000000  21645.000000   \n",
            "mean       0.200139      0.198753      0.195565      0.199122      0.198244   \n",
            "std        0.512142      0.511238      0.506435      0.511907      0.510124   \n",
            "min        0.000000      0.000000      0.000000      0.000000      0.000000   \n",
            "25%        0.000000      0.000000      0.000000      0.000000      0.000000   \n",
            "50%        0.000000      0.000000      0.000000      0.000000      0.000000   \n",
            "75%        0.000000      0.000000      0.000000      0.000000      0.000000   \n",
            "max        3.000000      3.000000      3.000000      3.000000      3.000000   \n",
            "\n",
            "        Intensity59  \n",
            "count  21645.000000  \n",
            "mean       0.195426  \n",
            "std        0.503423  \n",
            "min        0.000000  \n",
            "25%        0.000000  \n",
            "50%        0.000000  \n",
            "75%        0.000000  \n",
            "max        3.000000  \n",
            "\n",
            "[8 rows x 61 columns]\n",
            "-------------------------------------------\n",
            "archive:  minuteMETsNarrow_merged.csv\n",
            "Description:\n",
            "         Unnamed: 0            Id          METs\n",
            "count  1.325573e+06  1.325573e+06  1.325573e+06\n",
            "mean   6.627889e+05  4.847895e+09  1.469009e+01\n",
            "std    3.826619e+05  2.422313e+09  1.205539e+01\n",
            "min    0.000000e+00  1.503960e+09  6.000000e+00\n",
            "25%    3.313950e+05  2.320127e+09  1.000000e+01\n",
            "50%    6.627880e+05  4.445115e+09  1.000000e+01\n",
            "75%    9.941820e+05  6.962181e+09  1.100000e+01\n",
            "max    1.325579e+06  8.877689e+09  1.570000e+02\n",
            "-------------------------------------------\n",
            "archive:  minuteSleep_merged.csv\n",
            "Description:\n",
            "          Unnamed: 0            Id          value         logId\n",
            "count  187978.000000  1.879780e+05  187978.000000  1.879780e+05\n",
            "mean    94243.300796  4.997443e+09       1.095937  1.149589e+10\n",
            "std     54499.126136  2.069872e+09       0.328912  6.820112e+07\n",
            "min         0.000000  1.503960e+09       1.000000  1.137223e+10\n",
            "25%     46994.250000  3.977334e+09       1.000000  1.143931e+10\n",
            "50%     93988.500000  4.702922e+09       1.000000  1.150114e+10\n",
            "75%    141525.750000  6.962181e+09       1.000000  1.155221e+10\n",
            "max    188520.000000  8.792010e+09       3.000000  1.161625e+10\n",
            "-------------------------------------------\n",
            "archive:  minuteStepsNarrow_merged.csv\n",
            "Description:\n",
            "                 Id         Steps\n",
            "count  1.325580e+06  1.325580e+06\n",
            "mean   4.847898e+09  5.336192e+00\n",
            "std    2.422313e+09  1.812830e+01\n",
            "min    1.503960e+09  0.000000e+00\n",
            "25%    2.320127e+09  0.000000e+00\n",
            "50%    4.445115e+09  0.000000e+00\n",
            "75%    6.962181e+09  0.000000e+00\n",
            "max    8.877689e+09  2.200000e+02\n",
            "-------------------------------------------\n",
            "archive:  minuteStepsWide_merged.csv\n",
            "Description:\n",
            "                 Id       Steps00       Steps01       Steps02       Steps03  \\\n",
            "count  2.164500e+04  21645.000000  21645.000000  21645.000000  21645.000000   \n",
            "mean   4.836965e+09      5.304366      5.335412      5.531439      5.469439   \n",
            "std    2.424088e+09     17.783331     17.678358     18.079791     18.106414   \n",
            "min    1.503960e+09      0.000000      0.000000      0.000000      0.000000   \n",
            "25%    2.320127e+09      0.000000      0.000000      0.000000      0.000000   \n",
            "50%    4.445115e+09      0.000000      0.000000      0.000000      0.000000   \n",
            "75%    6.962181e+09      0.000000      0.000000      0.000000      0.000000   \n",
            "max    8.877689e+09    186.000000    180.000000    182.000000    182.000000   \n",
            "\n",
            "            Steps04       Steps05       Steps06       Steps07      Steps08  \\\n",
            "count  21645.000000  21645.000000  21645.000000  21645.000000  21645.00000   \n",
            "mean       5.461862      5.590252      5.559483      5.412474      5.35879   \n",
            "std       18.288469     18.565165     18.484912     18.335665     18.20523   \n",
            "min        0.000000      0.000000      0.000000      0.000000      0.00000   \n",
            "25%        0.000000      0.000000      0.000000      0.000000      0.00000   \n",
            "50%        0.000000      0.000000      0.000000      0.000000      0.00000   \n",
            "75%        0.000000      0.000000      0.000000      0.000000      0.00000   \n",
            "max      181.000000    180.000000    181.000000    183.000000    180.00000   \n",
            "\n",
            "       ...       Steps50       Steps51       Steps52       Steps53  \\\n",
            "count  ...  21645.000000  21645.000000  21645.000000  21645.000000   \n",
            "mean   ...      5.329175      5.194456      5.225595      5.145484   \n",
            "std    ...     17.870527     17.601857     17.618497     17.570195   \n",
            "min    ...      0.000000      0.000000      0.000000      0.000000   \n",
            "25%    ...      0.000000      0.000000      0.000000      0.000000   \n",
            "50%    ...      0.000000      0.000000      0.000000      0.000000   \n",
            "75%    ...      0.000000      0.000000      0.000000      0.000000   \n",
            "max    ...    182.000000    181.000000    181.000000    181.000000   \n",
            "\n",
            "            Steps54       Steps55       Steps56       Steps57       Steps58  \\\n",
            "count  21645.000000  21645.000000  21645.000000  21645.000000  21645.000000   \n",
            "mean       5.223654      5.281220      5.179533      5.251836      5.143636   \n",
            "std       17.684634     17.828413     17.569268     17.686583     17.427494   \n",
            "min        0.000000      0.000000      0.000000      0.000000      0.000000   \n",
            "25%        0.000000      0.000000      0.000000      0.000000      0.000000   \n",
            "50%        0.000000      0.000000      0.000000      0.000000      0.000000   \n",
            "75%        0.000000      0.000000      0.000000      0.000000      0.000000   \n",
            "max      184.000000    181.000000    182.000000    182.000000    180.000000   \n",
            "\n",
            "            Steps59  \n",
            "count  21645.000000  \n",
            "mean       5.288935  \n",
            "std       17.721454  \n",
            "min        0.000000  \n",
            "25%        0.000000  \n",
            "50%        0.000000  \n",
            "75%        0.000000  \n",
            "max      189.000000  \n",
            "\n",
            "[8 rows x 61 columns]\n",
            "-------------------------------------------\n",
            "archive:  sleepDay_merged.csv\n",
            "Description:\n",
            "       Unnamed: 0            Id  TotalSleepRecords  TotalMinutesAsleep  \\\n",
            "count  410.000000  4.100000e+02         410.000000          410.000000   \n",
            "mean   205.643902  4.994963e+09           1.119512          419.173171   \n",
            "std    119.470511  2.060863e+09           0.346636          118.635918   \n",
            "min      0.000000  1.503960e+09           1.000000           58.000000   \n",
            "25%    102.250000  3.977334e+09           1.000000          361.000000   \n",
            "50%    205.500000  4.702922e+09           1.000000          432.500000   \n",
            "75%    308.750000  6.962181e+09           1.000000          490.000000   \n",
            "max    412.000000  8.792010e+09           3.000000          796.000000   \n",
            "\n",
            "       TotalTimeInBed  \n",
            "count      410.000000  \n",
            "mean       458.482927  \n",
            "std        127.455140  \n",
            "min         61.000000  \n",
            "25%        403.750000  \n",
            "50%        463.000000  \n",
            "75%        526.000000  \n",
            "max        961.000000  \n",
            "-------------------------------------------\n",
            "archive:  weightLogInfo_merged.csv\n",
            "Description:\n",
            "       Unnamed: 0            Id    WeightKg  WeightPounds        BMI  \\\n",
            "count   67.000000  6.700000e+01   67.000000     67.000000  67.000000   \n",
            "mean    33.000000  7.009282e+09   72.035821    158.811801  25.185224   \n",
            "std     19.485037  1.950322e+09   13.923206     30.695415   3.066963   \n",
            "min      0.000000  1.503960e+09   52.599998    115.963147  21.450001   \n",
            "25%     16.500000  6.962181e+09   61.400002    135.363832  23.959999   \n",
            "50%     33.000000  6.962181e+09   62.500000    137.788914  24.389999   \n",
            "75%     49.500000  8.877689e+09   85.049999    187.503152  25.559999   \n",
            "max     66.000000  8.877689e+09  133.500000    294.317120  47.540001   \n",
            "\n",
            "              LogId  \n",
            "count  6.700000e+01  \n",
            "mean   1.461772e+12  \n",
            "std    7.829948e+08  \n",
            "min    1.460444e+12  \n",
            "25%    1.461079e+12  \n",
            "50%    1.461802e+12  \n",
            "75%    1.462375e+12  \n",
            "max    1.463098e+12  \n",
            "-------------------------------------------\n"
          ]
        }
      ],
      "source": [
        "for archive in archives:\n",
        "  new_df = pd.read_csv(archive)\n",
        "\n",
        "  print(f\"archive: { archive.replace('Data_Coursera_CaseStudy02/',' ') }\")\n",
        "  print(f'Description:')\n",
        "  print(new_df.describe())\n",
        "  print(\"-------------------------------------------\") "
      ]
    },
    {
      "cell_type": "markdown",
      "metadata": {
        "id": "i1tyjONGg9R5"
      },
      "source": [
        "### Evaluating inconsistent data\n",
        "\n",
        "---\n",
        "from the archive:  dailyCalories_merged.csv\n",
        "\n",
        "We can se that there is a minimum of 0 calories that someoned burned in a day. Ok, it's impossible. These data needs to be erased from the dataset.\n",
        "\n",
        "---\n",
        "\n",
        "From the archive: dailyIntensities_merged.csv\n",
        "\n",
        "The sum of the columns: SedentaryMinutes + LightlyActiveMinutes + FairlyActiveMinutes + VeryActiveMinutes must be 1440 (the total minutes of a day).\n",
        "\n",
        "In some days, the total sum isn't equal to 1440, maybe this is because some battery discharge of the gadgets, or the data was altered.\n",
        "\n",
        "Evaluating the number of rows that doesn't sum 1440, we keep with 462 (49.1% of the data). So I will continue with this data\n",
        "\n",
        "--- \n",
        "\n",
        "From the archive:  dailyActivity_merged.csv\n",
        "\n",
        "All the days with 0 steps will be excluded. Probably on those days the volunteers did not use the gadget. There are 77 rows with 0 TotalSteps data.\n",
        "\n",
        "\n",
        "\n",
        "---\n",
        "\n",
        "From the archive:  dailySteps_merged.csv\n",
        "\n",
        "The same situation as the archive above. Deleted the data with 0 steps.\n",
        "\n",
        "\n",
        "---\n",
        "\n",
        "From the archive:  hourlySteps_merged.csv\n",
        "\n",
        "Here, the 0 steps value has significant, but some days with a total of 0 values no. Days that sum a total of 0 steps will be deleted, since they are of no use to us (Maybe these days make difference in the analysis phase, so I will keep with them and come back later if I didn't find anything).\n",
        "\n",
        "---\n",
        "\n",
        "From the archive:  minuteMETsNarrow_merged.csv\n",
        "\n",
        "In some reasearches and \"some\" help of ChatGPT (that gave me the wrong information), there are no activity that we, human, execute that costs less than 0.95. \n",
        "\n",
        "From the Compendium of Physical Activities:\n",
        "\n",
        "https://sites.google.com/site/compendiumofphysicalactivities/Activity-Categories/inactivity?authuser=0\n",
        "\n",
        "Sleep has a value of 0.95 METs. So, every 0 METs value in the dataset will be deleted. \n",
        "\n",
        "To anyone that want to know what MET is, MET is the acronym to Metabolic Equivalent of Task. It is a unit that measures how much energy an activity consumes compared to being at rest.\n",
        "\n",
        "I get this information from: https://www.omnicalculator.com/sports/met-minutes-per-week#met-definition\n",
        "\n",
        "---\n",
        "\n",
        "From the archive:  weightLogInfo_merged.csv\n",
        "\n",
        "We must remove the column Fat, since has only 2 values.\n",
        "\n",
        "\n"
      ]
    },
    {
      "cell_type": "code",
      "execution_count": 27,
      "metadata": {
        "colab": {
          "base_uri": "https://localhost:8080/"
        },
        "id": "yd-w4qTHg9lX",
        "outputId": "9d6f8a7c-dcdb-4407-a477-46e8cf1587b8"
      },
      "outputs": [
        {
          "data": {
            "text/plain": [
              "462"
            ]
          },
          "execution_count": 27,
          "metadata": {},
          "output_type": "execute_result"
        }
      ],
      "source": [
        "# Analyzing dailyIntensities_merged.csv\n",
        "dataset = 'Data_Coursera_CaseStudy02/dailyIntensities_merged.csv'\n",
        "df_analysis = pd.read_csv(dataset)\n",
        "df_analysis['Sum'] = df_analysis['SedentaryMinutes'] + df_analysis['LightlyActiveMinutes'] + df_analysis['FairlyActiveMinutes'] + df_analysis['VeryActiveMinutes']\n",
        "len(df_analysis[df_analysis['Sum']!=1440])"
      ]
    },
    {
      "cell_type": "code",
      "execution_count": 28,
      "metadata": {
        "id": "s7sEpXe4d6nv"
      },
      "outputs": [],
      "source": [
        "# Analyzing dailyActivity_merged.csv\n",
        "dataset = 'Data_Coursera_CaseStudy02/dailyActivity_merged.csv'\n",
        "df_analysis = pd.read_csv(dataset)\n",
        "df_analysis\n",
        "# df_analysis['TotalSteps'] = df_analysis['SedentaryMinutes'] + df_analysis['LightlyActiveMinutes'] + df_analysis['FairlyActiveMinutes'] + df_analysis['VeryActiveMinutes']\n",
        "df_analysis = df_analysis[df_analysis['TotalSteps']!=0]\n",
        "\n",
        "df_analysis.to_csv( 'Data_Coursera_CaseStudy02/dailyActivity_merged.csv')"
      ]
    },
    {
      "cell_type": "code",
      "execution_count": 29,
      "metadata": {
        "id": "QqkSQkt5fh6X"
      },
      "outputs": [],
      "source": [
        "# Analyzing dailySteps_merged.csv\n",
        "dataset = 'Data_Coursera_CaseStudy02/dailySteps_merged.csv'\n",
        "df_analysis = pd.read_csv(dataset)\n",
        "df_analysis\n",
        "\n",
        "df_analysis = df_analysis[df_analysis['StepTotal']!=0]\n",
        "\n",
        "df_analysis.to_csv( 'Data_Coursera_CaseStudy02/dailySteps_merged.csv')\n"
      ]
    },
    {
      "cell_type": "code",
      "execution_count": 30,
      "metadata": {
        "id": "7Bz624Axdf3d"
      },
      "outputs": [],
      "source": [
        "# Analyzing minuteMETsNarrow_merged.csv\n",
        "dataset = 'Data_Coursera_CaseStudy02/minuteMETsNarrow_merged.csv'\n",
        "df_analysis = pd.read_csv(dataset)\n",
        "# df_analysis\n",
        "# df_analysis['TotalSteps'] = df_analysis['SedentaryMinutes'] + df_analysis['LightlyActiveMinutes'] + df_analysis['FairlyActiveMinutes'] + df_analysis['VeryActiveMinutes']\n",
        "df_analysis =df_analysis[df_analysis['METs']!=0]\n",
        "\n",
        "df_analysis.to_csv( 'Data_Coursera_CaseStudy02/minuteMETsNarrow_merged.csv')\n",
        "\n"
      ]
    },
    {
      "cell_type": "code",
      "execution_count": 31,
      "metadata": {
        "id": "hleU-8MJiPzz"
      },
      "outputs": [
        {
          "ename": "KeyError",
          "evalue": "\"['Fat'] not found in axis\"",
          "output_type": "error",
          "traceback": [
            "\u001b[1;31m---------------------------------------------------------------------------\u001b[0m",
            "\u001b[1;31mKeyError\u001b[0m                                  Traceback (most recent call last)",
            "\u001b[1;32m~\\AppData\\Local\\Temp/ipykernel_12020/4149318668.py\u001b[0m in \u001b[0;36m<module>\u001b[1;34m\u001b[0m\n\u001b[0;32m      2\u001b[0m \u001b[0mdataset\u001b[0m \u001b[1;33m=\u001b[0m \u001b[1;34m'Data_Coursera_CaseStudy02/weightLogInfo_merged.csv'\u001b[0m\u001b[1;33m\u001b[0m\u001b[1;33m\u001b[0m\u001b[0m\n\u001b[0;32m      3\u001b[0m \u001b[0mdf_drop_column\u001b[0m \u001b[1;33m=\u001b[0m \u001b[0mpd\u001b[0m\u001b[1;33m.\u001b[0m\u001b[0mread_csv\u001b[0m\u001b[1;33m(\u001b[0m\u001b[0mdataset\u001b[0m\u001b[1;33m)\u001b[0m\u001b[1;33m\u001b[0m\u001b[1;33m\u001b[0m\u001b[0m\n\u001b[1;32m----> 4\u001b[1;33m \u001b[0mdf_drop_column\u001b[0m\u001b[1;33m.\u001b[0m\u001b[0mdrop\u001b[0m\u001b[1;33m(\u001b[0m\u001b[0mcolumns\u001b[0m\u001b[1;33m=\u001b[0m\u001b[1;33m[\u001b[0m\u001b[1;34m'Fat'\u001b[0m\u001b[1;33m]\u001b[0m\u001b[1;33m,\u001b[0m\u001b[0minplace\u001b[0m\u001b[1;33m=\u001b[0m\u001b[1;32mTrue\u001b[0m\u001b[1;33m)\u001b[0m\u001b[1;33m\u001b[0m\u001b[1;33m\u001b[0m\u001b[0m\n\u001b[0m\u001b[0;32m      5\u001b[0m \u001b[0mdf_drop_column\u001b[0m\u001b[1;33m.\u001b[0m\u001b[0mto_csv\u001b[0m\u001b[1;33m(\u001b[0m\u001b[0mdataset\u001b[0m\u001b[1;33m)\u001b[0m\u001b[1;33m\u001b[0m\u001b[1;33m\u001b[0m\u001b[0m\n",
            "\u001b[1;32m~\\AppData\\Local\\Packages\\PythonSoftwareFoundation.Python.3.8_qbz5n2kfra8p0\\LocalCache\\local-packages\\Python38\\site-packages\\pandas\\util\\_decorators.py\u001b[0m in \u001b[0;36mwrapper\u001b[1;34m(*args, **kwargs)\u001b[0m\n\u001b[0;32m    309\u001b[0m                     \u001b[0mstacklevel\u001b[0m\u001b[1;33m=\u001b[0m\u001b[0mstacklevel\u001b[0m\u001b[1;33m,\u001b[0m\u001b[1;33m\u001b[0m\u001b[1;33m\u001b[0m\u001b[0m\n\u001b[0;32m    310\u001b[0m                 )\n\u001b[1;32m--> 311\u001b[1;33m             \u001b[1;32mreturn\u001b[0m \u001b[0mfunc\u001b[0m\u001b[1;33m(\u001b[0m\u001b[1;33m*\u001b[0m\u001b[0margs\u001b[0m\u001b[1;33m,\u001b[0m \u001b[1;33m**\u001b[0m\u001b[0mkwargs\u001b[0m\u001b[1;33m)\u001b[0m\u001b[1;33m\u001b[0m\u001b[1;33m\u001b[0m\u001b[0m\n\u001b[0m\u001b[0;32m    312\u001b[0m \u001b[1;33m\u001b[0m\u001b[0m\n\u001b[0;32m    313\u001b[0m         \u001b[1;32mreturn\u001b[0m \u001b[0mwrapper\u001b[0m\u001b[1;33m\u001b[0m\u001b[1;33m\u001b[0m\u001b[0m\n",
            "\u001b[1;32m~\\AppData\\Local\\Packages\\PythonSoftwareFoundation.Python.3.8_qbz5n2kfra8p0\\LocalCache\\local-packages\\Python38\\site-packages\\pandas\\core\\frame.py\u001b[0m in \u001b[0;36mdrop\u001b[1;34m(self, labels, axis, index, columns, level, inplace, errors)\u001b[0m\n\u001b[0;32m   4904\u001b[0m                 \u001b[0mweight\u001b[0m  \u001b[1;36m1.0\u001b[0m     \u001b[1;36m0.8\u001b[0m\u001b[1;33m\u001b[0m\u001b[1;33m\u001b[0m\u001b[0m\n\u001b[0;32m   4905\u001b[0m         \"\"\"\n\u001b[1;32m-> 4906\u001b[1;33m         return super().drop(\n\u001b[0m\u001b[0;32m   4907\u001b[0m             \u001b[0mlabels\u001b[0m\u001b[1;33m=\u001b[0m\u001b[0mlabels\u001b[0m\u001b[1;33m,\u001b[0m\u001b[1;33m\u001b[0m\u001b[1;33m\u001b[0m\u001b[0m\n\u001b[0;32m   4908\u001b[0m             \u001b[0maxis\u001b[0m\u001b[1;33m=\u001b[0m\u001b[0maxis\u001b[0m\u001b[1;33m,\u001b[0m\u001b[1;33m\u001b[0m\u001b[1;33m\u001b[0m\u001b[0m\n",
            "\u001b[1;32m~\\AppData\\Local\\Packages\\PythonSoftwareFoundation.Python.3.8_qbz5n2kfra8p0\\LocalCache\\local-packages\\Python38\\site-packages\\pandas\\core\\generic.py\u001b[0m in \u001b[0;36mdrop\u001b[1;34m(self, labels, axis, index, columns, level, inplace, errors)\u001b[0m\n\u001b[0;32m   4148\u001b[0m         \u001b[1;32mfor\u001b[0m \u001b[0maxis\u001b[0m\u001b[1;33m,\u001b[0m \u001b[0mlabels\u001b[0m \u001b[1;32min\u001b[0m \u001b[0maxes\u001b[0m\u001b[1;33m.\u001b[0m\u001b[0mitems\u001b[0m\u001b[1;33m(\u001b[0m\u001b[1;33m)\u001b[0m\u001b[1;33m:\u001b[0m\u001b[1;33m\u001b[0m\u001b[1;33m\u001b[0m\u001b[0m\n\u001b[0;32m   4149\u001b[0m             \u001b[1;32mif\u001b[0m \u001b[0mlabels\u001b[0m \u001b[1;32mis\u001b[0m \u001b[1;32mnot\u001b[0m \u001b[1;32mNone\u001b[0m\u001b[1;33m:\u001b[0m\u001b[1;33m\u001b[0m\u001b[1;33m\u001b[0m\u001b[0m\n\u001b[1;32m-> 4150\u001b[1;33m                 \u001b[0mobj\u001b[0m \u001b[1;33m=\u001b[0m \u001b[0mobj\u001b[0m\u001b[1;33m.\u001b[0m\u001b[0m_drop_axis\u001b[0m\u001b[1;33m(\u001b[0m\u001b[0mlabels\u001b[0m\u001b[1;33m,\u001b[0m \u001b[0maxis\u001b[0m\u001b[1;33m,\u001b[0m \u001b[0mlevel\u001b[0m\u001b[1;33m=\u001b[0m\u001b[0mlevel\u001b[0m\u001b[1;33m,\u001b[0m \u001b[0merrors\u001b[0m\u001b[1;33m=\u001b[0m\u001b[0merrors\u001b[0m\u001b[1;33m)\u001b[0m\u001b[1;33m\u001b[0m\u001b[1;33m\u001b[0m\u001b[0m\n\u001b[0m\u001b[0;32m   4151\u001b[0m \u001b[1;33m\u001b[0m\u001b[0m\n\u001b[0;32m   4152\u001b[0m         \u001b[1;32mif\u001b[0m \u001b[0minplace\u001b[0m\u001b[1;33m:\u001b[0m\u001b[1;33m\u001b[0m\u001b[1;33m\u001b[0m\u001b[0m\n",
            "\u001b[1;32m~\\AppData\\Local\\Packages\\PythonSoftwareFoundation.Python.3.8_qbz5n2kfra8p0\\LocalCache\\local-packages\\Python38\\site-packages\\pandas\\core\\generic.py\u001b[0m in \u001b[0;36m_drop_axis\u001b[1;34m(self, labels, axis, level, errors)\u001b[0m\n\u001b[0;32m   4183\u001b[0m                 \u001b[0mnew_axis\u001b[0m \u001b[1;33m=\u001b[0m \u001b[0maxis\u001b[0m\u001b[1;33m.\u001b[0m\u001b[0mdrop\u001b[0m\u001b[1;33m(\u001b[0m\u001b[0mlabels\u001b[0m\u001b[1;33m,\u001b[0m \u001b[0mlevel\u001b[0m\u001b[1;33m=\u001b[0m\u001b[0mlevel\u001b[0m\u001b[1;33m,\u001b[0m \u001b[0merrors\u001b[0m\u001b[1;33m=\u001b[0m\u001b[0merrors\u001b[0m\u001b[1;33m)\u001b[0m\u001b[1;33m\u001b[0m\u001b[1;33m\u001b[0m\u001b[0m\n\u001b[0;32m   4184\u001b[0m             \u001b[1;32melse\u001b[0m\u001b[1;33m:\u001b[0m\u001b[1;33m\u001b[0m\u001b[1;33m\u001b[0m\u001b[0m\n\u001b[1;32m-> 4185\u001b[1;33m                 \u001b[0mnew_axis\u001b[0m \u001b[1;33m=\u001b[0m \u001b[0maxis\u001b[0m\u001b[1;33m.\u001b[0m\u001b[0mdrop\u001b[0m\u001b[1;33m(\u001b[0m\u001b[0mlabels\u001b[0m\u001b[1;33m,\u001b[0m \u001b[0merrors\u001b[0m\u001b[1;33m=\u001b[0m\u001b[0merrors\u001b[0m\u001b[1;33m)\u001b[0m\u001b[1;33m\u001b[0m\u001b[1;33m\u001b[0m\u001b[0m\n\u001b[0m\u001b[0;32m   4186\u001b[0m             \u001b[0mresult\u001b[0m \u001b[1;33m=\u001b[0m \u001b[0mself\u001b[0m\u001b[1;33m.\u001b[0m\u001b[0mreindex\u001b[0m\u001b[1;33m(\u001b[0m\u001b[1;33m**\u001b[0m\u001b[1;33m{\u001b[0m\u001b[0maxis_name\u001b[0m\u001b[1;33m:\u001b[0m \u001b[0mnew_axis\u001b[0m\u001b[1;33m}\u001b[0m\u001b[1;33m)\u001b[0m\u001b[1;33m\u001b[0m\u001b[1;33m\u001b[0m\u001b[0m\n\u001b[0;32m   4187\u001b[0m \u001b[1;33m\u001b[0m\u001b[0m\n",
            "\u001b[1;32m~\\AppData\\Local\\Packages\\PythonSoftwareFoundation.Python.3.8_qbz5n2kfra8p0\\LocalCache\\local-packages\\Python38\\site-packages\\pandas\\core\\indexes\\base.py\u001b[0m in \u001b[0;36mdrop\u001b[1;34m(self, labels, errors)\u001b[0m\n\u001b[0;32m   6015\u001b[0m         \u001b[1;32mif\u001b[0m \u001b[0mmask\u001b[0m\u001b[1;33m.\u001b[0m\u001b[0many\u001b[0m\u001b[1;33m(\u001b[0m\u001b[1;33m)\u001b[0m\u001b[1;33m:\u001b[0m\u001b[1;33m\u001b[0m\u001b[1;33m\u001b[0m\u001b[0m\n\u001b[0;32m   6016\u001b[0m             \u001b[1;32mif\u001b[0m \u001b[0merrors\u001b[0m \u001b[1;33m!=\u001b[0m \u001b[1;34m\"ignore\"\u001b[0m\u001b[1;33m:\u001b[0m\u001b[1;33m\u001b[0m\u001b[1;33m\u001b[0m\u001b[0m\n\u001b[1;32m-> 6017\u001b[1;33m                 \u001b[1;32mraise\u001b[0m \u001b[0mKeyError\u001b[0m\u001b[1;33m(\u001b[0m\u001b[1;34mf\"{labels[mask]} not found in axis\"\u001b[0m\u001b[1;33m)\u001b[0m\u001b[1;33m\u001b[0m\u001b[1;33m\u001b[0m\u001b[0m\n\u001b[0m\u001b[0;32m   6018\u001b[0m             \u001b[0mindexer\u001b[0m \u001b[1;33m=\u001b[0m \u001b[0mindexer\u001b[0m\u001b[1;33m[\u001b[0m\u001b[1;33m~\u001b[0m\u001b[0mmask\u001b[0m\u001b[1;33m]\u001b[0m\u001b[1;33m\u001b[0m\u001b[1;33m\u001b[0m\u001b[0m\n\u001b[0;32m   6019\u001b[0m         \u001b[1;32mreturn\u001b[0m \u001b[0mself\u001b[0m\u001b[1;33m.\u001b[0m\u001b[0mdelete\u001b[0m\u001b[1;33m(\u001b[0m\u001b[0mindexer\u001b[0m\u001b[1;33m)\u001b[0m\u001b[1;33m\u001b[0m\u001b[1;33m\u001b[0m\u001b[0m\n",
            "\u001b[1;31mKeyError\u001b[0m: \"['Fat'] not found in axis\""
          ]
        }
      ],
      "source": [
        "# Removing the column 'Fat' from 'weightLogInfo_merged.csv' :\n",
        "dataset = 'Data_Coursera_CaseStudy02/weightLogInfo_merged.csv'\n",
        "df_drop_column = pd.read_csv(dataset)\n",
        "df_drop_column.drop(columns=['Fat'],inplace=True)\n",
        "df_drop_column.to_csv(dataset)"
      ]
    },
    {
      "cell_type": "markdown",
      "metadata": {
        "id": "M2_nsbvgMOMK"
      },
      "source": [
        "## Analyze and Share phase:\n",
        "\n",
        "\n",
        "OK. Now we need to develop our hypothesis on what could this data show to us.\n",
        "\n",
        "\n"
      ]
    },
    {
      "cell_type": "markdown",
      "metadata": {
        "id": "yhh1Zoar-fIK"
      },
      "source": [
        "### Average Number of steps"
      ]
    },
    {
      "cell_type": "code",
      "execution_count": null,
      "metadata": {
        "colab": {
          "base_uri": "https://localhost:8080/"
        },
        "id": "sdxn6njd-eUm",
        "outputId": "db008931-01ea-4ee6-b3a3-ea2c636b4ab3"
      },
      "outputs": [
        {
          "name": "stdout",
          "output_type": "stream",
          "text": [
            "Average number of steps taken by day: 8319.39281575898 steps\n"
          ]
        }
      ],
      "source": [
        "dailySteps = pd.read_csv(\"Data_Coursera_CaseStudy02/dailySteps_merged.csv\", index_col=[0])\n",
        "print(f\"Average number of steps taken by day: {np.average(dailySteps['StepTotal'])} steps\")"
      ]
    },
    {
      "cell_type": "markdown",
      "metadata": {
        "id": "-qKcehtczg0m"
      },
      "source": [
        "Doing a research, to be considered active, a person should do 10.000 steps in a day. Of course in our lives we have to balancing active life with our jobs, but seeing this averave from all the users, we can ensure that **most of them are not active people**."
      ]
    },
    {
      "cell_type": "markdown",
      "metadata": {
        "id": "loLOx7NA_2VS"
      },
      "source": [
        "### Average Calories burned by day"
      ]
    },
    {
      "cell_type": "code",
      "execution_count": null,
      "metadata": {
        "colab": {
          "base_uri": "https://localhost:8080/"
        },
        "id": "W-R-HHkP_-2y",
        "outputId": "80535454-7f67-4842-8f11-5d66570f5895"
      },
      "outputs": [
        {
          "name": "stdout",
          "output_type": "stream",
          "text": [
            "Average Calories by day: 2303.609574468085 calories\n"
          ]
        }
      ],
      "source": [
        "caloriesDay = pd.read_csv(\"Data_Coursera_CaseStudy02/dailyCalories_merged.csv\", index_col=[0])\n",
        "print(f\"Average Calories by day: {np.average(caloriesDay['Calories'])} calories\")"
      ]
    },
    {
      "cell_type": "markdown",
      "metadata": {
        "id": "WxMPYgqvz6jw"
      },
      "source": [
        "This value of burned calories in a day is in line with what research shows that both men and adult women must burn daily to maintain their weight"
      ]
    },
    {
      "cell_type": "markdown",
      "metadata": {
        "id": "-lIK-_xSAPzD"
      },
      "source": [
        "### Average Time in Activities"
      ]
    },
    {
      "cell_type": "code",
      "execution_count": null,
      "metadata": {
        "colab": {
          "base_uri": "https://localhost:8080/"
        },
        "id": "XM4xnQziAQBR",
        "outputId": "4c9d08d6-1c15-4532-c955-7e91ee13e68d"
      },
      "outputs": [
        {
          "name": "stdout",
          "output_type": "stream",
          "text": [
            "Average Time by day in lightly activities: 210.02 minutes\n",
            "Average Time by day in fairly activities: 14.78 minutes\n",
            "Average Time by day in very active activities: 23.02 minutes\n"
          ]
        }
      ],
      "source": [
        "dailyActivity = pd.read_csv(\"Data_Coursera_CaseStudy02/dailyActivity_merged.csv\", index_col=[0])\n",
        "print(f\"Average Time by day in lightly activities: {np.average(dailyActivity['LightlyActiveMinutes']):.2f} minutes\")\n",
        "print(f\"Average Time by day in fairly activities: {np.average(dailyActivity['FairlyActiveMinutes']):.2f} minutes\")\n",
        "print(f\"Average Time by day in very active activities: {np.average(dailyActivity['VeryActiveMinutes']):.2f} minutes\")\n",
        "\n"
      ]
    },
    {
      "cell_type": "markdown",
      "metadata": {
        "id": "HUJgemiRz8iu"
      },
      "source": [
        "In a research with the help of the Bing AI:\n",
        "\n",
        "According to the World Health Organization (WHO), adults should spend at least 180 minutes in a variety of types of physical activities at any intensity, of which at least 60 minutes is moderate- to vigorous-intensity physical activity, spread throughout the day; more is better. The Centers for Disease Control and Prevention (CDC) recommends that adults need 150 minutes of moderate-intensity physical activity and 2 days of muscle strengthening activity each week.\n",
        "\n",
        "So, we can see that the average is about 210 minuites in lightly activities, that can maybe be related with work. So, we can assure that most of this users need to take more time to do more fairly and active activities."
      ]
    },
    {
      "cell_type": "markdown",
      "metadata": {
        "id": "8grKZr3DF5nR"
      },
      "source": [
        "### Steps through the day"
      ]
    },
    {
      "cell_type": "code",
      "execution_count": null,
      "metadata": {
        "colab": {
          "base_uri": "https://localhost:8080/",
          "height": 542
        },
        "id": "kMfpf8WEF77w",
        "outputId": "42c664a1-0b41-4d14-981c-ab64f92fb097"
      },
      "outputs": [
        {
          "data": {
            "application/vnd.plotly.v1+json": {
              "config": {
                "plotlyServerURL": "https://plot.ly"
              },
              "data": [
                {
                  "alignmentgroup": "True",
                  "hovertemplate": "hours=%{x}<br>Average steps=%{y}<extra></extra>",
                  "legendgroup": "",
                  "marker": {
                    "color": "#636efa",
                    "pattern": {
                      "shape": ""
                    }
                  },
                  "name": "",
                  "offsetgroup": "",
                  "orientation": "v",
                  "showlegend": false,
                  "textposition": "auto",
                  "type": "bar",
                  "x": [
                    "00:00:00",
                    "01:00:00",
                    "02:00:00",
                    "03:00:00",
                    "04:00:00",
                    "05:00:00",
                    "06:00:00",
                    "07:00:00",
                    "08:00:00",
                    "09:00:00",
                    "10:00:00",
                    "11:00:00",
                    "12:00:00",
                    "13:00:00",
                    "14:00:00",
                    "15:00:00",
                    "16:00:00",
                    "17:00:00",
                    "18:00:00",
                    "19:00:00",
                    "20:00:00",
                    "21:00:00",
                    "22:00:00",
                    "23:00:00"
                  ],
                  "xaxis": "x",
                  "y": [
                    42.188436830835116,
                    23.10289389067524,
                    17.110396570203644,
                    6.426580921757771,
                    12.699570815450643,
                    43.86909871244635,
                    178.50805585392052,
                    306.04940923737917,
                    427.54457572502685,
                    433.3018259935553,
                    481.66523143164693,
                    456.8867313915858,
                    548.6420824295011,
                    537.6981541802388,
                    540.5135722041259,
                    406.3191256830601,
                    496.84564498346197,
                    550.2328918322296,
                    599.1699779249448,
                    583.3907284768212,
                    353.90507726269317,
                    308.1381215469613,
                    237.98783185840708,
                    122.1328903654485
                  ],
                  "yaxis": "y"
                }
              ],
              "layout": {
                "barmode": "relative",
                "legend": {
                  "tracegroupgap": 0
                },
                "template": {
                  "data": {
                    "bar": [
                      {
                        "error_x": {
                          "color": "#2a3f5f"
                        },
                        "error_y": {
                          "color": "#2a3f5f"
                        },
                        "marker": {
                          "line": {
                            "color": "#E5ECF6",
                            "width": 0.5
                          },
                          "pattern": {
                            "fillmode": "overlay",
                            "size": 10,
                            "solidity": 0.2
                          }
                        },
                        "type": "bar"
                      }
                    ],
                    "barpolar": [
                      {
                        "marker": {
                          "line": {
                            "color": "#E5ECF6",
                            "width": 0.5
                          },
                          "pattern": {
                            "fillmode": "overlay",
                            "size": 10,
                            "solidity": 0.2
                          }
                        },
                        "type": "barpolar"
                      }
                    ],
                    "carpet": [
                      {
                        "aaxis": {
                          "endlinecolor": "#2a3f5f",
                          "gridcolor": "white",
                          "linecolor": "white",
                          "minorgridcolor": "white",
                          "startlinecolor": "#2a3f5f"
                        },
                        "baxis": {
                          "endlinecolor": "#2a3f5f",
                          "gridcolor": "white",
                          "linecolor": "white",
                          "minorgridcolor": "white",
                          "startlinecolor": "#2a3f5f"
                        },
                        "type": "carpet"
                      }
                    ],
                    "choropleth": [
                      {
                        "colorbar": {
                          "outlinewidth": 0,
                          "ticks": ""
                        },
                        "type": "choropleth"
                      }
                    ],
                    "contour": [
                      {
                        "colorbar": {
                          "outlinewidth": 0,
                          "ticks": ""
                        },
                        "colorscale": [
                          [
                            0,
                            "#0d0887"
                          ],
                          [
                            0.1111111111111111,
                            "#46039f"
                          ],
                          [
                            0.2222222222222222,
                            "#7201a8"
                          ],
                          [
                            0.3333333333333333,
                            "#9c179e"
                          ],
                          [
                            0.4444444444444444,
                            "#bd3786"
                          ],
                          [
                            0.5555555555555556,
                            "#d8576b"
                          ],
                          [
                            0.6666666666666666,
                            "#ed7953"
                          ],
                          [
                            0.7777777777777778,
                            "#fb9f3a"
                          ],
                          [
                            0.8888888888888888,
                            "#fdca26"
                          ],
                          [
                            1,
                            "#f0f921"
                          ]
                        ],
                        "type": "contour"
                      }
                    ],
                    "contourcarpet": [
                      {
                        "colorbar": {
                          "outlinewidth": 0,
                          "ticks": ""
                        },
                        "type": "contourcarpet"
                      }
                    ],
                    "heatmap": [
                      {
                        "colorbar": {
                          "outlinewidth": 0,
                          "ticks": ""
                        },
                        "colorscale": [
                          [
                            0,
                            "#0d0887"
                          ],
                          [
                            0.1111111111111111,
                            "#46039f"
                          ],
                          [
                            0.2222222222222222,
                            "#7201a8"
                          ],
                          [
                            0.3333333333333333,
                            "#9c179e"
                          ],
                          [
                            0.4444444444444444,
                            "#bd3786"
                          ],
                          [
                            0.5555555555555556,
                            "#d8576b"
                          ],
                          [
                            0.6666666666666666,
                            "#ed7953"
                          ],
                          [
                            0.7777777777777778,
                            "#fb9f3a"
                          ],
                          [
                            0.8888888888888888,
                            "#fdca26"
                          ],
                          [
                            1,
                            "#f0f921"
                          ]
                        ],
                        "type": "heatmap"
                      }
                    ],
                    "heatmapgl": [
                      {
                        "colorbar": {
                          "outlinewidth": 0,
                          "ticks": ""
                        },
                        "colorscale": [
                          [
                            0,
                            "#0d0887"
                          ],
                          [
                            0.1111111111111111,
                            "#46039f"
                          ],
                          [
                            0.2222222222222222,
                            "#7201a8"
                          ],
                          [
                            0.3333333333333333,
                            "#9c179e"
                          ],
                          [
                            0.4444444444444444,
                            "#bd3786"
                          ],
                          [
                            0.5555555555555556,
                            "#d8576b"
                          ],
                          [
                            0.6666666666666666,
                            "#ed7953"
                          ],
                          [
                            0.7777777777777778,
                            "#fb9f3a"
                          ],
                          [
                            0.8888888888888888,
                            "#fdca26"
                          ],
                          [
                            1,
                            "#f0f921"
                          ]
                        ],
                        "type": "heatmapgl"
                      }
                    ],
                    "histogram": [
                      {
                        "marker": {
                          "pattern": {
                            "fillmode": "overlay",
                            "size": 10,
                            "solidity": 0.2
                          }
                        },
                        "type": "histogram"
                      }
                    ],
                    "histogram2d": [
                      {
                        "colorbar": {
                          "outlinewidth": 0,
                          "ticks": ""
                        },
                        "colorscale": [
                          [
                            0,
                            "#0d0887"
                          ],
                          [
                            0.1111111111111111,
                            "#46039f"
                          ],
                          [
                            0.2222222222222222,
                            "#7201a8"
                          ],
                          [
                            0.3333333333333333,
                            "#9c179e"
                          ],
                          [
                            0.4444444444444444,
                            "#bd3786"
                          ],
                          [
                            0.5555555555555556,
                            "#d8576b"
                          ],
                          [
                            0.6666666666666666,
                            "#ed7953"
                          ],
                          [
                            0.7777777777777778,
                            "#fb9f3a"
                          ],
                          [
                            0.8888888888888888,
                            "#fdca26"
                          ],
                          [
                            1,
                            "#f0f921"
                          ]
                        ],
                        "type": "histogram2d"
                      }
                    ],
                    "histogram2dcontour": [
                      {
                        "colorbar": {
                          "outlinewidth": 0,
                          "ticks": ""
                        },
                        "colorscale": [
                          [
                            0,
                            "#0d0887"
                          ],
                          [
                            0.1111111111111111,
                            "#46039f"
                          ],
                          [
                            0.2222222222222222,
                            "#7201a8"
                          ],
                          [
                            0.3333333333333333,
                            "#9c179e"
                          ],
                          [
                            0.4444444444444444,
                            "#bd3786"
                          ],
                          [
                            0.5555555555555556,
                            "#d8576b"
                          ],
                          [
                            0.6666666666666666,
                            "#ed7953"
                          ],
                          [
                            0.7777777777777778,
                            "#fb9f3a"
                          ],
                          [
                            0.8888888888888888,
                            "#fdca26"
                          ],
                          [
                            1,
                            "#f0f921"
                          ]
                        ],
                        "type": "histogram2dcontour"
                      }
                    ],
                    "mesh3d": [
                      {
                        "colorbar": {
                          "outlinewidth": 0,
                          "ticks": ""
                        },
                        "type": "mesh3d"
                      }
                    ],
                    "parcoords": [
                      {
                        "line": {
                          "colorbar": {
                            "outlinewidth": 0,
                            "ticks": ""
                          }
                        },
                        "type": "parcoords"
                      }
                    ],
                    "pie": [
                      {
                        "automargin": true,
                        "type": "pie"
                      }
                    ],
                    "scatter": [
                      {
                        "marker": {
                          "colorbar": {
                            "outlinewidth": 0,
                            "ticks": ""
                          }
                        },
                        "type": "scatter"
                      }
                    ],
                    "scatter3d": [
                      {
                        "line": {
                          "colorbar": {
                            "outlinewidth": 0,
                            "ticks": ""
                          }
                        },
                        "marker": {
                          "colorbar": {
                            "outlinewidth": 0,
                            "ticks": ""
                          }
                        },
                        "type": "scatter3d"
                      }
                    ],
                    "scattercarpet": [
                      {
                        "marker": {
                          "colorbar": {
                            "outlinewidth": 0,
                            "ticks": ""
                          }
                        },
                        "type": "scattercarpet"
                      }
                    ],
                    "scattergeo": [
                      {
                        "marker": {
                          "colorbar": {
                            "outlinewidth": 0,
                            "ticks": ""
                          }
                        },
                        "type": "scattergeo"
                      }
                    ],
                    "scattergl": [
                      {
                        "marker": {
                          "colorbar": {
                            "outlinewidth": 0,
                            "ticks": ""
                          }
                        },
                        "type": "scattergl"
                      }
                    ],
                    "scattermapbox": [
                      {
                        "marker": {
                          "colorbar": {
                            "outlinewidth": 0,
                            "ticks": ""
                          }
                        },
                        "type": "scattermapbox"
                      }
                    ],
                    "scatterpolar": [
                      {
                        "marker": {
                          "colorbar": {
                            "outlinewidth": 0,
                            "ticks": ""
                          }
                        },
                        "type": "scatterpolar"
                      }
                    ],
                    "scatterpolargl": [
                      {
                        "marker": {
                          "colorbar": {
                            "outlinewidth": 0,
                            "ticks": ""
                          }
                        },
                        "type": "scatterpolargl"
                      }
                    ],
                    "scatterternary": [
                      {
                        "marker": {
                          "colorbar": {
                            "outlinewidth": 0,
                            "ticks": ""
                          }
                        },
                        "type": "scatterternary"
                      }
                    ],
                    "surface": [
                      {
                        "colorbar": {
                          "outlinewidth": 0,
                          "ticks": ""
                        },
                        "colorscale": [
                          [
                            0,
                            "#0d0887"
                          ],
                          [
                            0.1111111111111111,
                            "#46039f"
                          ],
                          [
                            0.2222222222222222,
                            "#7201a8"
                          ],
                          [
                            0.3333333333333333,
                            "#9c179e"
                          ],
                          [
                            0.4444444444444444,
                            "#bd3786"
                          ],
                          [
                            0.5555555555555556,
                            "#d8576b"
                          ],
                          [
                            0.6666666666666666,
                            "#ed7953"
                          ],
                          [
                            0.7777777777777778,
                            "#fb9f3a"
                          ],
                          [
                            0.8888888888888888,
                            "#fdca26"
                          ],
                          [
                            1,
                            "#f0f921"
                          ]
                        ],
                        "type": "surface"
                      }
                    ],
                    "table": [
                      {
                        "cells": {
                          "fill": {
                            "color": "#EBF0F8"
                          },
                          "line": {
                            "color": "white"
                          }
                        },
                        "header": {
                          "fill": {
                            "color": "#C8D4E3"
                          },
                          "line": {
                            "color": "white"
                          }
                        },
                        "type": "table"
                      }
                    ]
                  },
                  "layout": {
                    "annotationdefaults": {
                      "arrowcolor": "#2a3f5f",
                      "arrowhead": 0,
                      "arrowwidth": 1
                    },
                    "autotypenumbers": "strict",
                    "coloraxis": {
                      "colorbar": {
                        "outlinewidth": 0,
                        "ticks": ""
                      }
                    },
                    "colorscale": {
                      "diverging": [
                        [
                          0,
                          "#8e0152"
                        ],
                        [
                          0.1,
                          "#c51b7d"
                        ],
                        [
                          0.2,
                          "#de77ae"
                        ],
                        [
                          0.3,
                          "#f1b6da"
                        ],
                        [
                          0.4,
                          "#fde0ef"
                        ],
                        [
                          0.5,
                          "#f7f7f7"
                        ],
                        [
                          0.6,
                          "#e6f5d0"
                        ],
                        [
                          0.7,
                          "#b8e186"
                        ],
                        [
                          0.8,
                          "#7fbc41"
                        ],
                        [
                          0.9,
                          "#4d9221"
                        ],
                        [
                          1,
                          "#276419"
                        ]
                      ],
                      "sequential": [
                        [
                          0,
                          "#0d0887"
                        ],
                        [
                          0.1111111111111111,
                          "#46039f"
                        ],
                        [
                          0.2222222222222222,
                          "#7201a8"
                        ],
                        [
                          0.3333333333333333,
                          "#9c179e"
                        ],
                        [
                          0.4444444444444444,
                          "#bd3786"
                        ],
                        [
                          0.5555555555555556,
                          "#d8576b"
                        ],
                        [
                          0.6666666666666666,
                          "#ed7953"
                        ],
                        [
                          0.7777777777777778,
                          "#fb9f3a"
                        ],
                        [
                          0.8888888888888888,
                          "#fdca26"
                        ],
                        [
                          1,
                          "#f0f921"
                        ]
                      ],
                      "sequentialminus": [
                        [
                          0,
                          "#0d0887"
                        ],
                        [
                          0.1111111111111111,
                          "#46039f"
                        ],
                        [
                          0.2222222222222222,
                          "#7201a8"
                        ],
                        [
                          0.3333333333333333,
                          "#9c179e"
                        ],
                        [
                          0.4444444444444444,
                          "#bd3786"
                        ],
                        [
                          0.5555555555555556,
                          "#d8576b"
                        ],
                        [
                          0.6666666666666666,
                          "#ed7953"
                        ],
                        [
                          0.7777777777777778,
                          "#fb9f3a"
                        ],
                        [
                          0.8888888888888888,
                          "#fdca26"
                        ],
                        [
                          1,
                          "#f0f921"
                        ]
                      ]
                    },
                    "colorway": [
                      "#636efa",
                      "#EF553B",
                      "#00cc96",
                      "#ab63fa",
                      "#FFA15A",
                      "#19d3f3",
                      "#FF6692",
                      "#B6E880",
                      "#FF97FF",
                      "#FECB52"
                    ],
                    "font": {
                      "color": "#2a3f5f"
                    },
                    "geo": {
                      "bgcolor": "white",
                      "lakecolor": "white",
                      "landcolor": "#E5ECF6",
                      "showlakes": true,
                      "showland": true,
                      "subunitcolor": "white"
                    },
                    "hoverlabel": {
                      "align": "left"
                    },
                    "hovermode": "closest",
                    "mapbox": {
                      "style": "light"
                    },
                    "paper_bgcolor": "white",
                    "plot_bgcolor": "#E5ECF6",
                    "polar": {
                      "angularaxis": {
                        "gridcolor": "white",
                        "linecolor": "white",
                        "ticks": ""
                      },
                      "bgcolor": "#E5ECF6",
                      "radialaxis": {
                        "gridcolor": "white",
                        "linecolor": "white",
                        "ticks": ""
                      }
                    },
                    "scene": {
                      "xaxis": {
                        "backgroundcolor": "#E5ECF6",
                        "gridcolor": "white",
                        "gridwidth": 2,
                        "linecolor": "white",
                        "showbackground": true,
                        "ticks": "",
                        "zerolinecolor": "white"
                      },
                      "yaxis": {
                        "backgroundcolor": "#E5ECF6",
                        "gridcolor": "white",
                        "gridwidth": 2,
                        "linecolor": "white",
                        "showbackground": true,
                        "ticks": "",
                        "zerolinecolor": "white"
                      },
                      "zaxis": {
                        "backgroundcolor": "#E5ECF6",
                        "gridcolor": "white",
                        "gridwidth": 2,
                        "linecolor": "white",
                        "showbackground": true,
                        "ticks": "",
                        "zerolinecolor": "white"
                      }
                    },
                    "shapedefaults": {
                      "line": {
                        "color": "#2a3f5f"
                      }
                    },
                    "ternary": {
                      "aaxis": {
                        "gridcolor": "white",
                        "linecolor": "white",
                        "ticks": ""
                      },
                      "baxis": {
                        "gridcolor": "white",
                        "linecolor": "white",
                        "ticks": ""
                      },
                      "bgcolor": "#E5ECF6",
                      "caxis": {
                        "gridcolor": "white",
                        "linecolor": "white",
                        "ticks": ""
                      }
                    },
                    "title": {
                      "x": 0.05
                    },
                    "xaxis": {
                      "automargin": true,
                      "gridcolor": "white",
                      "linecolor": "white",
                      "ticks": "",
                      "title": {
                        "standoff": 15
                      },
                      "zerolinecolor": "white",
                      "zerolinewidth": 2
                    },
                    "yaxis": {
                      "automargin": true,
                      "gridcolor": "white",
                      "linecolor": "white",
                      "ticks": "",
                      "title": {
                        "standoff": 15
                      },
                      "zerolinecolor": "white",
                      "zerolinewidth": 2
                    }
                  }
                },
                "title": {
                  "text": "Average steps by hour"
                },
                "xaxis": {
                  "anchor": "y",
                  "domain": [
                    0,
                    1
                  ],
                  "title": {
                    "text": "Hours"
                  }
                },
                "yaxis": {
                  "anchor": "x",
                  "domain": [
                    0,
                    1
                  ],
                  "side": "left",
                  "title": {
                    "text": "Average steps"
                  }
                }
              }
            }
          },
          "metadata": {},
          "output_type": "display_data"
        }
      ],
      "source": [
        "# Bar chart: steps through the day\n",
        "\n",
        "hourlySteps = pd.read_csv(\"Data_Coursera_CaseStudy02/hourlySteps_merged.csv\", index_col=[0])\n",
        "hourlySteps['ActivityHour'] = pd.to_datetime(hourlySteps['ActivityHour'])\n",
        "\n",
        "hourlySteps['Day'] = hourlySteps['ActivityHour'].dt.date\n",
        "hourlySteps['Time'] =  hourlySteps['ActivityHour'].dt.time\n",
        "\n",
        "\n",
        "stepsMean_By_hour = []\n",
        "\n",
        "for hour in (hourlySteps['Time'].unique()): \n",
        "  stepsMean_By_hour.append(np.average(hourlySteps[hourlySteps['Time']==hour]['StepTotal']))\n",
        "\n",
        "\n",
        "\n",
        "# df['datetime'] = pd.to_datetime(df['datetime'])\n",
        "\n",
        "data = {'hours': hourlySteps['Time'].unique(),\n",
        "        'Average steps': stepsMean_By_hour}\n",
        "\n",
        "fig = px.bar(data, x='hours', y='Average steps', title = 'Average steps by hour')\n",
        "\n",
        "fig.update_layout(xaxis=dict(\n",
        "                    title = 'Hours',\n",
        "                    ), \n",
        "                  yaxis=dict(\n",
        "                    title='Average steps',\n",
        "                    side='left'                 \n",
        "                    )\n",
        ")\n",
        "\n",
        "fig.show()"
      ]
    },
    {
      "cell_type": "markdown",
      "metadata": {
        "id": "rBlf_U5yz-o-"
      },
      "source": [
        "Here we can see something that would be expected, most of the steps are in the period of the work times and after it, maybe time to go away or go to the gym?"
      ]
    },
    {
      "cell_type": "markdown",
      "metadata": {
        "id": "pg1GoAUdMyz_"
      },
      "source": [
        "### Classification of users\n",
        "\n",
        "Users with an average steps more than 10.000 were classified as active."
      ]
    },
    {
      "cell_type": "code",
      "execution_count": null,
      "metadata": {
        "colab": {
          "base_uri": "https://localhost:8080/",
          "height": 542
        },
        "id": "w1PjOaIIM9cZ",
        "outputId": "1e858d99-39cc-4f59-dfe9-0b2137ff88e1"
      },
      "outputs": [
        {
          "data": {
            "application/vnd.plotly.v1+json": {
              "config": {
                "plotlyServerURL": "https://plot.ly"
              },
              "data": [
                {
                  "domain": {
                    "x": [
                      0,
                      1
                    ],
                    "y": [
                      0,
                      1
                    ]
                  },
                  "hovertemplate": "Status=%{label}<br>number of status=%{value}<extra></extra>",
                  "labels": [
                    "Active",
                    "Not Active"
                  ],
                  "legendgroup": "",
                  "name": "",
                  "showlegend": true,
                  "type": "pie",
                  "values": [
                    7,
                    26
                  ]
                }
              ],
              "layout": {
                "legend": {
                  "tracegroupgap": 0
                },
                "template": {
                  "data": {
                    "bar": [
                      {
                        "error_x": {
                          "color": "#2a3f5f"
                        },
                        "error_y": {
                          "color": "#2a3f5f"
                        },
                        "marker": {
                          "line": {
                            "color": "#E5ECF6",
                            "width": 0.5
                          },
                          "pattern": {
                            "fillmode": "overlay",
                            "size": 10,
                            "solidity": 0.2
                          }
                        },
                        "type": "bar"
                      }
                    ],
                    "barpolar": [
                      {
                        "marker": {
                          "line": {
                            "color": "#E5ECF6",
                            "width": 0.5
                          },
                          "pattern": {
                            "fillmode": "overlay",
                            "size": 10,
                            "solidity": 0.2
                          }
                        },
                        "type": "barpolar"
                      }
                    ],
                    "carpet": [
                      {
                        "aaxis": {
                          "endlinecolor": "#2a3f5f",
                          "gridcolor": "white",
                          "linecolor": "white",
                          "minorgridcolor": "white",
                          "startlinecolor": "#2a3f5f"
                        },
                        "baxis": {
                          "endlinecolor": "#2a3f5f",
                          "gridcolor": "white",
                          "linecolor": "white",
                          "minorgridcolor": "white",
                          "startlinecolor": "#2a3f5f"
                        },
                        "type": "carpet"
                      }
                    ],
                    "choropleth": [
                      {
                        "colorbar": {
                          "outlinewidth": 0,
                          "ticks": ""
                        },
                        "type": "choropleth"
                      }
                    ],
                    "contour": [
                      {
                        "colorbar": {
                          "outlinewidth": 0,
                          "ticks": ""
                        },
                        "colorscale": [
                          [
                            0,
                            "#0d0887"
                          ],
                          [
                            0.1111111111111111,
                            "#46039f"
                          ],
                          [
                            0.2222222222222222,
                            "#7201a8"
                          ],
                          [
                            0.3333333333333333,
                            "#9c179e"
                          ],
                          [
                            0.4444444444444444,
                            "#bd3786"
                          ],
                          [
                            0.5555555555555556,
                            "#d8576b"
                          ],
                          [
                            0.6666666666666666,
                            "#ed7953"
                          ],
                          [
                            0.7777777777777778,
                            "#fb9f3a"
                          ],
                          [
                            0.8888888888888888,
                            "#fdca26"
                          ],
                          [
                            1,
                            "#f0f921"
                          ]
                        ],
                        "type": "contour"
                      }
                    ],
                    "contourcarpet": [
                      {
                        "colorbar": {
                          "outlinewidth": 0,
                          "ticks": ""
                        },
                        "type": "contourcarpet"
                      }
                    ],
                    "heatmap": [
                      {
                        "colorbar": {
                          "outlinewidth": 0,
                          "ticks": ""
                        },
                        "colorscale": [
                          [
                            0,
                            "#0d0887"
                          ],
                          [
                            0.1111111111111111,
                            "#46039f"
                          ],
                          [
                            0.2222222222222222,
                            "#7201a8"
                          ],
                          [
                            0.3333333333333333,
                            "#9c179e"
                          ],
                          [
                            0.4444444444444444,
                            "#bd3786"
                          ],
                          [
                            0.5555555555555556,
                            "#d8576b"
                          ],
                          [
                            0.6666666666666666,
                            "#ed7953"
                          ],
                          [
                            0.7777777777777778,
                            "#fb9f3a"
                          ],
                          [
                            0.8888888888888888,
                            "#fdca26"
                          ],
                          [
                            1,
                            "#f0f921"
                          ]
                        ],
                        "type": "heatmap"
                      }
                    ],
                    "heatmapgl": [
                      {
                        "colorbar": {
                          "outlinewidth": 0,
                          "ticks": ""
                        },
                        "colorscale": [
                          [
                            0,
                            "#0d0887"
                          ],
                          [
                            0.1111111111111111,
                            "#46039f"
                          ],
                          [
                            0.2222222222222222,
                            "#7201a8"
                          ],
                          [
                            0.3333333333333333,
                            "#9c179e"
                          ],
                          [
                            0.4444444444444444,
                            "#bd3786"
                          ],
                          [
                            0.5555555555555556,
                            "#d8576b"
                          ],
                          [
                            0.6666666666666666,
                            "#ed7953"
                          ],
                          [
                            0.7777777777777778,
                            "#fb9f3a"
                          ],
                          [
                            0.8888888888888888,
                            "#fdca26"
                          ],
                          [
                            1,
                            "#f0f921"
                          ]
                        ],
                        "type": "heatmapgl"
                      }
                    ],
                    "histogram": [
                      {
                        "marker": {
                          "pattern": {
                            "fillmode": "overlay",
                            "size": 10,
                            "solidity": 0.2
                          }
                        },
                        "type": "histogram"
                      }
                    ],
                    "histogram2d": [
                      {
                        "colorbar": {
                          "outlinewidth": 0,
                          "ticks": ""
                        },
                        "colorscale": [
                          [
                            0,
                            "#0d0887"
                          ],
                          [
                            0.1111111111111111,
                            "#46039f"
                          ],
                          [
                            0.2222222222222222,
                            "#7201a8"
                          ],
                          [
                            0.3333333333333333,
                            "#9c179e"
                          ],
                          [
                            0.4444444444444444,
                            "#bd3786"
                          ],
                          [
                            0.5555555555555556,
                            "#d8576b"
                          ],
                          [
                            0.6666666666666666,
                            "#ed7953"
                          ],
                          [
                            0.7777777777777778,
                            "#fb9f3a"
                          ],
                          [
                            0.8888888888888888,
                            "#fdca26"
                          ],
                          [
                            1,
                            "#f0f921"
                          ]
                        ],
                        "type": "histogram2d"
                      }
                    ],
                    "histogram2dcontour": [
                      {
                        "colorbar": {
                          "outlinewidth": 0,
                          "ticks": ""
                        },
                        "colorscale": [
                          [
                            0,
                            "#0d0887"
                          ],
                          [
                            0.1111111111111111,
                            "#46039f"
                          ],
                          [
                            0.2222222222222222,
                            "#7201a8"
                          ],
                          [
                            0.3333333333333333,
                            "#9c179e"
                          ],
                          [
                            0.4444444444444444,
                            "#bd3786"
                          ],
                          [
                            0.5555555555555556,
                            "#d8576b"
                          ],
                          [
                            0.6666666666666666,
                            "#ed7953"
                          ],
                          [
                            0.7777777777777778,
                            "#fb9f3a"
                          ],
                          [
                            0.8888888888888888,
                            "#fdca26"
                          ],
                          [
                            1,
                            "#f0f921"
                          ]
                        ],
                        "type": "histogram2dcontour"
                      }
                    ],
                    "mesh3d": [
                      {
                        "colorbar": {
                          "outlinewidth": 0,
                          "ticks": ""
                        },
                        "type": "mesh3d"
                      }
                    ],
                    "parcoords": [
                      {
                        "line": {
                          "colorbar": {
                            "outlinewidth": 0,
                            "ticks": ""
                          }
                        },
                        "type": "parcoords"
                      }
                    ],
                    "pie": [
                      {
                        "automargin": true,
                        "type": "pie"
                      }
                    ],
                    "scatter": [
                      {
                        "marker": {
                          "colorbar": {
                            "outlinewidth": 0,
                            "ticks": ""
                          }
                        },
                        "type": "scatter"
                      }
                    ],
                    "scatter3d": [
                      {
                        "line": {
                          "colorbar": {
                            "outlinewidth": 0,
                            "ticks": ""
                          }
                        },
                        "marker": {
                          "colorbar": {
                            "outlinewidth": 0,
                            "ticks": ""
                          }
                        },
                        "type": "scatter3d"
                      }
                    ],
                    "scattercarpet": [
                      {
                        "marker": {
                          "colorbar": {
                            "outlinewidth": 0,
                            "ticks": ""
                          }
                        },
                        "type": "scattercarpet"
                      }
                    ],
                    "scattergeo": [
                      {
                        "marker": {
                          "colorbar": {
                            "outlinewidth": 0,
                            "ticks": ""
                          }
                        },
                        "type": "scattergeo"
                      }
                    ],
                    "scattergl": [
                      {
                        "marker": {
                          "colorbar": {
                            "outlinewidth": 0,
                            "ticks": ""
                          }
                        },
                        "type": "scattergl"
                      }
                    ],
                    "scattermapbox": [
                      {
                        "marker": {
                          "colorbar": {
                            "outlinewidth": 0,
                            "ticks": ""
                          }
                        },
                        "type": "scattermapbox"
                      }
                    ],
                    "scatterpolar": [
                      {
                        "marker": {
                          "colorbar": {
                            "outlinewidth": 0,
                            "ticks": ""
                          }
                        },
                        "type": "scatterpolar"
                      }
                    ],
                    "scatterpolargl": [
                      {
                        "marker": {
                          "colorbar": {
                            "outlinewidth": 0,
                            "ticks": ""
                          }
                        },
                        "type": "scatterpolargl"
                      }
                    ],
                    "scatterternary": [
                      {
                        "marker": {
                          "colorbar": {
                            "outlinewidth": 0,
                            "ticks": ""
                          }
                        },
                        "type": "scatterternary"
                      }
                    ],
                    "surface": [
                      {
                        "colorbar": {
                          "outlinewidth": 0,
                          "ticks": ""
                        },
                        "colorscale": [
                          [
                            0,
                            "#0d0887"
                          ],
                          [
                            0.1111111111111111,
                            "#46039f"
                          ],
                          [
                            0.2222222222222222,
                            "#7201a8"
                          ],
                          [
                            0.3333333333333333,
                            "#9c179e"
                          ],
                          [
                            0.4444444444444444,
                            "#bd3786"
                          ],
                          [
                            0.5555555555555556,
                            "#d8576b"
                          ],
                          [
                            0.6666666666666666,
                            "#ed7953"
                          ],
                          [
                            0.7777777777777778,
                            "#fb9f3a"
                          ],
                          [
                            0.8888888888888888,
                            "#fdca26"
                          ],
                          [
                            1,
                            "#f0f921"
                          ]
                        ],
                        "type": "surface"
                      }
                    ],
                    "table": [
                      {
                        "cells": {
                          "fill": {
                            "color": "#EBF0F8"
                          },
                          "line": {
                            "color": "white"
                          }
                        },
                        "header": {
                          "fill": {
                            "color": "#C8D4E3"
                          },
                          "line": {
                            "color": "white"
                          }
                        },
                        "type": "table"
                      }
                    ]
                  },
                  "layout": {
                    "annotationdefaults": {
                      "arrowcolor": "#2a3f5f",
                      "arrowhead": 0,
                      "arrowwidth": 1
                    },
                    "autotypenumbers": "strict",
                    "coloraxis": {
                      "colorbar": {
                        "outlinewidth": 0,
                        "ticks": ""
                      }
                    },
                    "colorscale": {
                      "diverging": [
                        [
                          0,
                          "#8e0152"
                        ],
                        [
                          0.1,
                          "#c51b7d"
                        ],
                        [
                          0.2,
                          "#de77ae"
                        ],
                        [
                          0.3,
                          "#f1b6da"
                        ],
                        [
                          0.4,
                          "#fde0ef"
                        ],
                        [
                          0.5,
                          "#f7f7f7"
                        ],
                        [
                          0.6,
                          "#e6f5d0"
                        ],
                        [
                          0.7,
                          "#b8e186"
                        ],
                        [
                          0.8,
                          "#7fbc41"
                        ],
                        [
                          0.9,
                          "#4d9221"
                        ],
                        [
                          1,
                          "#276419"
                        ]
                      ],
                      "sequential": [
                        [
                          0,
                          "#0d0887"
                        ],
                        [
                          0.1111111111111111,
                          "#46039f"
                        ],
                        [
                          0.2222222222222222,
                          "#7201a8"
                        ],
                        [
                          0.3333333333333333,
                          "#9c179e"
                        ],
                        [
                          0.4444444444444444,
                          "#bd3786"
                        ],
                        [
                          0.5555555555555556,
                          "#d8576b"
                        ],
                        [
                          0.6666666666666666,
                          "#ed7953"
                        ],
                        [
                          0.7777777777777778,
                          "#fb9f3a"
                        ],
                        [
                          0.8888888888888888,
                          "#fdca26"
                        ],
                        [
                          1,
                          "#f0f921"
                        ]
                      ],
                      "sequentialminus": [
                        [
                          0,
                          "#0d0887"
                        ],
                        [
                          0.1111111111111111,
                          "#46039f"
                        ],
                        [
                          0.2222222222222222,
                          "#7201a8"
                        ],
                        [
                          0.3333333333333333,
                          "#9c179e"
                        ],
                        [
                          0.4444444444444444,
                          "#bd3786"
                        ],
                        [
                          0.5555555555555556,
                          "#d8576b"
                        ],
                        [
                          0.6666666666666666,
                          "#ed7953"
                        ],
                        [
                          0.7777777777777778,
                          "#fb9f3a"
                        ],
                        [
                          0.8888888888888888,
                          "#fdca26"
                        ],
                        [
                          1,
                          "#f0f921"
                        ]
                      ]
                    },
                    "colorway": [
                      "#636efa",
                      "#EF553B",
                      "#00cc96",
                      "#ab63fa",
                      "#FFA15A",
                      "#19d3f3",
                      "#FF6692",
                      "#B6E880",
                      "#FF97FF",
                      "#FECB52"
                    ],
                    "font": {
                      "color": "#2a3f5f"
                    },
                    "geo": {
                      "bgcolor": "white",
                      "lakecolor": "white",
                      "landcolor": "#E5ECF6",
                      "showlakes": true,
                      "showland": true,
                      "subunitcolor": "white"
                    },
                    "hoverlabel": {
                      "align": "left"
                    },
                    "hovermode": "closest",
                    "mapbox": {
                      "style": "light"
                    },
                    "paper_bgcolor": "white",
                    "plot_bgcolor": "#E5ECF6",
                    "polar": {
                      "angularaxis": {
                        "gridcolor": "white",
                        "linecolor": "white",
                        "ticks": ""
                      },
                      "bgcolor": "#E5ECF6",
                      "radialaxis": {
                        "gridcolor": "white",
                        "linecolor": "white",
                        "ticks": ""
                      }
                    },
                    "scene": {
                      "xaxis": {
                        "backgroundcolor": "#E5ECF6",
                        "gridcolor": "white",
                        "gridwidth": 2,
                        "linecolor": "white",
                        "showbackground": true,
                        "ticks": "",
                        "zerolinecolor": "white"
                      },
                      "yaxis": {
                        "backgroundcolor": "#E5ECF6",
                        "gridcolor": "white",
                        "gridwidth": 2,
                        "linecolor": "white",
                        "showbackground": true,
                        "ticks": "",
                        "zerolinecolor": "white"
                      },
                      "zaxis": {
                        "backgroundcolor": "#E5ECF6",
                        "gridcolor": "white",
                        "gridwidth": 2,
                        "linecolor": "white",
                        "showbackground": true,
                        "ticks": "",
                        "zerolinecolor": "white"
                      }
                    },
                    "shapedefaults": {
                      "line": {
                        "color": "#2a3f5f"
                      }
                    },
                    "ternary": {
                      "aaxis": {
                        "gridcolor": "white",
                        "linecolor": "white",
                        "ticks": ""
                      },
                      "baxis": {
                        "gridcolor": "white",
                        "linecolor": "white",
                        "ticks": ""
                      },
                      "bgcolor": "#E5ECF6",
                      "caxis": {
                        "gridcolor": "white",
                        "linecolor": "white",
                        "ticks": ""
                      }
                    },
                    "title": {
                      "x": 0.05
                    },
                    "xaxis": {
                      "automargin": true,
                      "gridcolor": "white",
                      "linecolor": "white",
                      "ticks": "",
                      "title": {
                        "standoff": 15
                      },
                      "zerolinecolor": "white",
                      "zerolinewidth": 2
                    },
                    "yaxis": {
                      "automargin": true,
                      "gridcolor": "white",
                      "linecolor": "white",
                      "ticks": "",
                      "title": {
                        "standoff": 15
                      },
                      "zerolinecolor": "white",
                      "zerolinewidth": 2
                    }
                  }
                },
                "title": {
                  "text": "Percentage of active users based on 10.000 steps daily"
                }
              }
            }
          },
          "metadata": {},
          "output_type": "display_data"
        }
      ],
      "source": [
        "dailySteps = pd.read_csv(\"Data_Coursera_CaseStudy02/dailySteps_merged.csv\", index_col=[0])\n",
        "\n",
        "dailySteps = dailySteps.groupby(by=['Id']).mean()\n",
        "\n",
        "status_list = []\n",
        "\n",
        "for id in dailySteps.index:\n",
        "  if(dailySteps.loc[id]['StepTotal']>=10000):\n",
        "    status_list.append('Active')\n",
        "  else:\n",
        "    status_list.append('Not Active')\n",
        "\n",
        "dailySteps['Status'] = status_list\n",
        "\n",
        "data = {'Status': ['Active', 'Not Active'],\n",
        "        'number of status': [ len(dailySteps[dailySteps['Status']=='Active']), len(dailySteps[dailySteps['Status']=='Not Active'])]}\n",
        "\n",
        "\n",
        "fig = px.pie(data, values='number of status', names='Status', title='Percentage of active users based on 10.000 steps daily')\n",
        "fig.show()\n",
        "\n",
        "# print(f\"Average number of steps taken by day: {np.average(dailySteps['StepTotal'])} steps\")"
      ]
    },
    {
      "cell_type": "markdown",
      "metadata": {
        "id": "9YowSjUA3NyH"
      },
      "source": [
        "As evidenced above in the average daily steps calculation. When we separate the calculation by user, we can see that almost 80% of them do not do 10.000 steps by day."
      ]
    },
    {
      "cell_type": "markdown",
      "metadata": {
        "id": "jV4FUO1rJrOw"
      },
      "source": [
        "### Intensities by hour"
      ]
    },
    {
      "cell_type": "code",
      "execution_count": null,
      "metadata": {
        "colab": {
          "base_uri": "https://localhost:8080/",
          "height": 542
        },
        "id": "3gv12fpDJqlo",
        "outputId": "d1e8e64c-13f9-410d-ef99-887cc88d0873"
      },
      "outputs": [
        {
          "data": {
            "application/vnd.plotly.v1+json": {
              "config": {
                "plotlyServerURL": "https://plot.ly"
              },
              "data": [
                {
                  "alignmentgroup": "True",
                  "hovertemplate": "hours=%{x}<br>Average Intensities=%{y}<extra></extra>",
                  "legendgroup": "",
                  "marker": {
                    "color": "#636efa",
                    "pattern": {
                      "shape": ""
                    }
                  },
                  "name": "",
                  "offsetgroup": "",
                  "orientation": "v",
                  "showlegend": false,
                  "textposition": "auto",
                  "type": "bar",
                  "x": [
                    "00:00:00",
                    "01:00:00",
                    "02:00:00",
                    "03:00:00",
                    "04:00:00",
                    "05:00:00",
                    "06:00:00",
                    "07:00:00",
                    "08:00:00",
                    "09:00:00",
                    "10:00:00",
                    "11:00:00",
                    "12:00:00",
                    "13:00:00",
                    "14:00:00",
                    "15:00:00",
                    "16:00:00",
                    "17:00:00",
                    "18:00:00",
                    "19:00:00",
                    "20:00:00",
                    "21:00:00",
                    "22:00:00",
                    "23:00:00"
                  ],
                  "xaxis": "x",
                  "y": [
                    2.1295503211991433,
                    1.4190782422293677,
                    1.0439442658092175,
                    0.4437299035369775,
                    0.6330472103004292,
                    4.950643776824034,
                    7.771213748657358,
                    10.733619763694952,
                    14.668098818474759,
                    15.387755102040817,
                    17.643702906350914,
                    16.921251348435813,
                    19.8470715835141,
                    18.775244299674267,
                    18.868621064060804,
                    15.584699453551913,
                    17.71664829106946,
                    21.655629139072847,
                    21.921633554083886,
                    21.38520971302428,
                    14.339955849889625,
                    12.07292817679558,
                    9.063053097345133,
                    4.996677740863787
                  ],
                  "yaxis": "y"
                }
              ],
              "layout": {
                "barmode": "relative",
                "legend": {
                  "tracegroupgap": 0
                },
                "template": {
                  "data": {
                    "bar": [
                      {
                        "error_x": {
                          "color": "#2a3f5f"
                        },
                        "error_y": {
                          "color": "#2a3f5f"
                        },
                        "marker": {
                          "line": {
                            "color": "#E5ECF6",
                            "width": 0.5
                          },
                          "pattern": {
                            "fillmode": "overlay",
                            "size": 10,
                            "solidity": 0.2
                          }
                        },
                        "type": "bar"
                      }
                    ],
                    "barpolar": [
                      {
                        "marker": {
                          "line": {
                            "color": "#E5ECF6",
                            "width": 0.5
                          },
                          "pattern": {
                            "fillmode": "overlay",
                            "size": 10,
                            "solidity": 0.2
                          }
                        },
                        "type": "barpolar"
                      }
                    ],
                    "carpet": [
                      {
                        "aaxis": {
                          "endlinecolor": "#2a3f5f",
                          "gridcolor": "white",
                          "linecolor": "white",
                          "minorgridcolor": "white",
                          "startlinecolor": "#2a3f5f"
                        },
                        "baxis": {
                          "endlinecolor": "#2a3f5f",
                          "gridcolor": "white",
                          "linecolor": "white",
                          "minorgridcolor": "white",
                          "startlinecolor": "#2a3f5f"
                        },
                        "type": "carpet"
                      }
                    ],
                    "choropleth": [
                      {
                        "colorbar": {
                          "outlinewidth": 0,
                          "ticks": ""
                        },
                        "type": "choropleth"
                      }
                    ],
                    "contour": [
                      {
                        "colorbar": {
                          "outlinewidth": 0,
                          "ticks": ""
                        },
                        "colorscale": [
                          [
                            0,
                            "#0d0887"
                          ],
                          [
                            0.1111111111111111,
                            "#46039f"
                          ],
                          [
                            0.2222222222222222,
                            "#7201a8"
                          ],
                          [
                            0.3333333333333333,
                            "#9c179e"
                          ],
                          [
                            0.4444444444444444,
                            "#bd3786"
                          ],
                          [
                            0.5555555555555556,
                            "#d8576b"
                          ],
                          [
                            0.6666666666666666,
                            "#ed7953"
                          ],
                          [
                            0.7777777777777778,
                            "#fb9f3a"
                          ],
                          [
                            0.8888888888888888,
                            "#fdca26"
                          ],
                          [
                            1,
                            "#f0f921"
                          ]
                        ],
                        "type": "contour"
                      }
                    ],
                    "contourcarpet": [
                      {
                        "colorbar": {
                          "outlinewidth": 0,
                          "ticks": ""
                        },
                        "type": "contourcarpet"
                      }
                    ],
                    "heatmap": [
                      {
                        "colorbar": {
                          "outlinewidth": 0,
                          "ticks": ""
                        },
                        "colorscale": [
                          [
                            0,
                            "#0d0887"
                          ],
                          [
                            0.1111111111111111,
                            "#46039f"
                          ],
                          [
                            0.2222222222222222,
                            "#7201a8"
                          ],
                          [
                            0.3333333333333333,
                            "#9c179e"
                          ],
                          [
                            0.4444444444444444,
                            "#bd3786"
                          ],
                          [
                            0.5555555555555556,
                            "#d8576b"
                          ],
                          [
                            0.6666666666666666,
                            "#ed7953"
                          ],
                          [
                            0.7777777777777778,
                            "#fb9f3a"
                          ],
                          [
                            0.8888888888888888,
                            "#fdca26"
                          ],
                          [
                            1,
                            "#f0f921"
                          ]
                        ],
                        "type": "heatmap"
                      }
                    ],
                    "heatmapgl": [
                      {
                        "colorbar": {
                          "outlinewidth": 0,
                          "ticks": ""
                        },
                        "colorscale": [
                          [
                            0,
                            "#0d0887"
                          ],
                          [
                            0.1111111111111111,
                            "#46039f"
                          ],
                          [
                            0.2222222222222222,
                            "#7201a8"
                          ],
                          [
                            0.3333333333333333,
                            "#9c179e"
                          ],
                          [
                            0.4444444444444444,
                            "#bd3786"
                          ],
                          [
                            0.5555555555555556,
                            "#d8576b"
                          ],
                          [
                            0.6666666666666666,
                            "#ed7953"
                          ],
                          [
                            0.7777777777777778,
                            "#fb9f3a"
                          ],
                          [
                            0.8888888888888888,
                            "#fdca26"
                          ],
                          [
                            1,
                            "#f0f921"
                          ]
                        ],
                        "type": "heatmapgl"
                      }
                    ],
                    "histogram": [
                      {
                        "marker": {
                          "pattern": {
                            "fillmode": "overlay",
                            "size": 10,
                            "solidity": 0.2
                          }
                        },
                        "type": "histogram"
                      }
                    ],
                    "histogram2d": [
                      {
                        "colorbar": {
                          "outlinewidth": 0,
                          "ticks": ""
                        },
                        "colorscale": [
                          [
                            0,
                            "#0d0887"
                          ],
                          [
                            0.1111111111111111,
                            "#46039f"
                          ],
                          [
                            0.2222222222222222,
                            "#7201a8"
                          ],
                          [
                            0.3333333333333333,
                            "#9c179e"
                          ],
                          [
                            0.4444444444444444,
                            "#bd3786"
                          ],
                          [
                            0.5555555555555556,
                            "#d8576b"
                          ],
                          [
                            0.6666666666666666,
                            "#ed7953"
                          ],
                          [
                            0.7777777777777778,
                            "#fb9f3a"
                          ],
                          [
                            0.8888888888888888,
                            "#fdca26"
                          ],
                          [
                            1,
                            "#f0f921"
                          ]
                        ],
                        "type": "histogram2d"
                      }
                    ],
                    "histogram2dcontour": [
                      {
                        "colorbar": {
                          "outlinewidth": 0,
                          "ticks": ""
                        },
                        "colorscale": [
                          [
                            0,
                            "#0d0887"
                          ],
                          [
                            0.1111111111111111,
                            "#46039f"
                          ],
                          [
                            0.2222222222222222,
                            "#7201a8"
                          ],
                          [
                            0.3333333333333333,
                            "#9c179e"
                          ],
                          [
                            0.4444444444444444,
                            "#bd3786"
                          ],
                          [
                            0.5555555555555556,
                            "#d8576b"
                          ],
                          [
                            0.6666666666666666,
                            "#ed7953"
                          ],
                          [
                            0.7777777777777778,
                            "#fb9f3a"
                          ],
                          [
                            0.8888888888888888,
                            "#fdca26"
                          ],
                          [
                            1,
                            "#f0f921"
                          ]
                        ],
                        "type": "histogram2dcontour"
                      }
                    ],
                    "mesh3d": [
                      {
                        "colorbar": {
                          "outlinewidth": 0,
                          "ticks": ""
                        },
                        "type": "mesh3d"
                      }
                    ],
                    "parcoords": [
                      {
                        "line": {
                          "colorbar": {
                            "outlinewidth": 0,
                            "ticks": ""
                          }
                        },
                        "type": "parcoords"
                      }
                    ],
                    "pie": [
                      {
                        "automargin": true,
                        "type": "pie"
                      }
                    ],
                    "scatter": [
                      {
                        "marker": {
                          "colorbar": {
                            "outlinewidth": 0,
                            "ticks": ""
                          }
                        },
                        "type": "scatter"
                      }
                    ],
                    "scatter3d": [
                      {
                        "line": {
                          "colorbar": {
                            "outlinewidth": 0,
                            "ticks": ""
                          }
                        },
                        "marker": {
                          "colorbar": {
                            "outlinewidth": 0,
                            "ticks": ""
                          }
                        },
                        "type": "scatter3d"
                      }
                    ],
                    "scattercarpet": [
                      {
                        "marker": {
                          "colorbar": {
                            "outlinewidth": 0,
                            "ticks": ""
                          }
                        },
                        "type": "scattercarpet"
                      }
                    ],
                    "scattergeo": [
                      {
                        "marker": {
                          "colorbar": {
                            "outlinewidth": 0,
                            "ticks": ""
                          }
                        },
                        "type": "scattergeo"
                      }
                    ],
                    "scattergl": [
                      {
                        "marker": {
                          "colorbar": {
                            "outlinewidth": 0,
                            "ticks": ""
                          }
                        },
                        "type": "scattergl"
                      }
                    ],
                    "scattermapbox": [
                      {
                        "marker": {
                          "colorbar": {
                            "outlinewidth": 0,
                            "ticks": ""
                          }
                        },
                        "type": "scattermapbox"
                      }
                    ],
                    "scatterpolar": [
                      {
                        "marker": {
                          "colorbar": {
                            "outlinewidth": 0,
                            "ticks": ""
                          }
                        },
                        "type": "scatterpolar"
                      }
                    ],
                    "scatterpolargl": [
                      {
                        "marker": {
                          "colorbar": {
                            "outlinewidth": 0,
                            "ticks": ""
                          }
                        },
                        "type": "scatterpolargl"
                      }
                    ],
                    "scatterternary": [
                      {
                        "marker": {
                          "colorbar": {
                            "outlinewidth": 0,
                            "ticks": ""
                          }
                        },
                        "type": "scatterternary"
                      }
                    ],
                    "surface": [
                      {
                        "colorbar": {
                          "outlinewidth": 0,
                          "ticks": ""
                        },
                        "colorscale": [
                          [
                            0,
                            "#0d0887"
                          ],
                          [
                            0.1111111111111111,
                            "#46039f"
                          ],
                          [
                            0.2222222222222222,
                            "#7201a8"
                          ],
                          [
                            0.3333333333333333,
                            "#9c179e"
                          ],
                          [
                            0.4444444444444444,
                            "#bd3786"
                          ],
                          [
                            0.5555555555555556,
                            "#d8576b"
                          ],
                          [
                            0.6666666666666666,
                            "#ed7953"
                          ],
                          [
                            0.7777777777777778,
                            "#fb9f3a"
                          ],
                          [
                            0.8888888888888888,
                            "#fdca26"
                          ],
                          [
                            1,
                            "#f0f921"
                          ]
                        ],
                        "type": "surface"
                      }
                    ],
                    "table": [
                      {
                        "cells": {
                          "fill": {
                            "color": "#EBF0F8"
                          },
                          "line": {
                            "color": "white"
                          }
                        },
                        "header": {
                          "fill": {
                            "color": "#C8D4E3"
                          },
                          "line": {
                            "color": "white"
                          }
                        },
                        "type": "table"
                      }
                    ]
                  },
                  "layout": {
                    "annotationdefaults": {
                      "arrowcolor": "#2a3f5f",
                      "arrowhead": 0,
                      "arrowwidth": 1
                    },
                    "autotypenumbers": "strict",
                    "coloraxis": {
                      "colorbar": {
                        "outlinewidth": 0,
                        "ticks": ""
                      }
                    },
                    "colorscale": {
                      "diverging": [
                        [
                          0,
                          "#8e0152"
                        ],
                        [
                          0.1,
                          "#c51b7d"
                        ],
                        [
                          0.2,
                          "#de77ae"
                        ],
                        [
                          0.3,
                          "#f1b6da"
                        ],
                        [
                          0.4,
                          "#fde0ef"
                        ],
                        [
                          0.5,
                          "#f7f7f7"
                        ],
                        [
                          0.6,
                          "#e6f5d0"
                        ],
                        [
                          0.7,
                          "#b8e186"
                        ],
                        [
                          0.8,
                          "#7fbc41"
                        ],
                        [
                          0.9,
                          "#4d9221"
                        ],
                        [
                          1,
                          "#276419"
                        ]
                      ],
                      "sequential": [
                        [
                          0,
                          "#0d0887"
                        ],
                        [
                          0.1111111111111111,
                          "#46039f"
                        ],
                        [
                          0.2222222222222222,
                          "#7201a8"
                        ],
                        [
                          0.3333333333333333,
                          "#9c179e"
                        ],
                        [
                          0.4444444444444444,
                          "#bd3786"
                        ],
                        [
                          0.5555555555555556,
                          "#d8576b"
                        ],
                        [
                          0.6666666666666666,
                          "#ed7953"
                        ],
                        [
                          0.7777777777777778,
                          "#fb9f3a"
                        ],
                        [
                          0.8888888888888888,
                          "#fdca26"
                        ],
                        [
                          1,
                          "#f0f921"
                        ]
                      ],
                      "sequentialminus": [
                        [
                          0,
                          "#0d0887"
                        ],
                        [
                          0.1111111111111111,
                          "#46039f"
                        ],
                        [
                          0.2222222222222222,
                          "#7201a8"
                        ],
                        [
                          0.3333333333333333,
                          "#9c179e"
                        ],
                        [
                          0.4444444444444444,
                          "#bd3786"
                        ],
                        [
                          0.5555555555555556,
                          "#d8576b"
                        ],
                        [
                          0.6666666666666666,
                          "#ed7953"
                        ],
                        [
                          0.7777777777777778,
                          "#fb9f3a"
                        ],
                        [
                          0.8888888888888888,
                          "#fdca26"
                        ],
                        [
                          1,
                          "#f0f921"
                        ]
                      ]
                    },
                    "colorway": [
                      "#636efa",
                      "#EF553B",
                      "#00cc96",
                      "#ab63fa",
                      "#FFA15A",
                      "#19d3f3",
                      "#FF6692",
                      "#B6E880",
                      "#FF97FF",
                      "#FECB52"
                    ],
                    "font": {
                      "color": "#2a3f5f"
                    },
                    "geo": {
                      "bgcolor": "white",
                      "lakecolor": "white",
                      "landcolor": "#E5ECF6",
                      "showlakes": true,
                      "showland": true,
                      "subunitcolor": "white"
                    },
                    "hoverlabel": {
                      "align": "left"
                    },
                    "hovermode": "closest",
                    "mapbox": {
                      "style": "light"
                    },
                    "paper_bgcolor": "white",
                    "plot_bgcolor": "#E5ECF6",
                    "polar": {
                      "angularaxis": {
                        "gridcolor": "white",
                        "linecolor": "white",
                        "ticks": ""
                      },
                      "bgcolor": "#E5ECF6",
                      "radialaxis": {
                        "gridcolor": "white",
                        "linecolor": "white",
                        "ticks": ""
                      }
                    },
                    "scene": {
                      "xaxis": {
                        "backgroundcolor": "#E5ECF6",
                        "gridcolor": "white",
                        "gridwidth": 2,
                        "linecolor": "white",
                        "showbackground": true,
                        "ticks": "",
                        "zerolinecolor": "white"
                      },
                      "yaxis": {
                        "backgroundcolor": "#E5ECF6",
                        "gridcolor": "white",
                        "gridwidth": 2,
                        "linecolor": "white",
                        "showbackground": true,
                        "ticks": "",
                        "zerolinecolor": "white"
                      },
                      "zaxis": {
                        "backgroundcolor": "#E5ECF6",
                        "gridcolor": "white",
                        "gridwidth": 2,
                        "linecolor": "white",
                        "showbackground": true,
                        "ticks": "",
                        "zerolinecolor": "white"
                      }
                    },
                    "shapedefaults": {
                      "line": {
                        "color": "#2a3f5f"
                      }
                    },
                    "ternary": {
                      "aaxis": {
                        "gridcolor": "white",
                        "linecolor": "white",
                        "ticks": ""
                      },
                      "baxis": {
                        "gridcolor": "white",
                        "linecolor": "white",
                        "ticks": ""
                      },
                      "bgcolor": "#E5ECF6",
                      "caxis": {
                        "gridcolor": "white",
                        "linecolor": "white",
                        "ticks": ""
                      }
                    },
                    "title": {
                      "x": 0.05
                    },
                    "xaxis": {
                      "automargin": true,
                      "gridcolor": "white",
                      "linecolor": "white",
                      "ticks": "",
                      "title": {
                        "standoff": 15
                      },
                      "zerolinecolor": "white",
                      "zerolinewidth": 2
                    },
                    "yaxis": {
                      "automargin": true,
                      "gridcolor": "white",
                      "linecolor": "white",
                      "ticks": "",
                      "title": {
                        "standoff": 15
                      },
                      "zerolinecolor": "white",
                      "zerolinewidth": 2
                    }
                  }
                },
                "title": {
                  "text": "Average Intensities by hour"
                },
                "xaxis": {
                  "anchor": "y",
                  "domain": [
                    0,
                    1
                  ],
                  "title": {
                    "text": "Hours"
                  }
                },
                "yaxis": {
                  "anchor": "x",
                  "domain": [
                    0,
                    1
                  ],
                  "side": "left",
                  "title": {
                    "text": "Average Intensities"
                  }
                }
              }
            }
          },
          "metadata": {},
          "output_type": "display_data"
        }
      ],
      "source": [
        "# Bar chart: intensities through the day\n",
        "\n",
        "hourlyIntensities = pd.read_csv(\"Data_Coursera_CaseStudy02/hourlyIntensities_merged.csv\", index_col=[0])\n",
        "hourlyIntensities['ActivityHour'] = pd.to_datetime(hourlyIntensities['ActivityHour'])\n",
        "\n",
        "hourlyIntensities['Day'] = hourlyIntensities['ActivityHour'].dt.date\n",
        "hourlyIntensities['Time'] =  hourlyIntensities['ActivityHour'].dt.time\n",
        "\n",
        "\n",
        "stepsMean_By_hour = []\n",
        "\n",
        "for hour in (hourlyIntensities['Time'].unique()): \n",
        "  stepsMean_By_hour.append(np.average(hourlyIntensities[hourlyIntensities['Time']==hour]['TotalIntensity']))\n",
        "\n",
        "\n",
        "\n",
        "# df['datetime'] = pd.to_datetime(df['datetime'])\n",
        "\n",
        "data = {'hours': hourlyIntensities['Time'].unique(),\n",
        "        'Average Intensities': stepsMean_By_hour}\n",
        "\n",
        "fig = px.bar(data, x='hours', y='Average Intensities', title = 'Average Intensities by hour')\n",
        "\n",
        "fig.update_layout(xaxis=dict(\n",
        "                    title = 'Hours',\n",
        "                    ), \n",
        "                  yaxis=dict(\n",
        "                    title='Average Intensities',\n",
        "                    side='left'                 \n",
        "                    )\n",
        ")\n",
        "\n",
        "fig.show()\n",
        "\n",
        "\n"
      ]
    },
    {
      "cell_type": "markdown",
      "metadata": {
        "id": "8oiMZWMR3ffu"
      },
      "source": [
        "This follows the steps by hour. We can do the same analysis as the previous."
      ]
    },
    {
      "cell_type": "markdown",
      "metadata": {
        "id": "tQCSBMAvF8KQ"
      },
      "source": [
        "### Calories through the day"
      ]
    },
    {
      "cell_type": "code",
      "execution_count": null,
      "metadata": {
        "colab": {
          "base_uri": "https://localhost:8080/",
          "height": 542
        },
        "id": "wapf_H9FF8Y4",
        "outputId": "f2397c11-8414-4a01-9c4a-e50520b401de"
      },
      "outputs": [
        {
          "data": {
            "application/vnd.plotly.v1+json": {
              "config": {
                "plotlyServerURL": "https://plot.ly"
              },
              "data": [
                {
                  "alignmentgroup": "True",
                  "hovertemplate": "hours=%{x}<br>Average calories=%{y}<extra></extra>",
                  "legendgroup": "",
                  "marker": {
                    "color": "#636efa",
                    "pattern": {
                      "shape": ""
                    }
                  },
                  "name": "",
                  "offsetgroup": "",
                  "orientation": "v",
                  "showlegend": false,
                  "textposition": "auto",
                  "type": "bar",
                  "x": [
                    "00:00:00",
                    "01:00:00",
                    "02:00:00",
                    "03:00:00",
                    "04:00:00",
                    "05:00:00",
                    "06:00:00",
                    "07:00:00",
                    "08:00:00",
                    "09:00:00",
                    "10:00:00",
                    "11:00:00",
                    "12:00:00",
                    "13:00:00",
                    "14:00:00",
                    "15:00:00",
                    "16:00:00",
                    "17:00:00",
                    "18:00:00",
                    "19:00:00",
                    "20:00:00",
                    "21:00:00",
                    "22:00:00",
                    "23:00:00"
                  ],
                  "xaxis": "x",
                  "y": [
                    71.8051391862955,
                    70.16505894962486,
                    69.18649517684888,
                    67.53804930332261,
                    68.2618025751073,
                    81.70815450643777,
                    86.9967776584318,
                    94.4779806659506,
                    103.33727175080558,
                    106.14285714285714,
                    110.46071044133477,
                    109.80690399137,
                    117.19739696312364,
                    115.30944625407166,
                    115.7328990228013,
                    106.63715846994536,
                    113.32745314222713,
                    122.75275938189846,
                    123.49227373068433,
                    121.48454746136865,
                    102.35761589403974,
                    96.05635359116022,
                    88.26548672566372,
                    77.59357696566998
                  ],
                  "yaxis": "y"
                }
              ],
              "layout": {
                "barmode": "relative",
                "legend": {
                  "tracegroupgap": 0
                },
                "template": {
                  "data": {
                    "bar": [
                      {
                        "error_x": {
                          "color": "#2a3f5f"
                        },
                        "error_y": {
                          "color": "#2a3f5f"
                        },
                        "marker": {
                          "line": {
                            "color": "#E5ECF6",
                            "width": 0.5
                          },
                          "pattern": {
                            "fillmode": "overlay",
                            "size": 10,
                            "solidity": 0.2
                          }
                        },
                        "type": "bar"
                      }
                    ],
                    "barpolar": [
                      {
                        "marker": {
                          "line": {
                            "color": "#E5ECF6",
                            "width": 0.5
                          },
                          "pattern": {
                            "fillmode": "overlay",
                            "size": 10,
                            "solidity": 0.2
                          }
                        },
                        "type": "barpolar"
                      }
                    ],
                    "carpet": [
                      {
                        "aaxis": {
                          "endlinecolor": "#2a3f5f",
                          "gridcolor": "white",
                          "linecolor": "white",
                          "minorgridcolor": "white",
                          "startlinecolor": "#2a3f5f"
                        },
                        "baxis": {
                          "endlinecolor": "#2a3f5f",
                          "gridcolor": "white",
                          "linecolor": "white",
                          "minorgridcolor": "white",
                          "startlinecolor": "#2a3f5f"
                        },
                        "type": "carpet"
                      }
                    ],
                    "choropleth": [
                      {
                        "colorbar": {
                          "outlinewidth": 0,
                          "ticks": ""
                        },
                        "type": "choropleth"
                      }
                    ],
                    "contour": [
                      {
                        "colorbar": {
                          "outlinewidth": 0,
                          "ticks": ""
                        },
                        "colorscale": [
                          [
                            0,
                            "#0d0887"
                          ],
                          [
                            0.1111111111111111,
                            "#46039f"
                          ],
                          [
                            0.2222222222222222,
                            "#7201a8"
                          ],
                          [
                            0.3333333333333333,
                            "#9c179e"
                          ],
                          [
                            0.4444444444444444,
                            "#bd3786"
                          ],
                          [
                            0.5555555555555556,
                            "#d8576b"
                          ],
                          [
                            0.6666666666666666,
                            "#ed7953"
                          ],
                          [
                            0.7777777777777778,
                            "#fb9f3a"
                          ],
                          [
                            0.8888888888888888,
                            "#fdca26"
                          ],
                          [
                            1,
                            "#f0f921"
                          ]
                        ],
                        "type": "contour"
                      }
                    ],
                    "contourcarpet": [
                      {
                        "colorbar": {
                          "outlinewidth": 0,
                          "ticks": ""
                        },
                        "type": "contourcarpet"
                      }
                    ],
                    "heatmap": [
                      {
                        "colorbar": {
                          "outlinewidth": 0,
                          "ticks": ""
                        },
                        "colorscale": [
                          [
                            0,
                            "#0d0887"
                          ],
                          [
                            0.1111111111111111,
                            "#46039f"
                          ],
                          [
                            0.2222222222222222,
                            "#7201a8"
                          ],
                          [
                            0.3333333333333333,
                            "#9c179e"
                          ],
                          [
                            0.4444444444444444,
                            "#bd3786"
                          ],
                          [
                            0.5555555555555556,
                            "#d8576b"
                          ],
                          [
                            0.6666666666666666,
                            "#ed7953"
                          ],
                          [
                            0.7777777777777778,
                            "#fb9f3a"
                          ],
                          [
                            0.8888888888888888,
                            "#fdca26"
                          ],
                          [
                            1,
                            "#f0f921"
                          ]
                        ],
                        "type": "heatmap"
                      }
                    ],
                    "heatmapgl": [
                      {
                        "colorbar": {
                          "outlinewidth": 0,
                          "ticks": ""
                        },
                        "colorscale": [
                          [
                            0,
                            "#0d0887"
                          ],
                          [
                            0.1111111111111111,
                            "#46039f"
                          ],
                          [
                            0.2222222222222222,
                            "#7201a8"
                          ],
                          [
                            0.3333333333333333,
                            "#9c179e"
                          ],
                          [
                            0.4444444444444444,
                            "#bd3786"
                          ],
                          [
                            0.5555555555555556,
                            "#d8576b"
                          ],
                          [
                            0.6666666666666666,
                            "#ed7953"
                          ],
                          [
                            0.7777777777777778,
                            "#fb9f3a"
                          ],
                          [
                            0.8888888888888888,
                            "#fdca26"
                          ],
                          [
                            1,
                            "#f0f921"
                          ]
                        ],
                        "type": "heatmapgl"
                      }
                    ],
                    "histogram": [
                      {
                        "marker": {
                          "pattern": {
                            "fillmode": "overlay",
                            "size": 10,
                            "solidity": 0.2
                          }
                        },
                        "type": "histogram"
                      }
                    ],
                    "histogram2d": [
                      {
                        "colorbar": {
                          "outlinewidth": 0,
                          "ticks": ""
                        },
                        "colorscale": [
                          [
                            0,
                            "#0d0887"
                          ],
                          [
                            0.1111111111111111,
                            "#46039f"
                          ],
                          [
                            0.2222222222222222,
                            "#7201a8"
                          ],
                          [
                            0.3333333333333333,
                            "#9c179e"
                          ],
                          [
                            0.4444444444444444,
                            "#bd3786"
                          ],
                          [
                            0.5555555555555556,
                            "#d8576b"
                          ],
                          [
                            0.6666666666666666,
                            "#ed7953"
                          ],
                          [
                            0.7777777777777778,
                            "#fb9f3a"
                          ],
                          [
                            0.8888888888888888,
                            "#fdca26"
                          ],
                          [
                            1,
                            "#f0f921"
                          ]
                        ],
                        "type": "histogram2d"
                      }
                    ],
                    "histogram2dcontour": [
                      {
                        "colorbar": {
                          "outlinewidth": 0,
                          "ticks": ""
                        },
                        "colorscale": [
                          [
                            0,
                            "#0d0887"
                          ],
                          [
                            0.1111111111111111,
                            "#46039f"
                          ],
                          [
                            0.2222222222222222,
                            "#7201a8"
                          ],
                          [
                            0.3333333333333333,
                            "#9c179e"
                          ],
                          [
                            0.4444444444444444,
                            "#bd3786"
                          ],
                          [
                            0.5555555555555556,
                            "#d8576b"
                          ],
                          [
                            0.6666666666666666,
                            "#ed7953"
                          ],
                          [
                            0.7777777777777778,
                            "#fb9f3a"
                          ],
                          [
                            0.8888888888888888,
                            "#fdca26"
                          ],
                          [
                            1,
                            "#f0f921"
                          ]
                        ],
                        "type": "histogram2dcontour"
                      }
                    ],
                    "mesh3d": [
                      {
                        "colorbar": {
                          "outlinewidth": 0,
                          "ticks": ""
                        },
                        "type": "mesh3d"
                      }
                    ],
                    "parcoords": [
                      {
                        "line": {
                          "colorbar": {
                            "outlinewidth": 0,
                            "ticks": ""
                          }
                        },
                        "type": "parcoords"
                      }
                    ],
                    "pie": [
                      {
                        "automargin": true,
                        "type": "pie"
                      }
                    ],
                    "scatter": [
                      {
                        "marker": {
                          "colorbar": {
                            "outlinewidth": 0,
                            "ticks": ""
                          }
                        },
                        "type": "scatter"
                      }
                    ],
                    "scatter3d": [
                      {
                        "line": {
                          "colorbar": {
                            "outlinewidth": 0,
                            "ticks": ""
                          }
                        },
                        "marker": {
                          "colorbar": {
                            "outlinewidth": 0,
                            "ticks": ""
                          }
                        },
                        "type": "scatter3d"
                      }
                    ],
                    "scattercarpet": [
                      {
                        "marker": {
                          "colorbar": {
                            "outlinewidth": 0,
                            "ticks": ""
                          }
                        },
                        "type": "scattercarpet"
                      }
                    ],
                    "scattergeo": [
                      {
                        "marker": {
                          "colorbar": {
                            "outlinewidth": 0,
                            "ticks": ""
                          }
                        },
                        "type": "scattergeo"
                      }
                    ],
                    "scattergl": [
                      {
                        "marker": {
                          "colorbar": {
                            "outlinewidth": 0,
                            "ticks": ""
                          }
                        },
                        "type": "scattergl"
                      }
                    ],
                    "scattermapbox": [
                      {
                        "marker": {
                          "colorbar": {
                            "outlinewidth": 0,
                            "ticks": ""
                          }
                        },
                        "type": "scattermapbox"
                      }
                    ],
                    "scatterpolar": [
                      {
                        "marker": {
                          "colorbar": {
                            "outlinewidth": 0,
                            "ticks": ""
                          }
                        },
                        "type": "scatterpolar"
                      }
                    ],
                    "scatterpolargl": [
                      {
                        "marker": {
                          "colorbar": {
                            "outlinewidth": 0,
                            "ticks": ""
                          }
                        },
                        "type": "scatterpolargl"
                      }
                    ],
                    "scatterternary": [
                      {
                        "marker": {
                          "colorbar": {
                            "outlinewidth": 0,
                            "ticks": ""
                          }
                        },
                        "type": "scatterternary"
                      }
                    ],
                    "surface": [
                      {
                        "colorbar": {
                          "outlinewidth": 0,
                          "ticks": ""
                        },
                        "colorscale": [
                          [
                            0,
                            "#0d0887"
                          ],
                          [
                            0.1111111111111111,
                            "#46039f"
                          ],
                          [
                            0.2222222222222222,
                            "#7201a8"
                          ],
                          [
                            0.3333333333333333,
                            "#9c179e"
                          ],
                          [
                            0.4444444444444444,
                            "#bd3786"
                          ],
                          [
                            0.5555555555555556,
                            "#d8576b"
                          ],
                          [
                            0.6666666666666666,
                            "#ed7953"
                          ],
                          [
                            0.7777777777777778,
                            "#fb9f3a"
                          ],
                          [
                            0.8888888888888888,
                            "#fdca26"
                          ],
                          [
                            1,
                            "#f0f921"
                          ]
                        ],
                        "type": "surface"
                      }
                    ],
                    "table": [
                      {
                        "cells": {
                          "fill": {
                            "color": "#EBF0F8"
                          },
                          "line": {
                            "color": "white"
                          }
                        },
                        "header": {
                          "fill": {
                            "color": "#C8D4E3"
                          },
                          "line": {
                            "color": "white"
                          }
                        },
                        "type": "table"
                      }
                    ]
                  },
                  "layout": {
                    "annotationdefaults": {
                      "arrowcolor": "#2a3f5f",
                      "arrowhead": 0,
                      "arrowwidth": 1
                    },
                    "autotypenumbers": "strict",
                    "coloraxis": {
                      "colorbar": {
                        "outlinewidth": 0,
                        "ticks": ""
                      }
                    },
                    "colorscale": {
                      "diverging": [
                        [
                          0,
                          "#8e0152"
                        ],
                        [
                          0.1,
                          "#c51b7d"
                        ],
                        [
                          0.2,
                          "#de77ae"
                        ],
                        [
                          0.3,
                          "#f1b6da"
                        ],
                        [
                          0.4,
                          "#fde0ef"
                        ],
                        [
                          0.5,
                          "#f7f7f7"
                        ],
                        [
                          0.6,
                          "#e6f5d0"
                        ],
                        [
                          0.7,
                          "#b8e186"
                        ],
                        [
                          0.8,
                          "#7fbc41"
                        ],
                        [
                          0.9,
                          "#4d9221"
                        ],
                        [
                          1,
                          "#276419"
                        ]
                      ],
                      "sequential": [
                        [
                          0,
                          "#0d0887"
                        ],
                        [
                          0.1111111111111111,
                          "#46039f"
                        ],
                        [
                          0.2222222222222222,
                          "#7201a8"
                        ],
                        [
                          0.3333333333333333,
                          "#9c179e"
                        ],
                        [
                          0.4444444444444444,
                          "#bd3786"
                        ],
                        [
                          0.5555555555555556,
                          "#d8576b"
                        ],
                        [
                          0.6666666666666666,
                          "#ed7953"
                        ],
                        [
                          0.7777777777777778,
                          "#fb9f3a"
                        ],
                        [
                          0.8888888888888888,
                          "#fdca26"
                        ],
                        [
                          1,
                          "#f0f921"
                        ]
                      ],
                      "sequentialminus": [
                        [
                          0,
                          "#0d0887"
                        ],
                        [
                          0.1111111111111111,
                          "#46039f"
                        ],
                        [
                          0.2222222222222222,
                          "#7201a8"
                        ],
                        [
                          0.3333333333333333,
                          "#9c179e"
                        ],
                        [
                          0.4444444444444444,
                          "#bd3786"
                        ],
                        [
                          0.5555555555555556,
                          "#d8576b"
                        ],
                        [
                          0.6666666666666666,
                          "#ed7953"
                        ],
                        [
                          0.7777777777777778,
                          "#fb9f3a"
                        ],
                        [
                          0.8888888888888888,
                          "#fdca26"
                        ],
                        [
                          1,
                          "#f0f921"
                        ]
                      ]
                    },
                    "colorway": [
                      "#636efa",
                      "#EF553B",
                      "#00cc96",
                      "#ab63fa",
                      "#FFA15A",
                      "#19d3f3",
                      "#FF6692",
                      "#B6E880",
                      "#FF97FF",
                      "#FECB52"
                    ],
                    "font": {
                      "color": "#2a3f5f"
                    },
                    "geo": {
                      "bgcolor": "white",
                      "lakecolor": "white",
                      "landcolor": "#E5ECF6",
                      "showlakes": true,
                      "showland": true,
                      "subunitcolor": "white"
                    },
                    "hoverlabel": {
                      "align": "left"
                    },
                    "hovermode": "closest",
                    "mapbox": {
                      "style": "light"
                    },
                    "paper_bgcolor": "white",
                    "plot_bgcolor": "#E5ECF6",
                    "polar": {
                      "angularaxis": {
                        "gridcolor": "white",
                        "linecolor": "white",
                        "ticks": ""
                      },
                      "bgcolor": "#E5ECF6",
                      "radialaxis": {
                        "gridcolor": "white",
                        "linecolor": "white",
                        "ticks": ""
                      }
                    },
                    "scene": {
                      "xaxis": {
                        "backgroundcolor": "#E5ECF6",
                        "gridcolor": "white",
                        "gridwidth": 2,
                        "linecolor": "white",
                        "showbackground": true,
                        "ticks": "",
                        "zerolinecolor": "white"
                      },
                      "yaxis": {
                        "backgroundcolor": "#E5ECF6",
                        "gridcolor": "white",
                        "gridwidth": 2,
                        "linecolor": "white",
                        "showbackground": true,
                        "ticks": "",
                        "zerolinecolor": "white"
                      },
                      "zaxis": {
                        "backgroundcolor": "#E5ECF6",
                        "gridcolor": "white",
                        "gridwidth": 2,
                        "linecolor": "white",
                        "showbackground": true,
                        "ticks": "",
                        "zerolinecolor": "white"
                      }
                    },
                    "shapedefaults": {
                      "line": {
                        "color": "#2a3f5f"
                      }
                    },
                    "ternary": {
                      "aaxis": {
                        "gridcolor": "white",
                        "linecolor": "white",
                        "ticks": ""
                      },
                      "baxis": {
                        "gridcolor": "white",
                        "linecolor": "white",
                        "ticks": ""
                      },
                      "bgcolor": "#E5ECF6",
                      "caxis": {
                        "gridcolor": "white",
                        "linecolor": "white",
                        "ticks": ""
                      }
                    },
                    "title": {
                      "x": 0.05
                    },
                    "xaxis": {
                      "automargin": true,
                      "gridcolor": "white",
                      "linecolor": "white",
                      "ticks": "",
                      "title": {
                        "standoff": 15
                      },
                      "zerolinecolor": "white",
                      "zerolinewidth": 2
                    },
                    "yaxis": {
                      "automargin": true,
                      "gridcolor": "white",
                      "linecolor": "white",
                      "ticks": "",
                      "title": {
                        "standoff": 15
                      },
                      "zerolinecolor": "white",
                      "zerolinewidth": 2
                    }
                  }
                },
                "title": {
                  "text": "Average calories by hour"
                },
                "xaxis": {
                  "anchor": "y",
                  "domain": [
                    0,
                    1
                  ],
                  "title": {
                    "text": "Hours"
                  }
                },
                "yaxis": {
                  "anchor": "x",
                  "domain": [
                    0,
                    1
                  ],
                  "side": "left",
                  "title": {
                    "text": "Average calories"
                  }
                }
              }
            }
          },
          "metadata": {},
          "output_type": "display_data"
        }
      ],
      "source": [
        "# Bar chart: Average time by type of activity\n",
        "\n",
        "hourlyCalories = pd.read_csv(\"Data_Coursera_CaseStudy02/hourlyCalories_merged.csv\", index_col=[0])\n",
        "hourlyCalories['ActivityHour'] = pd.to_datetime(hourlyCalories['ActivityHour'])\n",
        "\n",
        "hourlyCalories['Day'] = hourlyCalories['ActivityHour'].dt.date\n",
        "hourlyCalories['Time'] =  hourlyCalories['ActivityHour'].dt.time\n",
        "\n",
        "\n",
        "caloriesAVG_By_hour = []\n",
        "\n",
        "for hour in (hourlyCalories['Time'].unique()): \n",
        "  caloriesAVG_By_hour.append(np.average(hourlyCalories[hourlyCalories['Time']==hour]['Calories']))\n",
        "\n",
        "\n",
        "\n",
        "# df['datetime'] = pd.to_datetime(df['datetime'])\n",
        "\n",
        "data = {'hours': hourlyCalories['Time'].unique(),\n",
        "        'Average calories': caloriesAVG_By_hour}\n",
        "\n",
        "fig = px.bar(data, x='hours', y='Average calories', title = 'Average calories by hour')\n",
        "\n",
        "fig.update_layout(xaxis=dict(\n",
        "                    title = 'Hours',\n",
        "                    ), \n",
        "                  yaxis=dict(\n",
        "                    title='Average calories',\n",
        "                    side='left'                 \n",
        "                    )\n",
        ")\n",
        "\n",
        "fig.show()"
      ]
    },
    {
      "cell_type": "markdown",
      "metadata": {
        "id": "rY5W8nrq4DjW"
      },
      "source": [
        "Also, we can do the same analysis as the previous. The most calories are burned in the work hours."
      ]
    },
    {
      "cell_type": "markdown",
      "metadata": {
        "id": "fFOo6oJYoFnG"
      },
      "source": [
        "### Time Sleep vs Daily Steps"
      ]
    },
    {
      "cell_type": "code",
      "execution_count": null,
      "metadata": {
        "id": "G4JejtFZ17II"
      },
      "outputs": [],
      "source": [
        "dailySteps = pd.read_csv(\"Data_Coursera_CaseStudy02/dailySteps_merged.csv\", index_col=[0])\n",
        "sleepDay = pd.read_csv(\"Data_Coursera_CaseStudy02/sleepDay_merged.csv\", index_col=[0])\n",
        "\n",
        "# Remove the time data from sleepDay Dataframe\n",
        "sleepDay['SleepDay'] = sleepDay['SleepDay'].str.replace(' 12:00:00 AM','')\n",
        "\n",
        "# Renaming the columns\n",
        "sleepDay.rename(columns={'SleepDay': 'Day'}, inplace=True)\n",
        "dailySteps.rename(columns={'ActivityDay': 'Day'}, inplace=True)\n",
        "\n",
        "\n",
        "\n",
        "\n"
      ]
    },
    {
      "cell_type": "code",
      "execution_count": null,
      "metadata": {
        "id": "eye-9x3227pH"
      },
      "outputs": [],
      "source": [
        "# New dataframe \n",
        "df_analysis_sleep_steps = pd.merge(dailySteps, sleepDay, on = ['Id', 'Day'])\n",
        "# df_analysis_sleep_steps"
      ]
    },
    {
      "cell_type": "code",
      "execution_count": null,
      "metadata": {
        "colab": {
          "base_uri": "https://localhost:8080/",
          "height": 542
        },
        "id": "bEXnsZ5bMN8L",
        "outputId": "9332e483-6674-4e66-b1cb-7648ba365b4b"
      },
      "outputs": [
        {
          "data": {
            "application/vnd.plotly.v1+json": {
              "config": {
                "plotlyServerURL": "https://plot.ly"
              },
              "data": [
                {
                  "hovertemplate": "x=%{x}<br>y=%{y}<extra></extra>",
                  "legendgroup": "",
                  "marker": {
                    "color": "#636efa",
                    "symbol": "circle"
                  },
                  "mode": "markers",
                  "name": "",
                  "orientation": "v",
                  "showlegend": false,
                  "type": "scatter",
                  "x": [
                    327,
                    384,
                    412,
                    340,
                    700,
                    304,
                    360,
                    325,
                    361,
                    430,
                    277,
                    245,
                    366,
                    341,
                    404,
                    369,
                    277,
                    273,
                    247,
                    334,
                    331,
                    594,
                    338,
                    383,
                    285,
                    119,
                    124,
                    796,
                    137,
                    644,
                    722,
                    590,
                    750,
                    398,
                    475,
                    296,
                    166,
                    503,
                    531,
                    545,
                    523,
                    524,
                    437,
                    498,
                    461,
                    477,
                    520,
                    522,
                    555,
                    506,
                    508,
                    513,
                    490,
                    573,
                    527,
                    511,
                    538,
                    468,
                    524,
                    511,
                    541,
                    531,
                    357,
                    523,
                    456,
                    61,
                    467,
                    445,
                    452,
                    556,
                    500,
                    465,
                    460,
                    405,
                    374,
                    442,
                    433,
                    436,
                    448,
                    408,
                    411,
                    274,
                    295,
                    291,
                    424,
                    283,
                    381,
                    412,
                    219,
                    152,
                    332,
                    355,
                    235,
                    310,
                    262,
                    250,
                    349,
                    261,
                    333,
                    237,
                    383,
                    230,
                    292,
                    213,
                    318,
                    323,
                    237,
                    259,
                    312,
                    501,
                    77,
                    322,
                    478,
                    226,
                    385,
                    364,
                    442,
                    535,
                    465,
                    506,
                    515,
                    461,
                    523,
                    59,
                    533,
                    692,
                    467,
                    488,
                    505,
                    286,
                    497,
                    523,
                    490,
                    484,
                    478,
                    474,
                    450,
                    507,
                    602,
                    535,
                    487,
                    529,
                    302,
                    499,
                    426,
                    619,
                    99,
                    329,
                    421,
                    442,
                    82,
                    478,
                    552,
                    319,
                    439,
                    428,
                    409,
                    547,
                    368,
                    390,
                    471,
                    472,
                    529,
                    62,
                    354,
                    469,
                    429,
                    370,
                    441,
                    337,
                    462,
                    98,
                    388,
                    439,
                    436,
                    388,
                    328,
                    353,
                    332,
                    419,
                    106,
                    322,
                    439,
                    502,
                    417,
                    337,
                    462,
                    374,
                    401,
                    361,
                    457,
                    405,
                    499,
                    483,
                    126,
                    103,
                    171,
                    115,
                    123,
                    425,
                    400,
                    384,
                    253,
                    382,
                    591,
                    293,
                    457,
                    454,
                    425,
                    465,
                    480,
                    370,
                    421,
                    432,
                    442,
                    433,
                    479,
                    327,
                    412,
                    414,
                    404,
                    520,
                    435,
                    416,
                    354,
                    404,
                    441,
                    455,
                    357,
                    377,
                    651,
                    350,
                    520,
                    357,
                    658,
                    399,
                    322,
                    631,
                    553,
                    433,
                    412,
                    347,
                    421,
                    450,
                    775,
                    622,
                    409,
                    380,
                    447,
                    419,
                    400,
                    442,
                    568,
                    453,
                    418,
                    463,
                    438,
                    419,
                    432,
                    477,
                    392,
                    406,
                    549,
                    527,
                    449,
                    447,
                    414,
                    338,
                    384,
                    543,
                    421,
                    354,
                    424,
                    361,
                    459,
                    412,
                    379,
                    525,
                    508,
                    603,
                    74,
                    504,
                    431,
                    380,
                    336,
                    493,
                    465,
                    474,
                    508,
                    480,
                    492,
                    353,
                    542,
                    393,
                    600,
                    507,
                    392,
                    658,
                    498,
                    555,
                    492,
                    235,
                    423,
                    391,
                    366,
                    630,
                    508,
                    370,
                    357,
                    427,
                    442,
                    476,
                    418,
                    451,
                    425,
                    528,
                    511,
                    400,
                    441,
                    455,
                    440,
                    433,
                    422,
                    411,
                    466,
                    394,
                    442,
                    467,
                    443,
                    298,
                    541,
                    489,
                    469,
                    452,
                    516,
                    79,
                    58,
                    514,
                    451,
                    472,
                    377,
                    472,
                    492,
                    390,
                    428,
                    681,
                    446,
                    485,
                    469,
                    354,
                    485,
                    388,
                    440,
                    456,
                    420,
                    322,
                    530,
                    481,
                    427,
                    451,
                    444,
                    486,
                    331,
                    74,
                    338,
                    447,
                    424,
                    513,
                    611,
                    525,
                    398,
                    387,
                    381,
                    396,
                    441,
                    565,
                    458,
                    388,
                    550,
                    531,
                    506,
                    527,
                    468,
                    475,
                    351,
                    405,
                    441,
                    381,
                    323,
                    459,
                    545,
                    359,
                    342,
                    368,
                    496,
                    458,
                    531,
                    486,
                    363,
                    528,
                    391,
                    339,
                    423,
                    402,
                    398,
                    343,
                    503,
                    415,
                    516,
                    439
                  ],
                  "xaxis": "x",
                  "y": [
                    13162,
                    10735,
                    9762,
                    12669,
                    9705,
                    15506,
                    10544,
                    9819,
                    14371,
                    10039,
                    15355,
                    13755,
                    13154,
                    11181,
                    14673,
                    10602,
                    14727,
                    15103,
                    14070,
                    12159,
                    11992,
                    10060,
                    12022,
                    12207,
                    12770,
                    3176,
                    18213,
                    3758,
                    6724,
                    3844,
                    4014,
                    2573,
                    678,
                    356,
                    980,
                    3761,
                    1675,
                    4414,
                    4993,
                    3335,
                    3821,
                    2547,
                    838,
                    2424,
                    7222,
                    2467,
                    2915,
                    12357,
                    3490,
                    6017,
                    6088,
                    6375,
                    7604,
                    4729,
                    3609,
                    7018,
                    6564,
                    12167,
                    8198,
                    4193,
                    5528,
                    10685,
                    254,
                    8580,
                    8891,
                    5079,
                    10352,
                    10129,
                    10465,
                    5472,
                    8247,
                    6711,
                    10080,
                    7804,
                    16901,
                    9471,
                    9482,
                    5980,
                    11423,
                    5439,
                    42,
                    8856,
                    10035,
                    7641,
                    9010,
                    13459,
                    10415,
                    11663,
                    12414,
                    11658,
                    6093,
                    8911,
                    12058,
                    14112,
                    11177,
                    11388,
                    7193,
                    7114,
                    10645,
                    13238,
                    10414,
                    16520,
                    14335,
                    13559,
                    12312,
                    11677,
                    11550,
                    13585,
                    13072,
                    8539,
                    1982,
                    4496,
                    10252,
                    11728,
                    4369,
                    5862,
                    5546,
                    10210,
                    5664,
                    4744,
                    2276,
                    8925,
                    8954,
                    3702,
                    4500,
                    4935,
                    4081,
                    9259,
                    9899,
                    10780,
                    10817,
                    7990,
                    8221,
                    1251,
                    9261,
                    9648,
                    9524,
                    7937,
                    3672,
                    10378,
                    9487,
                    9129,
                    17,
                    8758,
                    6580,
                    4660,
                    11009,
                    10181,
                    10553,
                    10055,
                    12139,
                    13236,
                    10243,
                    9461,
                    11193,
                    10074,
                    12533,
                    10255,
                    10096,
                    12375,
                    9603,
                    22770,
                    17298,
                    10218,
                    10299,
                    10201,
                    3276,
                    2961,
                    3974,
                    7198,
                    3945,
                    2268,
                    2064,
                    2072,
                    3809,
                    6831,
                    3385,
                    6326,
                    7243,
                    4493,
                    4676,
                    6222,
                    5232,
                    6910,
                    7502,
                    2923,
                    3800,
                    4514,
                    5183,
                    7303,
                    5275,
                    3915,
                    9105,
                    768,
                    13743,
                    9148,
                    7833,
                    3428,
                    6543,
                    7213,
                    6877,
                    7860,
                    6506,
                    11140,
                    12692,
                    9105,
                    6708,
                    8793,
                    6530,
                    15126,
                    15050,
                    9167,
                    6108,
                    7047,
                    9023,
                    9930,
                    10144,
                    9454,
                    8161,
                    8614,
                    6943,
                    14370,
                    8232,
                    10613,
                    9810,
                    2752,
                    11596,
                    4832,
                    17022,
                    16556,
                    5771,
                    655,
                    3727,
                    15482,
                    2713,
                    12346,
                    11682,
                    4112,
                    1807,
                    10946,
                    11886,
                    10538,
                    11393,
                    12764,
                    1202,
                    5164,
                    9769,
                    12848,
                    4249,
                    14331,
                    9632,
                    1868,
                    6083,
                    11611,
                    16358,
                    4926,
                    3121,
                    8135,
                    5077,
                    8596,
                    12087,
                    14269,
                    12231,
                    9893,
                    12574,
                    8330,
                    10830,
                    9172,
                    7638,
                    15764,
                    6393,
                    5325,
                    6805,
                    9841,
                    7924,
                    12363,
                    13368,
                    7439,
                    11045,
                    5206,
                    7550,
                    8869,
                    4038,
                    14450,
                    7150,
                    5153,
                    11135,
                    10449,
                    19542,
                    8206,
                    11495,
                    7623,
                    9411,
                    3403,
                    9592,
                    8915,
                    9799,
                    3365,
                    7336,
                    7328,
                    4477,
                    4053,
                    5162,
                    1282,
                    10199,
                    5652,
                    1551,
                    5563,
                    13217,
                    10145,
                    11404,
                    10742,
                    13928,
                    11835,
                    10725,
                    20031,
                    5029,
                    13239,
                    10433,
                    10320,
                    12627,
                    10762,
                    10081,
                    5454,
                    12912,
                    12109,
                    10147,
                    10524,
                    5908,
                    6815,
                    4188,
                    12342,
                    15448,
                    6722,
                    3587,
                    4631,
                    5600,
                    11317,
                    5813,
                    9123,
                    8585,
                    10688,
                    14365,
                    9469,
                    9753,
                    3520,
                    10091,
                    10387,
                    11107,
                    11584,
                    14560,
                    12390,
                    10052,
                    10288,
                    10988,
                    12461,
                    12827,
                    10677,
                    13566,
                    9572,
                    3789,
                    15108,
                    22359,
                    19769,
                    7626,
                    12386,
                    13318,
                    14461,
                    11207,
                    2132,
                    13630,
                    13070,
                    9388,
                    15148,
                    12200,
                    5709,
                    3703,
                    12405,
                    16208,
                    7359,
                    5417,
                    6175,
                    2946,
                    11419,
                    6064,
                    8712,
                    7875,
                    8567,
                    7045,
                    4468,
                    2943,
                    8382,
                    6582,
                    9143,
                    4561,
                    2564,
                    1320,
                    1219,
                    2483,
                    3147,
                    4068,
                    5245,
                    1758,
                    6157,
                    8360,
                    7174,
                    1619,
                    1831,
                    2421,
                    2283
                  ],
                  "yaxis": "y"
                }
              ],
              "layout": {
                "legend": {
                  "orientation": "h",
                  "title": {
                    "text": ""
                  },
                  "tracegroupgap": 0,
                  "x": 1,
                  "xanchor": "right",
                  "y": 1.02,
                  "yanchor": "bottom"
                },
                "template": {
                  "data": {
                    "bar": [
                      {
                        "error_x": {
                          "color": "#2a3f5f"
                        },
                        "error_y": {
                          "color": "#2a3f5f"
                        },
                        "marker": {
                          "line": {
                            "color": "#E5ECF6",
                            "width": 0.5
                          },
                          "pattern": {
                            "fillmode": "overlay",
                            "size": 10,
                            "solidity": 0.2
                          }
                        },
                        "type": "bar"
                      }
                    ],
                    "barpolar": [
                      {
                        "marker": {
                          "line": {
                            "color": "#E5ECF6",
                            "width": 0.5
                          },
                          "pattern": {
                            "fillmode": "overlay",
                            "size": 10,
                            "solidity": 0.2
                          }
                        },
                        "type": "barpolar"
                      }
                    ],
                    "carpet": [
                      {
                        "aaxis": {
                          "endlinecolor": "#2a3f5f",
                          "gridcolor": "white",
                          "linecolor": "white",
                          "minorgridcolor": "white",
                          "startlinecolor": "#2a3f5f"
                        },
                        "baxis": {
                          "endlinecolor": "#2a3f5f",
                          "gridcolor": "white",
                          "linecolor": "white",
                          "minorgridcolor": "white",
                          "startlinecolor": "#2a3f5f"
                        },
                        "type": "carpet"
                      }
                    ],
                    "choropleth": [
                      {
                        "colorbar": {
                          "outlinewidth": 0,
                          "ticks": ""
                        },
                        "type": "choropleth"
                      }
                    ],
                    "contour": [
                      {
                        "colorbar": {
                          "outlinewidth": 0,
                          "ticks": ""
                        },
                        "colorscale": [
                          [
                            0,
                            "#0d0887"
                          ],
                          [
                            0.1111111111111111,
                            "#46039f"
                          ],
                          [
                            0.2222222222222222,
                            "#7201a8"
                          ],
                          [
                            0.3333333333333333,
                            "#9c179e"
                          ],
                          [
                            0.4444444444444444,
                            "#bd3786"
                          ],
                          [
                            0.5555555555555556,
                            "#d8576b"
                          ],
                          [
                            0.6666666666666666,
                            "#ed7953"
                          ],
                          [
                            0.7777777777777778,
                            "#fb9f3a"
                          ],
                          [
                            0.8888888888888888,
                            "#fdca26"
                          ],
                          [
                            1,
                            "#f0f921"
                          ]
                        ],
                        "type": "contour"
                      }
                    ],
                    "contourcarpet": [
                      {
                        "colorbar": {
                          "outlinewidth": 0,
                          "ticks": ""
                        },
                        "type": "contourcarpet"
                      }
                    ],
                    "heatmap": [
                      {
                        "colorbar": {
                          "outlinewidth": 0,
                          "ticks": ""
                        },
                        "colorscale": [
                          [
                            0,
                            "#0d0887"
                          ],
                          [
                            0.1111111111111111,
                            "#46039f"
                          ],
                          [
                            0.2222222222222222,
                            "#7201a8"
                          ],
                          [
                            0.3333333333333333,
                            "#9c179e"
                          ],
                          [
                            0.4444444444444444,
                            "#bd3786"
                          ],
                          [
                            0.5555555555555556,
                            "#d8576b"
                          ],
                          [
                            0.6666666666666666,
                            "#ed7953"
                          ],
                          [
                            0.7777777777777778,
                            "#fb9f3a"
                          ],
                          [
                            0.8888888888888888,
                            "#fdca26"
                          ],
                          [
                            1,
                            "#f0f921"
                          ]
                        ],
                        "type": "heatmap"
                      }
                    ],
                    "heatmapgl": [
                      {
                        "colorbar": {
                          "outlinewidth": 0,
                          "ticks": ""
                        },
                        "colorscale": [
                          [
                            0,
                            "#0d0887"
                          ],
                          [
                            0.1111111111111111,
                            "#46039f"
                          ],
                          [
                            0.2222222222222222,
                            "#7201a8"
                          ],
                          [
                            0.3333333333333333,
                            "#9c179e"
                          ],
                          [
                            0.4444444444444444,
                            "#bd3786"
                          ],
                          [
                            0.5555555555555556,
                            "#d8576b"
                          ],
                          [
                            0.6666666666666666,
                            "#ed7953"
                          ],
                          [
                            0.7777777777777778,
                            "#fb9f3a"
                          ],
                          [
                            0.8888888888888888,
                            "#fdca26"
                          ],
                          [
                            1,
                            "#f0f921"
                          ]
                        ],
                        "type": "heatmapgl"
                      }
                    ],
                    "histogram": [
                      {
                        "marker": {
                          "pattern": {
                            "fillmode": "overlay",
                            "size": 10,
                            "solidity": 0.2
                          }
                        },
                        "type": "histogram"
                      }
                    ],
                    "histogram2d": [
                      {
                        "colorbar": {
                          "outlinewidth": 0,
                          "ticks": ""
                        },
                        "colorscale": [
                          [
                            0,
                            "#0d0887"
                          ],
                          [
                            0.1111111111111111,
                            "#46039f"
                          ],
                          [
                            0.2222222222222222,
                            "#7201a8"
                          ],
                          [
                            0.3333333333333333,
                            "#9c179e"
                          ],
                          [
                            0.4444444444444444,
                            "#bd3786"
                          ],
                          [
                            0.5555555555555556,
                            "#d8576b"
                          ],
                          [
                            0.6666666666666666,
                            "#ed7953"
                          ],
                          [
                            0.7777777777777778,
                            "#fb9f3a"
                          ],
                          [
                            0.8888888888888888,
                            "#fdca26"
                          ],
                          [
                            1,
                            "#f0f921"
                          ]
                        ],
                        "type": "histogram2d"
                      }
                    ],
                    "histogram2dcontour": [
                      {
                        "colorbar": {
                          "outlinewidth": 0,
                          "ticks": ""
                        },
                        "colorscale": [
                          [
                            0,
                            "#0d0887"
                          ],
                          [
                            0.1111111111111111,
                            "#46039f"
                          ],
                          [
                            0.2222222222222222,
                            "#7201a8"
                          ],
                          [
                            0.3333333333333333,
                            "#9c179e"
                          ],
                          [
                            0.4444444444444444,
                            "#bd3786"
                          ],
                          [
                            0.5555555555555556,
                            "#d8576b"
                          ],
                          [
                            0.6666666666666666,
                            "#ed7953"
                          ],
                          [
                            0.7777777777777778,
                            "#fb9f3a"
                          ],
                          [
                            0.8888888888888888,
                            "#fdca26"
                          ],
                          [
                            1,
                            "#f0f921"
                          ]
                        ],
                        "type": "histogram2dcontour"
                      }
                    ],
                    "mesh3d": [
                      {
                        "colorbar": {
                          "outlinewidth": 0,
                          "ticks": ""
                        },
                        "type": "mesh3d"
                      }
                    ],
                    "parcoords": [
                      {
                        "line": {
                          "colorbar": {
                            "outlinewidth": 0,
                            "ticks": ""
                          }
                        },
                        "type": "parcoords"
                      }
                    ],
                    "pie": [
                      {
                        "automargin": true,
                        "type": "pie"
                      }
                    ],
                    "scatter": [
                      {
                        "marker": {
                          "colorbar": {
                            "outlinewidth": 0,
                            "ticks": ""
                          }
                        },
                        "type": "scatter"
                      }
                    ],
                    "scatter3d": [
                      {
                        "line": {
                          "colorbar": {
                            "outlinewidth": 0,
                            "ticks": ""
                          }
                        },
                        "marker": {
                          "colorbar": {
                            "outlinewidth": 0,
                            "ticks": ""
                          }
                        },
                        "type": "scatter3d"
                      }
                    ],
                    "scattercarpet": [
                      {
                        "marker": {
                          "colorbar": {
                            "outlinewidth": 0,
                            "ticks": ""
                          }
                        },
                        "type": "scattercarpet"
                      }
                    ],
                    "scattergeo": [
                      {
                        "marker": {
                          "colorbar": {
                            "outlinewidth": 0,
                            "ticks": ""
                          }
                        },
                        "type": "scattergeo"
                      }
                    ],
                    "scattergl": [
                      {
                        "marker": {
                          "colorbar": {
                            "outlinewidth": 0,
                            "ticks": ""
                          }
                        },
                        "type": "scattergl"
                      }
                    ],
                    "scattermapbox": [
                      {
                        "marker": {
                          "colorbar": {
                            "outlinewidth": 0,
                            "ticks": ""
                          }
                        },
                        "type": "scattermapbox"
                      }
                    ],
                    "scatterpolar": [
                      {
                        "marker": {
                          "colorbar": {
                            "outlinewidth": 0,
                            "ticks": ""
                          }
                        },
                        "type": "scatterpolar"
                      }
                    ],
                    "scatterpolargl": [
                      {
                        "marker": {
                          "colorbar": {
                            "outlinewidth": 0,
                            "ticks": ""
                          }
                        },
                        "type": "scatterpolargl"
                      }
                    ],
                    "scatterternary": [
                      {
                        "marker": {
                          "colorbar": {
                            "outlinewidth": 0,
                            "ticks": ""
                          }
                        },
                        "type": "scatterternary"
                      }
                    ],
                    "surface": [
                      {
                        "colorbar": {
                          "outlinewidth": 0,
                          "ticks": ""
                        },
                        "colorscale": [
                          [
                            0,
                            "#0d0887"
                          ],
                          [
                            0.1111111111111111,
                            "#46039f"
                          ],
                          [
                            0.2222222222222222,
                            "#7201a8"
                          ],
                          [
                            0.3333333333333333,
                            "#9c179e"
                          ],
                          [
                            0.4444444444444444,
                            "#bd3786"
                          ],
                          [
                            0.5555555555555556,
                            "#d8576b"
                          ],
                          [
                            0.6666666666666666,
                            "#ed7953"
                          ],
                          [
                            0.7777777777777778,
                            "#fb9f3a"
                          ],
                          [
                            0.8888888888888888,
                            "#fdca26"
                          ],
                          [
                            1,
                            "#f0f921"
                          ]
                        ],
                        "type": "surface"
                      }
                    ],
                    "table": [
                      {
                        "cells": {
                          "fill": {
                            "color": "#EBF0F8"
                          },
                          "line": {
                            "color": "white"
                          }
                        },
                        "header": {
                          "fill": {
                            "color": "#C8D4E3"
                          },
                          "line": {
                            "color": "white"
                          }
                        },
                        "type": "table"
                      }
                    ]
                  },
                  "layout": {
                    "annotationdefaults": {
                      "arrowcolor": "#2a3f5f",
                      "arrowhead": 0,
                      "arrowwidth": 1
                    },
                    "autotypenumbers": "strict",
                    "coloraxis": {
                      "colorbar": {
                        "outlinewidth": 0,
                        "ticks": ""
                      }
                    },
                    "colorscale": {
                      "diverging": [
                        [
                          0,
                          "#8e0152"
                        ],
                        [
                          0.1,
                          "#c51b7d"
                        ],
                        [
                          0.2,
                          "#de77ae"
                        ],
                        [
                          0.3,
                          "#f1b6da"
                        ],
                        [
                          0.4,
                          "#fde0ef"
                        ],
                        [
                          0.5,
                          "#f7f7f7"
                        ],
                        [
                          0.6,
                          "#e6f5d0"
                        ],
                        [
                          0.7,
                          "#b8e186"
                        ],
                        [
                          0.8,
                          "#7fbc41"
                        ],
                        [
                          0.9,
                          "#4d9221"
                        ],
                        [
                          1,
                          "#276419"
                        ]
                      ],
                      "sequential": [
                        [
                          0,
                          "#0d0887"
                        ],
                        [
                          0.1111111111111111,
                          "#46039f"
                        ],
                        [
                          0.2222222222222222,
                          "#7201a8"
                        ],
                        [
                          0.3333333333333333,
                          "#9c179e"
                        ],
                        [
                          0.4444444444444444,
                          "#bd3786"
                        ],
                        [
                          0.5555555555555556,
                          "#d8576b"
                        ],
                        [
                          0.6666666666666666,
                          "#ed7953"
                        ],
                        [
                          0.7777777777777778,
                          "#fb9f3a"
                        ],
                        [
                          0.8888888888888888,
                          "#fdca26"
                        ],
                        [
                          1,
                          "#f0f921"
                        ]
                      ],
                      "sequentialminus": [
                        [
                          0,
                          "#0d0887"
                        ],
                        [
                          0.1111111111111111,
                          "#46039f"
                        ],
                        [
                          0.2222222222222222,
                          "#7201a8"
                        ],
                        [
                          0.3333333333333333,
                          "#9c179e"
                        ],
                        [
                          0.4444444444444444,
                          "#bd3786"
                        ],
                        [
                          0.5555555555555556,
                          "#d8576b"
                        ],
                        [
                          0.6666666666666666,
                          "#ed7953"
                        ],
                        [
                          0.7777777777777778,
                          "#fb9f3a"
                        ],
                        [
                          0.8888888888888888,
                          "#fdca26"
                        ],
                        [
                          1,
                          "#f0f921"
                        ]
                      ]
                    },
                    "colorway": [
                      "#636efa",
                      "#EF553B",
                      "#00cc96",
                      "#ab63fa",
                      "#FFA15A",
                      "#19d3f3",
                      "#FF6692",
                      "#B6E880",
                      "#FF97FF",
                      "#FECB52"
                    ],
                    "font": {
                      "color": "#2a3f5f"
                    },
                    "geo": {
                      "bgcolor": "white",
                      "lakecolor": "white",
                      "landcolor": "#E5ECF6",
                      "showlakes": true,
                      "showland": true,
                      "subunitcolor": "white"
                    },
                    "hoverlabel": {
                      "align": "left"
                    },
                    "hovermode": "closest",
                    "mapbox": {
                      "style": "light"
                    },
                    "paper_bgcolor": "white",
                    "plot_bgcolor": "#E5ECF6",
                    "polar": {
                      "angularaxis": {
                        "gridcolor": "white",
                        "linecolor": "white",
                        "ticks": ""
                      },
                      "bgcolor": "#E5ECF6",
                      "radialaxis": {
                        "gridcolor": "white",
                        "linecolor": "white",
                        "ticks": ""
                      }
                    },
                    "scene": {
                      "xaxis": {
                        "backgroundcolor": "#E5ECF6",
                        "gridcolor": "white",
                        "gridwidth": 2,
                        "linecolor": "white",
                        "showbackground": true,
                        "ticks": "",
                        "zerolinecolor": "white"
                      },
                      "yaxis": {
                        "backgroundcolor": "#E5ECF6",
                        "gridcolor": "white",
                        "gridwidth": 2,
                        "linecolor": "white",
                        "showbackground": true,
                        "ticks": "",
                        "zerolinecolor": "white"
                      },
                      "zaxis": {
                        "backgroundcolor": "#E5ECF6",
                        "gridcolor": "white",
                        "gridwidth": 2,
                        "linecolor": "white",
                        "showbackground": true,
                        "ticks": "",
                        "zerolinecolor": "white"
                      }
                    },
                    "shapedefaults": {
                      "line": {
                        "color": "#2a3f5f"
                      }
                    },
                    "ternary": {
                      "aaxis": {
                        "gridcolor": "white",
                        "linecolor": "white",
                        "ticks": ""
                      },
                      "baxis": {
                        "gridcolor": "white",
                        "linecolor": "white",
                        "ticks": ""
                      },
                      "bgcolor": "#E5ECF6",
                      "caxis": {
                        "gridcolor": "white",
                        "linecolor": "white",
                        "ticks": ""
                      }
                    },
                    "title": {
                      "x": 0.05
                    },
                    "xaxis": {
                      "automargin": true,
                      "gridcolor": "white",
                      "linecolor": "white",
                      "ticks": "",
                      "title": {
                        "standoff": 15
                      },
                      "zerolinecolor": "white",
                      "zerolinewidth": 2
                    },
                    "yaxis": {
                      "automargin": true,
                      "gridcolor": "white",
                      "linecolor": "white",
                      "ticks": "",
                      "title": {
                        "standoff": 15
                      },
                      "zerolinecolor": "white",
                      "zerolinewidth": 2
                    }
                  }
                },
                "title": {
                  "text": "Minutes Asleep vs Steps total"
                },
                "xaxis": {
                  "anchor": "y",
                  "domain": [
                    0,
                    1
                  ],
                  "title": {
                    "text": "Minutes Asleep"
                  }
                },
                "yaxis": {
                  "anchor": "x",
                  "domain": [
                    0,
                    1
                  ],
                  "side": "left",
                  "title": {
                    "text": "Total Steps in a day"
                  }
                }
              }
            }
          },
          "metadata": {},
          "output_type": "display_data"
        }
      ],
      "source": [
        "# Plot\n",
        "fig = px.scatter(x=df_analysis_sleep_steps['TotalMinutesAsleep'], y=df_analysis_sleep_steps['StepTotal'], title=\"Minutes Asleep vs Steps total\")\n",
        "\n",
        "fig.update_layout(legend=dict(\n",
        "                      orientation=\"h\",\n",
        "                      yanchor=\"bottom\",\n",
        "                      y=1.02,\n",
        "                      xanchor=\"right\",\n",
        "                      x=1,\n",
        "                      title=''\n",
        "                  ),xaxis=dict(\n",
        "                      title = 'Minutes Asleep',\n",
        "                      ), \n",
        "                    yaxis=dict(\n",
        "                      title='Total Steps in a day',\n",
        "                      side='left',\n",
        "))\n",
        "\n",
        "\n",
        "fig.show()"
      ]
    },
    {
      "cell_type": "markdown",
      "metadata": {
        "id": "fzA6eWhF2-tD"
      },
      "source": [
        "In this plot we can see that most of the users concentrate between ~440 minutes of sleep and ~10k steps per day.\n",
        "\n",
        "It doesn't appear to exist a relation in the two data. "
      ]
    },
    {
      "cell_type": "markdown",
      "metadata": {
        "id": "RjdzT3ID1-z7"
      },
      "source": [
        "### Sleep Time vs Time in Bed"
      ]
    },
    {
      "cell_type": "code",
      "execution_count": 32,
      "metadata": {
        "colab": {
          "base_uri": "https://localhost:8080/",
          "height": 542
        },
        "id": "T7pKTZvy1-lU",
        "outputId": "e4e8d94a-9910-4d97-bb90-ac6c78204c88"
      },
      "outputs": [
        {
          "data": {
            "application/vnd.plotly.v1+json": {
              "config": {
                "plotlyServerURL": "https://plot.ly"
              },
              "data": [
                {
                  "hovertemplate": "x=%{x}<br>y=%{y}<extra></extra>",
                  "legendgroup": "",
                  "marker": {
                    "color": "#636efa",
                    "symbol": "circle"
                  },
                  "mode": "markers",
                  "name": "",
                  "orientation": "v",
                  "showlegend": false,
                  "type": "scatter",
                  "x": [
                    327,
                    384,
                    412,
                    340,
                    700,
                    304,
                    360,
                    325,
                    361,
                    430,
                    277,
                    245,
                    366,
                    341,
                    404,
                    369,
                    277,
                    273,
                    247,
                    334,
                    331,
                    594,
                    338,
                    383,
                    285,
                    119,
                    124,
                    796,
                    137,
                    644,
                    722,
                    590,
                    750,
                    398,
                    475,
                    296,
                    166,
                    503,
                    531,
                    545,
                    523,
                    524,
                    437,
                    498,
                    461,
                    477,
                    520,
                    522,
                    555,
                    506,
                    508,
                    513,
                    490,
                    573,
                    527,
                    511,
                    538,
                    468,
                    524,
                    511,
                    541,
                    531,
                    357,
                    523,
                    456,
                    61,
                    467,
                    445,
                    452,
                    556,
                    500,
                    465,
                    460,
                    405,
                    374,
                    442,
                    433,
                    436,
                    448,
                    408,
                    411,
                    274,
                    295,
                    291,
                    424,
                    283,
                    381,
                    412,
                    219,
                    152,
                    332,
                    355,
                    235,
                    310,
                    262,
                    250,
                    349,
                    261,
                    333,
                    237,
                    383,
                    230,
                    292,
                    213,
                    318,
                    323,
                    237,
                    259,
                    312,
                    501,
                    77,
                    322,
                    478,
                    226,
                    385,
                    364,
                    442,
                    535,
                    465,
                    506,
                    515,
                    461,
                    523,
                    59,
                    533,
                    692,
                    467,
                    488,
                    505,
                    286,
                    497,
                    523,
                    490,
                    484,
                    478,
                    474,
                    450,
                    507,
                    602,
                    535,
                    487,
                    529,
                    302,
                    499,
                    426,
                    619,
                    99,
                    329,
                    421,
                    442,
                    82,
                    478,
                    552,
                    319,
                    439,
                    428,
                    409,
                    547,
                    368,
                    390,
                    471,
                    472,
                    529,
                    62,
                    354,
                    469,
                    429,
                    370,
                    441,
                    337,
                    462,
                    98,
                    388,
                    439,
                    436,
                    388,
                    328,
                    353,
                    332,
                    419,
                    106,
                    322,
                    439,
                    502,
                    417,
                    337,
                    462,
                    374,
                    401,
                    361,
                    457,
                    405,
                    499,
                    483,
                    126,
                    103,
                    171,
                    115,
                    123,
                    425,
                    400,
                    384,
                    253,
                    382,
                    591,
                    293,
                    457,
                    454,
                    425,
                    465,
                    480,
                    370,
                    421,
                    432,
                    442,
                    433,
                    479,
                    327,
                    412,
                    414,
                    404,
                    520,
                    435,
                    416,
                    354,
                    404,
                    441,
                    455,
                    357,
                    377,
                    651,
                    350,
                    520,
                    357,
                    658,
                    399,
                    322,
                    631,
                    553,
                    433,
                    412,
                    347,
                    421,
                    450,
                    775,
                    622,
                    409,
                    380,
                    447,
                    419,
                    400,
                    442,
                    568,
                    453,
                    418,
                    463,
                    438,
                    419,
                    432,
                    477,
                    392,
                    406,
                    549,
                    527,
                    449,
                    447,
                    414,
                    338,
                    384,
                    543,
                    421,
                    354,
                    424,
                    361,
                    459,
                    412,
                    379,
                    525,
                    508,
                    603,
                    74,
                    504,
                    431,
                    380,
                    336,
                    493,
                    465,
                    474,
                    508,
                    480,
                    492,
                    353,
                    542,
                    393,
                    600,
                    507,
                    392,
                    658,
                    498,
                    555,
                    492,
                    235,
                    423,
                    391,
                    366,
                    630,
                    508,
                    370,
                    357,
                    427,
                    442,
                    476,
                    418,
                    451,
                    425,
                    528,
                    511,
                    400,
                    441,
                    455,
                    440,
                    433,
                    422,
                    411,
                    466,
                    394,
                    442,
                    467,
                    443,
                    298,
                    541,
                    489,
                    469,
                    452,
                    516,
                    79,
                    58,
                    514,
                    451,
                    472,
                    377,
                    472,
                    492,
                    390,
                    428,
                    681,
                    446,
                    485,
                    469,
                    354,
                    485,
                    388,
                    440,
                    456,
                    420,
                    322,
                    530,
                    481,
                    427,
                    451,
                    444,
                    486,
                    331,
                    74,
                    338,
                    447,
                    424,
                    513,
                    611,
                    525,
                    398,
                    387,
                    381,
                    396,
                    441,
                    565,
                    458,
                    388,
                    550,
                    531,
                    506,
                    527,
                    468,
                    475,
                    351,
                    405,
                    441,
                    381,
                    323,
                    459,
                    545,
                    359,
                    342,
                    368,
                    496,
                    458,
                    531,
                    486,
                    363,
                    528,
                    391,
                    339,
                    423,
                    402,
                    398,
                    343,
                    503,
                    415,
                    516,
                    439
                  ],
                  "xaxis": "x",
                  "y": [
                    346,
                    407,
                    442,
                    367,
                    712,
                    320,
                    377,
                    364,
                    384,
                    449,
                    323,
                    274,
                    393,
                    354,
                    425,
                    396,
                    309,
                    296,
                    264,
                    367,
                    349,
                    611,
                    342,
                    403,
                    306,
                    127,
                    142,
                    961,
                    154,
                    961,
                    961,
                    961,
                    775,
                    422,
                    499,
                    315,
                    178,
                    546,
                    565,
                    568,
                    573,
                    567,
                    498,
                    540,
                    510,
                    514,
                    545,
                    554,
                    591,
                    531,
                    545,
                    545,
                    510,
                    607,
                    546,
                    543,
                    560,
                    485,
                    548,
                    521,
                    568,
                    556,
                    380,
                    553,
                    485,
                    69,
                    531,
                    489,
                    504,
                    602,
                    557,
                    514,
                    484,
                    461,
                    386,
                    459,
                    471,
                    490,
                    499,
                    450,
                    473,
                    469,
                    456,
                    397,
                    556,
                    510,
                    566,
                    522,
                    395,
                    305,
                    512,
                    476,
                    372,
                    526,
                    467,
                    371,
                    540,
                    423,
                    478,
                    382,
                    626,
                    384,
                    500,
                    336,
                    480,
                    512,
                    443,
                    456,
                    452,
                    541,
                    77,
                    332,
                    536,
                    248,
                    408,
                    402,
                    494,
                    557,
                    491,
                    522,
                    551,
                    498,
                    543,
                    65,
                    550,
                    722,
                    501,
                    506,
                    516,
                    307,
                    522,
                    546,
                    516,
                    500,
                    506,
                    512,
                    491,
                    530,
                    638,
                    565,
                    517,
                    558,
                    321,
                    526,
                    448,
                    641,
                    104,
                    338,
                    451,
                    458,
                    85,
                    501,
                    595,
                    346,
                    500,
                    458,
                    430,
                    597,
                    376,
                    414,
                    495,
                    496,
                    541,
                    65,
                    375,
                    494,
                    457,
                    406,
                    492,
                    379,
                    499,
                    107,
                    424,
                    462,
                    469,
                    417,
                    345,
                    391,
                    374,
                    442,
                    108,
                    353,
                    459,
                    542,
                    450,
                    363,
                    513,
                    402,
                    436,
                    391,
                    533,
                    426,
                    530,
                    501,
                    137,
                    121,
                    179,
                    129,
                    134,
                    439,
                    430,
                    415,
                    257,
                    406,
                    612,
                    312,
                    487,
                    468,
                    434,
                    475,
                    506,
                    380,
                    429,
                    449,
                    461,
                    447,
                    501,
                    373,
                    434,
                    428,
                    449,
                    543,
                    458,
                    431,
                    366,
                    442,
                    464,
                    488,
                    418,
                    409,
                    686,
                    402,
                    541,
                    410,
                    678,
                    431,
                    353,
                    725,
                    640,
                    468,
                    453,
                    391,
                    457,
                    495,
                    843,
                    686,
                    471,
                    429,
                    470,
                    464,
                    434,
                    470,
                    608,
                    494,
                    443,
                    486,
                    475,
                    438,
                    458,
                    497,
                    413,
                    445,
                    583,
                    553,
                    465,
                    480,
                    437,
                    366,
                    402,
                    615,
                    461,
                    377,
                    452,
                    372,
                    485,
                    433,
                    398,
                    553,
                    543,
                    634,
                    78,
                    562,
                    476,
                    398,
                    350,
                    510,
                    492,
                    502,
                    550,
                    546,
                    539,
                    367,
                    557,
                    416,
                    636,
                    575,
                    415,
                    698,
                    507,
                    603,
                    522,
                    260,
                    441,
                    406,
                    387,
                    679,
                    535,
                    386,
                    366,
                    446,
                    458,
                    535,
                    424,
                    457,
                    435,
                    546,
                    514,
                    415,
                    446,
                    467,
                    453,
                    447,
                    424,
                    426,
                    482,
                    418,
                    455,
                    491,
                    462,
                    334,
                    569,
                    497,
                    481,
                    480,
                    535,
                    82,
                    61,
                    525,
                    465,
                    476,
                    386,
                    483,
                    502,
                    411,
                    448,
                    704,
                    447,
                    500,
                    479,
                    367,
                    489,
                    407,
                    459,
                    461,
                    436,
                    333,
                    548,
                    510,
                    438,
                    463,
                    457,
                    493,
                    337,
                    75,
                    356,
                    487,
                    455,
                    533,
                    689,
                    591,
                    451,
                    421,
                    409,
                    417,
                    469,
                    591,
                    492,
                    402,
                    584,
                    600,
                    556,
                    562,
                    555,
                    539,
                    385,
                    429,
                    477,
                    417,
                    355,
                    513,
                    606,
                    399,
                    391,
                    387,
                    546,
                    493,
                    552,
                    503,
                    377,
                    547,
                    407,
                    360,
                    428,
                    416,
                    406,
                    360,
                    527,
                    423,
                    545,
                    463
                  ],
                  "yaxis": "y"
                }
              ],
              "layout": {
                "legend": {
                  "orientation": "h",
                  "title": {
                    "text": ""
                  },
                  "tracegroupgap": 0,
                  "x": 1,
                  "xanchor": "right",
                  "y": 1.02,
                  "yanchor": "bottom"
                },
                "template": {
                  "data": {
                    "bar": [
                      {
                        "error_x": {
                          "color": "#2a3f5f"
                        },
                        "error_y": {
                          "color": "#2a3f5f"
                        },
                        "marker": {
                          "line": {
                            "color": "#E5ECF6",
                            "width": 0.5
                          },
                          "pattern": {
                            "fillmode": "overlay",
                            "size": 10,
                            "solidity": 0.2
                          }
                        },
                        "type": "bar"
                      }
                    ],
                    "barpolar": [
                      {
                        "marker": {
                          "line": {
                            "color": "#E5ECF6",
                            "width": 0.5
                          },
                          "pattern": {
                            "fillmode": "overlay",
                            "size": 10,
                            "solidity": 0.2
                          }
                        },
                        "type": "barpolar"
                      }
                    ],
                    "carpet": [
                      {
                        "aaxis": {
                          "endlinecolor": "#2a3f5f",
                          "gridcolor": "white",
                          "linecolor": "white",
                          "minorgridcolor": "white",
                          "startlinecolor": "#2a3f5f"
                        },
                        "baxis": {
                          "endlinecolor": "#2a3f5f",
                          "gridcolor": "white",
                          "linecolor": "white",
                          "minorgridcolor": "white",
                          "startlinecolor": "#2a3f5f"
                        },
                        "type": "carpet"
                      }
                    ],
                    "choropleth": [
                      {
                        "colorbar": {
                          "outlinewidth": 0,
                          "ticks": ""
                        },
                        "type": "choropleth"
                      }
                    ],
                    "contour": [
                      {
                        "colorbar": {
                          "outlinewidth": 0,
                          "ticks": ""
                        },
                        "colorscale": [
                          [
                            0,
                            "#0d0887"
                          ],
                          [
                            0.1111111111111111,
                            "#46039f"
                          ],
                          [
                            0.2222222222222222,
                            "#7201a8"
                          ],
                          [
                            0.3333333333333333,
                            "#9c179e"
                          ],
                          [
                            0.4444444444444444,
                            "#bd3786"
                          ],
                          [
                            0.5555555555555556,
                            "#d8576b"
                          ],
                          [
                            0.6666666666666666,
                            "#ed7953"
                          ],
                          [
                            0.7777777777777778,
                            "#fb9f3a"
                          ],
                          [
                            0.8888888888888888,
                            "#fdca26"
                          ],
                          [
                            1,
                            "#f0f921"
                          ]
                        ],
                        "type": "contour"
                      }
                    ],
                    "contourcarpet": [
                      {
                        "colorbar": {
                          "outlinewidth": 0,
                          "ticks": ""
                        },
                        "type": "contourcarpet"
                      }
                    ],
                    "heatmap": [
                      {
                        "colorbar": {
                          "outlinewidth": 0,
                          "ticks": ""
                        },
                        "colorscale": [
                          [
                            0,
                            "#0d0887"
                          ],
                          [
                            0.1111111111111111,
                            "#46039f"
                          ],
                          [
                            0.2222222222222222,
                            "#7201a8"
                          ],
                          [
                            0.3333333333333333,
                            "#9c179e"
                          ],
                          [
                            0.4444444444444444,
                            "#bd3786"
                          ],
                          [
                            0.5555555555555556,
                            "#d8576b"
                          ],
                          [
                            0.6666666666666666,
                            "#ed7953"
                          ],
                          [
                            0.7777777777777778,
                            "#fb9f3a"
                          ],
                          [
                            0.8888888888888888,
                            "#fdca26"
                          ],
                          [
                            1,
                            "#f0f921"
                          ]
                        ],
                        "type": "heatmap"
                      }
                    ],
                    "heatmapgl": [
                      {
                        "colorbar": {
                          "outlinewidth": 0,
                          "ticks": ""
                        },
                        "colorscale": [
                          [
                            0,
                            "#0d0887"
                          ],
                          [
                            0.1111111111111111,
                            "#46039f"
                          ],
                          [
                            0.2222222222222222,
                            "#7201a8"
                          ],
                          [
                            0.3333333333333333,
                            "#9c179e"
                          ],
                          [
                            0.4444444444444444,
                            "#bd3786"
                          ],
                          [
                            0.5555555555555556,
                            "#d8576b"
                          ],
                          [
                            0.6666666666666666,
                            "#ed7953"
                          ],
                          [
                            0.7777777777777778,
                            "#fb9f3a"
                          ],
                          [
                            0.8888888888888888,
                            "#fdca26"
                          ],
                          [
                            1,
                            "#f0f921"
                          ]
                        ],
                        "type": "heatmapgl"
                      }
                    ],
                    "histogram": [
                      {
                        "marker": {
                          "pattern": {
                            "fillmode": "overlay",
                            "size": 10,
                            "solidity": 0.2
                          }
                        },
                        "type": "histogram"
                      }
                    ],
                    "histogram2d": [
                      {
                        "colorbar": {
                          "outlinewidth": 0,
                          "ticks": ""
                        },
                        "colorscale": [
                          [
                            0,
                            "#0d0887"
                          ],
                          [
                            0.1111111111111111,
                            "#46039f"
                          ],
                          [
                            0.2222222222222222,
                            "#7201a8"
                          ],
                          [
                            0.3333333333333333,
                            "#9c179e"
                          ],
                          [
                            0.4444444444444444,
                            "#bd3786"
                          ],
                          [
                            0.5555555555555556,
                            "#d8576b"
                          ],
                          [
                            0.6666666666666666,
                            "#ed7953"
                          ],
                          [
                            0.7777777777777778,
                            "#fb9f3a"
                          ],
                          [
                            0.8888888888888888,
                            "#fdca26"
                          ],
                          [
                            1,
                            "#f0f921"
                          ]
                        ],
                        "type": "histogram2d"
                      }
                    ],
                    "histogram2dcontour": [
                      {
                        "colorbar": {
                          "outlinewidth": 0,
                          "ticks": ""
                        },
                        "colorscale": [
                          [
                            0,
                            "#0d0887"
                          ],
                          [
                            0.1111111111111111,
                            "#46039f"
                          ],
                          [
                            0.2222222222222222,
                            "#7201a8"
                          ],
                          [
                            0.3333333333333333,
                            "#9c179e"
                          ],
                          [
                            0.4444444444444444,
                            "#bd3786"
                          ],
                          [
                            0.5555555555555556,
                            "#d8576b"
                          ],
                          [
                            0.6666666666666666,
                            "#ed7953"
                          ],
                          [
                            0.7777777777777778,
                            "#fb9f3a"
                          ],
                          [
                            0.8888888888888888,
                            "#fdca26"
                          ],
                          [
                            1,
                            "#f0f921"
                          ]
                        ],
                        "type": "histogram2dcontour"
                      }
                    ],
                    "mesh3d": [
                      {
                        "colorbar": {
                          "outlinewidth": 0,
                          "ticks": ""
                        },
                        "type": "mesh3d"
                      }
                    ],
                    "parcoords": [
                      {
                        "line": {
                          "colorbar": {
                            "outlinewidth": 0,
                            "ticks": ""
                          }
                        },
                        "type": "parcoords"
                      }
                    ],
                    "pie": [
                      {
                        "automargin": true,
                        "type": "pie"
                      }
                    ],
                    "scatter": [
                      {
                        "marker": {
                          "colorbar": {
                            "outlinewidth": 0,
                            "ticks": ""
                          }
                        },
                        "type": "scatter"
                      }
                    ],
                    "scatter3d": [
                      {
                        "line": {
                          "colorbar": {
                            "outlinewidth": 0,
                            "ticks": ""
                          }
                        },
                        "marker": {
                          "colorbar": {
                            "outlinewidth": 0,
                            "ticks": ""
                          }
                        },
                        "type": "scatter3d"
                      }
                    ],
                    "scattercarpet": [
                      {
                        "marker": {
                          "colorbar": {
                            "outlinewidth": 0,
                            "ticks": ""
                          }
                        },
                        "type": "scattercarpet"
                      }
                    ],
                    "scattergeo": [
                      {
                        "marker": {
                          "colorbar": {
                            "outlinewidth": 0,
                            "ticks": ""
                          }
                        },
                        "type": "scattergeo"
                      }
                    ],
                    "scattergl": [
                      {
                        "marker": {
                          "colorbar": {
                            "outlinewidth": 0,
                            "ticks": ""
                          }
                        },
                        "type": "scattergl"
                      }
                    ],
                    "scattermapbox": [
                      {
                        "marker": {
                          "colorbar": {
                            "outlinewidth": 0,
                            "ticks": ""
                          }
                        },
                        "type": "scattermapbox"
                      }
                    ],
                    "scatterpolar": [
                      {
                        "marker": {
                          "colorbar": {
                            "outlinewidth": 0,
                            "ticks": ""
                          }
                        },
                        "type": "scatterpolar"
                      }
                    ],
                    "scatterpolargl": [
                      {
                        "marker": {
                          "colorbar": {
                            "outlinewidth": 0,
                            "ticks": ""
                          }
                        },
                        "type": "scatterpolargl"
                      }
                    ],
                    "scatterternary": [
                      {
                        "marker": {
                          "colorbar": {
                            "outlinewidth": 0,
                            "ticks": ""
                          }
                        },
                        "type": "scatterternary"
                      }
                    ],
                    "surface": [
                      {
                        "colorbar": {
                          "outlinewidth": 0,
                          "ticks": ""
                        },
                        "colorscale": [
                          [
                            0,
                            "#0d0887"
                          ],
                          [
                            0.1111111111111111,
                            "#46039f"
                          ],
                          [
                            0.2222222222222222,
                            "#7201a8"
                          ],
                          [
                            0.3333333333333333,
                            "#9c179e"
                          ],
                          [
                            0.4444444444444444,
                            "#bd3786"
                          ],
                          [
                            0.5555555555555556,
                            "#d8576b"
                          ],
                          [
                            0.6666666666666666,
                            "#ed7953"
                          ],
                          [
                            0.7777777777777778,
                            "#fb9f3a"
                          ],
                          [
                            0.8888888888888888,
                            "#fdca26"
                          ],
                          [
                            1,
                            "#f0f921"
                          ]
                        ],
                        "type": "surface"
                      }
                    ],
                    "table": [
                      {
                        "cells": {
                          "fill": {
                            "color": "#EBF0F8"
                          },
                          "line": {
                            "color": "white"
                          }
                        },
                        "header": {
                          "fill": {
                            "color": "#C8D4E3"
                          },
                          "line": {
                            "color": "white"
                          }
                        },
                        "type": "table"
                      }
                    ]
                  },
                  "layout": {
                    "annotationdefaults": {
                      "arrowcolor": "#2a3f5f",
                      "arrowhead": 0,
                      "arrowwidth": 1
                    },
                    "autotypenumbers": "strict",
                    "coloraxis": {
                      "colorbar": {
                        "outlinewidth": 0,
                        "ticks": ""
                      }
                    },
                    "colorscale": {
                      "diverging": [
                        [
                          0,
                          "#8e0152"
                        ],
                        [
                          0.1,
                          "#c51b7d"
                        ],
                        [
                          0.2,
                          "#de77ae"
                        ],
                        [
                          0.3,
                          "#f1b6da"
                        ],
                        [
                          0.4,
                          "#fde0ef"
                        ],
                        [
                          0.5,
                          "#f7f7f7"
                        ],
                        [
                          0.6,
                          "#e6f5d0"
                        ],
                        [
                          0.7,
                          "#b8e186"
                        ],
                        [
                          0.8,
                          "#7fbc41"
                        ],
                        [
                          0.9,
                          "#4d9221"
                        ],
                        [
                          1,
                          "#276419"
                        ]
                      ],
                      "sequential": [
                        [
                          0,
                          "#0d0887"
                        ],
                        [
                          0.1111111111111111,
                          "#46039f"
                        ],
                        [
                          0.2222222222222222,
                          "#7201a8"
                        ],
                        [
                          0.3333333333333333,
                          "#9c179e"
                        ],
                        [
                          0.4444444444444444,
                          "#bd3786"
                        ],
                        [
                          0.5555555555555556,
                          "#d8576b"
                        ],
                        [
                          0.6666666666666666,
                          "#ed7953"
                        ],
                        [
                          0.7777777777777778,
                          "#fb9f3a"
                        ],
                        [
                          0.8888888888888888,
                          "#fdca26"
                        ],
                        [
                          1,
                          "#f0f921"
                        ]
                      ],
                      "sequentialminus": [
                        [
                          0,
                          "#0d0887"
                        ],
                        [
                          0.1111111111111111,
                          "#46039f"
                        ],
                        [
                          0.2222222222222222,
                          "#7201a8"
                        ],
                        [
                          0.3333333333333333,
                          "#9c179e"
                        ],
                        [
                          0.4444444444444444,
                          "#bd3786"
                        ],
                        [
                          0.5555555555555556,
                          "#d8576b"
                        ],
                        [
                          0.6666666666666666,
                          "#ed7953"
                        ],
                        [
                          0.7777777777777778,
                          "#fb9f3a"
                        ],
                        [
                          0.8888888888888888,
                          "#fdca26"
                        ],
                        [
                          1,
                          "#f0f921"
                        ]
                      ]
                    },
                    "colorway": [
                      "#636efa",
                      "#EF553B",
                      "#00cc96",
                      "#ab63fa",
                      "#FFA15A",
                      "#19d3f3",
                      "#FF6692",
                      "#B6E880",
                      "#FF97FF",
                      "#FECB52"
                    ],
                    "font": {
                      "color": "#2a3f5f"
                    },
                    "geo": {
                      "bgcolor": "white",
                      "lakecolor": "white",
                      "landcolor": "#E5ECF6",
                      "showlakes": true,
                      "showland": true,
                      "subunitcolor": "white"
                    },
                    "hoverlabel": {
                      "align": "left"
                    },
                    "hovermode": "closest",
                    "mapbox": {
                      "style": "light"
                    },
                    "paper_bgcolor": "white",
                    "plot_bgcolor": "#E5ECF6",
                    "polar": {
                      "angularaxis": {
                        "gridcolor": "white",
                        "linecolor": "white",
                        "ticks": ""
                      },
                      "bgcolor": "#E5ECF6",
                      "radialaxis": {
                        "gridcolor": "white",
                        "linecolor": "white",
                        "ticks": ""
                      }
                    },
                    "scene": {
                      "xaxis": {
                        "backgroundcolor": "#E5ECF6",
                        "gridcolor": "white",
                        "gridwidth": 2,
                        "linecolor": "white",
                        "showbackground": true,
                        "ticks": "",
                        "zerolinecolor": "white"
                      },
                      "yaxis": {
                        "backgroundcolor": "#E5ECF6",
                        "gridcolor": "white",
                        "gridwidth": 2,
                        "linecolor": "white",
                        "showbackground": true,
                        "ticks": "",
                        "zerolinecolor": "white"
                      },
                      "zaxis": {
                        "backgroundcolor": "#E5ECF6",
                        "gridcolor": "white",
                        "gridwidth": 2,
                        "linecolor": "white",
                        "showbackground": true,
                        "ticks": "",
                        "zerolinecolor": "white"
                      }
                    },
                    "shapedefaults": {
                      "line": {
                        "color": "#2a3f5f"
                      }
                    },
                    "ternary": {
                      "aaxis": {
                        "gridcolor": "white",
                        "linecolor": "white",
                        "ticks": ""
                      },
                      "baxis": {
                        "gridcolor": "white",
                        "linecolor": "white",
                        "ticks": ""
                      },
                      "bgcolor": "#E5ECF6",
                      "caxis": {
                        "gridcolor": "white",
                        "linecolor": "white",
                        "ticks": ""
                      }
                    },
                    "title": {
                      "x": 0.05
                    },
                    "xaxis": {
                      "automargin": true,
                      "gridcolor": "white",
                      "linecolor": "white",
                      "ticks": "",
                      "title": {
                        "standoff": 15
                      },
                      "zerolinecolor": "white",
                      "zerolinewidth": 2
                    },
                    "yaxis": {
                      "automargin": true,
                      "gridcolor": "white",
                      "linecolor": "white",
                      "ticks": "",
                      "title": {
                        "standoff": 15
                      },
                      "zerolinecolor": "white",
                      "zerolinewidth": 2
                    }
                  }
                },
                "title": {
                  "text": "Minutes Asleep vs Total time in Bed"
                },
                "xaxis": {
                  "anchor": "y",
                  "domain": [
                    0,
                    1
                  ],
                  "title": {
                    "text": "Minutes Asleep"
                  }
                },
                "yaxis": {
                  "anchor": "x",
                  "domain": [
                    0,
                    1
                  ],
                  "side": "left",
                  "title": {
                    "text": "Total Time in Bed"
                  }
                }
              }
            }
          },
          "metadata": {},
          "output_type": "display_data"
        }
      ],
      "source": [
        "sleepDay = pd.read_csv(\"Data_Coursera_CaseStudy02/sleepDay_merged.csv\", index_col=[0])\n",
        "\n",
        "# Remove the time data from sleepDay Dataframe\n",
        "sleepDay['SleepDay'] = sleepDay['SleepDay'].str.replace(' 12:00:00 AM','')\n",
        "sleepDay\n",
        "\n",
        "fig = px.scatter(x=sleepDay['TotalMinutesAsleep'], y=sleepDay['TotalTimeInBed'], title=\"Minutes Asleep vs Total time in Bed\")\n",
        "\n",
        "fig.update_layout(legend=dict(\n",
        "                      orientation=\"h\",\n",
        "                      yanchor=\"bottom\",\n",
        "                      y=1.02,\n",
        "                      xanchor=\"right\",\n",
        "                      x=1,\n",
        "                      title=''\n",
        "                  ),xaxis=dict(\n",
        "                      title = 'Minutes Asleep',\n",
        "                      ), \n",
        "                    yaxis=dict(\n",
        "                      title='Total Time in Bed',\n",
        "                      side='left',\n",
        "))\n",
        "\n",
        "\n",
        "fig.show()"
      ]
    },
    {
      "cell_type": "markdown",
      "metadata": {
        "id": "rJbiOY5M2RU6"
      },
      "source": [
        "An exactly linear relation. But kind of obvius."
      ]
    },
    {
      "cell_type": "markdown",
      "metadata": {
        "id": "AaUfYRyfoKgm"
      },
      "source": [
        "### Sleep Records vs Daily Steps"
      ]
    },
    {
      "cell_type": "code",
      "execution_count": 33,
      "metadata": {
        "colab": {
          "base_uri": "https://localhost:8080/",
          "height": 542
        },
        "id": "zRBSSxLie8Wx",
        "outputId": "5306da6b-94f1-45d4-e03c-2db38a947ff2"
      },
      "outputs": [
        {
          "data": {
            "application/vnd.plotly.v1+json": {
              "config": {
                "plotlyServerURL": "https://plot.ly"
              },
              "data": [
                {
                  "hovertemplate": "x=%{x}<br>y=%{y}<extra></extra>",
                  "legendgroup": "",
                  "marker": {
                    "color": "#636efa",
                    "symbol": "circle"
                  },
                  "mode": "markers",
                  "name": "",
                  "orientation": "v",
                  "showlegend": false,
                  "type": "scatter",
                  "x": [
                    1,
                    2,
                    1,
                    2,
                    1,
                    1,
                    1,
                    1,
                    1,
                    1,
                    1,
                    1,
                    1,
                    1,
                    1,
                    1,
                    1,
                    1,
                    1,
                    1,
                    1,
                    1,
                    1,
                    1,
                    1,
                    1,
                    1,
                    1,
                    1,
                    1,
                    1,
                    1,
                    3,
                    1,
                    2,
                    1,
                    1,
                    1,
                    1,
                    1,
                    1,
                    1,
                    1,
                    1,
                    1,
                    1,
                    1,
                    1,
                    1,
                    1,
                    1,
                    1,
                    1,
                    1,
                    1,
                    1,
                    1,
                    1,
                    1,
                    1,
                    1,
                    1,
                    1,
                    1,
                    1,
                    1,
                    1,
                    1,
                    1,
                    1,
                    1,
                    1,
                    1,
                    1,
                    1,
                    1,
                    1,
                    1,
                    1,
                    1,
                    1,
                    1,
                    2,
                    1,
                    1,
                    1,
                    1,
                    2,
                    1,
                    2,
                    1,
                    1,
                    1,
                    1,
                    1,
                    1,
                    1,
                    1,
                    1,
                    1,
                    1,
                    1,
                    1,
                    1,
                    1,
                    1,
                    1,
                    2,
                    1,
                    1,
                    1,
                    1,
                    1,
                    1,
                    1,
                    1,
                    1,
                    1,
                    1,
                    1,
                    1,
                    2,
                    1,
                    1,
                    1,
                    1,
                    1,
                    1,
                    1,
                    1,
                    1,
                    1,
                    1,
                    1,
                    1,
                    1,
                    1,
                    1,
                    1,
                    1,
                    1,
                    1,
                    1,
                    1,
                    2,
                    2,
                    1,
                    1,
                    1,
                    1,
                    1,
                    1,
                    3,
                    1,
                    1,
                    1,
                    2,
                    1,
                    2,
                    1,
                    1,
                    1,
                    2,
                    1,
                    1,
                    1,
                    2,
                    2,
                    1,
                    2,
                    1,
                    1,
                    2,
                    1,
                    1,
                    1,
                    1,
                    2,
                    1,
                    1,
                    1,
                    1,
                    2,
                    1,
                    2,
                    2,
                    2,
                    2,
                    2,
                    1,
                    1,
                    1,
                    1,
                    1,
                    1,
                    1,
                    1,
                    1,
                    1,
                    1,
                    2,
                    1,
                    1,
                    2,
                    1,
                    1,
                    1,
                    1,
                    1,
                    1,
                    1,
                    1,
                    1,
                    1,
                    1,
                    1,
                    1,
                    1,
                    1,
                    1,
                    1,
                    1,
                    1,
                    1,
                    1,
                    1,
                    1,
                    2,
                    1,
                    1,
                    2,
                    1,
                    2,
                    1,
                    1,
                    1,
                    1,
                    2,
                    2,
                    1,
                    1,
                    1,
                    1,
                    1,
                    2,
                    2,
                    1,
                    1,
                    1,
                    1,
                    1,
                    1,
                    1,
                    1,
                    1,
                    1,
                    1,
                    1,
                    1,
                    1,
                    1,
                    1,
                    1,
                    1,
                    1,
                    1,
                    1,
                    1,
                    1,
                    1,
                    1,
                    1,
                    1,
                    1,
                    1,
                    1,
                    1,
                    2,
                    1,
                    1,
                    1,
                    1,
                    1,
                    1,
                    2,
                    2,
                    1,
                    1,
                    1,
                    1,
                    1,
                    1,
                    1,
                    1,
                    1,
                    1,
                    1,
                    2,
                    2,
                    1,
                    1,
                    1,
                    1,
                    1,
                    1,
                    3,
                    2,
                    1,
                    1,
                    1,
                    1,
                    1,
                    1,
                    1,
                    1,
                    1,
                    1,
                    1,
                    1,
                    1,
                    1,
                    1,
                    1,
                    1,
                    1,
                    1,
                    1,
                    1,
                    1,
                    1,
                    1,
                    1,
                    1,
                    1,
                    1,
                    1,
                    1,
                    1,
                    1,
                    1,
                    1,
                    1,
                    1,
                    1,
                    1,
                    1,
                    1,
                    1,
                    1,
                    1,
                    1,
                    1,
                    1,
                    1,
                    1,
                    1,
                    1,
                    1,
                    1,
                    1,
                    1,
                    1,
                    1,
                    1,
                    1,
                    2,
                    1,
                    1,
                    2,
                    2,
                    1,
                    1,
                    1,
                    1,
                    1,
                    1,
                    1,
                    1,
                    1,
                    1,
                    1,
                    1,
                    1,
                    1,
                    1,
                    1,
                    1,
                    1,
                    1,
                    2,
                    1,
                    1,
                    1,
                    1,
                    1,
                    1,
                    1,
                    1,
                    1,
                    1,
                    1,
                    1,
                    1,
                    1,
                    1,
                    1,
                    1,
                    1,
                    1,
                    1
                  ],
                  "xaxis": "x",
                  "y": [
                    13162,
                    10735,
                    9762,
                    12669,
                    9705,
                    15506,
                    10544,
                    9819,
                    14371,
                    10039,
                    15355,
                    13755,
                    13154,
                    11181,
                    14673,
                    10602,
                    14727,
                    15103,
                    14070,
                    12159,
                    11992,
                    10060,
                    12022,
                    12207,
                    12770,
                    3176,
                    18213,
                    3758,
                    6724,
                    3844,
                    4014,
                    2573,
                    678,
                    356,
                    980,
                    3761,
                    1675,
                    4414,
                    4993,
                    3335,
                    3821,
                    2547,
                    838,
                    2424,
                    7222,
                    2467,
                    2915,
                    12357,
                    3490,
                    6017,
                    6088,
                    6375,
                    7604,
                    4729,
                    3609,
                    7018,
                    6564,
                    12167,
                    8198,
                    4193,
                    5528,
                    10685,
                    254,
                    8580,
                    8891,
                    5079,
                    10352,
                    10129,
                    10465,
                    5472,
                    8247,
                    6711,
                    10080,
                    7804,
                    16901,
                    9471,
                    9482,
                    5980,
                    11423,
                    5439,
                    42,
                    8856,
                    10035,
                    7641,
                    9010,
                    13459,
                    10415,
                    11663,
                    12414,
                    11658,
                    6093,
                    8911,
                    12058,
                    14112,
                    11177,
                    11388,
                    7193,
                    7114,
                    10645,
                    13238,
                    10414,
                    16520,
                    14335,
                    13559,
                    12312,
                    11677,
                    11550,
                    13585,
                    13072,
                    8539,
                    1982,
                    4496,
                    10252,
                    11728,
                    4369,
                    5862,
                    5546,
                    10210,
                    5664,
                    4744,
                    2276,
                    8925,
                    8954,
                    3702,
                    4500,
                    4935,
                    4081,
                    9259,
                    9899,
                    10780,
                    10817,
                    7990,
                    8221,
                    1251,
                    9261,
                    9648,
                    9524,
                    7937,
                    3672,
                    10378,
                    9487,
                    9129,
                    17,
                    8758,
                    6580,
                    4660,
                    11009,
                    10181,
                    10553,
                    10055,
                    12139,
                    13236,
                    10243,
                    9461,
                    11193,
                    10074,
                    12533,
                    10255,
                    10096,
                    12375,
                    9603,
                    22770,
                    17298,
                    10218,
                    10299,
                    10201,
                    3276,
                    2961,
                    3974,
                    7198,
                    3945,
                    2268,
                    2064,
                    2072,
                    3809,
                    6831,
                    3385,
                    6326,
                    7243,
                    4493,
                    4676,
                    6222,
                    5232,
                    6910,
                    7502,
                    2923,
                    3800,
                    4514,
                    5183,
                    7303,
                    5275,
                    3915,
                    9105,
                    768,
                    13743,
                    9148,
                    7833,
                    3428,
                    6543,
                    7213,
                    6877,
                    7860,
                    6506,
                    11140,
                    12692,
                    9105,
                    6708,
                    8793,
                    6530,
                    15126,
                    15050,
                    9167,
                    6108,
                    7047,
                    9023,
                    9930,
                    10144,
                    9454,
                    8161,
                    8614,
                    6943,
                    14370,
                    8232,
                    10613,
                    9810,
                    2752,
                    11596,
                    4832,
                    17022,
                    16556,
                    5771,
                    655,
                    3727,
                    15482,
                    2713,
                    12346,
                    11682,
                    4112,
                    1807,
                    10946,
                    11886,
                    10538,
                    11393,
                    12764,
                    1202,
                    5164,
                    9769,
                    12848,
                    4249,
                    14331,
                    9632,
                    1868,
                    6083,
                    11611,
                    16358,
                    4926,
                    3121,
                    8135,
                    5077,
                    8596,
                    12087,
                    14269,
                    12231,
                    9893,
                    12574,
                    8330,
                    10830,
                    9172,
                    7638,
                    15764,
                    6393,
                    5325,
                    6805,
                    9841,
                    7924,
                    12363,
                    13368,
                    7439,
                    11045,
                    5206,
                    7550,
                    8869,
                    4038,
                    14450,
                    7150,
                    5153,
                    11135,
                    10449,
                    19542,
                    8206,
                    11495,
                    7623,
                    9411,
                    3403,
                    9592,
                    8915,
                    9799,
                    3365,
                    7336,
                    7328,
                    4477,
                    4053,
                    5162,
                    1282,
                    10199,
                    5652,
                    1551,
                    5563,
                    13217,
                    10145,
                    11404,
                    10742,
                    13928,
                    11835,
                    10725,
                    20031,
                    5029,
                    13239,
                    10433,
                    10320,
                    12627,
                    10762,
                    10081,
                    5454,
                    12912,
                    12109,
                    10147,
                    10524,
                    5908,
                    6815,
                    4188,
                    12342,
                    15448,
                    6722,
                    3587,
                    4631,
                    5600,
                    11317,
                    5813,
                    9123,
                    8585,
                    10688,
                    14365,
                    9469,
                    9753,
                    3520,
                    10091,
                    10387,
                    11107,
                    11584,
                    14560,
                    12390,
                    10052,
                    10288,
                    10988,
                    12461,
                    12827,
                    10677,
                    13566,
                    9572,
                    3789,
                    15108,
                    22359,
                    19769,
                    7626,
                    12386,
                    13318,
                    14461,
                    11207,
                    2132,
                    13630,
                    13070,
                    9388,
                    15148,
                    12200,
                    5709,
                    3703,
                    12405,
                    16208,
                    7359,
                    5417,
                    6175,
                    2946,
                    11419,
                    6064,
                    8712,
                    7875,
                    8567,
                    7045,
                    4468,
                    2943,
                    8382,
                    6582,
                    9143,
                    4561,
                    2564,
                    1320,
                    1219,
                    2483,
                    3147,
                    4068,
                    5245,
                    1758,
                    6157,
                    8360,
                    7174,
                    1619,
                    1831,
                    2421,
                    2283
                  ],
                  "yaxis": "y"
                }
              ],
              "layout": {
                "legend": {
                  "orientation": "h",
                  "title": {
                    "text": ""
                  },
                  "tracegroupgap": 0,
                  "x": 1,
                  "xanchor": "right",
                  "y": 1.02,
                  "yanchor": "bottom"
                },
                "template": {
                  "data": {
                    "bar": [
                      {
                        "error_x": {
                          "color": "#2a3f5f"
                        },
                        "error_y": {
                          "color": "#2a3f5f"
                        },
                        "marker": {
                          "line": {
                            "color": "#E5ECF6",
                            "width": 0.5
                          },
                          "pattern": {
                            "fillmode": "overlay",
                            "size": 10,
                            "solidity": 0.2
                          }
                        },
                        "type": "bar"
                      }
                    ],
                    "barpolar": [
                      {
                        "marker": {
                          "line": {
                            "color": "#E5ECF6",
                            "width": 0.5
                          },
                          "pattern": {
                            "fillmode": "overlay",
                            "size": 10,
                            "solidity": 0.2
                          }
                        },
                        "type": "barpolar"
                      }
                    ],
                    "carpet": [
                      {
                        "aaxis": {
                          "endlinecolor": "#2a3f5f",
                          "gridcolor": "white",
                          "linecolor": "white",
                          "minorgridcolor": "white",
                          "startlinecolor": "#2a3f5f"
                        },
                        "baxis": {
                          "endlinecolor": "#2a3f5f",
                          "gridcolor": "white",
                          "linecolor": "white",
                          "minorgridcolor": "white",
                          "startlinecolor": "#2a3f5f"
                        },
                        "type": "carpet"
                      }
                    ],
                    "choropleth": [
                      {
                        "colorbar": {
                          "outlinewidth": 0,
                          "ticks": ""
                        },
                        "type": "choropleth"
                      }
                    ],
                    "contour": [
                      {
                        "colorbar": {
                          "outlinewidth": 0,
                          "ticks": ""
                        },
                        "colorscale": [
                          [
                            0,
                            "#0d0887"
                          ],
                          [
                            0.1111111111111111,
                            "#46039f"
                          ],
                          [
                            0.2222222222222222,
                            "#7201a8"
                          ],
                          [
                            0.3333333333333333,
                            "#9c179e"
                          ],
                          [
                            0.4444444444444444,
                            "#bd3786"
                          ],
                          [
                            0.5555555555555556,
                            "#d8576b"
                          ],
                          [
                            0.6666666666666666,
                            "#ed7953"
                          ],
                          [
                            0.7777777777777778,
                            "#fb9f3a"
                          ],
                          [
                            0.8888888888888888,
                            "#fdca26"
                          ],
                          [
                            1,
                            "#f0f921"
                          ]
                        ],
                        "type": "contour"
                      }
                    ],
                    "contourcarpet": [
                      {
                        "colorbar": {
                          "outlinewidth": 0,
                          "ticks": ""
                        },
                        "type": "contourcarpet"
                      }
                    ],
                    "heatmap": [
                      {
                        "colorbar": {
                          "outlinewidth": 0,
                          "ticks": ""
                        },
                        "colorscale": [
                          [
                            0,
                            "#0d0887"
                          ],
                          [
                            0.1111111111111111,
                            "#46039f"
                          ],
                          [
                            0.2222222222222222,
                            "#7201a8"
                          ],
                          [
                            0.3333333333333333,
                            "#9c179e"
                          ],
                          [
                            0.4444444444444444,
                            "#bd3786"
                          ],
                          [
                            0.5555555555555556,
                            "#d8576b"
                          ],
                          [
                            0.6666666666666666,
                            "#ed7953"
                          ],
                          [
                            0.7777777777777778,
                            "#fb9f3a"
                          ],
                          [
                            0.8888888888888888,
                            "#fdca26"
                          ],
                          [
                            1,
                            "#f0f921"
                          ]
                        ],
                        "type": "heatmap"
                      }
                    ],
                    "heatmapgl": [
                      {
                        "colorbar": {
                          "outlinewidth": 0,
                          "ticks": ""
                        },
                        "colorscale": [
                          [
                            0,
                            "#0d0887"
                          ],
                          [
                            0.1111111111111111,
                            "#46039f"
                          ],
                          [
                            0.2222222222222222,
                            "#7201a8"
                          ],
                          [
                            0.3333333333333333,
                            "#9c179e"
                          ],
                          [
                            0.4444444444444444,
                            "#bd3786"
                          ],
                          [
                            0.5555555555555556,
                            "#d8576b"
                          ],
                          [
                            0.6666666666666666,
                            "#ed7953"
                          ],
                          [
                            0.7777777777777778,
                            "#fb9f3a"
                          ],
                          [
                            0.8888888888888888,
                            "#fdca26"
                          ],
                          [
                            1,
                            "#f0f921"
                          ]
                        ],
                        "type": "heatmapgl"
                      }
                    ],
                    "histogram": [
                      {
                        "marker": {
                          "pattern": {
                            "fillmode": "overlay",
                            "size": 10,
                            "solidity": 0.2
                          }
                        },
                        "type": "histogram"
                      }
                    ],
                    "histogram2d": [
                      {
                        "colorbar": {
                          "outlinewidth": 0,
                          "ticks": ""
                        },
                        "colorscale": [
                          [
                            0,
                            "#0d0887"
                          ],
                          [
                            0.1111111111111111,
                            "#46039f"
                          ],
                          [
                            0.2222222222222222,
                            "#7201a8"
                          ],
                          [
                            0.3333333333333333,
                            "#9c179e"
                          ],
                          [
                            0.4444444444444444,
                            "#bd3786"
                          ],
                          [
                            0.5555555555555556,
                            "#d8576b"
                          ],
                          [
                            0.6666666666666666,
                            "#ed7953"
                          ],
                          [
                            0.7777777777777778,
                            "#fb9f3a"
                          ],
                          [
                            0.8888888888888888,
                            "#fdca26"
                          ],
                          [
                            1,
                            "#f0f921"
                          ]
                        ],
                        "type": "histogram2d"
                      }
                    ],
                    "histogram2dcontour": [
                      {
                        "colorbar": {
                          "outlinewidth": 0,
                          "ticks": ""
                        },
                        "colorscale": [
                          [
                            0,
                            "#0d0887"
                          ],
                          [
                            0.1111111111111111,
                            "#46039f"
                          ],
                          [
                            0.2222222222222222,
                            "#7201a8"
                          ],
                          [
                            0.3333333333333333,
                            "#9c179e"
                          ],
                          [
                            0.4444444444444444,
                            "#bd3786"
                          ],
                          [
                            0.5555555555555556,
                            "#d8576b"
                          ],
                          [
                            0.6666666666666666,
                            "#ed7953"
                          ],
                          [
                            0.7777777777777778,
                            "#fb9f3a"
                          ],
                          [
                            0.8888888888888888,
                            "#fdca26"
                          ],
                          [
                            1,
                            "#f0f921"
                          ]
                        ],
                        "type": "histogram2dcontour"
                      }
                    ],
                    "mesh3d": [
                      {
                        "colorbar": {
                          "outlinewidth": 0,
                          "ticks": ""
                        },
                        "type": "mesh3d"
                      }
                    ],
                    "parcoords": [
                      {
                        "line": {
                          "colorbar": {
                            "outlinewidth": 0,
                            "ticks": ""
                          }
                        },
                        "type": "parcoords"
                      }
                    ],
                    "pie": [
                      {
                        "automargin": true,
                        "type": "pie"
                      }
                    ],
                    "scatter": [
                      {
                        "marker": {
                          "colorbar": {
                            "outlinewidth": 0,
                            "ticks": ""
                          }
                        },
                        "type": "scatter"
                      }
                    ],
                    "scatter3d": [
                      {
                        "line": {
                          "colorbar": {
                            "outlinewidth": 0,
                            "ticks": ""
                          }
                        },
                        "marker": {
                          "colorbar": {
                            "outlinewidth": 0,
                            "ticks": ""
                          }
                        },
                        "type": "scatter3d"
                      }
                    ],
                    "scattercarpet": [
                      {
                        "marker": {
                          "colorbar": {
                            "outlinewidth": 0,
                            "ticks": ""
                          }
                        },
                        "type": "scattercarpet"
                      }
                    ],
                    "scattergeo": [
                      {
                        "marker": {
                          "colorbar": {
                            "outlinewidth": 0,
                            "ticks": ""
                          }
                        },
                        "type": "scattergeo"
                      }
                    ],
                    "scattergl": [
                      {
                        "marker": {
                          "colorbar": {
                            "outlinewidth": 0,
                            "ticks": ""
                          }
                        },
                        "type": "scattergl"
                      }
                    ],
                    "scattermapbox": [
                      {
                        "marker": {
                          "colorbar": {
                            "outlinewidth": 0,
                            "ticks": ""
                          }
                        },
                        "type": "scattermapbox"
                      }
                    ],
                    "scatterpolar": [
                      {
                        "marker": {
                          "colorbar": {
                            "outlinewidth": 0,
                            "ticks": ""
                          }
                        },
                        "type": "scatterpolar"
                      }
                    ],
                    "scatterpolargl": [
                      {
                        "marker": {
                          "colorbar": {
                            "outlinewidth": 0,
                            "ticks": ""
                          }
                        },
                        "type": "scatterpolargl"
                      }
                    ],
                    "scatterternary": [
                      {
                        "marker": {
                          "colorbar": {
                            "outlinewidth": 0,
                            "ticks": ""
                          }
                        },
                        "type": "scatterternary"
                      }
                    ],
                    "surface": [
                      {
                        "colorbar": {
                          "outlinewidth": 0,
                          "ticks": ""
                        },
                        "colorscale": [
                          [
                            0,
                            "#0d0887"
                          ],
                          [
                            0.1111111111111111,
                            "#46039f"
                          ],
                          [
                            0.2222222222222222,
                            "#7201a8"
                          ],
                          [
                            0.3333333333333333,
                            "#9c179e"
                          ],
                          [
                            0.4444444444444444,
                            "#bd3786"
                          ],
                          [
                            0.5555555555555556,
                            "#d8576b"
                          ],
                          [
                            0.6666666666666666,
                            "#ed7953"
                          ],
                          [
                            0.7777777777777778,
                            "#fb9f3a"
                          ],
                          [
                            0.8888888888888888,
                            "#fdca26"
                          ],
                          [
                            1,
                            "#f0f921"
                          ]
                        ],
                        "type": "surface"
                      }
                    ],
                    "table": [
                      {
                        "cells": {
                          "fill": {
                            "color": "#EBF0F8"
                          },
                          "line": {
                            "color": "white"
                          }
                        },
                        "header": {
                          "fill": {
                            "color": "#C8D4E3"
                          },
                          "line": {
                            "color": "white"
                          }
                        },
                        "type": "table"
                      }
                    ]
                  },
                  "layout": {
                    "annotationdefaults": {
                      "arrowcolor": "#2a3f5f",
                      "arrowhead": 0,
                      "arrowwidth": 1
                    },
                    "autotypenumbers": "strict",
                    "coloraxis": {
                      "colorbar": {
                        "outlinewidth": 0,
                        "ticks": ""
                      }
                    },
                    "colorscale": {
                      "diverging": [
                        [
                          0,
                          "#8e0152"
                        ],
                        [
                          0.1,
                          "#c51b7d"
                        ],
                        [
                          0.2,
                          "#de77ae"
                        ],
                        [
                          0.3,
                          "#f1b6da"
                        ],
                        [
                          0.4,
                          "#fde0ef"
                        ],
                        [
                          0.5,
                          "#f7f7f7"
                        ],
                        [
                          0.6,
                          "#e6f5d0"
                        ],
                        [
                          0.7,
                          "#b8e186"
                        ],
                        [
                          0.8,
                          "#7fbc41"
                        ],
                        [
                          0.9,
                          "#4d9221"
                        ],
                        [
                          1,
                          "#276419"
                        ]
                      ],
                      "sequential": [
                        [
                          0,
                          "#0d0887"
                        ],
                        [
                          0.1111111111111111,
                          "#46039f"
                        ],
                        [
                          0.2222222222222222,
                          "#7201a8"
                        ],
                        [
                          0.3333333333333333,
                          "#9c179e"
                        ],
                        [
                          0.4444444444444444,
                          "#bd3786"
                        ],
                        [
                          0.5555555555555556,
                          "#d8576b"
                        ],
                        [
                          0.6666666666666666,
                          "#ed7953"
                        ],
                        [
                          0.7777777777777778,
                          "#fb9f3a"
                        ],
                        [
                          0.8888888888888888,
                          "#fdca26"
                        ],
                        [
                          1,
                          "#f0f921"
                        ]
                      ],
                      "sequentialminus": [
                        [
                          0,
                          "#0d0887"
                        ],
                        [
                          0.1111111111111111,
                          "#46039f"
                        ],
                        [
                          0.2222222222222222,
                          "#7201a8"
                        ],
                        [
                          0.3333333333333333,
                          "#9c179e"
                        ],
                        [
                          0.4444444444444444,
                          "#bd3786"
                        ],
                        [
                          0.5555555555555556,
                          "#d8576b"
                        ],
                        [
                          0.6666666666666666,
                          "#ed7953"
                        ],
                        [
                          0.7777777777777778,
                          "#fb9f3a"
                        ],
                        [
                          0.8888888888888888,
                          "#fdca26"
                        ],
                        [
                          1,
                          "#f0f921"
                        ]
                      ]
                    },
                    "colorway": [
                      "#636efa",
                      "#EF553B",
                      "#00cc96",
                      "#ab63fa",
                      "#FFA15A",
                      "#19d3f3",
                      "#FF6692",
                      "#B6E880",
                      "#FF97FF",
                      "#FECB52"
                    ],
                    "font": {
                      "color": "#2a3f5f"
                    },
                    "geo": {
                      "bgcolor": "white",
                      "lakecolor": "white",
                      "landcolor": "#E5ECF6",
                      "showlakes": true,
                      "showland": true,
                      "subunitcolor": "white"
                    },
                    "hoverlabel": {
                      "align": "left"
                    },
                    "hovermode": "closest",
                    "mapbox": {
                      "style": "light"
                    },
                    "paper_bgcolor": "white",
                    "plot_bgcolor": "#E5ECF6",
                    "polar": {
                      "angularaxis": {
                        "gridcolor": "white",
                        "linecolor": "white",
                        "ticks": ""
                      },
                      "bgcolor": "#E5ECF6",
                      "radialaxis": {
                        "gridcolor": "white",
                        "linecolor": "white",
                        "ticks": ""
                      }
                    },
                    "scene": {
                      "xaxis": {
                        "backgroundcolor": "#E5ECF6",
                        "gridcolor": "white",
                        "gridwidth": 2,
                        "linecolor": "white",
                        "showbackground": true,
                        "ticks": "",
                        "zerolinecolor": "white"
                      },
                      "yaxis": {
                        "backgroundcolor": "#E5ECF6",
                        "gridcolor": "white",
                        "gridwidth": 2,
                        "linecolor": "white",
                        "showbackground": true,
                        "ticks": "",
                        "zerolinecolor": "white"
                      },
                      "zaxis": {
                        "backgroundcolor": "#E5ECF6",
                        "gridcolor": "white",
                        "gridwidth": 2,
                        "linecolor": "white",
                        "showbackground": true,
                        "ticks": "",
                        "zerolinecolor": "white"
                      }
                    },
                    "shapedefaults": {
                      "line": {
                        "color": "#2a3f5f"
                      }
                    },
                    "ternary": {
                      "aaxis": {
                        "gridcolor": "white",
                        "linecolor": "white",
                        "ticks": ""
                      },
                      "baxis": {
                        "gridcolor": "white",
                        "linecolor": "white",
                        "ticks": ""
                      },
                      "bgcolor": "#E5ECF6",
                      "caxis": {
                        "gridcolor": "white",
                        "linecolor": "white",
                        "ticks": ""
                      }
                    },
                    "title": {
                      "x": 0.05
                    },
                    "xaxis": {
                      "automargin": true,
                      "gridcolor": "white",
                      "linecolor": "white",
                      "ticks": "",
                      "title": {
                        "standoff": 15
                      },
                      "zerolinecolor": "white",
                      "zerolinewidth": 2
                    },
                    "yaxis": {
                      "automargin": true,
                      "gridcolor": "white",
                      "linecolor": "white",
                      "ticks": "",
                      "title": {
                        "standoff": 15
                      },
                      "zerolinecolor": "white",
                      "zerolinewidth": 2
                    }
                  }
                },
                "title": {
                  "text": "Minutes Asleep vs Steps total"
                },
                "xaxis": {
                  "anchor": "y",
                  "domain": [
                    0,
                    1
                  ],
                  "title": {
                    "text": "Total Sleep Records"
                  }
                },
                "yaxis": {
                  "anchor": "x",
                  "domain": [
                    0,
                    1
                  ],
                  "side": "left",
                  "title": {
                    "text": "Total Steps in a day"
                  }
                }
              }
            }
          },
          "metadata": {},
          "output_type": "display_data"
        }
      ],
      "source": [
        "# Plot\n",
        "fig = px.scatter(x=df_analysis_sleep_steps['TotalSleepRecords'], y=df_analysis_sleep_steps['StepTotal'], title=\"Minutes Asleep vs Steps total\")\n",
        "\n",
        "fig.update_layout(legend=dict(\n",
        "                      orientation=\"h\",\n",
        "                      yanchor=\"bottom\",\n",
        "                      y=1.02,\n",
        "                      xanchor=\"right\",\n",
        "                      x=1,\n",
        "                      title=''\n",
        "                  ),xaxis=dict(\n",
        "                      title = 'Total Sleep Records',\n",
        "                      ), \n",
        "                    yaxis=dict(\n",
        "                      title='Total Steps in a day',\n",
        "                      side='left',\n",
        "))\n",
        "\n",
        "\n",
        "fig.show()"
      ]
    },
    {
      "cell_type": "markdown",
      "metadata": {
        "id": "_fi4P3Ra3ZAL"
      },
      "source": [
        "Also, nothing that we can confirm. \n",
        "\n",
        "If we had more information of people with 3 sleeping records we could affirm that those who doesn't appear to sleep well tends to take less steps per day."
      ]
    },
    {
      "cell_type": "markdown",
      "metadata": {
        "id": "ixLtBU9N0g-8"
      },
      "source": [
        "### Calories vs Daily Steps"
      ]
    },
    {
      "cell_type": "code",
      "execution_count": 35,
      "metadata": {
        "id": "WbDGegjYv89B"
      },
      "outputs": [],
      "source": [
        "dailySteps = pd.read_csv(\"Data_Coursera_CaseStudy02/dailySteps_merged.csv\", index_col=[0])\n",
        "caloriesDay = pd.read_csv(\"Data_Coursera_CaseStudy02/dailyCalories_merged.csv\", index_col=[0])\n",
        "\n",
        "# Remove the time data from sleepDay Dataframe\n",
        "# sleepDay['SleepDay'] = sleepDay['SleepDay'].str.replace(' 12:00:00 AM','')\n",
        "\n",
        "# Renaming the columns\n",
        "caloriesDay.rename(columns={'ActivityDay': 'Day'}, inplace=True)\n",
        "dailySteps.rename(columns={'ActivityDay': 'Day'}, inplace=True)\n"
      ]
    },
    {
      "cell_type": "code",
      "execution_count": 36,
      "metadata": {
        "id": "0JRnTvbjv9V5"
      },
      "outputs": [],
      "source": [
        "# New dataframe \n",
        "df_analysis_calories_steps = pd.merge(dailySteps, caloriesDay, on = ['Id', 'Day'])\n",
        "# df_analysis_sleep_steps"
      ]
    },
    {
      "cell_type": "code",
      "execution_count": 37,
      "metadata": {
        "colab": {
          "base_uri": "https://localhost:8080/",
          "height": 542
        },
        "id": "q4-1Nu2A89zP",
        "outputId": "1341cbb8-b693-484d-8e53-abf3c731a490"
      },
      "outputs": [
        {
          "data": {
            "application/vnd.plotly.v1+json": {
              "config": {
                "plotlyServerURL": "https://plot.ly"
              },
              "data": [
                {
                  "hovertemplate": "x=%{x}<br>y=%{y}<extra></extra>",
                  "legendgroup": "",
                  "marker": {
                    "color": "#636efa",
                    "symbol": "circle"
                  },
                  "mode": "markers",
                  "name": "",
                  "orientation": "v",
                  "showlegend": false,
                  "type": "scatter",
                  "x": [
                    1985,
                    1797,
                    1776,
                    1745,
                    1863,
                    1728,
                    1921,
                    2035,
                    1786,
                    1775,
                    1827,
                    1949,
                    1788,
                    2013,
                    1970,
                    2159,
                    1898,
                    1837,
                    1947,
                    1820,
                    2004,
                    1990,
                    1819,
                    1959,
                    1896,
                    1821,
                    1740,
                    1819,
                    1859,
                    1783,
                    1432,
                    1411,
                    1572,
                    1344,
                    1463,
                    1554,
                    1604,
                    1435,
                    1446,
                    1467,
                    1470,
                    1562,
                    1617,
                    1492,
                    1402,
                    1670,
                    1401,
                    1404,
                    1655,
                    2690,
                    1497,
                    1334,
                    1368,
                    1370,
                    1341,
                    1474,
                    1427,
                    1328,
                    1393,
                    1359,
                    1002,
                    3199,
                    2902,
                    3226,
                    2750,
                    3493,
                    3011,
                    2806,
                    3300,
                    2430,
                    2140,
                    2344,
                    2677,
                    2413,
                    2497,
                    3123,
                    2489,
                    3108,
                    2498,
                    3846,
                    2696,
                    2580,
                    3324,
                    2222,
                    2463,
                    3328,
                    3404,
                    2987,
                    3008,
                    2799,
                    1276,
                    2030,
                    1860,
                    2130,
                    1725,
                    1657,
                    1793,
                    1814,
                    1366,
                    1349,
                    2062,
                    1827,
                    1645,
                    1348,
                    1992,
                    1856,
                    1763,
                    1541,
                    1742,
                    1549,
                    1589,
                    1351,
                    2220,
                    2151,
                    2383,
                    2221,
                    2111,
                    2093,
                    2499,
                    2324,
                    2100,
                    2638,
                    2351,
                    2411,
                    2505,
                    2195,
                    2338,
                    2383,
                    2229,
                    2390,
                    2601,
                    2312,
                    2525,
                    2177,
                    2782,
                    2770,
                    2489,
                    2897,
                    3158,
                    2638,
                    2069,
                    2529,
                    2470,
                    2793,
                    2463,
                    2296,
                    2611,
                    2732,
                    2380,
                    2473,
                    2752,
                    2649,
                    2609,
                    2498,
                    1995,
                    1848,
                    2709,
                    2797,
                    2544,
                    1853,
                    1459,
                    1521,
                    1431,
                    1444,
                    1373,
                    1214,
                    1419,
                    1356,
                    1667,
                    1370,
                    1399,
                    1916,
                    1401,
                    1576,
                    1595,
                    1593,
                    1649,
                    1692,
                    1506,
                    1447,
                    1690,
                    1604,
                    1658,
                    1926,
                    1736,
                    1491,
                    1555,
                    1869,
                    1141,
                    1698,
                    1364,
                    2124,
                    2003,
                    1696,
                    1801,
                    1724,
                    1852,
                    1905,
                    1811,
                    1922,
                    1610,
                    1851,
                    1804,
                    1725,
                    1654,
                    1632,
                    1481,
                    1473,
                    1410,
                    1779,
                    1403,
                    1613,
                    1878,
                    1426,
                    1780,
                    1742,
                    1972,
                    1821,
                    1630,
                    1899,
                    1903,
                    1125,
                    2344,
                    2038,
                    2010,
                    2133,
                    2670,
                    1882,
                    1944,
                    2346,
                    2198,
                    2048,
                    1946,
                    2629,
                    2187,
                    2095,
                    1861,
                    2194,
                    1854,
                    403,
                    1982,
                    2004,
                    1893,
                    2063,
                    2148,
                    1529,
                    1890,
                    1956,
                    2094,
                    1970,
                    2241,
                    2021,
                    1898,
                    1907,
                    1882,
                    1966,
                    1835,
                    1780,
                    1830,
                    1739,
                    1878,
                    1906,
                    2015,
                    1971,
                    1910,
                    1897,
                    2096,
                    1906,
                    1962,
                    1826,
                    1431,
                    1788,
                    2093,
                    2065,
                    1908,
                    1908,
                    1964,
                    2014,
                    1985,
                    1867,
                    2124,
                    1669,
                    1995,
                    1921,
                    2010,
                    2057,
                    2095,
                    1972,
                    2044,
                    1946,
                    1237,
                    1450,
                    1495,
                    1433,
                    1468,
                    1625,
                    1529,
                    1584,
                    1638,
                    1554,
                    1397,
                    1481,
                    1638,
                    1655,
                    1570,
                    1551,
                    1377,
                    1407,
                    1545,
                    1650,
                    1501,
                    1760,
                    1710,
                    1628,
                    1618,
                    1590,
                    1574,
                    1633,
                    1667,
                    1630,
                    52,
                    3654,
                    2011,
                    2951,
                    3051,
                    1990,
                    1995,
                    2207,
                    2828,
                    3879,
                    3429,
                    2704,
                    2975,
                    3089,
                    2785,
                    2926,
                    2645,
                    1120,
                    2286,
                    2306,
                    1527,
                    2115,
                    2135,
                    2302,
                    1985,
                    1884,
                    1464,
                    1632,
                    2200,
                    2220,
                    1792,
                    1886,
                    1945,
                    1880,
                    2314,
                    2236,
                    2324,
                    2367,
                    2175,
                    2092,
                    1593,
                    2270,
                    2235,
                    2282,
                    2530,
                    2266,
                    2158,
                    1792,
                    2345,
                    2260,
                    2232,
                    257,
                    2955,
                    3092,
                    2998,
                    3066,
                    3073,
                    2572,
                    3274,
                    3015,
                    3083,
                    3069,
                    3544,
                    3306,
                    2885,
                    3288,
                    2929,
                    3074,
                    2969,
                    2979,
                    3283,
                    2926,
                    3147,
                    3290,
                    3162,
                    2899,
                    3425,
                    4022,
                    3934,
                    3013,
                    3061,
                    2954,
                    1623,
                    2113,
                    2095,
                    2194,
                    2496,
                    2180,
                    1933,
                    2248,
                    1954,
                    1974,
                    2150,
                    2432,
                    2149,
                    2247,
                    2070,
                    2291,
                    2361,
                    2203,
                    2196,
                    2363,
                    2246,
                    2336,
                    2421,
                    2070,
                    2120,
                    2211,
                    2123,
                    2423,
                    2281,
                    2181,
                    2499,
                    1212,
                    1909,
                    1722,
                    1922,
                    2121,
                    1997,
                    2117,
                    2116,
                    1876,
                    1788,
                    2486,
                    2094,
                    2085,
                    2173,
                    2225,
                    2223,
                    2098,
                    2185,
                    1918,
                    2105,
                    1692,
                    2066,
                    1953,
                    1842,
                    2262,
                    1722,
                    1973,
                    2666,
                    2223,
                    1889,
                    2131,
                    1452,
                    2947,
                    2898,
                    2984,
                    2896,
                    3328,
                    3394,
                    3013,
                    2812,
                    3061,
                    2729,
                    2241,
                    3691,
                    3538,
                    3064,
                    2784,
                    2908,
                    3033,
                    3165,
                    3115,
                    2859,
                    3145,
                    3004,
                    3006,
                    2859,
                    3683,
                    3287,
                    2990,
                    3172,
                    3069,
                    1240,
                    2026,
                    1718,
                    2324,
                    2254,
                    1831,
                    1397,
                    1683,
                    2284,
                    1570,
                    2066,
                    2105,
                    1776,
                    1507,
                    2033,
                    2093,
                    1922,
                    1999,
                    2169,
                    1463,
                    1747,
                    1996,
                    2116,
                    1698,
                    2156,
                    1916,
                    1494,
                    1762,
                    2272,
                    2335,
                    1693,
                    741,
                    3405,
                    2551,
                    4022,
                    4005,
                    4274,
                    4552,
                    3625,
                    3501,
                    3192,
                    4018,
                    3329,
                    3152,
                    4392,
                    3374,
                    3088,
                    3294,
                    3580,
                    3544,
                    4501,
                    4546,
                    3014,
                    3795,
                    2755,
                    3004,
                    2643,
                    2489,
                    3841,
                    1665,
                    2865,
                    2828,
                    2225,
                    2018,
                    2606,
                    2536,
                    4900,
                    2409,
                    2651,
                    2305,
                    2450,
                    2576,
                    1879,
                    2560,
                    2275,
                    2361,
                    2044,
                    1902,
                    2636,
                    1838,
                    2469,
                    2250,
                    1248,
                    2560,
                    2905,
                    2952,
                    2896,
                    2783,
                    3171,
                    2766,
                    2839,
                    2701,
                    2796,
                    2703,
                    2771,
                    2743,
                    2687,
                    2843,
                    3327,
                    2725,
                    2671,
                    2718,
                    2682,
                    2806,
                    2613,
                    2712,
                    2175,
                    2400,
                    2507,
                    2127,
                    2225,
                    2067,
                    2798,
                    3727,
                    1922,
                    2053,
                    2484,
                    2584,
                    1993,
                    2280,
                    2319,
                    1843,
                    2496,
                    1032,
                    1994,
                    1718,
                    1466,
                    1756,
                    2173,
                    2027,
                    2039,
                    2046,
                    2174,
                    2179,
                    2086,
                    2571,
                    1705,
                    2194,
                    2012,
                    2034,
                    2182,
                    2254,
                    2002,
                    1740,
                    2162,
                    2072,
                    2086,
                    2066,
                    1850,
                    1947,
                    1659,
                    2105,
                    2361,
                    1855,
                    928,
                    2937,
                    2742,
                    2668,
                    2098,
                    2076,
                    2383,
                    2832,
                    2812,
                    3096,
                    2763,
                    2889,
                    2284,
                    2667,
                    3055,
                    2939,
                    2830,
                    2836,
                    3180,
                    2051,
                    2225,
                    2642,
                    2976,
                    2933,
                    2553,
                    2772,
                    2516,
                    2734,
                    2395,
                    1635,
                    2743,
                    2944,
                    2997,
                    2463,
                    2846,
                    1965,
                    2049,
                    2752,
                    2781,
                    2693,
                    2862,
                    2616,
                    2995,
                    2730,
                    2754,
                    2754,
                    2655,
                    2386,
                    2924,
                    2739,
                    2534,
                    2960,
                    2800,
                    2735,
                    1199,
                    3186,
                    3140,
                    3411,
                    3410,
                    2867,
                    3213,
                    3133,
                    3114,
                    3043,
                    3103,
                    2655,
                    3554,
                    3577,
                    3403,
                    2846,
                    2852,
                    3062,
                    2794,
                    2408,
                    1886,
                    1988,
                    3023,
                    2918,
                    2950,
                    2859,
                    3331,
                    3589,
                    2765,
                    2926,
                    2809,
                    1505,
                    2044,
                    1935,
                    1705,
                    1632,
                    1880,
                    2112,
                    1829,
                    1763,
                    1931,
                    2218,
                    1651,
                    2132,
                    1976,
                    1909,
                    1813,
                    2008,
                    1580,
                    1854,
                    3635,
                    4079,
                    4163,
                    3666,
                    3363,
                    2572,
                    4157,
                    4092,
                    3787,
                    4236,
                    4044,
                    2908,
                    2741,
                    4005,
                    3763,
                    3061,
                    2884,
                    2982,
                    2660,
                    3369,
                    3491,
                    3784,
                    3110,
                    3783,
                    3644,
                    2799,
                    2685,
                    3721,
                    3586,
                    3788,
                    1976,
                    2650,
                    2654,
                    2443,
                    2505,
                    2693,
                    2439,
                    2536,
                    2668,
                    2647,
                    2883,
                    2944,
                    3012,
                    2889,
                    2547,
                    3093,
                    3142,
                    2757,
                    3513,
                    3164,
                    2596,
                    2894,
                    3212,
                    2516,
                    3266,
                    2683,
                    2810,
                    2940,
                    2947,
                    2846,
                    2804,
                    2044,
                    1934,
                    1963,
                    2009,
                    1721,
                    2188,
                    1720,
                    2419,
                    2748,
                    1799,
                    1928,
                    2067,
                    2780,
                    3101,
                    2896,
                    1962,
                    2015,
                    2297,
                    2067,
                    3921,
                    3566,
                    3793,
                    3934,
                    4547,
                    3545,
                    2761,
                    3676,
                    3679,
                    3659,
                    3427,
                    3891,
                    3455,
                    3802,
                    2860,
                    3808,
                    3060,
                    2698,
                    4398,
                    2786,
                    2189,
                    2817,
                    3477,
                    3052,
                    4015,
                    4142,
                    2847,
                    3710,
                    2832,
                    3832,
                    1849
                  ],
                  "xaxis": "x",
                  "y": [
                    13162,
                    10735,
                    10460,
                    9762,
                    12669,
                    9705,
                    13019,
                    15506,
                    10544,
                    9819,
                    12764,
                    14371,
                    10039,
                    15355,
                    13755,
                    18134,
                    13154,
                    11181,
                    14673,
                    10602,
                    14727,
                    15103,
                    11100,
                    14070,
                    12159,
                    11992,
                    10060,
                    12022,
                    12207,
                    12770,
                    8163,
                    7007,
                    9107,
                    1510,
                    5370,
                    6175,
                    10536,
                    2916,
                    4974,
                    6349,
                    4026,
                    8538,
                    6076,
                    6497,
                    2826,
                    8367,
                    2759,
                    2390,
                    6474,
                    36019,
                    7155,
                    2100,
                    2193,
                    2470,
                    1727,
                    2104,
                    3427,
                    1732,
                    2969,
                    3134,
                    2971,
                    10694,
                    8001,
                    11037,
                    5263,
                    15300,
                    8757,
                    7132,
                    11256,
                    2436,
                    1223,
                    3673,
                    6637,
                    3321,
                    3580,
                    9919,
                    3032,
                    9405,
                    3176,
                    18213,
                    6132,
                    3758,
                    12850,
                    2309,
                    4363,
                    9787,
                    13372,
                    6724,
                    6643,
                    9167,
                    1329,
                    6697,
                    4929,
                    7937,
                    3844,
                    3414,
                    4525,
                    4597,
                    197,
                    8,
                    8054,
                    5372,
                    3570,
                    4,
                    6907,
                    4920,
                    4014,
                    2573,
                    4059,
                    2080,
                    2237,
                    44,
                    678,
                    356,
                    2163,
                    980,
                    244,
                    149,
                    2945,
                    2090,
                    152,
                    3761,
                    1675,
                    2704,
                    3790,
                    1326,
                    1786,
                    2091,
                    1510,
                    11875,
                    12024,
                    10690,
                    11034,
                    10100,
                    15112,
                    14131,
                    11548,
                    15112,
                    12453,
                    12954,
                    6001,
                    13481,
                    11369,
                    10119,
                    10159,
                    10140,
                    10245,
                    18387,
                    10538,
                    10379,
                    12183,
                    11768,
                    11895,
                    10227,
                    6708,
                    3292,
                    13379,
                    12798,
                    13272,
                    9117,
                    4414,
                    4993,
                    3335,
                    3821,
                    2547,
                    838,
                    3325,
                    2424,
                    7222,
                    2467,
                    2915,
                    12357,
                    3490,
                    6017,
                    5933,
                    6088,
                    6375,
                    7604,
                    4729,
                    3609,
                    7018,
                    5992,
                    6564,
                    12167,
                    8198,
                    4193,
                    5528,
                    10685,
                    254,
                    8580,
                    8891,
                    10725,
                    7275,
                    3973,
                    5205,
                    5057,
                    6198,
                    6559,
                    5997,
                    7192,
                    3404,
                    5583,
                    5079,
                    4165,
                    3588,
                    3409,
                    1715,
                    1532,
                    924,
                    4571,
                    772,
                    3634,
                    7443,
                    1201,
                    5202,
                    4878,
                    7379,
                    5161,
                    3090,
                    6227,
                    6424,
                    2661,
                    10113,
                    10352,
                    10129,
                    10465,
                    22244,
                    5472,
                    8247,
                    6711,
                    10999,
                    10080,
                    7804,
                    16901,
                    9471,
                    9482,
                    5980,
                    11423,
                    5439,
                    42,
                    8796,
                    7618,
                    7910,
                    8482,
                    9685,
                    2524,
                    7762,
                    7948,
                    9202,
                    8859,
                    7286,
                    9317,
                    6873,
                    7373,
                    8242,
                    3516,
                    7913,
                    7365,
                    8452,
                    7399,
                    7525,
                    7412,
                    8278,
                    8314,
                    7063,
                    4940,
                    8168,
                    7726,
                    8275,
                    6440,
                    7566,
                    4747,
                    9715,
                    8844,
                    7451,
                    6905,
                    8199,
                    6798,
                    7711,
                    4880,
                    8857,
                    3843,
                    7396,
                    6731,
                    5995,
                    8283,
                    7904,
                    5512,
                    9135,
                    5250,
                    3077,
                    8856,
                    10035,
                    7641,
                    9010,
                    13459,
                    10415,
                    11663,
                    12414,
                    11658,
                    6093,
                    8911,
                    12058,
                    14112,
                    11177,
                    11388,
                    7193,
                    7114,
                    10645,
                    13238,
                    10414,
                    16520,
                    14335,
                    13559,
                    12312,
                    11677,
                    11550,
                    13585,
                    14687,
                    13072,
                    746,
                    8539,
                    108,
                    1882,
                    1982,
                    16,
                    62,
                    475,
                    4496,
                    10252,
                    11728,
                    4369,
                    6132,
                    5862,
                    4556,
                    5546,
                    3689,
                    590,
                    5394,
                    5974,
                    3984,
                    7753,
                    8204,
                    10210,
                    5664,
                    4744,
                    29,
                    2276,
                    8925,
                    8954,
                    3702,
                    4500,
                    4935,
                    4081,
                    9259,
                    9899,
                    10780,
                    10817,
                    7990,
                    8221,
                    1251,
                    9261,
                    9648,
                    10429,
                    13658,
                    9524,
                    7937,
                    3672,
                    10378,
                    9487,
                    9129,
                    17,
                    10122,
                    10993,
                    8863,
                    8758,
                    6580,
                    4660,
                    11009,
                    10181,
                    10553,
                    10055,
                    12139,
                    13236,
                    10243,
                    12961,
                    9461,
                    11193,
                    10074,
                    9232,
                    12533,
                    10255,
                    10096,
                    12727,
                    12375,
                    9603,
                    13175,
                    22770,
                    17298,
                    10218,
                    10299,
                    10201,
                    3369,
                    3276,
                    2961,
                    3974,
                    7198,
                    3945,
                    2268,
                    6155,
                    2064,
                    2072,
                    3809,
                    6831,
                    4363,
                    5002,
                    3385,
                    6326,
                    7243,
                    4493,
                    4676,
                    6222,
                    5232,
                    6910,
                    7502,
                    2923,
                    3800,
                    4514,
                    5183,
                    7303,
                    5275,
                    3915,
                    9105,
                    768,
                    5135,
                    4978,
                    6799,
                    7795,
                    7289,
                    9634,
                    8940,
                    5401,
                    4803,
                    13743,
                    9601,
                    6890,
                    8563,
                    8095,
                    9148,
                    9557,
                    9451,
                    7833,
                    10319,
                    3428,
                    7891,
                    5267,
                    5232,
                    10611,
                    3755,
                    8237,
                    6543,
                    11451,
                    6435,
                    9108,
                    6307,
                    7213,
                    6877,
                    7860,
                    6506,
                    11140,
                    12692,
                    9105,
                    6708,
                    8793,
                    6530,
                    1664,
                    15126,
                    15050,
                    9167,
                    6108,
                    7047,
                    9023,
                    9930,
                    10144,
                    7245,
                    9454,
                    8161,
                    8614,
                    6943,
                    14370,
                    12857,
                    8232,
                    10613,
                    9810,
                    2752,
                    11596,
                    4832,
                    17022,
                    16556,
                    5771,
                    655,
                    3727,
                    15482,
                    2713,
                    12346,
                    11682,
                    4112,
                    1807,
                    10946,
                    11886,
                    10538,
                    11393,
                    12764,
                    1202,
                    5164,
                    9769,
                    12848,
                    4249,
                    14331,
                    9632,
                    1868,
                    6083,
                    11611,
                    16358,
                    4926,
                    3121,
                    8135,
                    5077,
                    8596,
                    12087,
                    14269,
                    12231,
                    9893,
                    12574,
                    8330,
                    10830,
                    9172,
                    7638,
                    15764,
                    6393,
                    5325,
                    6805,
                    9841,
                    7924,
                    12363,
                    13368,
                    7439,
                    11045,
                    5206,
                    7550,
                    4950,
                    3421,
                    8869,
                    4038,
                    14019,
                    14450,
                    7150,
                    5153,
                    11135,
                    10449,
                    19542,
                    8206,
                    11495,
                    7623,
                    9543,
                    9411,
                    3403,
                    9592,
                    6987,
                    8915,
                    4933,
                    2997,
                    9799,
                    3365,
                    7336,
                    7328,
                    4477,
                    4562,
                    7142,
                    7671,
                    9501,
                    8301,
                    7851,
                    6885,
                    7142,
                    6361,
                    6238,
                    5896,
                    7802,
                    5565,
                    5731,
                    6744,
                    9837,
                    6781,
                    6047,
                    5832,
                    6339,
                    6116,
                    5510,
                    7706,
                    6277,
                    4053,
                    5162,
                    1282,
                    4732,
                    2497,
                    8294,
                    10771,
                    637,
                    2153,
                    6474,
                    7091,
                    703,
                    2503,
                    2487,
                    9,
                    4697,
                    1967,
                    10199,
                    5652,
                    1551,
                    5563,
                    13217,
                    10145,
                    11404,
                    10742,
                    13928,
                    11835,
                    10725,
                    20031,
                    5029,
                    13239,
                    10433,
                    10320,
                    12627,
                    10762,
                    10081,
                    5454,
                    12912,
                    12109,
                    10147,
                    10524,
                    5908,
                    6815,
                    4188,
                    12342,
                    15448,
                    6722,
                    3587,
                    14172,
                    12862,
                    11179,
                    5273,
                    4631,
                    8059,
                    14816,
                    14194,
                    15566,
                    13744,
                    15299,
                    8093,
                    11085,
                    18229,
                    15090,
                    13541,
                    15128,
                    20067,
                    3761,
                    5600,
                    13041,
                    14510,
                    15010,
                    11459,
                    11317,
                    5813,
                    9123,
                    8585,
                    31,
                    9827,
                    10688,
                    14365,
                    9469,
                    9753,
                    2817,
                    3520,
                    10091,
                    10387,
                    11107,
                    11584,
                    7881,
                    14560,
                    12390,
                    10052,
                    10288,
                    10988,
                    8564,
                    12461,
                    12827,
                    10677,
                    13566,
                    14433,
                    9572,
                    3789,
                    18060,
                    16433,
                    20159,
                    20669,
                    14549,
                    18827,
                    17076,
                    15929,
                    15108,
                    16057,
                    10520,
                    22359,
                    22988,
                    20500,
                    12685,
                    12422,
                    15447,
                    12315,
                    7135,
                    1170,
                    1969,
                    15484,
                    14581,
                    14990,
                    13953,
                    19769,
                    22026,
                    12465,
                    14810,
                    12209,
                    4998,
                    9033,
                    8053,
                    5234,
                    2672,
                    9256,
                    10204,
                    5151,
                    4212,
                    6466,
                    11268,
                    2824,
                    9282,
                    8905,
                    6829,
                    4562,
                    10232,
                    2718,
                    6260,
                    7626,
                    12386,
                    13318,
                    14461,
                    11207,
                    2132,
                    13630,
                    13070,
                    9388,
                    15148,
                    12200,
                    5709,
                    3703,
                    12405,
                    16208,
                    7359,
                    5417,
                    6175,
                    2946,
                    11419,
                    6064,
                    8712,
                    7875,
                    8567,
                    7045,
                    4468,
                    2943,
                    8382,
                    6582,
                    9143,
                    4561,
                    5014,
                    5571,
                    3135,
                    3430,
                    5319,
                    3008,
                    3864,
                    5697,
                    5273,
                    8538,
                    8687,
                    9423,
                    8286,
                    4503,
                    10499,
                    12474,
                    6174,
                    15168,
                    10085,
                    4512,
                    8469,
                    12015,
                    3588,
                    12427,
                    5843,
                    6117,
                    9217,
                    9877,
                    8240,
                    8701,
                    2564,
                    1320,
                    1219,
                    2483,
                    244,
                    3147,
                    144,
                    4068,
                    5245,
                    400,
                    1321,
                    1758,
                    6157,
                    8360,
                    7174,
                    1619,
                    1831,
                    2421,
                    2283,
                    23186,
                    15337,
                    21129,
                    13422,
                    29326,
                    15118,
                    11423,
                    18785,
                    19948,
                    19377,
                    18258,
                    11200,
                    16674,
                    12986,
                    11101,
                    23629,
                    14890,
                    9733,
                    27745,
                    10930,
                    4790,
                    10818,
                    18193,
                    14055,
                    21727,
                    12332,
                    10686,
                    20226,
                    10733,
                    21420,
                    8064
                  ],
                  "yaxis": "y"
                }
              ],
              "layout": {
                "legend": {
                  "orientation": "h",
                  "title": {
                    "text": ""
                  },
                  "tracegroupgap": 0,
                  "x": 1,
                  "xanchor": "right",
                  "y": 1.02,
                  "yanchor": "bottom"
                },
                "template": {
                  "data": {
                    "bar": [
                      {
                        "error_x": {
                          "color": "#2a3f5f"
                        },
                        "error_y": {
                          "color": "#2a3f5f"
                        },
                        "marker": {
                          "line": {
                            "color": "#E5ECF6",
                            "width": 0.5
                          },
                          "pattern": {
                            "fillmode": "overlay",
                            "size": 10,
                            "solidity": 0.2
                          }
                        },
                        "type": "bar"
                      }
                    ],
                    "barpolar": [
                      {
                        "marker": {
                          "line": {
                            "color": "#E5ECF6",
                            "width": 0.5
                          },
                          "pattern": {
                            "fillmode": "overlay",
                            "size": 10,
                            "solidity": 0.2
                          }
                        },
                        "type": "barpolar"
                      }
                    ],
                    "carpet": [
                      {
                        "aaxis": {
                          "endlinecolor": "#2a3f5f",
                          "gridcolor": "white",
                          "linecolor": "white",
                          "minorgridcolor": "white",
                          "startlinecolor": "#2a3f5f"
                        },
                        "baxis": {
                          "endlinecolor": "#2a3f5f",
                          "gridcolor": "white",
                          "linecolor": "white",
                          "minorgridcolor": "white",
                          "startlinecolor": "#2a3f5f"
                        },
                        "type": "carpet"
                      }
                    ],
                    "choropleth": [
                      {
                        "colorbar": {
                          "outlinewidth": 0,
                          "ticks": ""
                        },
                        "type": "choropleth"
                      }
                    ],
                    "contour": [
                      {
                        "colorbar": {
                          "outlinewidth": 0,
                          "ticks": ""
                        },
                        "colorscale": [
                          [
                            0,
                            "#0d0887"
                          ],
                          [
                            0.1111111111111111,
                            "#46039f"
                          ],
                          [
                            0.2222222222222222,
                            "#7201a8"
                          ],
                          [
                            0.3333333333333333,
                            "#9c179e"
                          ],
                          [
                            0.4444444444444444,
                            "#bd3786"
                          ],
                          [
                            0.5555555555555556,
                            "#d8576b"
                          ],
                          [
                            0.6666666666666666,
                            "#ed7953"
                          ],
                          [
                            0.7777777777777778,
                            "#fb9f3a"
                          ],
                          [
                            0.8888888888888888,
                            "#fdca26"
                          ],
                          [
                            1,
                            "#f0f921"
                          ]
                        ],
                        "type": "contour"
                      }
                    ],
                    "contourcarpet": [
                      {
                        "colorbar": {
                          "outlinewidth": 0,
                          "ticks": ""
                        },
                        "type": "contourcarpet"
                      }
                    ],
                    "heatmap": [
                      {
                        "colorbar": {
                          "outlinewidth": 0,
                          "ticks": ""
                        },
                        "colorscale": [
                          [
                            0,
                            "#0d0887"
                          ],
                          [
                            0.1111111111111111,
                            "#46039f"
                          ],
                          [
                            0.2222222222222222,
                            "#7201a8"
                          ],
                          [
                            0.3333333333333333,
                            "#9c179e"
                          ],
                          [
                            0.4444444444444444,
                            "#bd3786"
                          ],
                          [
                            0.5555555555555556,
                            "#d8576b"
                          ],
                          [
                            0.6666666666666666,
                            "#ed7953"
                          ],
                          [
                            0.7777777777777778,
                            "#fb9f3a"
                          ],
                          [
                            0.8888888888888888,
                            "#fdca26"
                          ],
                          [
                            1,
                            "#f0f921"
                          ]
                        ],
                        "type": "heatmap"
                      }
                    ],
                    "heatmapgl": [
                      {
                        "colorbar": {
                          "outlinewidth": 0,
                          "ticks": ""
                        },
                        "colorscale": [
                          [
                            0,
                            "#0d0887"
                          ],
                          [
                            0.1111111111111111,
                            "#46039f"
                          ],
                          [
                            0.2222222222222222,
                            "#7201a8"
                          ],
                          [
                            0.3333333333333333,
                            "#9c179e"
                          ],
                          [
                            0.4444444444444444,
                            "#bd3786"
                          ],
                          [
                            0.5555555555555556,
                            "#d8576b"
                          ],
                          [
                            0.6666666666666666,
                            "#ed7953"
                          ],
                          [
                            0.7777777777777778,
                            "#fb9f3a"
                          ],
                          [
                            0.8888888888888888,
                            "#fdca26"
                          ],
                          [
                            1,
                            "#f0f921"
                          ]
                        ],
                        "type": "heatmapgl"
                      }
                    ],
                    "histogram": [
                      {
                        "marker": {
                          "pattern": {
                            "fillmode": "overlay",
                            "size": 10,
                            "solidity": 0.2
                          }
                        },
                        "type": "histogram"
                      }
                    ],
                    "histogram2d": [
                      {
                        "colorbar": {
                          "outlinewidth": 0,
                          "ticks": ""
                        },
                        "colorscale": [
                          [
                            0,
                            "#0d0887"
                          ],
                          [
                            0.1111111111111111,
                            "#46039f"
                          ],
                          [
                            0.2222222222222222,
                            "#7201a8"
                          ],
                          [
                            0.3333333333333333,
                            "#9c179e"
                          ],
                          [
                            0.4444444444444444,
                            "#bd3786"
                          ],
                          [
                            0.5555555555555556,
                            "#d8576b"
                          ],
                          [
                            0.6666666666666666,
                            "#ed7953"
                          ],
                          [
                            0.7777777777777778,
                            "#fb9f3a"
                          ],
                          [
                            0.8888888888888888,
                            "#fdca26"
                          ],
                          [
                            1,
                            "#f0f921"
                          ]
                        ],
                        "type": "histogram2d"
                      }
                    ],
                    "histogram2dcontour": [
                      {
                        "colorbar": {
                          "outlinewidth": 0,
                          "ticks": ""
                        },
                        "colorscale": [
                          [
                            0,
                            "#0d0887"
                          ],
                          [
                            0.1111111111111111,
                            "#46039f"
                          ],
                          [
                            0.2222222222222222,
                            "#7201a8"
                          ],
                          [
                            0.3333333333333333,
                            "#9c179e"
                          ],
                          [
                            0.4444444444444444,
                            "#bd3786"
                          ],
                          [
                            0.5555555555555556,
                            "#d8576b"
                          ],
                          [
                            0.6666666666666666,
                            "#ed7953"
                          ],
                          [
                            0.7777777777777778,
                            "#fb9f3a"
                          ],
                          [
                            0.8888888888888888,
                            "#fdca26"
                          ],
                          [
                            1,
                            "#f0f921"
                          ]
                        ],
                        "type": "histogram2dcontour"
                      }
                    ],
                    "mesh3d": [
                      {
                        "colorbar": {
                          "outlinewidth": 0,
                          "ticks": ""
                        },
                        "type": "mesh3d"
                      }
                    ],
                    "parcoords": [
                      {
                        "line": {
                          "colorbar": {
                            "outlinewidth": 0,
                            "ticks": ""
                          }
                        },
                        "type": "parcoords"
                      }
                    ],
                    "pie": [
                      {
                        "automargin": true,
                        "type": "pie"
                      }
                    ],
                    "scatter": [
                      {
                        "marker": {
                          "colorbar": {
                            "outlinewidth": 0,
                            "ticks": ""
                          }
                        },
                        "type": "scatter"
                      }
                    ],
                    "scatter3d": [
                      {
                        "line": {
                          "colorbar": {
                            "outlinewidth": 0,
                            "ticks": ""
                          }
                        },
                        "marker": {
                          "colorbar": {
                            "outlinewidth": 0,
                            "ticks": ""
                          }
                        },
                        "type": "scatter3d"
                      }
                    ],
                    "scattercarpet": [
                      {
                        "marker": {
                          "colorbar": {
                            "outlinewidth": 0,
                            "ticks": ""
                          }
                        },
                        "type": "scattercarpet"
                      }
                    ],
                    "scattergeo": [
                      {
                        "marker": {
                          "colorbar": {
                            "outlinewidth": 0,
                            "ticks": ""
                          }
                        },
                        "type": "scattergeo"
                      }
                    ],
                    "scattergl": [
                      {
                        "marker": {
                          "colorbar": {
                            "outlinewidth": 0,
                            "ticks": ""
                          }
                        },
                        "type": "scattergl"
                      }
                    ],
                    "scattermapbox": [
                      {
                        "marker": {
                          "colorbar": {
                            "outlinewidth": 0,
                            "ticks": ""
                          }
                        },
                        "type": "scattermapbox"
                      }
                    ],
                    "scatterpolar": [
                      {
                        "marker": {
                          "colorbar": {
                            "outlinewidth": 0,
                            "ticks": ""
                          }
                        },
                        "type": "scatterpolar"
                      }
                    ],
                    "scatterpolargl": [
                      {
                        "marker": {
                          "colorbar": {
                            "outlinewidth": 0,
                            "ticks": ""
                          }
                        },
                        "type": "scatterpolargl"
                      }
                    ],
                    "scatterternary": [
                      {
                        "marker": {
                          "colorbar": {
                            "outlinewidth": 0,
                            "ticks": ""
                          }
                        },
                        "type": "scatterternary"
                      }
                    ],
                    "surface": [
                      {
                        "colorbar": {
                          "outlinewidth": 0,
                          "ticks": ""
                        },
                        "colorscale": [
                          [
                            0,
                            "#0d0887"
                          ],
                          [
                            0.1111111111111111,
                            "#46039f"
                          ],
                          [
                            0.2222222222222222,
                            "#7201a8"
                          ],
                          [
                            0.3333333333333333,
                            "#9c179e"
                          ],
                          [
                            0.4444444444444444,
                            "#bd3786"
                          ],
                          [
                            0.5555555555555556,
                            "#d8576b"
                          ],
                          [
                            0.6666666666666666,
                            "#ed7953"
                          ],
                          [
                            0.7777777777777778,
                            "#fb9f3a"
                          ],
                          [
                            0.8888888888888888,
                            "#fdca26"
                          ],
                          [
                            1,
                            "#f0f921"
                          ]
                        ],
                        "type": "surface"
                      }
                    ],
                    "table": [
                      {
                        "cells": {
                          "fill": {
                            "color": "#EBF0F8"
                          },
                          "line": {
                            "color": "white"
                          }
                        },
                        "header": {
                          "fill": {
                            "color": "#C8D4E3"
                          },
                          "line": {
                            "color": "white"
                          }
                        },
                        "type": "table"
                      }
                    ]
                  },
                  "layout": {
                    "annotationdefaults": {
                      "arrowcolor": "#2a3f5f",
                      "arrowhead": 0,
                      "arrowwidth": 1
                    },
                    "autotypenumbers": "strict",
                    "coloraxis": {
                      "colorbar": {
                        "outlinewidth": 0,
                        "ticks": ""
                      }
                    },
                    "colorscale": {
                      "diverging": [
                        [
                          0,
                          "#8e0152"
                        ],
                        [
                          0.1,
                          "#c51b7d"
                        ],
                        [
                          0.2,
                          "#de77ae"
                        ],
                        [
                          0.3,
                          "#f1b6da"
                        ],
                        [
                          0.4,
                          "#fde0ef"
                        ],
                        [
                          0.5,
                          "#f7f7f7"
                        ],
                        [
                          0.6,
                          "#e6f5d0"
                        ],
                        [
                          0.7,
                          "#b8e186"
                        ],
                        [
                          0.8,
                          "#7fbc41"
                        ],
                        [
                          0.9,
                          "#4d9221"
                        ],
                        [
                          1,
                          "#276419"
                        ]
                      ],
                      "sequential": [
                        [
                          0,
                          "#0d0887"
                        ],
                        [
                          0.1111111111111111,
                          "#46039f"
                        ],
                        [
                          0.2222222222222222,
                          "#7201a8"
                        ],
                        [
                          0.3333333333333333,
                          "#9c179e"
                        ],
                        [
                          0.4444444444444444,
                          "#bd3786"
                        ],
                        [
                          0.5555555555555556,
                          "#d8576b"
                        ],
                        [
                          0.6666666666666666,
                          "#ed7953"
                        ],
                        [
                          0.7777777777777778,
                          "#fb9f3a"
                        ],
                        [
                          0.8888888888888888,
                          "#fdca26"
                        ],
                        [
                          1,
                          "#f0f921"
                        ]
                      ],
                      "sequentialminus": [
                        [
                          0,
                          "#0d0887"
                        ],
                        [
                          0.1111111111111111,
                          "#46039f"
                        ],
                        [
                          0.2222222222222222,
                          "#7201a8"
                        ],
                        [
                          0.3333333333333333,
                          "#9c179e"
                        ],
                        [
                          0.4444444444444444,
                          "#bd3786"
                        ],
                        [
                          0.5555555555555556,
                          "#d8576b"
                        ],
                        [
                          0.6666666666666666,
                          "#ed7953"
                        ],
                        [
                          0.7777777777777778,
                          "#fb9f3a"
                        ],
                        [
                          0.8888888888888888,
                          "#fdca26"
                        ],
                        [
                          1,
                          "#f0f921"
                        ]
                      ]
                    },
                    "colorway": [
                      "#636efa",
                      "#EF553B",
                      "#00cc96",
                      "#ab63fa",
                      "#FFA15A",
                      "#19d3f3",
                      "#FF6692",
                      "#B6E880",
                      "#FF97FF",
                      "#FECB52"
                    ],
                    "font": {
                      "color": "#2a3f5f"
                    },
                    "geo": {
                      "bgcolor": "white",
                      "lakecolor": "white",
                      "landcolor": "#E5ECF6",
                      "showlakes": true,
                      "showland": true,
                      "subunitcolor": "white"
                    },
                    "hoverlabel": {
                      "align": "left"
                    },
                    "hovermode": "closest",
                    "mapbox": {
                      "style": "light"
                    },
                    "paper_bgcolor": "white",
                    "plot_bgcolor": "#E5ECF6",
                    "polar": {
                      "angularaxis": {
                        "gridcolor": "white",
                        "linecolor": "white",
                        "ticks": ""
                      },
                      "bgcolor": "#E5ECF6",
                      "radialaxis": {
                        "gridcolor": "white",
                        "linecolor": "white",
                        "ticks": ""
                      }
                    },
                    "scene": {
                      "xaxis": {
                        "backgroundcolor": "#E5ECF6",
                        "gridcolor": "white",
                        "gridwidth": 2,
                        "linecolor": "white",
                        "showbackground": true,
                        "ticks": "",
                        "zerolinecolor": "white"
                      },
                      "yaxis": {
                        "backgroundcolor": "#E5ECF6",
                        "gridcolor": "white",
                        "gridwidth": 2,
                        "linecolor": "white",
                        "showbackground": true,
                        "ticks": "",
                        "zerolinecolor": "white"
                      },
                      "zaxis": {
                        "backgroundcolor": "#E5ECF6",
                        "gridcolor": "white",
                        "gridwidth": 2,
                        "linecolor": "white",
                        "showbackground": true,
                        "ticks": "",
                        "zerolinecolor": "white"
                      }
                    },
                    "shapedefaults": {
                      "line": {
                        "color": "#2a3f5f"
                      }
                    },
                    "ternary": {
                      "aaxis": {
                        "gridcolor": "white",
                        "linecolor": "white",
                        "ticks": ""
                      },
                      "baxis": {
                        "gridcolor": "white",
                        "linecolor": "white",
                        "ticks": ""
                      },
                      "bgcolor": "#E5ECF6",
                      "caxis": {
                        "gridcolor": "white",
                        "linecolor": "white",
                        "ticks": ""
                      }
                    },
                    "title": {
                      "x": 0.05
                    },
                    "xaxis": {
                      "automargin": true,
                      "gridcolor": "white",
                      "linecolor": "white",
                      "ticks": "",
                      "title": {
                        "standoff": 15
                      },
                      "zerolinecolor": "white",
                      "zerolinewidth": 2
                    },
                    "yaxis": {
                      "automargin": true,
                      "gridcolor": "white",
                      "linecolor": "white",
                      "ticks": "",
                      "title": {
                        "standoff": 15
                      },
                      "zerolinecolor": "white",
                      "zerolinewidth": 2
                    }
                  }
                },
                "title": {
                  "text": "Calories vs Steps total"
                },
                "xaxis": {
                  "anchor": "y",
                  "domain": [
                    0,
                    1
                  ],
                  "title": {
                    "text": "Calories spent in a Day"
                  }
                },
                "yaxis": {
                  "anchor": "x",
                  "domain": [
                    0,
                    1
                  ],
                  "side": "left",
                  "title": {
                    "text": "Total Steps in a day"
                  }
                }
              }
            }
          },
          "metadata": {},
          "output_type": "display_data"
        }
      ],
      "source": [
        "# Plot\n",
        "fig = px.scatter(x=df_analysis_calories_steps['Calories'], y=df_analysis_calories_steps['StepTotal'], title=\"Calories vs Steps total\")\n",
        "\n",
        "fig.update_layout(legend=dict(\n",
        "                      orientation=\"h\",\n",
        "                      yanchor=\"bottom\",\n",
        "                      y=1.02,\n",
        "                      xanchor=\"right\",\n",
        "                      x=1,\n",
        "                      title=''\n",
        "                  ),xaxis=dict(\n",
        "                      title = 'Calories spent in a Day',\n",
        "                      ), \n",
        "                    yaxis=dict(\n",
        "                      title='Total Steps in a day',\n",
        "                      side='left',\n",
        "))\n",
        "\n",
        "\n",
        "fig.show()"
      ]
    },
    {
      "cell_type": "markdown",
      "metadata": {
        "id": "Ui83xTBS30hr"
      },
      "source": [
        "A well correlation. The more steps you do in your day, the more calories are spent.\n",
        "\n",
        "We have some outliers, but that can be:\n",
        "1. An error of the device;\n",
        "2. The outlier is counting calories just from the steps (and the calories of every other data point is a sum of steps and activities);"
      ]
    },
    {
      "cell_type": "markdown",
      "metadata": {
        "id": "qfBBqz1xoSBW"
      },
      "source": [
        "### Time Activity vs Sleep Time"
      ]
    },
    {
      "cell_type": "code",
      "execution_count": 38,
      "metadata": {
        "id": "bbO__PAVoDD9"
      },
      "outputs": [],
      "source": [
        "dailyActivity = pd.read_csv(\"Data_Coursera_CaseStudy02/dailyActivity_merged.csv\", index_col=[0])\n",
        "sleepDay = pd.read_csv(\"Data_Coursera_CaseStudy02/sleepDay_merged.csv\", index_col=[0])\n",
        "\n",
        "# Remove the time data from sleepDay Dataframe\n",
        "sleepDay['SleepDay'] = sleepDay['SleepDay'].str.replace(' 12:00:00 AM','')\n",
        "\n",
        "# Renaming the columns\n",
        "dailyActivity.rename(columns={'ActivityDate': 'Day'}, inplace=True)\n",
        "sleepDay.rename(columns={'SleepDay': 'Day'}, inplace=True)"
      ]
    },
    {
      "cell_type": "code",
      "execution_count": null,
      "metadata": {
        "id": "nEvm6zRVp4MW"
      },
      "outputs": [],
      "source": [
        "# Merging the Dataframes\n",
        "df_analysis_calories_steps = pd.merge(dailyActivity, sleepDay, on = ['Id', 'Day'])\n",
        "df_analysis_calories_steps"
      ]
    },
    {
      "cell_type": "code",
      "execution_count": 40,
      "metadata": {
        "colab": {
          "base_uri": "https://localhost:8080/",
          "height": 617
        },
        "id": "vEydgcYRoCSu",
        "outputId": "2a4a6a1e-2b99-4da4-eba0-456d17d69e6e"
      },
      "outputs": [
        {
          "data": {
            "application/vnd.plotly.v1+json": {
              "config": {
                "plotlyServerURL": "https://plot.ly"
              },
              "data": [
                {
                  "mode": "markers",
                  "name": "Lightly Activities",
                  "type": "scatter",
                  "x": [
                    328,
                    217,
                    209,
                    221,
                    164,
                    264,
                    205,
                    211,
                    262,
                    238,
                    216,
                    279,
                    189,
                    243,
                    217,
                    246,
                    277,
                    254,
                    250,
                    289,
                    175,
                    203,
                    206,
                    214,
                    251,
                    120,
                    402,
                    148,
                    295,
                    176,
                    184,
                    75,
                    55,
                    32,
                    51,
                    192,
                    95,
                    181,
                    238,
                    197,
                    188,
                    150,
                    60,
                    141,
                    327,
                    153,
                    162,
                    432,
                    164,
                    260,
                    286,
                    331,
                    352,
                    233,
                    191,
                    355,
                    345,
                    475,
                    383,
                    229,
                    258,
                    401,
                    17,
                    330,
                    343,
                    242,
                    195,
                    206,
                    284,
                    249,
                    206,
                    382,
                    208,
                    206,
                    360,
                    360,
                    277,
                    227,
                    295,
                    229,
                    4,
                    131,
                    153,
                    214,
                    183,
                    153,
                    205,
                    214,
                    221,
                    164,
                    242,
                    188,
                    252,
                    129,
                    133,
                    170,
                    176,
                    190,
                    150,
                    194,
                    124,
                    176,
                    258,
                    142,
                    178,
                    168,
                    208,
                    171,
                    196,
                    331,
                    55,
                    174,
                    346,
                    196,
                    177,
                    263,
                    206,
                    339,
                    228,
                    194,
                    58,
                    311,
                    306,
                    34,
                    176,
                    233,
                    191,
                    390,
                    288,
                    300,
                    359,
                    289,
                    196,
                    67,
                    344,
                    287,
                    314,
                    279,
                    153,
                    374,
                    329,
                    311,
                    2,
                    299,
                    253,
                    201,
                    239,
                    249,
                    228,
                    272,
                    220,
                    215,
                    239,
                    224,
                    241,
                    234,
                    300,
                    241,
                    204,
                    251,
                    199,
                    260,
                    178,
                    258,
                    267,
                    256,
                    196,
                    194,
                    231,
                    350,
                    225,
                    114,
                    121,
                    137,
                    215,
                    317,
                    179,
                    180,
                    194,
                    236,
                    226,
                    290,
                    240,
                    200,
                    233,
                    180,
                    185,
                    229,
                    108,
                    308,
                    266,
                    231,
                    232,
                    58,
                    432,
                    283,
                    197,
                    190,
                    238,
                    263,
                    258,
                    271,
                    256,
                    335,
                    302,
                    191,
                    179,
                    260,
                    144,
                    408,
                    281,
                    270,
                    216,
                    238,
                    232,
                    267,
                    263,
                    313,
                    251,
                    241,
                    207,
                    439,
                    253,
                    262,
                    235,
                    68,
                    277,
                    226,
                    256,
                    239,
                    288,
                    46,
                    206,
                    249,
                    148,
                    177,
                    270,
                    272,
                    104,
                    201,
                    238,
                    206,
                    165,
                    270,
                    84,
                    237,
                    227,
                    247,
                    224,
                    241,
                    229,
                    96,
                    210,
                    251,
                    265,
                    195,
                    48,
                    140,
                    144,
                    176,
                    199,
                    158,
                    159,
                    130,
                    111,
                    113,
                    175,
                    200,
                    223,
                    141,
                    214,
                    181,
                    190,
                    141,
                    165,
                    163,
                    178,
                    235,
                    212,
                    141,
                    143,
                    194,
                    63,
                    518,
                    312,
                    241,
                    480,
                    349,
                    294,
                    402,
                    512,
                    362,
                    458,
                    141,
                    461,
                    397,
                    487,
                    133,
                    412,
                    318,
                    197,
                    85,
                    105,
                    58,
                    189,
                    142,
                    86,
                    217,
                    280,
                    295,
                    238,
                    195,
                    297,
                    214,
                    240,
                    347,
                    199,
                    282,
                    254,
                    279,
                    288,
                    369,
                    237,
                    215,
                    313,
                    267,
                    284,
                    305,
                    299,
                    328,
                    151,
                    231,
                    275,
                    199,
                    105,
                    203,
                    237,
                    153,
                    155,
                    189,
                    139,
                    124,
                    145,
                    206,
                    153,
                    125,
                    129,
                    132,
                    145,
                    161,
                    308,
                    258,
                    139,
                    152,
                    135,
                    154,
                    209,
                    147,
                    171,
                    128,
                    58,
                    158,
                    223,
                    148,
                    156,
                    169,
                    174,
                    190,
                    142,
                    93,
                    174,
                    154,
                    169,
                    145,
                    159,
                    136,
                    135,
                    141,
                    161,
                    192,
                    139,
                    172,
                    121,
                    127,
                    142,
                    195,
                    167,
                    214,
                    166,
                    158,
                    139,
                    171,
                    152,
                    184,
                    102,
                    116,
                    82,
                    84,
                    126,
                    139,
                    195,
                    232,
                    112,
                    310,
                    380,
                    301,
                    79,
                    101,
                    156,
                    129
                  ],
                  "xaxis": "x",
                  "y": [
                    327,
                    384,
                    412,
                    340,
                    700,
                    304,
                    360,
                    325,
                    361,
                    430,
                    277,
                    245,
                    366,
                    341,
                    404,
                    369,
                    277,
                    273,
                    247,
                    334,
                    331,
                    594,
                    338,
                    383,
                    285,
                    119,
                    124,
                    796,
                    137,
                    644,
                    722,
                    590,
                    750,
                    398,
                    475,
                    296,
                    166,
                    503,
                    531,
                    545,
                    523,
                    524,
                    437,
                    498,
                    461,
                    477,
                    520,
                    522,
                    555,
                    506,
                    508,
                    513,
                    490,
                    573,
                    527,
                    511,
                    538,
                    468,
                    524,
                    511,
                    541,
                    531,
                    357,
                    523,
                    456,
                    61,
                    467,
                    445,
                    452,
                    556,
                    500,
                    465,
                    460,
                    405,
                    374,
                    442,
                    433,
                    436,
                    448,
                    408,
                    411,
                    274,
                    295,
                    291,
                    424,
                    283,
                    381,
                    412,
                    219,
                    152,
                    332,
                    355,
                    235,
                    310,
                    262,
                    250,
                    349,
                    261,
                    333,
                    237,
                    383,
                    230,
                    292,
                    213,
                    318,
                    323,
                    237,
                    259,
                    312,
                    501,
                    77,
                    322,
                    478,
                    226,
                    385,
                    364,
                    442,
                    535,
                    465,
                    506,
                    515,
                    461,
                    523,
                    59,
                    533,
                    692,
                    467,
                    488,
                    505,
                    286,
                    497,
                    523,
                    490,
                    484,
                    478,
                    474,
                    450,
                    507,
                    602,
                    535,
                    487,
                    529,
                    302,
                    499,
                    426,
                    619,
                    99,
                    329,
                    421,
                    442,
                    82,
                    478,
                    552,
                    319,
                    439,
                    428,
                    409,
                    547,
                    368,
                    390,
                    471,
                    472,
                    529,
                    62,
                    354,
                    469,
                    429,
                    370,
                    441,
                    337,
                    462,
                    98,
                    388,
                    439,
                    436,
                    388,
                    328,
                    353,
                    332,
                    419,
                    106,
                    322,
                    439,
                    502,
                    417,
                    337,
                    462,
                    374,
                    401,
                    361,
                    457,
                    405,
                    499,
                    483,
                    126,
                    103,
                    171,
                    115,
                    123,
                    425,
                    400,
                    384,
                    253,
                    382,
                    591,
                    293,
                    457,
                    454,
                    425,
                    465,
                    480,
                    370,
                    421,
                    432,
                    442,
                    433,
                    479,
                    327,
                    412,
                    414,
                    404,
                    520,
                    435,
                    416,
                    354,
                    404,
                    441,
                    455,
                    357,
                    377,
                    651,
                    350,
                    520,
                    357,
                    658,
                    399,
                    322,
                    631,
                    553,
                    433,
                    412,
                    347,
                    421,
                    450,
                    775,
                    622,
                    409,
                    380,
                    447,
                    419,
                    400,
                    442,
                    568,
                    453,
                    418,
                    463,
                    438,
                    419,
                    432,
                    477,
                    392,
                    406,
                    549,
                    527,
                    449,
                    447,
                    414,
                    338,
                    384,
                    543,
                    421,
                    354,
                    424,
                    361,
                    459,
                    412,
                    379,
                    525,
                    508,
                    603,
                    74,
                    504,
                    431,
                    380,
                    336,
                    493,
                    465,
                    474,
                    508,
                    480,
                    492,
                    353,
                    542,
                    393,
                    600,
                    507,
                    392,
                    658,
                    498,
                    555,
                    492,
                    235,
                    423,
                    391,
                    366,
                    630,
                    508,
                    370,
                    357,
                    427,
                    442,
                    476,
                    418,
                    451,
                    425,
                    528,
                    511,
                    400,
                    441,
                    455,
                    440,
                    433,
                    422,
                    411,
                    466,
                    394,
                    442,
                    467,
                    443,
                    298,
                    541,
                    489,
                    469,
                    452,
                    516,
                    79,
                    58,
                    514,
                    451,
                    472,
                    377,
                    472,
                    492,
                    390,
                    428,
                    681,
                    446,
                    485,
                    469,
                    354,
                    485,
                    388,
                    440,
                    456,
                    420,
                    322,
                    530,
                    481,
                    427,
                    451,
                    444,
                    486,
                    331,
                    74,
                    338,
                    447,
                    424,
                    513,
                    611,
                    525,
                    398,
                    387,
                    381,
                    396,
                    441,
                    565,
                    458,
                    388,
                    550,
                    531,
                    506,
                    527,
                    468,
                    475,
                    351,
                    405,
                    441,
                    381,
                    323,
                    459,
                    545,
                    359,
                    342,
                    368,
                    496,
                    458,
                    531,
                    486,
                    363,
                    528,
                    391,
                    339,
                    423,
                    402,
                    398,
                    343,
                    503,
                    415,
                    516,
                    439
                  ],
                  "yaxis": "y"
                },
                {
                  "mode": "markers",
                  "name": "Fairly Active",
                  "type": "scatter",
                  "x": [
                    13,
                    19,
                    34,
                    10,
                    20,
                    31,
                    12,
                    8,
                    21,
                    5,
                    14,
                    23,
                    28,
                    12,
                    34,
                    35,
                    15,
                    24,
                    24,
                    6,
                    46,
                    8,
                    11,
                    31,
                    23,
                    0,
                    71,
                    7,
                    0,
                    0,
                    0,
                    7,
                    0,
                    0,
                    0,
                    0,
                    0,
                    8,
                    0,
                    0,
                    0,
                    0,
                    0,
                    0,
                    0,
                    0,
                    0,
                    0,
                    0,
                    0,
                    0,
                    0,
                    0,
                    0,
                    0,
                    0,
                    0,
                    0,
                    0,
                    0,
                    0,
                    0,
                    0,
                    0,
                    0,
                    0,
                    32,
                    48,
                    24,
                    7,
                    16,
                    7,
                    26,
                    27,
                    35,
                    0,
                    11,
                    0,
                    9,
                    0,
                    0,
                    19,
                    46,
                    23,
                    42,
                    83,
                    58,
                    95,
                    67,
                    98,
                    0,
                    12,
                    92,
                    95,
                    9,
                    95,
                    10,
                    8,
                    32,
                    52,
                    40,
                    143,
                    41,
                    96,
                    88,
                    55,
                    86,
                    116,
                    115,
                    15,
                    21,
                    0,
                    46,
                    42,
                    0,
                    0,
                    0,
                    9,
                    0,
                    0,
                    9,
                    0,
                    18,
                    0,
                    19,
                    0,
                    5,
                    8,
                    21,
                    47,
                    8,
                    18,
                    38,
                    0,
                    11,
                    26,
                    11,
                    28,
                    0,
                    14,
                    12,
                    18,
                    0,
                    0,
                    9,
                    0,
                    8,
                    16,
                    42,
                    12,
                    25,
                    5,
                    8,
                    23,
                    48,
                    9,
                    43,
                    15,
                    4,
                    21,
                    39,
                    56,
                    38,
                    19,
                    14,
                    18,
                    0,
                    0,
                    0,
                    0,
                    0,
                    0,
                    0,
                    0,
                    0,
                    0,
                    0,
                    1,
                    1,
                    0,
                    0,
                    0,
                    0,
                    4,
                    2,
                    0,
                    6,
                    0,
                    4,
                    8,
                    0,
                    0,
                    22,
                    0,
                    21,
                    41,
                    29,
                    0,
                    35,
                    0,
                    0,
                    0,
                    8,
                    24,
                    66,
                    30,
                    8,
                    29,
                    41,
                    66,
                    95,
                    15,
                    8,
                    16,
                    9,
                    19,
                    36,
                    0,
                    15,
                    5,
                    16,
                    46,
                    12,
                    37,
                    41,
                    0,
                    13,
                    0,
                    41,
                    38,
                    0,
                    0,
                    0,
                    28,
                    0,
                    42,
                    16,
                    0,
                    0,
                    11,
                    18,
                    16,
                    13,
                    15,
                    0,
                    0,
                    9,
                    29,
                    0,
                    29,
                    9,
                    0,
                    8,
                    22,
                    40,
                    0,
                    6,
                    16,
                    11,
                    30,
                    54,
                    56,
                    37,
                    32,
                    23,
                    16,
                    74,
                    30,
                    24,
                    65,
                    38,
                    32,
                    16,
                    51,
                    36,
                    45,
                    72,
                    20,
                    8,
                    9,
                    21,
                    37,
                    15,
                    15,
                    0,
                    0,
                    0,
                    10,
                    19,
                    0,
                    0,
                    0,
                    0,
                    0,
                    0,
                    0,
                    0,
                    0,
                    0,
                    0,
                    0,
                    18,
                    24,
                    0,
                    14,
                    24,
                    0,
                    0,
                    3,
                    13,
                    42,
                    41,
                    4,
                    27,
                    33,
                    41,
                    0,
                    31,
                    7,
                    38,
                    8,
                    15,
                    16,
                    0,
                    39,
                    36,
                    36,
                    22,
                    0,
                    0,
                    14,
                    21,
                    34,
                    7,
                    8,
                    0,
                    0,
                    6,
                    26,
                    32,
                    21,
                    69,
                    13,
                    6,
                    59,
                    0,
                    39,
                    33,
                    6,
                    48,
                    17,
                    15,
                    26,
                    36,
                    12,
                    35,
                    42,
                    27,
                    50,
                    40,
                    4,
                    5,
                    14,
                    20,
                    15,
                    14,
                    21,
                    23,
                    21,
                    0,
                    10,
                    19,
                    8,
                    16,
                    12,
                    10,
                    0,
                    16,
                    18,
                    4,
                    10,
                    7,
                    0,
                    10,
                    4,
                    20,
                    10,
                    3,
                    5,
                    0,
                    0,
                    13,
                    13,
                    10,
                    6,
                    0,
                    0,
                    0,
                    0,
                    10,
                    20,
                    45,
                    0,
                    0,
                    14,
                    20,
                    0,
                    0,
                    0,
                    0
                  ],
                  "xaxis": "x2",
                  "y": [
                    327,
                    384,
                    412,
                    340,
                    700,
                    304,
                    360,
                    325,
                    361,
                    430,
                    277,
                    245,
                    366,
                    341,
                    404,
                    369,
                    277,
                    273,
                    247,
                    334,
                    331,
                    594,
                    338,
                    383,
                    285,
                    119,
                    124,
                    796,
                    137,
                    644,
                    722,
                    590,
                    750,
                    398,
                    475,
                    296,
                    166,
                    503,
                    531,
                    545,
                    523,
                    524,
                    437,
                    498,
                    461,
                    477,
                    520,
                    522,
                    555,
                    506,
                    508,
                    513,
                    490,
                    573,
                    527,
                    511,
                    538,
                    468,
                    524,
                    511,
                    541,
                    531,
                    357,
                    523,
                    456,
                    61,
                    467,
                    445,
                    452,
                    556,
                    500,
                    465,
                    460,
                    405,
                    374,
                    442,
                    433,
                    436,
                    448,
                    408,
                    411,
                    274,
                    295,
                    291,
                    424,
                    283,
                    381,
                    412,
                    219,
                    152,
                    332,
                    355,
                    235,
                    310,
                    262,
                    250,
                    349,
                    261,
                    333,
                    237,
                    383,
                    230,
                    292,
                    213,
                    318,
                    323,
                    237,
                    259,
                    312,
                    501,
                    77,
                    322,
                    478,
                    226,
                    385,
                    364,
                    442,
                    535,
                    465,
                    506,
                    515,
                    461,
                    523,
                    59,
                    533,
                    692,
                    467,
                    488,
                    505,
                    286,
                    497,
                    523,
                    490,
                    484,
                    478,
                    474,
                    450,
                    507,
                    602,
                    535,
                    487,
                    529,
                    302,
                    499,
                    426,
                    619,
                    99,
                    329,
                    421,
                    442,
                    82,
                    478,
                    552,
                    319,
                    439,
                    428,
                    409,
                    547,
                    368,
                    390,
                    471,
                    472,
                    529,
                    62,
                    354,
                    469,
                    429,
                    370,
                    441,
                    337,
                    462,
                    98,
                    388,
                    439,
                    436,
                    388,
                    328,
                    353,
                    332,
                    419,
                    106,
                    322,
                    439,
                    502,
                    417,
                    337,
                    462,
                    374,
                    401,
                    361,
                    457,
                    405,
                    499,
                    483,
                    126,
                    103,
                    171,
                    115,
                    123,
                    425,
                    400,
                    384,
                    253,
                    382,
                    591,
                    293,
                    457,
                    454,
                    425,
                    465,
                    480,
                    370,
                    421,
                    432,
                    442,
                    433,
                    479,
                    327,
                    412,
                    414,
                    404,
                    520,
                    435,
                    416,
                    354,
                    404,
                    441,
                    455,
                    357,
                    377,
                    651,
                    350,
                    520,
                    357,
                    658,
                    399,
                    322,
                    631,
                    553,
                    433,
                    412,
                    347,
                    421,
                    450,
                    775,
                    622,
                    409,
                    380,
                    447,
                    419,
                    400,
                    442,
                    568,
                    453,
                    418,
                    463,
                    438,
                    419,
                    432,
                    477,
                    392,
                    406,
                    549,
                    527,
                    449,
                    447,
                    414,
                    338,
                    384,
                    543,
                    421,
                    354,
                    424,
                    361,
                    459,
                    412,
                    379,
                    525,
                    508,
                    603,
                    74,
                    504,
                    431,
                    380,
                    336,
                    493,
                    465,
                    474,
                    508,
                    480,
                    492,
                    353,
                    542,
                    393,
                    600,
                    507,
                    392,
                    658,
                    498,
                    555,
                    492,
                    235,
                    423,
                    391,
                    366,
                    630,
                    508,
                    370,
                    357,
                    427,
                    442,
                    476,
                    418,
                    451,
                    425,
                    528,
                    511,
                    400,
                    441,
                    455,
                    440,
                    433,
                    422,
                    411,
                    466,
                    394,
                    442,
                    467,
                    443,
                    298,
                    541,
                    489,
                    469,
                    452,
                    516,
                    79,
                    58,
                    514,
                    451,
                    472,
                    377,
                    472,
                    492,
                    390,
                    428,
                    681,
                    446,
                    485,
                    469,
                    354,
                    485,
                    388,
                    440,
                    456,
                    420,
                    322,
                    530,
                    481,
                    427,
                    451,
                    444,
                    486,
                    331,
                    74,
                    338,
                    447,
                    424,
                    513,
                    611,
                    525,
                    398,
                    387,
                    381,
                    396,
                    441,
                    565,
                    458,
                    388,
                    550,
                    531,
                    506,
                    527,
                    468,
                    475,
                    351,
                    405,
                    441,
                    381,
                    323,
                    459,
                    545,
                    359,
                    342,
                    368,
                    496,
                    458,
                    531,
                    486,
                    363,
                    528,
                    391,
                    339,
                    423,
                    402,
                    398,
                    343,
                    503,
                    415,
                    516,
                    439
                  ],
                  "yaxis": "y2"
                },
                {
                  "mode": "markers",
                  "name": "Very Active",
                  "type": "scatter",
                  "x": [
                    25,
                    21,
                    29,
                    36,
                    38,
                    50,
                    28,
                    19,
                    41,
                    39,
                    73,
                    31,
                    48,
                    16,
                    52,
                    33,
                    41,
                    50,
                    45,
                    24,
                    37,
                    44,
                    46,
                    46,
                    36,
                    0,
                    9,
                    1,
                    0,
                    0,
                    0,
                    0,
                    0,
                    0,
                    0,
                    0,
                    0,
                    3,
                    0,
                    0,
                    0,
                    0,
                    0,
                    0,
                    0,
                    0,
                    0,
                    0,
                    0,
                    0,
                    0,
                    0,
                    0,
                    0,
                    0,
                    0,
                    0,
                    0,
                    0,
                    0,
                    0,
                    0,
                    0,
                    0,
                    0,
                    0,
                    19,
                    1,
                    1,
                    1,
                    11,
                    0,
                    23,
                    9,
                    32,
                    0,
                    15,
                    0,
                    26,
                    0,
                    0,
                    44,
                    31,
                    5,
                    15,
                    31,
                    11,
                    4,
                    19,
                    2,
                    0,
                    33,
                    0,
                    30,
                    50,
                    7,
                    0,
                    15,
                    36,
                    43,
                    41,
                    24,
                    47,
                    14,
                    14,
                    29,
                    0,
                    9,
                    1,
                    4,
                    65,
                    0,
                    13,
                    38,
                    0,
                    0,
                    0,
                    1,
                    0,
                    0,
                    1,
                    0,
                    0,
                    0,
                    1,
                    0,
                    1,
                    0,
                    8,
                    6,
                    13,
                    6,
                    6,
                    0,
                    0,
                    8,
                    6,
                    3,
                    0,
                    2,
                    3,
                    3,
                    0,
                    0,
                    6,
                    0,
                    27,
                    20,
                    19,
                    7,
                    77,
                    58,
                    14,
                    14,
                    11,
                    19,
                    14,
                    12,
                    33,
                    35,
                    12,
                    120,
                    107,
                    6,
                    13,
                    8,
                    0,
                    0,
                    0,
                    0,
                    0,
                    0,
                    0,
                    0,
                    0,
                    0,
                    0,
                    29,
                    32,
                    0,
                    0,
                    0,
                    0,
                    27,
                    30,
                    0,
                    2,
                    0,
                    26,
                    0,
                    0,
                    0,
                    34,
                    0,
                    6,
                    12,
                    15,
                    0,
                    66,
                    0,
                    0,
                    0,
                    1,
                    3,
                    12,
                    22,
                    10,
                    2,
                    4,
                    9,
                    15,
                    6,
                    1,
                    1,
                    14,
                    12,
                    4,
                    0,
                    4,
                    8,
                    1,
                    5,
                    0,
                    1,
                    10,
                    0,
                    19,
                    0,
                    61,
                    58,
                    0,
                    0,
                    0,
                    69,
                    0,
                    47,
                    25,
                    0,
                    0,
                    51,
                    40,
                    16,
                    49,
                    46,
                    0,
                    0,
                    23,
                    26,
                    0,
                    44,
                    21,
                    0,
                    3,
                    59,
                    61,
                    0,
                    8,
                    86,
                    15,
                    118,
                    115,
                    184,
                    200,
                    114,
                    108,
                    87,
                    110,
                    62,
                    24,
                    210,
                    61,
                    38,
                    63,
                    99,
                    97,
                    207,
                    194,
                    37,
                    97,
                    25,
                    45,
                    104,
                    45,
                    7,
                    0,
                    0,
                    0,
                    26,
                    11,
                    0,
                    0,
                    0,
                    0,
                    0,
                    0,
                    0,
                    0,
                    0,
                    0,
                    0,
                    0,
                    17,
                    14,
                    0,
                    50,
                    8,
                    0,
                    0,
                    50,
                    5,
                    13,
                    35,
                    48,
                    53,
                    30,
                    58,
                    0,
                    35,
                    36,
                    7,
                    38,
                    12,
                    32,
                    0,
                    18,
                    21,
                    15,
                    14,
                    0,
                    0,
                    0,
                    43,
                    62,
                    24,
                    0,
                    0,
                    0,
                    59,
                    31,
                    35,
                    30,
                    67,
                    87,
                    19,
                    58,
                    0,
                    69,
                    70,
                    55,
                    54,
                    42,
                    30,
                    66,
                    57,
                    45,
                    84,
                    20,
                    32,
                    67,
                    57,
                    5,
                    89,
                    125,
                    121,
                    65,
                    116,
                    123,
                    60,
                    64,
                    0,
                    117,
                    120,
                    82,
                    137,
                    113,
                    19,
                    0,
                    117,
                    90,
                    4,
                    11,
                    3,
                    0,
                    71,
                    63,
                    71,
                    19,
                    66,
                    74,
                    0,
                    0,
                    71,
                    63,
                    72,
                    8,
                    0,
                    0,
                    0,
                    0,
                    0,
                    1,
                    8,
                    0,
                    0,
                    6,
                    10,
                    0,
                    0,
                    0,
                    0
                  ],
                  "xaxis": "x3",
                  "y": [
                    327,
                    384,
                    412,
                    340,
                    700,
                    304,
                    360,
                    325,
                    361,
                    430,
                    277,
                    245,
                    366,
                    341,
                    404,
                    369,
                    277,
                    273,
                    247,
                    334,
                    331,
                    594,
                    338,
                    383,
                    285,
                    119,
                    124,
                    796,
                    137,
                    644,
                    722,
                    590,
                    750,
                    398,
                    475,
                    296,
                    166,
                    503,
                    531,
                    545,
                    523,
                    524,
                    437,
                    498,
                    461,
                    477,
                    520,
                    522,
                    555,
                    506,
                    508,
                    513,
                    490,
                    573,
                    527,
                    511,
                    538,
                    468,
                    524,
                    511,
                    541,
                    531,
                    357,
                    523,
                    456,
                    61,
                    467,
                    445,
                    452,
                    556,
                    500,
                    465,
                    460,
                    405,
                    374,
                    442,
                    433,
                    436,
                    448,
                    408,
                    411,
                    274,
                    295,
                    291,
                    424,
                    283,
                    381,
                    412,
                    219,
                    152,
                    332,
                    355,
                    235,
                    310,
                    262,
                    250,
                    349,
                    261,
                    333,
                    237,
                    383,
                    230,
                    292,
                    213,
                    318,
                    323,
                    237,
                    259,
                    312,
                    501,
                    77,
                    322,
                    478,
                    226,
                    385,
                    364,
                    442,
                    535,
                    465,
                    506,
                    515,
                    461,
                    523,
                    59,
                    533,
                    692,
                    467,
                    488,
                    505,
                    286,
                    497,
                    523,
                    490,
                    484,
                    478,
                    474,
                    450,
                    507,
                    602,
                    535,
                    487,
                    529,
                    302,
                    499,
                    426,
                    619,
                    99,
                    329,
                    421,
                    442,
                    82,
                    478,
                    552,
                    319,
                    439,
                    428,
                    409,
                    547,
                    368,
                    390,
                    471,
                    472,
                    529,
                    62,
                    354,
                    469,
                    429,
                    370,
                    441,
                    337,
                    462,
                    98,
                    388,
                    439,
                    436,
                    388,
                    328,
                    353,
                    332,
                    419,
                    106,
                    322,
                    439,
                    502,
                    417,
                    337,
                    462,
                    374,
                    401,
                    361,
                    457,
                    405,
                    499,
                    483,
                    126,
                    103,
                    171,
                    115,
                    123,
                    425,
                    400,
                    384,
                    253,
                    382,
                    591,
                    293,
                    457,
                    454,
                    425,
                    465,
                    480,
                    370,
                    421,
                    432,
                    442,
                    433,
                    479,
                    327,
                    412,
                    414,
                    404,
                    520,
                    435,
                    416,
                    354,
                    404,
                    441,
                    455,
                    357,
                    377,
                    651,
                    350,
                    520,
                    357,
                    658,
                    399,
                    322,
                    631,
                    553,
                    433,
                    412,
                    347,
                    421,
                    450,
                    775,
                    622,
                    409,
                    380,
                    447,
                    419,
                    400,
                    442,
                    568,
                    453,
                    418,
                    463,
                    438,
                    419,
                    432,
                    477,
                    392,
                    406,
                    549,
                    527,
                    449,
                    447,
                    414,
                    338,
                    384,
                    543,
                    421,
                    354,
                    424,
                    361,
                    459,
                    412,
                    379,
                    525,
                    508,
                    603,
                    74,
                    504,
                    431,
                    380,
                    336,
                    493,
                    465,
                    474,
                    508,
                    480,
                    492,
                    353,
                    542,
                    393,
                    600,
                    507,
                    392,
                    658,
                    498,
                    555,
                    492,
                    235,
                    423,
                    391,
                    366,
                    630,
                    508,
                    370,
                    357,
                    427,
                    442,
                    476,
                    418,
                    451,
                    425,
                    528,
                    511,
                    400,
                    441,
                    455,
                    440,
                    433,
                    422,
                    411,
                    466,
                    394,
                    442,
                    467,
                    443,
                    298,
                    541,
                    489,
                    469,
                    452,
                    516,
                    79,
                    58,
                    514,
                    451,
                    472,
                    377,
                    472,
                    492,
                    390,
                    428,
                    681,
                    446,
                    485,
                    469,
                    354,
                    485,
                    388,
                    440,
                    456,
                    420,
                    322,
                    530,
                    481,
                    427,
                    451,
                    444,
                    486,
                    331,
                    74,
                    338,
                    447,
                    424,
                    513,
                    611,
                    525,
                    398,
                    387,
                    381,
                    396,
                    441,
                    565,
                    458,
                    388,
                    550,
                    531,
                    506,
                    527,
                    468,
                    475,
                    351,
                    405,
                    441,
                    381,
                    323,
                    459,
                    545,
                    359,
                    342,
                    368,
                    496,
                    458,
                    531,
                    486,
                    363,
                    528,
                    391,
                    339,
                    423,
                    402,
                    398,
                    343,
                    503,
                    415,
                    516,
                    439
                  ],
                  "yaxis": "y3"
                }
              ],
              "layout": {
                "height": 600,
                "hovermode": "x unified",
                "legend": {
                  "orientation": "h",
                  "title": {
                    "text": ""
                  },
                  "x": 1,
                  "xanchor": "right",
                  "y": 1.02,
                  "yanchor": "bottom"
                },
                "template": {
                  "data": {
                    "bar": [
                      {
                        "error_x": {
                          "color": "#2a3f5f"
                        },
                        "error_y": {
                          "color": "#2a3f5f"
                        },
                        "marker": {
                          "line": {
                            "color": "#E5ECF6",
                            "width": 0.5
                          },
                          "pattern": {
                            "fillmode": "overlay",
                            "size": 10,
                            "solidity": 0.2
                          }
                        },
                        "type": "bar"
                      }
                    ],
                    "barpolar": [
                      {
                        "marker": {
                          "line": {
                            "color": "#E5ECF6",
                            "width": 0.5
                          },
                          "pattern": {
                            "fillmode": "overlay",
                            "size": 10,
                            "solidity": 0.2
                          }
                        },
                        "type": "barpolar"
                      }
                    ],
                    "carpet": [
                      {
                        "aaxis": {
                          "endlinecolor": "#2a3f5f",
                          "gridcolor": "white",
                          "linecolor": "white",
                          "minorgridcolor": "white",
                          "startlinecolor": "#2a3f5f"
                        },
                        "baxis": {
                          "endlinecolor": "#2a3f5f",
                          "gridcolor": "white",
                          "linecolor": "white",
                          "minorgridcolor": "white",
                          "startlinecolor": "#2a3f5f"
                        },
                        "type": "carpet"
                      }
                    ],
                    "choropleth": [
                      {
                        "colorbar": {
                          "outlinewidth": 0,
                          "ticks": ""
                        },
                        "type": "choropleth"
                      }
                    ],
                    "contour": [
                      {
                        "colorbar": {
                          "outlinewidth": 0,
                          "ticks": ""
                        },
                        "colorscale": [
                          [
                            0,
                            "#0d0887"
                          ],
                          [
                            0.1111111111111111,
                            "#46039f"
                          ],
                          [
                            0.2222222222222222,
                            "#7201a8"
                          ],
                          [
                            0.3333333333333333,
                            "#9c179e"
                          ],
                          [
                            0.4444444444444444,
                            "#bd3786"
                          ],
                          [
                            0.5555555555555556,
                            "#d8576b"
                          ],
                          [
                            0.6666666666666666,
                            "#ed7953"
                          ],
                          [
                            0.7777777777777778,
                            "#fb9f3a"
                          ],
                          [
                            0.8888888888888888,
                            "#fdca26"
                          ],
                          [
                            1,
                            "#f0f921"
                          ]
                        ],
                        "type": "contour"
                      }
                    ],
                    "contourcarpet": [
                      {
                        "colorbar": {
                          "outlinewidth": 0,
                          "ticks": ""
                        },
                        "type": "contourcarpet"
                      }
                    ],
                    "heatmap": [
                      {
                        "colorbar": {
                          "outlinewidth": 0,
                          "ticks": ""
                        },
                        "colorscale": [
                          [
                            0,
                            "#0d0887"
                          ],
                          [
                            0.1111111111111111,
                            "#46039f"
                          ],
                          [
                            0.2222222222222222,
                            "#7201a8"
                          ],
                          [
                            0.3333333333333333,
                            "#9c179e"
                          ],
                          [
                            0.4444444444444444,
                            "#bd3786"
                          ],
                          [
                            0.5555555555555556,
                            "#d8576b"
                          ],
                          [
                            0.6666666666666666,
                            "#ed7953"
                          ],
                          [
                            0.7777777777777778,
                            "#fb9f3a"
                          ],
                          [
                            0.8888888888888888,
                            "#fdca26"
                          ],
                          [
                            1,
                            "#f0f921"
                          ]
                        ],
                        "type": "heatmap"
                      }
                    ],
                    "heatmapgl": [
                      {
                        "colorbar": {
                          "outlinewidth": 0,
                          "ticks": ""
                        },
                        "colorscale": [
                          [
                            0,
                            "#0d0887"
                          ],
                          [
                            0.1111111111111111,
                            "#46039f"
                          ],
                          [
                            0.2222222222222222,
                            "#7201a8"
                          ],
                          [
                            0.3333333333333333,
                            "#9c179e"
                          ],
                          [
                            0.4444444444444444,
                            "#bd3786"
                          ],
                          [
                            0.5555555555555556,
                            "#d8576b"
                          ],
                          [
                            0.6666666666666666,
                            "#ed7953"
                          ],
                          [
                            0.7777777777777778,
                            "#fb9f3a"
                          ],
                          [
                            0.8888888888888888,
                            "#fdca26"
                          ],
                          [
                            1,
                            "#f0f921"
                          ]
                        ],
                        "type": "heatmapgl"
                      }
                    ],
                    "histogram": [
                      {
                        "marker": {
                          "pattern": {
                            "fillmode": "overlay",
                            "size": 10,
                            "solidity": 0.2
                          }
                        },
                        "type": "histogram"
                      }
                    ],
                    "histogram2d": [
                      {
                        "colorbar": {
                          "outlinewidth": 0,
                          "ticks": ""
                        },
                        "colorscale": [
                          [
                            0,
                            "#0d0887"
                          ],
                          [
                            0.1111111111111111,
                            "#46039f"
                          ],
                          [
                            0.2222222222222222,
                            "#7201a8"
                          ],
                          [
                            0.3333333333333333,
                            "#9c179e"
                          ],
                          [
                            0.4444444444444444,
                            "#bd3786"
                          ],
                          [
                            0.5555555555555556,
                            "#d8576b"
                          ],
                          [
                            0.6666666666666666,
                            "#ed7953"
                          ],
                          [
                            0.7777777777777778,
                            "#fb9f3a"
                          ],
                          [
                            0.8888888888888888,
                            "#fdca26"
                          ],
                          [
                            1,
                            "#f0f921"
                          ]
                        ],
                        "type": "histogram2d"
                      }
                    ],
                    "histogram2dcontour": [
                      {
                        "colorbar": {
                          "outlinewidth": 0,
                          "ticks": ""
                        },
                        "colorscale": [
                          [
                            0,
                            "#0d0887"
                          ],
                          [
                            0.1111111111111111,
                            "#46039f"
                          ],
                          [
                            0.2222222222222222,
                            "#7201a8"
                          ],
                          [
                            0.3333333333333333,
                            "#9c179e"
                          ],
                          [
                            0.4444444444444444,
                            "#bd3786"
                          ],
                          [
                            0.5555555555555556,
                            "#d8576b"
                          ],
                          [
                            0.6666666666666666,
                            "#ed7953"
                          ],
                          [
                            0.7777777777777778,
                            "#fb9f3a"
                          ],
                          [
                            0.8888888888888888,
                            "#fdca26"
                          ],
                          [
                            1,
                            "#f0f921"
                          ]
                        ],
                        "type": "histogram2dcontour"
                      }
                    ],
                    "mesh3d": [
                      {
                        "colorbar": {
                          "outlinewidth": 0,
                          "ticks": ""
                        },
                        "type": "mesh3d"
                      }
                    ],
                    "parcoords": [
                      {
                        "line": {
                          "colorbar": {
                            "outlinewidth": 0,
                            "ticks": ""
                          }
                        },
                        "type": "parcoords"
                      }
                    ],
                    "pie": [
                      {
                        "automargin": true,
                        "type": "pie"
                      }
                    ],
                    "scatter": [
                      {
                        "marker": {
                          "colorbar": {
                            "outlinewidth": 0,
                            "ticks": ""
                          }
                        },
                        "type": "scatter"
                      }
                    ],
                    "scatter3d": [
                      {
                        "line": {
                          "colorbar": {
                            "outlinewidth": 0,
                            "ticks": ""
                          }
                        },
                        "marker": {
                          "colorbar": {
                            "outlinewidth": 0,
                            "ticks": ""
                          }
                        },
                        "type": "scatter3d"
                      }
                    ],
                    "scattercarpet": [
                      {
                        "marker": {
                          "colorbar": {
                            "outlinewidth": 0,
                            "ticks": ""
                          }
                        },
                        "type": "scattercarpet"
                      }
                    ],
                    "scattergeo": [
                      {
                        "marker": {
                          "colorbar": {
                            "outlinewidth": 0,
                            "ticks": ""
                          }
                        },
                        "type": "scattergeo"
                      }
                    ],
                    "scattergl": [
                      {
                        "marker": {
                          "colorbar": {
                            "outlinewidth": 0,
                            "ticks": ""
                          }
                        },
                        "type": "scattergl"
                      }
                    ],
                    "scattermapbox": [
                      {
                        "marker": {
                          "colorbar": {
                            "outlinewidth": 0,
                            "ticks": ""
                          }
                        },
                        "type": "scattermapbox"
                      }
                    ],
                    "scatterpolar": [
                      {
                        "marker": {
                          "colorbar": {
                            "outlinewidth": 0,
                            "ticks": ""
                          }
                        },
                        "type": "scatterpolar"
                      }
                    ],
                    "scatterpolargl": [
                      {
                        "marker": {
                          "colorbar": {
                            "outlinewidth": 0,
                            "ticks": ""
                          }
                        },
                        "type": "scatterpolargl"
                      }
                    ],
                    "scatterternary": [
                      {
                        "marker": {
                          "colorbar": {
                            "outlinewidth": 0,
                            "ticks": ""
                          }
                        },
                        "type": "scatterternary"
                      }
                    ],
                    "surface": [
                      {
                        "colorbar": {
                          "outlinewidth": 0,
                          "ticks": ""
                        },
                        "colorscale": [
                          [
                            0,
                            "#0d0887"
                          ],
                          [
                            0.1111111111111111,
                            "#46039f"
                          ],
                          [
                            0.2222222222222222,
                            "#7201a8"
                          ],
                          [
                            0.3333333333333333,
                            "#9c179e"
                          ],
                          [
                            0.4444444444444444,
                            "#bd3786"
                          ],
                          [
                            0.5555555555555556,
                            "#d8576b"
                          ],
                          [
                            0.6666666666666666,
                            "#ed7953"
                          ],
                          [
                            0.7777777777777778,
                            "#fb9f3a"
                          ],
                          [
                            0.8888888888888888,
                            "#fdca26"
                          ],
                          [
                            1,
                            "#f0f921"
                          ]
                        ],
                        "type": "surface"
                      }
                    ],
                    "table": [
                      {
                        "cells": {
                          "fill": {
                            "color": "#EBF0F8"
                          },
                          "line": {
                            "color": "white"
                          }
                        },
                        "header": {
                          "fill": {
                            "color": "#C8D4E3"
                          },
                          "line": {
                            "color": "white"
                          }
                        },
                        "type": "table"
                      }
                    ]
                  },
                  "layout": {
                    "annotationdefaults": {
                      "arrowcolor": "#2a3f5f",
                      "arrowhead": 0,
                      "arrowwidth": 1
                    },
                    "autotypenumbers": "strict",
                    "coloraxis": {
                      "colorbar": {
                        "outlinewidth": 0,
                        "ticks": ""
                      }
                    },
                    "colorscale": {
                      "diverging": [
                        [
                          0,
                          "#8e0152"
                        ],
                        [
                          0.1,
                          "#c51b7d"
                        ],
                        [
                          0.2,
                          "#de77ae"
                        ],
                        [
                          0.3,
                          "#f1b6da"
                        ],
                        [
                          0.4,
                          "#fde0ef"
                        ],
                        [
                          0.5,
                          "#f7f7f7"
                        ],
                        [
                          0.6,
                          "#e6f5d0"
                        ],
                        [
                          0.7,
                          "#b8e186"
                        ],
                        [
                          0.8,
                          "#7fbc41"
                        ],
                        [
                          0.9,
                          "#4d9221"
                        ],
                        [
                          1,
                          "#276419"
                        ]
                      ],
                      "sequential": [
                        [
                          0,
                          "#0d0887"
                        ],
                        [
                          0.1111111111111111,
                          "#46039f"
                        ],
                        [
                          0.2222222222222222,
                          "#7201a8"
                        ],
                        [
                          0.3333333333333333,
                          "#9c179e"
                        ],
                        [
                          0.4444444444444444,
                          "#bd3786"
                        ],
                        [
                          0.5555555555555556,
                          "#d8576b"
                        ],
                        [
                          0.6666666666666666,
                          "#ed7953"
                        ],
                        [
                          0.7777777777777778,
                          "#fb9f3a"
                        ],
                        [
                          0.8888888888888888,
                          "#fdca26"
                        ],
                        [
                          1,
                          "#f0f921"
                        ]
                      ],
                      "sequentialminus": [
                        [
                          0,
                          "#0d0887"
                        ],
                        [
                          0.1111111111111111,
                          "#46039f"
                        ],
                        [
                          0.2222222222222222,
                          "#7201a8"
                        ],
                        [
                          0.3333333333333333,
                          "#9c179e"
                        ],
                        [
                          0.4444444444444444,
                          "#bd3786"
                        ],
                        [
                          0.5555555555555556,
                          "#d8576b"
                        ],
                        [
                          0.6666666666666666,
                          "#ed7953"
                        ],
                        [
                          0.7777777777777778,
                          "#fb9f3a"
                        ],
                        [
                          0.8888888888888888,
                          "#fdca26"
                        ],
                        [
                          1,
                          "#f0f921"
                        ]
                      ]
                    },
                    "colorway": [
                      "#636efa",
                      "#EF553B",
                      "#00cc96",
                      "#ab63fa",
                      "#FFA15A",
                      "#19d3f3",
                      "#FF6692",
                      "#B6E880",
                      "#FF97FF",
                      "#FECB52"
                    ],
                    "font": {
                      "color": "#2a3f5f"
                    },
                    "geo": {
                      "bgcolor": "white",
                      "lakecolor": "white",
                      "landcolor": "#E5ECF6",
                      "showlakes": true,
                      "showland": true,
                      "subunitcolor": "white"
                    },
                    "hoverlabel": {
                      "align": "left"
                    },
                    "hovermode": "closest",
                    "mapbox": {
                      "style": "light"
                    },
                    "paper_bgcolor": "white",
                    "plot_bgcolor": "#E5ECF6",
                    "polar": {
                      "angularaxis": {
                        "gridcolor": "white",
                        "linecolor": "white",
                        "ticks": ""
                      },
                      "bgcolor": "#E5ECF6",
                      "radialaxis": {
                        "gridcolor": "white",
                        "linecolor": "white",
                        "ticks": ""
                      }
                    },
                    "scene": {
                      "xaxis": {
                        "backgroundcolor": "#E5ECF6",
                        "gridcolor": "white",
                        "gridwidth": 2,
                        "linecolor": "white",
                        "showbackground": true,
                        "ticks": "",
                        "zerolinecolor": "white"
                      },
                      "yaxis": {
                        "backgroundcolor": "#E5ECF6",
                        "gridcolor": "white",
                        "gridwidth": 2,
                        "linecolor": "white",
                        "showbackground": true,
                        "ticks": "",
                        "zerolinecolor": "white"
                      },
                      "zaxis": {
                        "backgroundcolor": "#E5ECF6",
                        "gridcolor": "white",
                        "gridwidth": 2,
                        "linecolor": "white",
                        "showbackground": true,
                        "ticks": "",
                        "zerolinecolor": "white"
                      }
                    },
                    "shapedefaults": {
                      "line": {
                        "color": "#2a3f5f"
                      }
                    },
                    "ternary": {
                      "aaxis": {
                        "gridcolor": "white",
                        "linecolor": "white",
                        "ticks": ""
                      },
                      "baxis": {
                        "gridcolor": "white",
                        "linecolor": "white",
                        "ticks": ""
                      },
                      "bgcolor": "#E5ECF6",
                      "caxis": {
                        "gridcolor": "white",
                        "linecolor": "white",
                        "ticks": ""
                      }
                    },
                    "title": {
                      "x": 0.05
                    },
                    "xaxis": {
                      "automargin": true,
                      "gridcolor": "white",
                      "linecolor": "white",
                      "ticks": "",
                      "title": {
                        "standoff": 15
                      },
                      "zerolinecolor": "white",
                      "zerolinewidth": 2
                    },
                    "yaxis": {
                      "automargin": true,
                      "gridcolor": "white",
                      "linecolor": "white",
                      "ticks": "",
                      "title": {
                        "standoff": 15
                      },
                      "zerolinecolor": "white",
                      "zerolinewidth": 2
                    }
                  }
                },
                "title": {
                  "text": "Activity Time vs Sleep Time "
                },
                "width": 1200,
                "xaxis": {
                  "anchor": "y",
                  "domain": [
                    0,
                    0.2888888888888889
                  ],
                  "title": {
                    "text": "Time spent in lightly activities"
                  }
                },
                "xaxis2": {
                  "anchor": "y2",
                  "domain": [
                    0.35555555555555557,
                    0.6444444444444445
                  ],
                  "title": {
                    "text": "Time spent in fairly activities"
                  }
                },
                "xaxis3": {
                  "anchor": "y3",
                  "domain": [
                    0.7111111111111111,
                    1
                  ],
                  "title": {
                    "text": "Time spent in very active activities"
                  }
                },
                "yaxis": {
                  "anchor": "x",
                  "domain": [
                    0,
                    1
                  ],
                  "side": "left",
                  "title": {
                    "text": "Time Slept"
                  }
                },
                "yaxis2": {
                  "anchor": "x2",
                  "domain": [
                    0,
                    1
                  ],
                  "matches": "y",
                  "showticklabels": false
                },
                "yaxis3": {
                  "anchor": "x3",
                  "domain": [
                    0,
                    1
                  ],
                  "matches": "y",
                  "showticklabels": false
                }
              }
            }
          },
          "metadata": {},
          "output_type": "display_data"
        }
      ],
      "source": [
        "\n",
        "# Figure Subplots\n",
        "fig = make_subplots(rows=1, cols=3 ,shared_yaxes=True)\n",
        "\n",
        "fig.add_trace(\n",
        "    go.Scatter(x=df_analysis_calories_steps['LightlyActiveMinutes'], y=df_analysis_calories_steps['TotalMinutesAsleep'], mode='markers',name='Lightly Activities'),\n",
        "    row=1, col=1,\n",
        ")\n",
        "\n",
        "\n",
        "fig.add_trace(\n",
        "    go.Scatter(x=df_analysis_calories_steps['FairlyActiveMinutes'], y=df_analysis_calories_steps['TotalMinutesAsleep'], mode='markers',name='Fairly Active'),\n",
        "    row=1, col=2\n",
        ")\n",
        "\n",
        "\n",
        "fig.add_trace(\n",
        "    go.Scatter(x=df_analysis_calories_steps['VeryActiveMinutes'], y=df_analysis_calories_steps['TotalMinutesAsleep'], mode='markers',name='Very Active'),\n",
        "    row=1, col=3\n",
        ")\n",
        "\n",
        "fig.update_layout(height=600, width=1200, title_text=\"Activity Time vs Sleep Time \", hovermode=\"x unified\")\n",
        "\n",
        "fig.update_layout(legend=dict(\n",
        "                      orientation=\"h\",\n",
        "                      yanchor=\"bottom\",\n",
        "                      y=1.02,\n",
        "                      xanchor=\"right\",\n",
        "                      x=1,\n",
        "                      title=''\n",
        "                  ),xaxis=dict(\n",
        "                      title = 'Time spent in lightly activities',\n",
        "                      ), \n",
        "                    yaxis=dict(\n",
        "                      title='Time Slept',\n",
        "                      side='left',\n",
        "))\n",
        "\n",
        "fig.update_xaxes(row=1, col=2, title = 'Time spent in fairly activities')\n",
        "fig.update_xaxes(row=1, col=3, title = 'Time spent in very active activities')\n",
        "\n",
        "\n",
        "# fig.update_traces(connectgaps=False)\n",
        "\n",
        "fig.show()\n"
      ]
    },
    {
      "cell_type": "markdown",
      "metadata": {
        "id": "T90bVWei4qTV"
      },
      "source": [
        "Here we can see a preference to lightly activities instead of fairly or very active activities.\n",
        "\n",
        "Again, most of those people sleep ~440 minutes a day (7 hours and 20 minutes).\n",
        "\n",
        "Bute, we also have many points below 300 minutes (5 hours), and that is not healty."
      ]
    },
    {
      "cell_type": "code",
      "execution_count": 41,
      "metadata": {
        "colab": {
          "base_uri": "https://localhost:8080/",
          "height": 817
        },
        "id": "7Uk4hTmZ8-Qm",
        "outputId": "26027cb6-1b6d-4977-b8cb-5d8d58e28636"
      },
      "outputs": [
        {
          "data": {
            "application/vnd.plotly.v1+json": {
              "config": {
                "plotlyServerURL": "https://plot.ly"
              },
              "data": [
                {
                  "colorscale": [
                    [
                      0,
                      "rgb(247,251,255)"
                    ],
                    [
                      0.125,
                      "rgb(222,235,247)"
                    ],
                    [
                      0.25,
                      "rgb(198,219,239)"
                    ],
                    [
                      0.375,
                      "rgb(158,202,225)"
                    ],
                    [
                      0.5,
                      "rgb(107,174,214)"
                    ],
                    [
                      0.625,
                      "rgb(66,146,198)"
                    ],
                    [
                      0.75,
                      "rgb(33,113,181)"
                    ],
                    [
                      0.875,
                      "rgb(8,81,156)"
                    ],
                    [
                      1,
                      "rgb(8,48,107)"
                    ]
                  ],
                  "name": "Lightly Activities",
                  "type": "histogram2dcontour",
                  "x": [
                    328,
                    217,
                    209,
                    221,
                    164,
                    264,
                    205,
                    211,
                    262,
                    238,
                    216,
                    279,
                    189,
                    243,
                    217,
                    246,
                    277,
                    254,
                    250,
                    289,
                    175,
                    203,
                    206,
                    214,
                    251,
                    120,
                    402,
                    148,
                    295,
                    176,
                    184,
                    75,
                    55,
                    32,
                    51,
                    192,
                    95,
                    181,
                    238,
                    197,
                    188,
                    150,
                    60,
                    141,
                    327,
                    153,
                    162,
                    432,
                    164,
                    260,
                    286,
                    331,
                    352,
                    233,
                    191,
                    355,
                    345,
                    475,
                    383,
                    229,
                    258,
                    401,
                    17,
                    330,
                    343,
                    242,
                    195,
                    206,
                    284,
                    249,
                    206,
                    382,
                    208,
                    206,
                    360,
                    360,
                    277,
                    227,
                    295,
                    229,
                    4,
                    131,
                    153,
                    214,
                    183,
                    153,
                    205,
                    214,
                    221,
                    164,
                    242,
                    188,
                    252,
                    129,
                    133,
                    170,
                    176,
                    190,
                    150,
                    194,
                    124,
                    176,
                    258,
                    142,
                    178,
                    168,
                    208,
                    171,
                    196,
                    331,
                    55,
                    174,
                    346,
                    196,
                    177,
                    263,
                    206,
                    339,
                    228,
                    194,
                    58,
                    311,
                    306,
                    34,
                    176,
                    233,
                    191,
                    390,
                    288,
                    300,
                    359,
                    289,
                    196,
                    67,
                    344,
                    287,
                    314,
                    279,
                    153,
                    374,
                    329,
                    311,
                    2,
                    299,
                    253,
                    201,
                    239,
                    249,
                    228,
                    272,
                    220,
                    215,
                    239,
                    224,
                    241,
                    234,
                    300,
                    241,
                    204,
                    251,
                    199,
                    260,
                    178,
                    258,
                    267,
                    256,
                    196,
                    194,
                    231,
                    350,
                    225,
                    114,
                    121,
                    137,
                    215,
                    317,
                    179,
                    180,
                    194,
                    236,
                    226,
                    290,
                    240,
                    200,
                    233,
                    180,
                    185,
                    229,
                    108,
                    308,
                    266,
                    231,
                    232,
                    58,
                    432,
                    283,
                    197,
                    190,
                    238,
                    263,
                    258,
                    271,
                    256,
                    335,
                    302,
                    191,
                    179,
                    260,
                    144,
                    408,
                    281,
                    270,
                    216,
                    238,
                    232,
                    267,
                    263,
                    313,
                    251,
                    241,
                    207,
                    439,
                    253,
                    262,
                    235,
                    68,
                    277,
                    226,
                    256,
                    239,
                    288,
                    46,
                    206,
                    249,
                    148,
                    177,
                    270,
                    272,
                    104,
                    201,
                    238,
                    206,
                    165,
                    270,
                    84,
                    237,
                    227,
                    247,
                    224,
                    241,
                    229,
                    96,
                    210,
                    251,
                    265,
                    195,
                    48,
                    140,
                    144,
                    176,
                    199,
                    158,
                    159,
                    130,
                    111,
                    113,
                    175,
                    200,
                    223,
                    141,
                    214,
                    181,
                    190,
                    141,
                    165,
                    163,
                    178,
                    235,
                    212,
                    141,
                    143,
                    194,
                    63,
                    518,
                    312,
                    241,
                    480,
                    349,
                    294,
                    402,
                    512,
                    362,
                    458,
                    141,
                    461,
                    397,
                    487,
                    133,
                    412,
                    318,
                    197,
                    85,
                    105,
                    58,
                    189,
                    142,
                    86,
                    217,
                    280,
                    295,
                    238,
                    195,
                    297,
                    214,
                    240,
                    347,
                    199,
                    282,
                    254,
                    279,
                    288,
                    369,
                    237,
                    215,
                    313,
                    267,
                    284,
                    305,
                    299,
                    328,
                    151,
                    231,
                    275,
                    199,
                    105,
                    203,
                    237,
                    153,
                    155,
                    189,
                    139,
                    124,
                    145,
                    206,
                    153,
                    125,
                    129,
                    132,
                    145,
                    161,
                    308,
                    258,
                    139,
                    152,
                    135,
                    154,
                    209,
                    147,
                    171,
                    128,
                    58,
                    158,
                    223,
                    148,
                    156,
                    169,
                    174,
                    190,
                    142,
                    93,
                    174,
                    154,
                    169,
                    145,
                    159,
                    136,
                    135,
                    141,
                    161,
                    192,
                    139,
                    172,
                    121,
                    127,
                    142,
                    195,
                    167,
                    214,
                    166,
                    158,
                    139,
                    171,
                    152,
                    184,
                    102,
                    116,
                    82,
                    84,
                    126,
                    139,
                    195,
                    232,
                    112,
                    310,
                    380,
                    301,
                    79,
                    101,
                    156,
                    129
                  ],
                  "xaxis": "x",
                  "y": [
                    327,
                    384,
                    412,
                    340,
                    700,
                    304,
                    360,
                    325,
                    361,
                    430,
                    277,
                    245,
                    366,
                    341,
                    404,
                    369,
                    277,
                    273,
                    247,
                    334,
                    331,
                    594,
                    338,
                    383,
                    285,
                    119,
                    124,
                    796,
                    137,
                    644,
                    722,
                    590,
                    750,
                    398,
                    475,
                    296,
                    166,
                    503,
                    531,
                    545,
                    523,
                    524,
                    437,
                    498,
                    461,
                    477,
                    520,
                    522,
                    555,
                    506,
                    508,
                    513,
                    490,
                    573,
                    527,
                    511,
                    538,
                    468,
                    524,
                    511,
                    541,
                    531,
                    357,
                    523,
                    456,
                    61,
                    467,
                    445,
                    452,
                    556,
                    500,
                    465,
                    460,
                    405,
                    374,
                    442,
                    433,
                    436,
                    448,
                    408,
                    411,
                    274,
                    295,
                    291,
                    424,
                    283,
                    381,
                    412,
                    219,
                    152,
                    332,
                    355,
                    235,
                    310,
                    262,
                    250,
                    349,
                    261,
                    333,
                    237,
                    383,
                    230,
                    292,
                    213,
                    318,
                    323,
                    237,
                    259,
                    312,
                    501,
                    77,
                    322,
                    478,
                    226,
                    385,
                    364,
                    442,
                    535,
                    465,
                    506,
                    515,
                    461,
                    523,
                    59,
                    533,
                    692,
                    467,
                    488,
                    505,
                    286,
                    497,
                    523,
                    490,
                    484,
                    478,
                    474,
                    450,
                    507,
                    602,
                    535,
                    487,
                    529,
                    302,
                    499,
                    426,
                    619,
                    99,
                    329,
                    421,
                    442,
                    82,
                    478,
                    552,
                    319,
                    439,
                    428,
                    409,
                    547,
                    368,
                    390,
                    471,
                    472,
                    529,
                    62,
                    354,
                    469,
                    429,
                    370,
                    441,
                    337,
                    462,
                    98,
                    388,
                    439,
                    436,
                    388,
                    328,
                    353,
                    332,
                    419,
                    106,
                    322,
                    439,
                    502,
                    417,
                    337,
                    462,
                    374,
                    401,
                    361,
                    457,
                    405,
                    499,
                    483,
                    126,
                    103,
                    171,
                    115,
                    123,
                    425,
                    400,
                    384,
                    253,
                    382,
                    591,
                    293,
                    457,
                    454,
                    425,
                    465,
                    480,
                    370,
                    421,
                    432,
                    442,
                    433,
                    479,
                    327,
                    412,
                    414,
                    404,
                    520,
                    435,
                    416,
                    354,
                    404,
                    441,
                    455,
                    357,
                    377,
                    651,
                    350,
                    520,
                    357,
                    658,
                    399,
                    322,
                    631,
                    553,
                    433,
                    412,
                    347,
                    421,
                    450,
                    775,
                    622,
                    409,
                    380,
                    447,
                    419,
                    400,
                    442,
                    568,
                    453,
                    418,
                    463,
                    438,
                    419,
                    432,
                    477,
                    392,
                    406,
                    549,
                    527,
                    449,
                    447,
                    414,
                    338,
                    384,
                    543,
                    421,
                    354,
                    424,
                    361,
                    459,
                    412,
                    379,
                    525,
                    508,
                    603,
                    74,
                    504,
                    431,
                    380,
                    336,
                    493,
                    465,
                    474,
                    508,
                    480,
                    492,
                    353,
                    542,
                    393,
                    600,
                    507,
                    392,
                    658,
                    498,
                    555,
                    492,
                    235,
                    423,
                    391,
                    366,
                    630,
                    508,
                    370,
                    357,
                    427,
                    442,
                    476,
                    418,
                    451,
                    425,
                    528,
                    511,
                    400,
                    441,
                    455,
                    440,
                    433,
                    422,
                    411,
                    466,
                    394,
                    442,
                    467,
                    443,
                    298,
                    541,
                    489,
                    469,
                    452,
                    516,
                    79,
                    58,
                    514,
                    451,
                    472,
                    377,
                    472,
                    492,
                    390,
                    428,
                    681,
                    446,
                    485,
                    469,
                    354,
                    485,
                    388,
                    440,
                    456,
                    420,
                    322,
                    530,
                    481,
                    427,
                    451,
                    444,
                    486,
                    331,
                    74,
                    338,
                    447,
                    424,
                    513,
                    611,
                    525,
                    398,
                    387,
                    381,
                    396,
                    441,
                    565,
                    458,
                    388,
                    550,
                    531,
                    506,
                    527,
                    468,
                    475,
                    351,
                    405,
                    441,
                    381,
                    323,
                    459,
                    545,
                    359,
                    342,
                    368,
                    496,
                    458,
                    531,
                    486,
                    363,
                    528,
                    391,
                    339,
                    423,
                    402,
                    398,
                    343,
                    503,
                    415,
                    516,
                    439
                  ],
                  "yaxis": "y"
                },
                {
                  "colorscale": [
                    [
                      0,
                      "rgb(247,251,255)"
                    ],
                    [
                      0.125,
                      "rgb(222,235,247)"
                    ],
                    [
                      0.25,
                      "rgb(198,219,239)"
                    ],
                    [
                      0.375,
                      "rgb(158,202,225)"
                    ],
                    [
                      0.5,
                      "rgb(107,174,214)"
                    ],
                    [
                      0.625,
                      "rgb(66,146,198)"
                    ],
                    [
                      0.75,
                      "rgb(33,113,181)"
                    ],
                    [
                      0.875,
                      "rgb(8,81,156)"
                    ],
                    [
                      1,
                      "rgb(8,48,107)"
                    ]
                  ],
                  "name": "Fairly Active",
                  "type": "histogram2dcontour",
                  "x": [
                    13,
                    19,
                    34,
                    10,
                    20,
                    31,
                    12,
                    8,
                    21,
                    5,
                    14,
                    23,
                    28,
                    12,
                    34,
                    35,
                    15,
                    24,
                    24,
                    6,
                    46,
                    8,
                    11,
                    31,
                    23,
                    0,
                    71,
                    7,
                    0,
                    0,
                    0,
                    7,
                    0,
                    0,
                    0,
                    0,
                    0,
                    8,
                    0,
                    0,
                    0,
                    0,
                    0,
                    0,
                    0,
                    0,
                    0,
                    0,
                    0,
                    0,
                    0,
                    0,
                    0,
                    0,
                    0,
                    0,
                    0,
                    0,
                    0,
                    0,
                    0,
                    0,
                    0,
                    0,
                    0,
                    0,
                    32,
                    48,
                    24,
                    7,
                    16,
                    7,
                    26,
                    27,
                    35,
                    0,
                    11,
                    0,
                    9,
                    0,
                    0,
                    19,
                    46,
                    23,
                    42,
                    83,
                    58,
                    95,
                    67,
                    98,
                    0,
                    12,
                    92,
                    95,
                    9,
                    95,
                    10,
                    8,
                    32,
                    52,
                    40,
                    143,
                    41,
                    96,
                    88,
                    55,
                    86,
                    116,
                    115,
                    15,
                    21,
                    0,
                    46,
                    42,
                    0,
                    0,
                    0,
                    9,
                    0,
                    0,
                    9,
                    0,
                    18,
                    0,
                    19,
                    0,
                    5,
                    8,
                    21,
                    47,
                    8,
                    18,
                    38,
                    0,
                    11,
                    26,
                    11,
                    28,
                    0,
                    14,
                    12,
                    18,
                    0,
                    0,
                    9,
                    0,
                    8,
                    16,
                    42,
                    12,
                    25,
                    5,
                    8,
                    23,
                    48,
                    9,
                    43,
                    15,
                    4,
                    21,
                    39,
                    56,
                    38,
                    19,
                    14,
                    18,
                    0,
                    0,
                    0,
                    0,
                    0,
                    0,
                    0,
                    0,
                    0,
                    0,
                    0,
                    1,
                    1,
                    0,
                    0,
                    0,
                    0,
                    4,
                    2,
                    0,
                    6,
                    0,
                    4,
                    8,
                    0,
                    0,
                    22,
                    0,
                    21,
                    41,
                    29,
                    0,
                    35,
                    0,
                    0,
                    0,
                    8,
                    24,
                    66,
                    30,
                    8,
                    29,
                    41,
                    66,
                    95,
                    15,
                    8,
                    16,
                    9,
                    19,
                    36,
                    0,
                    15,
                    5,
                    16,
                    46,
                    12,
                    37,
                    41,
                    0,
                    13,
                    0,
                    41,
                    38,
                    0,
                    0,
                    0,
                    28,
                    0,
                    42,
                    16,
                    0,
                    0,
                    11,
                    18,
                    16,
                    13,
                    15,
                    0,
                    0,
                    9,
                    29,
                    0,
                    29,
                    9,
                    0,
                    8,
                    22,
                    40,
                    0,
                    6,
                    16,
                    11,
                    30,
                    54,
                    56,
                    37,
                    32,
                    23,
                    16,
                    74,
                    30,
                    24,
                    65,
                    38,
                    32,
                    16,
                    51,
                    36,
                    45,
                    72,
                    20,
                    8,
                    9,
                    21,
                    37,
                    15,
                    15,
                    0,
                    0,
                    0,
                    10,
                    19,
                    0,
                    0,
                    0,
                    0,
                    0,
                    0,
                    0,
                    0,
                    0,
                    0,
                    0,
                    0,
                    18,
                    24,
                    0,
                    14,
                    24,
                    0,
                    0,
                    3,
                    13,
                    42,
                    41,
                    4,
                    27,
                    33,
                    41,
                    0,
                    31,
                    7,
                    38,
                    8,
                    15,
                    16,
                    0,
                    39,
                    36,
                    36,
                    22,
                    0,
                    0,
                    14,
                    21,
                    34,
                    7,
                    8,
                    0,
                    0,
                    6,
                    26,
                    32,
                    21,
                    69,
                    13,
                    6,
                    59,
                    0,
                    39,
                    33,
                    6,
                    48,
                    17,
                    15,
                    26,
                    36,
                    12,
                    35,
                    42,
                    27,
                    50,
                    40,
                    4,
                    5,
                    14,
                    20,
                    15,
                    14,
                    21,
                    23,
                    21,
                    0,
                    10,
                    19,
                    8,
                    16,
                    12,
                    10,
                    0,
                    16,
                    18,
                    4,
                    10,
                    7,
                    0,
                    10,
                    4,
                    20,
                    10,
                    3,
                    5,
                    0,
                    0,
                    13,
                    13,
                    10,
                    6,
                    0,
                    0,
                    0,
                    0,
                    10,
                    20,
                    45,
                    0,
                    0,
                    14,
                    20,
                    0,
                    0,
                    0,
                    0
                  ],
                  "xaxis": "x2",
                  "y": [
                    327,
                    384,
                    412,
                    340,
                    700,
                    304,
                    360,
                    325,
                    361,
                    430,
                    277,
                    245,
                    366,
                    341,
                    404,
                    369,
                    277,
                    273,
                    247,
                    334,
                    331,
                    594,
                    338,
                    383,
                    285,
                    119,
                    124,
                    796,
                    137,
                    644,
                    722,
                    590,
                    750,
                    398,
                    475,
                    296,
                    166,
                    503,
                    531,
                    545,
                    523,
                    524,
                    437,
                    498,
                    461,
                    477,
                    520,
                    522,
                    555,
                    506,
                    508,
                    513,
                    490,
                    573,
                    527,
                    511,
                    538,
                    468,
                    524,
                    511,
                    541,
                    531,
                    357,
                    523,
                    456,
                    61,
                    467,
                    445,
                    452,
                    556,
                    500,
                    465,
                    460,
                    405,
                    374,
                    442,
                    433,
                    436,
                    448,
                    408,
                    411,
                    274,
                    295,
                    291,
                    424,
                    283,
                    381,
                    412,
                    219,
                    152,
                    332,
                    355,
                    235,
                    310,
                    262,
                    250,
                    349,
                    261,
                    333,
                    237,
                    383,
                    230,
                    292,
                    213,
                    318,
                    323,
                    237,
                    259,
                    312,
                    501,
                    77,
                    322,
                    478,
                    226,
                    385,
                    364,
                    442,
                    535,
                    465,
                    506,
                    515,
                    461,
                    523,
                    59,
                    533,
                    692,
                    467,
                    488,
                    505,
                    286,
                    497,
                    523,
                    490,
                    484,
                    478,
                    474,
                    450,
                    507,
                    602,
                    535,
                    487,
                    529,
                    302,
                    499,
                    426,
                    619,
                    99,
                    329,
                    421,
                    442,
                    82,
                    478,
                    552,
                    319,
                    439,
                    428,
                    409,
                    547,
                    368,
                    390,
                    471,
                    472,
                    529,
                    62,
                    354,
                    469,
                    429,
                    370,
                    441,
                    337,
                    462,
                    98,
                    388,
                    439,
                    436,
                    388,
                    328,
                    353,
                    332,
                    419,
                    106,
                    322,
                    439,
                    502,
                    417,
                    337,
                    462,
                    374,
                    401,
                    361,
                    457,
                    405,
                    499,
                    483,
                    126,
                    103,
                    171,
                    115,
                    123,
                    425,
                    400,
                    384,
                    253,
                    382,
                    591,
                    293,
                    457,
                    454,
                    425,
                    465,
                    480,
                    370,
                    421,
                    432,
                    442,
                    433,
                    479,
                    327,
                    412,
                    414,
                    404,
                    520,
                    435,
                    416,
                    354,
                    404,
                    441,
                    455,
                    357,
                    377,
                    651,
                    350,
                    520,
                    357,
                    658,
                    399,
                    322,
                    631,
                    553,
                    433,
                    412,
                    347,
                    421,
                    450,
                    775,
                    622,
                    409,
                    380,
                    447,
                    419,
                    400,
                    442,
                    568,
                    453,
                    418,
                    463,
                    438,
                    419,
                    432,
                    477,
                    392,
                    406,
                    549,
                    527,
                    449,
                    447,
                    414,
                    338,
                    384,
                    543,
                    421,
                    354,
                    424,
                    361,
                    459,
                    412,
                    379,
                    525,
                    508,
                    603,
                    74,
                    504,
                    431,
                    380,
                    336,
                    493,
                    465,
                    474,
                    508,
                    480,
                    492,
                    353,
                    542,
                    393,
                    600,
                    507,
                    392,
                    658,
                    498,
                    555,
                    492,
                    235,
                    423,
                    391,
                    366,
                    630,
                    508,
                    370,
                    357,
                    427,
                    442,
                    476,
                    418,
                    451,
                    425,
                    528,
                    511,
                    400,
                    441,
                    455,
                    440,
                    433,
                    422,
                    411,
                    466,
                    394,
                    442,
                    467,
                    443,
                    298,
                    541,
                    489,
                    469,
                    452,
                    516,
                    79,
                    58,
                    514,
                    451,
                    472,
                    377,
                    472,
                    492,
                    390,
                    428,
                    681,
                    446,
                    485,
                    469,
                    354,
                    485,
                    388,
                    440,
                    456,
                    420,
                    322,
                    530,
                    481,
                    427,
                    451,
                    444,
                    486,
                    331,
                    74,
                    338,
                    447,
                    424,
                    513,
                    611,
                    525,
                    398,
                    387,
                    381,
                    396,
                    441,
                    565,
                    458,
                    388,
                    550,
                    531,
                    506,
                    527,
                    468,
                    475,
                    351,
                    405,
                    441,
                    381,
                    323,
                    459,
                    545,
                    359,
                    342,
                    368,
                    496,
                    458,
                    531,
                    486,
                    363,
                    528,
                    391,
                    339,
                    423,
                    402,
                    398,
                    343,
                    503,
                    415,
                    516,
                    439
                  ],
                  "yaxis": "y2"
                },
                {
                  "colorscale": [
                    [
                      0,
                      "rgb(247,251,255)"
                    ],
                    [
                      0.125,
                      "rgb(222,235,247)"
                    ],
                    [
                      0.25,
                      "rgb(198,219,239)"
                    ],
                    [
                      0.375,
                      "rgb(158,202,225)"
                    ],
                    [
                      0.5,
                      "rgb(107,174,214)"
                    ],
                    [
                      0.625,
                      "rgb(66,146,198)"
                    ],
                    [
                      0.75,
                      "rgb(33,113,181)"
                    ],
                    [
                      0.875,
                      "rgb(8,81,156)"
                    ],
                    [
                      1,
                      "rgb(8,48,107)"
                    ]
                  ],
                  "name": "Very Active",
                  "type": "histogram2dcontour",
                  "x": [
                    25,
                    21,
                    29,
                    36,
                    38,
                    50,
                    28,
                    19,
                    41,
                    39,
                    73,
                    31,
                    48,
                    16,
                    52,
                    33,
                    41,
                    50,
                    45,
                    24,
                    37,
                    44,
                    46,
                    46,
                    36,
                    0,
                    9,
                    1,
                    0,
                    0,
                    0,
                    0,
                    0,
                    0,
                    0,
                    0,
                    0,
                    3,
                    0,
                    0,
                    0,
                    0,
                    0,
                    0,
                    0,
                    0,
                    0,
                    0,
                    0,
                    0,
                    0,
                    0,
                    0,
                    0,
                    0,
                    0,
                    0,
                    0,
                    0,
                    0,
                    0,
                    0,
                    0,
                    0,
                    0,
                    0,
                    19,
                    1,
                    1,
                    1,
                    11,
                    0,
                    23,
                    9,
                    32,
                    0,
                    15,
                    0,
                    26,
                    0,
                    0,
                    44,
                    31,
                    5,
                    15,
                    31,
                    11,
                    4,
                    19,
                    2,
                    0,
                    33,
                    0,
                    30,
                    50,
                    7,
                    0,
                    15,
                    36,
                    43,
                    41,
                    24,
                    47,
                    14,
                    14,
                    29,
                    0,
                    9,
                    1,
                    4,
                    65,
                    0,
                    13,
                    38,
                    0,
                    0,
                    0,
                    1,
                    0,
                    0,
                    1,
                    0,
                    0,
                    0,
                    1,
                    0,
                    1,
                    0,
                    8,
                    6,
                    13,
                    6,
                    6,
                    0,
                    0,
                    8,
                    6,
                    3,
                    0,
                    2,
                    3,
                    3,
                    0,
                    0,
                    6,
                    0,
                    27,
                    20,
                    19,
                    7,
                    77,
                    58,
                    14,
                    14,
                    11,
                    19,
                    14,
                    12,
                    33,
                    35,
                    12,
                    120,
                    107,
                    6,
                    13,
                    8,
                    0,
                    0,
                    0,
                    0,
                    0,
                    0,
                    0,
                    0,
                    0,
                    0,
                    0,
                    29,
                    32,
                    0,
                    0,
                    0,
                    0,
                    27,
                    30,
                    0,
                    2,
                    0,
                    26,
                    0,
                    0,
                    0,
                    34,
                    0,
                    6,
                    12,
                    15,
                    0,
                    66,
                    0,
                    0,
                    0,
                    1,
                    3,
                    12,
                    22,
                    10,
                    2,
                    4,
                    9,
                    15,
                    6,
                    1,
                    1,
                    14,
                    12,
                    4,
                    0,
                    4,
                    8,
                    1,
                    5,
                    0,
                    1,
                    10,
                    0,
                    19,
                    0,
                    61,
                    58,
                    0,
                    0,
                    0,
                    69,
                    0,
                    47,
                    25,
                    0,
                    0,
                    51,
                    40,
                    16,
                    49,
                    46,
                    0,
                    0,
                    23,
                    26,
                    0,
                    44,
                    21,
                    0,
                    3,
                    59,
                    61,
                    0,
                    8,
                    86,
                    15,
                    118,
                    115,
                    184,
                    200,
                    114,
                    108,
                    87,
                    110,
                    62,
                    24,
                    210,
                    61,
                    38,
                    63,
                    99,
                    97,
                    207,
                    194,
                    37,
                    97,
                    25,
                    45,
                    104,
                    45,
                    7,
                    0,
                    0,
                    0,
                    26,
                    11,
                    0,
                    0,
                    0,
                    0,
                    0,
                    0,
                    0,
                    0,
                    0,
                    0,
                    0,
                    0,
                    17,
                    14,
                    0,
                    50,
                    8,
                    0,
                    0,
                    50,
                    5,
                    13,
                    35,
                    48,
                    53,
                    30,
                    58,
                    0,
                    35,
                    36,
                    7,
                    38,
                    12,
                    32,
                    0,
                    18,
                    21,
                    15,
                    14,
                    0,
                    0,
                    0,
                    43,
                    62,
                    24,
                    0,
                    0,
                    0,
                    59,
                    31,
                    35,
                    30,
                    67,
                    87,
                    19,
                    58,
                    0,
                    69,
                    70,
                    55,
                    54,
                    42,
                    30,
                    66,
                    57,
                    45,
                    84,
                    20,
                    32,
                    67,
                    57,
                    5,
                    89,
                    125,
                    121,
                    65,
                    116,
                    123,
                    60,
                    64,
                    0,
                    117,
                    120,
                    82,
                    137,
                    113,
                    19,
                    0,
                    117,
                    90,
                    4,
                    11,
                    3,
                    0,
                    71,
                    63,
                    71,
                    19,
                    66,
                    74,
                    0,
                    0,
                    71,
                    63,
                    72,
                    8,
                    0,
                    0,
                    0,
                    0,
                    0,
                    1,
                    8,
                    0,
                    0,
                    6,
                    10,
                    0,
                    0,
                    0,
                    0
                  ],
                  "xaxis": "x3",
                  "y": [
                    327,
                    384,
                    412,
                    340,
                    700,
                    304,
                    360,
                    325,
                    361,
                    430,
                    277,
                    245,
                    366,
                    341,
                    404,
                    369,
                    277,
                    273,
                    247,
                    334,
                    331,
                    594,
                    338,
                    383,
                    285,
                    119,
                    124,
                    796,
                    137,
                    644,
                    722,
                    590,
                    750,
                    398,
                    475,
                    296,
                    166,
                    503,
                    531,
                    545,
                    523,
                    524,
                    437,
                    498,
                    461,
                    477,
                    520,
                    522,
                    555,
                    506,
                    508,
                    513,
                    490,
                    573,
                    527,
                    511,
                    538,
                    468,
                    524,
                    511,
                    541,
                    531,
                    357,
                    523,
                    456,
                    61,
                    467,
                    445,
                    452,
                    556,
                    500,
                    465,
                    460,
                    405,
                    374,
                    442,
                    433,
                    436,
                    448,
                    408,
                    411,
                    274,
                    295,
                    291,
                    424,
                    283,
                    381,
                    412,
                    219,
                    152,
                    332,
                    355,
                    235,
                    310,
                    262,
                    250,
                    349,
                    261,
                    333,
                    237,
                    383,
                    230,
                    292,
                    213,
                    318,
                    323,
                    237,
                    259,
                    312,
                    501,
                    77,
                    322,
                    478,
                    226,
                    385,
                    364,
                    442,
                    535,
                    465,
                    506,
                    515,
                    461,
                    523,
                    59,
                    533,
                    692,
                    467,
                    488,
                    505,
                    286,
                    497,
                    523,
                    490,
                    484,
                    478,
                    474,
                    450,
                    507,
                    602,
                    535,
                    487,
                    529,
                    302,
                    499,
                    426,
                    619,
                    99,
                    329,
                    421,
                    442,
                    82,
                    478,
                    552,
                    319,
                    439,
                    428,
                    409,
                    547,
                    368,
                    390,
                    471,
                    472,
                    529,
                    62,
                    354,
                    469,
                    429,
                    370,
                    441,
                    337,
                    462,
                    98,
                    388,
                    439,
                    436,
                    388,
                    328,
                    353,
                    332,
                    419,
                    106,
                    322,
                    439,
                    502,
                    417,
                    337,
                    462,
                    374,
                    401,
                    361,
                    457,
                    405,
                    499,
                    483,
                    126,
                    103,
                    171,
                    115,
                    123,
                    425,
                    400,
                    384,
                    253,
                    382,
                    591,
                    293,
                    457,
                    454,
                    425,
                    465,
                    480,
                    370,
                    421,
                    432,
                    442,
                    433,
                    479,
                    327,
                    412,
                    414,
                    404,
                    520,
                    435,
                    416,
                    354,
                    404,
                    441,
                    455,
                    357,
                    377,
                    651,
                    350,
                    520,
                    357,
                    658,
                    399,
                    322,
                    631,
                    553,
                    433,
                    412,
                    347,
                    421,
                    450,
                    775,
                    622,
                    409,
                    380,
                    447,
                    419,
                    400,
                    442,
                    568,
                    453,
                    418,
                    463,
                    438,
                    419,
                    432,
                    477,
                    392,
                    406,
                    549,
                    527,
                    449,
                    447,
                    414,
                    338,
                    384,
                    543,
                    421,
                    354,
                    424,
                    361,
                    459,
                    412,
                    379,
                    525,
                    508,
                    603,
                    74,
                    504,
                    431,
                    380,
                    336,
                    493,
                    465,
                    474,
                    508,
                    480,
                    492,
                    353,
                    542,
                    393,
                    600,
                    507,
                    392,
                    658,
                    498,
                    555,
                    492,
                    235,
                    423,
                    391,
                    366,
                    630,
                    508,
                    370,
                    357,
                    427,
                    442,
                    476,
                    418,
                    451,
                    425,
                    528,
                    511,
                    400,
                    441,
                    455,
                    440,
                    433,
                    422,
                    411,
                    466,
                    394,
                    442,
                    467,
                    443,
                    298,
                    541,
                    489,
                    469,
                    452,
                    516,
                    79,
                    58,
                    514,
                    451,
                    472,
                    377,
                    472,
                    492,
                    390,
                    428,
                    681,
                    446,
                    485,
                    469,
                    354,
                    485,
                    388,
                    440,
                    456,
                    420,
                    322,
                    530,
                    481,
                    427,
                    451,
                    444,
                    486,
                    331,
                    74,
                    338,
                    447,
                    424,
                    513,
                    611,
                    525,
                    398,
                    387,
                    381,
                    396,
                    441,
                    565,
                    458,
                    388,
                    550,
                    531,
                    506,
                    527,
                    468,
                    475,
                    351,
                    405,
                    441,
                    381,
                    323,
                    459,
                    545,
                    359,
                    342,
                    368,
                    496,
                    458,
                    531,
                    486,
                    363,
                    528,
                    391,
                    339,
                    423,
                    402,
                    398,
                    343,
                    503,
                    415,
                    516,
                    439
                  ],
                  "yaxis": "y3"
                }
              ],
              "layout": {
                "height": 800,
                "hovermode": "x unified",
                "legend": {
                  "orientation": "h",
                  "title": {
                    "text": ""
                  },
                  "x": 1,
                  "xanchor": "right",
                  "y": 1.02,
                  "yanchor": "bottom"
                },
                "template": {
                  "data": {
                    "bar": [
                      {
                        "error_x": {
                          "color": "#2a3f5f"
                        },
                        "error_y": {
                          "color": "#2a3f5f"
                        },
                        "marker": {
                          "line": {
                            "color": "#E5ECF6",
                            "width": 0.5
                          },
                          "pattern": {
                            "fillmode": "overlay",
                            "size": 10,
                            "solidity": 0.2
                          }
                        },
                        "type": "bar"
                      }
                    ],
                    "barpolar": [
                      {
                        "marker": {
                          "line": {
                            "color": "#E5ECF6",
                            "width": 0.5
                          },
                          "pattern": {
                            "fillmode": "overlay",
                            "size": 10,
                            "solidity": 0.2
                          }
                        },
                        "type": "barpolar"
                      }
                    ],
                    "carpet": [
                      {
                        "aaxis": {
                          "endlinecolor": "#2a3f5f",
                          "gridcolor": "white",
                          "linecolor": "white",
                          "minorgridcolor": "white",
                          "startlinecolor": "#2a3f5f"
                        },
                        "baxis": {
                          "endlinecolor": "#2a3f5f",
                          "gridcolor": "white",
                          "linecolor": "white",
                          "minorgridcolor": "white",
                          "startlinecolor": "#2a3f5f"
                        },
                        "type": "carpet"
                      }
                    ],
                    "choropleth": [
                      {
                        "colorbar": {
                          "outlinewidth": 0,
                          "ticks": ""
                        },
                        "type": "choropleth"
                      }
                    ],
                    "contour": [
                      {
                        "colorbar": {
                          "outlinewidth": 0,
                          "ticks": ""
                        },
                        "colorscale": [
                          [
                            0,
                            "#0d0887"
                          ],
                          [
                            0.1111111111111111,
                            "#46039f"
                          ],
                          [
                            0.2222222222222222,
                            "#7201a8"
                          ],
                          [
                            0.3333333333333333,
                            "#9c179e"
                          ],
                          [
                            0.4444444444444444,
                            "#bd3786"
                          ],
                          [
                            0.5555555555555556,
                            "#d8576b"
                          ],
                          [
                            0.6666666666666666,
                            "#ed7953"
                          ],
                          [
                            0.7777777777777778,
                            "#fb9f3a"
                          ],
                          [
                            0.8888888888888888,
                            "#fdca26"
                          ],
                          [
                            1,
                            "#f0f921"
                          ]
                        ],
                        "type": "contour"
                      }
                    ],
                    "contourcarpet": [
                      {
                        "colorbar": {
                          "outlinewidth": 0,
                          "ticks": ""
                        },
                        "type": "contourcarpet"
                      }
                    ],
                    "heatmap": [
                      {
                        "colorbar": {
                          "outlinewidth": 0,
                          "ticks": ""
                        },
                        "colorscale": [
                          [
                            0,
                            "#0d0887"
                          ],
                          [
                            0.1111111111111111,
                            "#46039f"
                          ],
                          [
                            0.2222222222222222,
                            "#7201a8"
                          ],
                          [
                            0.3333333333333333,
                            "#9c179e"
                          ],
                          [
                            0.4444444444444444,
                            "#bd3786"
                          ],
                          [
                            0.5555555555555556,
                            "#d8576b"
                          ],
                          [
                            0.6666666666666666,
                            "#ed7953"
                          ],
                          [
                            0.7777777777777778,
                            "#fb9f3a"
                          ],
                          [
                            0.8888888888888888,
                            "#fdca26"
                          ],
                          [
                            1,
                            "#f0f921"
                          ]
                        ],
                        "type": "heatmap"
                      }
                    ],
                    "heatmapgl": [
                      {
                        "colorbar": {
                          "outlinewidth": 0,
                          "ticks": ""
                        },
                        "colorscale": [
                          [
                            0,
                            "#0d0887"
                          ],
                          [
                            0.1111111111111111,
                            "#46039f"
                          ],
                          [
                            0.2222222222222222,
                            "#7201a8"
                          ],
                          [
                            0.3333333333333333,
                            "#9c179e"
                          ],
                          [
                            0.4444444444444444,
                            "#bd3786"
                          ],
                          [
                            0.5555555555555556,
                            "#d8576b"
                          ],
                          [
                            0.6666666666666666,
                            "#ed7953"
                          ],
                          [
                            0.7777777777777778,
                            "#fb9f3a"
                          ],
                          [
                            0.8888888888888888,
                            "#fdca26"
                          ],
                          [
                            1,
                            "#f0f921"
                          ]
                        ],
                        "type": "heatmapgl"
                      }
                    ],
                    "histogram": [
                      {
                        "marker": {
                          "pattern": {
                            "fillmode": "overlay",
                            "size": 10,
                            "solidity": 0.2
                          }
                        },
                        "type": "histogram"
                      }
                    ],
                    "histogram2d": [
                      {
                        "colorbar": {
                          "outlinewidth": 0,
                          "ticks": ""
                        },
                        "colorscale": [
                          [
                            0,
                            "#0d0887"
                          ],
                          [
                            0.1111111111111111,
                            "#46039f"
                          ],
                          [
                            0.2222222222222222,
                            "#7201a8"
                          ],
                          [
                            0.3333333333333333,
                            "#9c179e"
                          ],
                          [
                            0.4444444444444444,
                            "#bd3786"
                          ],
                          [
                            0.5555555555555556,
                            "#d8576b"
                          ],
                          [
                            0.6666666666666666,
                            "#ed7953"
                          ],
                          [
                            0.7777777777777778,
                            "#fb9f3a"
                          ],
                          [
                            0.8888888888888888,
                            "#fdca26"
                          ],
                          [
                            1,
                            "#f0f921"
                          ]
                        ],
                        "type": "histogram2d"
                      }
                    ],
                    "histogram2dcontour": [
                      {
                        "colorbar": {
                          "outlinewidth": 0,
                          "ticks": ""
                        },
                        "colorscale": [
                          [
                            0,
                            "#0d0887"
                          ],
                          [
                            0.1111111111111111,
                            "#46039f"
                          ],
                          [
                            0.2222222222222222,
                            "#7201a8"
                          ],
                          [
                            0.3333333333333333,
                            "#9c179e"
                          ],
                          [
                            0.4444444444444444,
                            "#bd3786"
                          ],
                          [
                            0.5555555555555556,
                            "#d8576b"
                          ],
                          [
                            0.6666666666666666,
                            "#ed7953"
                          ],
                          [
                            0.7777777777777778,
                            "#fb9f3a"
                          ],
                          [
                            0.8888888888888888,
                            "#fdca26"
                          ],
                          [
                            1,
                            "#f0f921"
                          ]
                        ],
                        "type": "histogram2dcontour"
                      }
                    ],
                    "mesh3d": [
                      {
                        "colorbar": {
                          "outlinewidth": 0,
                          "ticks": ""
                        },
                        "type": "mesh3d"
                      }
                    ],
                    "parcoords": [
                      {
                        "line": {
                          "colorbar": {
                            "outlinewidth": 0,
                            "ticks": ""
                          }
                        },
                        "type": "parcoords"
                      }
                    ],
                    "pie": [
                      {
                        "automargin": true,
                        "type": "pie"
                      }
                    ],
                    "scatter": [
                      {
                        "marker": {
                          "colorbar": {
                            "outlinewidth": 0,
                            "ticks": ""
                          }
                        },
                        "type": "scatter"
                      }
                    ],
                    "scatter3d": [
                      {
                        "line": {
                          "colorbar": {
                            "outlinewidth": 0,
                            "ticks": ""
                          }
                        },
                        "marker": {
                          "colorbar": {
                            "outlinewidth": 0,
                            "ticks": ""
                          }
                        },
                        "type": "scatter3d"
                      }
                    ],
                    "scattercarpet": [
                      {
                        "marker": {
                          "colorbar": {
                            "outlinewidth": 0,
                            "ticks": ""
                          }
                        },
                        "type": "scattercarpet"
                      }
                    ],
                    "scattergeo": [
                      {
                        "marker": {
                          "colorbar": {
                            "outlinewidth": 0,
                            "ticks": ""
                          }
                        },
                        "type": "scattergeo"
                      }
                    ],
                    "scattergl": [
                      {
                        "marker": {
                          "colorbar": {
                            "outlinewidth": 0,
                            "ticks": ""
                          }
                        },
                        "type": "scattergl"
                      }
                    ],
                    "scattermapbox": [
                      {
                        "marker": {
                          "colorbar": {
                            "outlinewidth": 0,
                            "ticks": ""
                          }
                        },
                        "type": "scattermapbox"
                      }
                    ],
                    "scatterpolar": [
                      {
                        "marker": {
                          "colorbar": {
                            "outlinewidth": 0,
                            "ticks": ""
                          }
                        },
                        "type": "scatterpolar"
                      }
                    ],
                    "scatterpolargl": [
                      {
                        "marker": {
                          "colorbar": {
                            "outlinewidth": 0,
                            "ticks": ""
                          }
                        },
                        "type": "scatterpolargl"
                      }
                    ],
                    "scatterternary": [
                      {
                        "marker": {
                          "colorbar": {
                            "outlinewidth": 0,
                            "ticks": ""
                          }
                        },
                        "type": "scatterternary"
                      }
                    ],
                    "surface": [
                      {
                        "colorbar": {
                          "outlinewidth": 0,
                          "ticks": ""
                        },
                        "colorscale": [
                          [
                            0,
                            "#0d0887"
                          ],
                          [
                            0.1111111111111111,
                            "#46039f"
                          ],
                          [
                            0.2222222222222222,
                            "#7201a8"
                          ],
                          [
                            0.3333333333333333,
                            "#9c179e"
                          ],
                          [
                            0.4444444444444444,
                            "#bd3786"
                          ],
                          [
                            0.5555555555555556,
                            "#d8576b"
                          ],
                          [
                            0.6666666666666666,
                            "#ed7953"
                          ],
                          [
                            0.7777777777777778,
                            "#fb9f3a"
                          ],
                          [
                            0.8888888888888888,
                            "#fdca26"
                          ],
                          [
                            1,
                            "#f0f921"
                          ]
                        ],
                        "type": "surface"
                      }
                    ],
                    "table": [
                      {
                        "cells": {
                          "fill": {
                            "color": "#EBF0F8"
                          },
                          "line": {
                            "color": "white"
                          }
                        },
                        "header": {
                          "fill": {
                            "color": "#C8D4E3"
                          },
                          "line": {
                            "color": "white"
                          }
                        },
                        "type": "table"
                      }
                    ]
                  },
                  "layout": {
                    "annotationdefaults": {
                      "arrowcolor": "#2a3f5f",
                      "arrowhead": 0,
                      "arrowwidth": 1
                    },
                    "autotypenumbers": "strict",
                    "coloraxis": {
                      "colorbar": {
                        "outlinewidth": 0,
                        "ticks": ""
                      }
                    },
                    "colorscale": {
                      "diverging": [
                        [
                          0,
                          "#8e0152"
                        ],
                        [
                          0.1,
                          "#c51b7d"
                        ],
                        [
                          0.2,
                          "#de77ae"
                        ],
                        [
                          0.3,
                          "#f1b6da"
                        ],
                        [
                          0.4,
                          "#fde0ef"
                        ],
                        [
                          0.5,
                          "#f7f7f7"
                        ],
                        [
                          0.6,
                          "#e6f5d0"
                        ],
                        [
                          0.7,
                          "#b8e186"
                        ],
                        [
                          0.8,
                          "#7fbc41"
                        ],
                        [
                          0.9,
                          "#4d9221"
                        ],
                        [
                          1,
                          "#276419"
                        ]
                      ],
                      "sequential": [
                        [
                          0,
                          "#0d0887"
                        ],
                        [
                          0.1111111111111111,
                          "#46039f"
                        ],
                        [
                          0.2222222222222222,
                          "#7201a8"
                        ],
                        [
                          0.3333333333333333,
                          "#9c179e"
                        ],
                        [
                          0.4444444444444444,
                          "#bd3786"
                        ],
                        [
                          0.5555555555555556,
                          "#d8576b"
                        ],
                        [
                          0.6666666666666666,
                          "#ed7953"
                        ],
                        [
                          0.7777777777777778,
                          "#fb9f3a"
                        ],
                        [
                          0.8888888888888888,
                          "#fdca26"
                        ],
                        [
                          1,
                          "#f0f921"
                        ]
                      ],
                      "sequentialminus": [
                        [
                          0,
                          "#0d0887"
                        ],
                        [
                          0.1111111111111111,
                          "#46039f"
                        ],
                        [
                          0.2222222222222222,
                          "#7201a8"
                        ],
                        [
                          0.3333333333333333,
                          "#9c179e"
                        ],
                        [
                          0.4444444444444444,
                          "#bd3786"
                        ],
                        [
                          0.5555555555555556,
                          "#d8576b"
                        ],
                        [
                          0.6666666666666666,
                          "#ed7953"
                        ],
                        [
                          0.7777777777777778,
                          "#fb9f3a"
                        ],
                        [
                          0.8888888888888888,
                          "#fdca26"
                        ],
                        [
                          1,
                          "#f0f921"
                        ]
                      ]
                    },
                    "colorway": [
                      "#636efa",
                      "#EF553B",
                      "#00cc96",
                      "#ab63fa",
                      "#FFA15A",
                      "#19d3f3",
                      "#FF6692",
                      "#B6E880",
                      "#FF97FF",
                      "#FECB52"
                    ],
                    "font": {
                      "color": "#2a3f5f"
                    },
                    "geo": {
                      "bgcolor": "white",
                      "lakecolor": "white",
                      "landcolor": "#E5ECF6",
                      "showlakes": true,
                      "showland": true,
                      "subunitcolor": "white"
                    },
                    "hoverlabel": {
                      "align": "left"
                    },
                    "hovermode": "closest",
                    "mapbox": {
                      "style": "light"
                    },
                    "paper_bgcolor": "white",
                    "plot_bgcolor": "#E5ECF6",
                    "polar": {
                      "angularaxis": {
                        "gridcolor": "white",
                        "linecolor": "white",
                        "ticks": ""
                      },
                      "bgcolor": "#E5ECF6",
                      "radialaxis": {
                        "gridcolor": "white",
                        "linecolor": "white",
                        "ticks": ""
                      }
                    },
                    "scene": {
                      "xaxis": {
                        "backgroundcolor": "#E5ECF6",
                        "gridcolor": "white",
                        "gridwidth": 2,
                        "linecolor": "white",
                        "showbackground": true,
                        "ticks": "",
                        "zerolinecolor": "white"
                      },
                      "yaxis": {
                        "backgroundcolor": "#E5ECF6",
                        "gridcolor": "white",
                        "gridwidth": 2,
                        "linecolor": "white",
                        "showbackground": true,
                        "ticks": "",
                        "zerolinecolor": "white"
                      },
                      "zaxis": {
                        "backgroundcolor": "#E5ECF6",
                        "gridcolor": "white",
                        "gridwidth": 2,
                        "linecolor": "white",
                        "showbackground": true,
                        "ticks": "",
                        "zerolinecolor": "white"
                      }
                    },
                    "shapedefaults": {
                      "line": {
                        "color": "#2a3f5f"
                      }
                    },
                    "ternary": {
                      "aaxis": {
                        "gridcolor": "white",
                        "linecolor": "white",
                        "ticks": ""
                      },
                      "baxis": {
                        "gridcolor": "white",
                        "linecolor": "white",
                        "ticks": ""
                      },
                      "bgcolor": "#E5ECF6",
                      "caxis": {
                        "gridcolor": "white",
                        "linecolor": "white",
                        "ticks": ""
                      }
                    },
                    "title": {
                      "x": 0.05
                    },
                    "xaxis": {
                      "automargin": true,
                      "gridcolor": "white",
                      "linecolor": "white",
                      "ticks": "",
                      "title": {
                        "standoff": 15
                      },
                      "zerolinecolor": "white",
                      "zerolinewidth": 2
                    },
                    "yaxis": {
                      "automargin": true,
                      "gridcolor": "white",
                      "linecolor": "white",
                      "ticks": "",
                      "title": {
                        "standoff": 15
                      },
                      "zerolinecolor": "white",
                      "zerolinewidth": 2
                    }
                  }
                },
                "title": {
                  "text": "Activity Time vs Sleep Time "
                },
                "width": 1200,
                "xaxis": {
                  "anchor": "y",
                  "domain": [
                    0,
                    0.2888888888888889
                  ],
                  "range": [
                    0,
                    450
                  ],
                  "title": {
                    "text": "Time spent in lightly activities"
                  }
                },
                "xaxis2": {
                  "anchor": "y2",
                  "domain": [
                    0.35555555555555557,
                    0.6444444444444445
                  ],
                  "range": [
                    -5.5,
                    55
                  ],
                  "title": {
                    "text": "Time spent in fairly activities"
                  }
                },
                "xaxis3": {
                  "anchor": "y3",
                  "domain": [
                    0.7111111111111111,
                    1
                  ],
                  "range": [
                    -10,
                    85
                  ],
                  "title": {
                    "text": "Time spent in very active activities"
                  }
                },
                "yaxis": {
                  "anchor": "x",
                  "domain": [
                    0,
                    1
                  ],
                  "side": "left",
                  "title": {
                    "text": "Time Slept"
                  }
                },
                "yaxis2": {
                  "anchor": "x2",
                  "domain": [
                    0,
                    1
                  ],
                  "matches": "y",
                  "showticklabels": false
                },
                "yaxis3": {
                  "anchor": "x3",
                  "domain": [
                    0,
                    1
                  ],
                  "matches": "y",
                  "showticklabels": false
                }
              }
            }
          },
          "metadata": {},
          "output_type": "display_data"
        }
      ],
      "source": [
        "# Density plots from the plot above: \n",
        "\n",
        "# Figure Subplots\n",
        "fig = make_subplots(rows=1, cols=3 ,shared_yaxes=True)\n",
        "\n",
        "fig.add_trace(\n",
        "    go.Histogram2dContour(x=df_analysis_calories_steps['LightlyActiveMinutes'], y=df_analysis_calories_steps['TotalMinutesAsleep'], colorscale = 'Blues',name='Lightly Activities'),\n",
        "    row=1, col=1,\n",
        ")\n",
        "\n",
        "\n",
        "fig.add_trace(\n",
        "    go.Histogram2dContour(x=df_analysis_calories_steps['FairlyActiveMinutes'], y=df_analysis_calories_steps['TotalMinutesAsleep'], colorscale = 'Blues',name='Fairly Active'),\n",
        "    row=1, col=2\n",
        ")\n",
        "\n",
        "\n",
        "fig.add_trace(\n",
        "    go.Histogram2dContour(x=df_analysis_calories_steps['VeryActiveMinutes'], y=df_analysis_calories_steps['TotalMinutesAsleep'], colorscale = 'Blues',name='Very Active'),\n",
        "    row=1, col=3\n",
        ")\n",
        "\n",
        "fig.update_layout(height=800, width=1200, title_text=\"Activity Time vs Sleep Time \", hovermode=\"x unified\")\n",
        "\n",
        "fig.update_layout(legend=dict(\n",
        "                      orientation=\"h\",\n",
        "                      yanchor=\"bottom\",\n",
        "                      y=1.02,\n",
        "                      xanchor=\"right\",\n",
        "                      x=1,\n",
        "                      title=''\n",
        "                  ),xaxis=dict(\n",
        "                      title = 'Time spent in lightly activities',\n",
        "                      range = [0,450]\n",
        "                      ), \n",
        "                    yaxis=dict(\n",
        "                      title='Time Slept',\n",
        "                      side='left',\n",
        "))\n",
        "\n",
        "fig.update_xaxes(row=1, col=2, title = 'Time spent in fairly activities', range = [-5.5,55])\n",
        "fig.update_xaxes(row=1, col=3, title = 'Time spent in very active activities', range = [-10,85])\n",
        "\n",
        "\n",
        "# fig.update_traces(connectgaps=False)\n"
      ]
    },
    {
      "cell_type": "markdown",
      "metadata": {
        "id": "F1zJor2J42Ur"
      },
      "source": [
        "Same as above, but with a density plot. We can see that the preference in lightly activities exists."
      ]
    },
    {
      "cell_type": "code",
      "execution_count": 42,
      "metadata": {
        "colab": {
          "base_uri": "https://localhost:8080/",
          "height": 617
        },
        "id": "rEN3E3KFwVTd",
        "outputId": "9ed4d520-d86c-47a9-9c3a-514d354fed7f"
      },
      "outputs": [
        {
          "data": {
            "application/vnd.plotly.v1+json": {
              "config": {
                "plotlyServerURL": "https://plot.ly"
              },
              "data": [
                {
                  "mode": "markers",
                  "name": "Lightly Activities Distance",
                  "type": "scatter",
                  "x": [
                    6.05999994277954,
                    4.71000003814697,
                    2.82999992370605,
                    5.03999996185303,
                    2.50999999046326,
                    5.03000020980835,
                    4.23999977111816,
                    4.65000009536743,
                    5.3600001335144,
                    3.27999997138977,
                    3.94000005722046,
                    5.53999996185303,
                    3.78999996185303,
                    5.57999992370605,
                    4.26999998092651,
                    2.92000007629395,
                    5.92000007629395,
                    4.88000011444092,
                    4.88000011444092,
                    5.80999994277954,
                    3.13000011444092,
                    2.73000001907349,
                    3.74000000953674,
                    3.25999999046326,
                    4.55000019073486,
                    2.30999994277954,
                    9.46000003814697,
                    2.34999990463257,
                    4.88000011444092,
                    2.53999996185303,
                    2.65000009536743,
                    1.45000004768372,
                    0.469999998807907,
                    0.25,
                    0.680000007152557,
                    2.59999990463257,
                    1.1599999666214,
                    2.20000004768372,
                    3.09999990463257,
                    2.04999995231628,
                    2.36999988555908,
                    1.58000004291534,
                    0.519999980926514,
                    1.5,
                    4.48000001907349,
                    1.52999997138977,
                    1.80999994277954,
                    7.71000003814697,
                    2.16000008583069,
                    3.73000001907349,
                    3.76999998092651,
                    3.95000004768372,
                    4.71000003814697,
                    2.9300000667572,
                    2.27999997138977,
                    4.34999990463257,
                    4.07000017166138,
                    7.53999996185303,
                    5.07999992370605,
                    2.59999990463257,
                    3.45000004768372,
                    6.59999990463257,
                    0.159999996423721,
                    5.32000017166138,
                    5.51000022888184,
                    3.42000007629395,
                    3.41000008583069,
                    3.94000005722046,
                    5.42999982833862,
                    3.25999999046326,
                    3.78999996185303,
                    4.44000005722046,
                    3.38000011444092,
                    2.92000007629395,
                    7.15000009536743,
                    6.26000022888184,
                    4.59999990463257,
                    3.95000004768372,
                    5.32000017166138,
                    3.59999990463257,
                    0.0299999993294477,
                    2.00999999046326,
                    2.54999995231628,
                    3.8199999332428,
                    3.25999999046326,
                    2.97000002861023,
                    3.92000007629395,
                    3.8199999332428,
                    3.96000003814697,
                    3.27999997138977,
                    4.05999994277954,
                    3.05999994277954,
                    3.84999990463257,
                    2.17000007629395,
                    2.41000008583069,
                    2.95000004768372,
                    4.61999988555908,
                    3.22000002861023,
                    2.71000003814697,
                    3.41000008583069,
                    2.41000008583069,
                    3.01999998092651,
                    4.53000020980835,
                    2.89000010490417,
                    2.71000003814697,
                    2.67000007629395,
                    3.58999991416931,
                    3.17000007629395,
                    3.30999994277954,
                    5.67999982833862,
                    0.589999973773956,
                    3.15000009536743,
                    5.57999992370605,
                    4.03999996185303,
                    3.09999990463257,
                    4.15000009536743,
                    3.86999988555908,
                    6.44000005722046,
                    3.79999995231628,
                    3.1800000667572,
                    1.12000000476837,
                    5.98999977111816,
                    5.30999994277954,
                    0.349999994039536,
                    2.15000009536743,
                    3.30999994277954,
                    2.47000002861023,
                    5.92999982833862,
                    5.15000009536743,
                    4.90999984741211,
                    5.94000005722046,
                    4.11999988555908,
                    3.50999999046326,
                    0.839999973773956,
                    5.71000003814697,
                    4.82999992370605,
                    5.46000003814697,
                    4.07999992370605,
                    2.46000003814697,
                    6.25,
                    5.69999980926514,
                    5.17999982833862,
                    0.0099999997764825,
                    6.73000001907349,
                    4.44999980926514,
                    3.57999992370605,
                    5.1399998664856,
                    5.76999998092651,
                    5.28999996185303,
                    6.98000001907349,
                    4.92000007629395,
                    5.34999990463257,
                    6.30000019073486,
                    5.26999998092651,
                    5.3899998664856,
                    6.03000020980835,
                    6.94000005722046,
                    6.19999980926514,
                    4.55000019073486,
                    5.80000019073486,
                    5.09000015258789,
                    5.32999992370605,
                    3.23000001907349,
                    6.78999996185303,
                    6.46000003814697,
                    6.53000020980835,
                    2.20000004768372,
                    1.99000000953674,
                    2.67000007629395,
                    4.82999992370605,
                    2.65000009536743,
                    1.51999998092651,
                    1.38999998569489,
                    1.38999998569489,
                    2.53999996185303,
                    4.57999992370605,
                    2.26999998092651,
                    1.96000003814697,
                    2.38000011444092,
                    3.00999999046326,
                    3.13000011444092,
                    4.17999982833862,
                    3.50999999046326,
                    2.34999990463257,
                    2.57999992370605,
                    1.96000003814697,
                    2.1800000667572,
                    3.02999997138977,
                    1.25,
                    4.65000009536743,
                    3.53999996185303,
                    2.63000011444092,
                    2.85999989509583,
                    0.519999980926514,
                    7.69999980926514,
                    3.58999991416931,
                    2.30999994277954,
                    2.26999998092651,
                    2.01999998092651,
                    5.84999990463257,
                    5.57999992370605,
                    6.36999988555908,
                    4.78999996185303,
                    7.53999996185303,
                    5.88000011444092,
                    4.07000017166138,
                    4.19000005722046,
                    5.73000001907349,
                    2.94000005722046,
                    8.27000045776367,
                    5.88000011444092,
                    6.1100001335144,
                    4.53999996185303,
                    4.78000020980835,
                    5.76999998092651,
                    6.07000017166138,
                    5.88000011444092,
                    7.67000007629395,
                    5.53999996185303,
                    6.09000015258789,
                    4.86999988555908,
                    8.97000026702881,
                    6.09999990463257,
                    6.65000009536743,
                    4.98000001907349,
                    2.23000001907349,
                    5.40999984741211,
                    3.16000008583069,
                    4.67000007629395,
                    4.71000003814697,
                    3.76999998092651,
                    0.430000007152557,
                    2.4300000667572,
                    4.17999982833862,
                    1.76999998092651,
                    2.96000003814697,
                    5.59999990463257,
                    2.6800000667572,
                    1.17999994754791,
                    3.69000005722046,
                    4.46000003814697,
                    4.73999977111816,
                    3.17000007629395,
                    4.90999984741211,
                    0.779999971389771,
                    3.36999988555908,
                    4.90000009536743,
                    5.67999982833862,
                    2.76999998092651,
                    4.42999982833862,
                    4.23000001907349,
                    1.22000002861023,
                    3.29999995231628,
                    4.55999994277954,
                    5.19999980926514,
                    3.22000002861023,
                    1.05999994277954,
                    2.09999990463257,
                    3.25,
                    2.77999997138977,
                    3.55999994277954,
                    2.73000001907349,
                    2.3199999332428,
                    1.82000005245209,
                    1.75999999046326,
                    1.75999999046326,
                    2.77999997138977,
                    3.29999995231628,
                    4.1399998664856,
                    1.98000001907349,
                    2.75999999046326,
                    2.47000002861023,
                    2.9300000667572,
                    3.00999999046326,
                    2.47000002861023,
                    2.60999989509583,
                    3.24000000953674,
                    4.07000017166138,
                    3.5699999332428,
                    2.07999992370605,
                    2.67000007629395,
                    3.34999990463257,
                    0.889999985694885,
                    9.47999954223633,
                    5.40000009536743,
                    3.89000010490417,
                    8.40999984741211,
                    5.51999998092651,
                    5.61999988555908,
                    6.19999980926514,
                    8.68000030517578,
                    5.76000022888184,
                    7.1100001335144,
                    2.59999990463257,
                    7.23999977111816,
                    6.73000001907349,
                    7.40000009536743,
                    2.6800000667572,
                    5.53999996185303,
                    5.53000020980835,
                    3.38000011444092,
                    1.22000002861023,
                    1.97000002861023,
                    0.920000016689301,
                    2.50999999046326,
                    1.96000003814697,
                    1.02999997138977,
                    3.6800000667572,
                    4.88000011444092,
                    5.69000005722046,
                    4.32000017166138,
                    2.86999988555908,
                    5.09000015258789,
                    3.50999999046326,
                    3.76999998092651,
                    7.03999996185303,
                    3.3199999332428,
                    4.46000003814697,
                    3.90000009536743,
                    4.25,
                    5.59000015258789,
                    5.80999994277954,
                    3.67000007629395,
                    3.60999989509583,
                    5.34000015258789,
                    4.32999992370605,
                    4.55000019073486,
                    4.80999994277954,
                    3.91000008583069,
                    4.5,
                    2.25,
                    3.65000009536743,
                    4.98999977111816,
                    2.65000009536743,
                    2.10999989509583,
                    3.09999990463257,
                    3.75,
                    2.97000002861023,
                    2.83999991416931,
                    3.66000008583069,
                    2.52999997138977,
                    2.50999999046326,
                    2.53999996185303,
                    4.51000022888184,
                    2.67000007629395,
                    2.15000009536743,
                    2.36999988555908,
                    2.11999988555908,
                    2.52999997138977,
                    3.35999989509583,
                    5.23999977111816,
                    4.84999990463257,
                    2.66000008583069,
                    3.16000008583069,
                    2.90000009536743,
                    3.11999988555908,
                    4.67999982833862,
                    3.25,
                    3.11999988555908,
                    2.23000001907349,
                    1.88999998569489,
                    2.38000011444092,
                    4.01999998092651,
                    2.34999990463257,
                    4.5,
                    4.21000003814697,
                    3.91000008583069,
                    5.40999984741211,
                    2.44000005722046,
                    1.69000005722046,
                    5.19999980926514,
                    4.17999982833862,
                    4.78000020980835,
                    4.28999996185303,
                    4.17999982833862,
                    2.48000001907349,
                    2.94000005722046,
                    3.92000007629395,
                    4.42000007629395,
                    5.32999992370605,
                    2.91000008583069,
                    4.26999998092651,
                    2.33999991416931,
                    2.47000002861023,
                    4.01000022888184,
                    4.5,
                    4.19999980926514,
                    5.73999977111816,
                    3.77999997138977,
                    3.53999996185303,
                    2.32999992370605,
                    4.71999979019165,
                    3.92000007629395,
                    5.26999998092651,
                    2.69000005722046,
                    1.63999998569489,
                    0.839999973773956,
                    0.779999971389771,
                    1.5900000333786,
                    1.74000000953674,
                    2.26999998092651,
                    2.75,
                    1.12999999523163,
                    3.94000005722046,
                    4.92999982833862,
                    3.91000008583069,
                    1.03999996185303,
                    1.16999995708466,
                    1.54999995231628,
                    1.46000003814697
                  ],
                  "xaxis": "x",
                  "y": [
                    327,
                    384,
                    412,
                    340,
                    700,
                    304,
                    360,
                    325,
                    361,
                    430,
                    277,
                    245,
                    366,
                    341,
                    404,
                    369,
                    277,
                    273,
                    247,
                    334,
                    331,
                    594,
                    338,
                    383,
                    285,
                    119,
                    124,
                    796,
                    137,
                    644,
                    722,
                    590,
                    750,
                    398,
                    475,
                    296,
                    166,
                    503,
                    531,
                    545,
                    523,
                    524,
                    437,
                    498,
                    461,
                    477,
                    520,
                    522,
                    555,
                    506,
                    508,
                    513,
                    490,
                    573,
                    527,
                    511,
                    538,
                    468,
                    524,
                    511,
                    541,
                    531,
                    357,
                    523,
                    456,
                    61,
                    467,
                    445,
                    452,
                    556,
                    500,
                    465,
                    460,
                    405,
                    374,
                    442,
                    433,
                    436,
                    448,
                    408,
                    411,
                    274,
                    295,
                    291,
                    424,
                    283,
                    381,
                    412,
                    219,
                    152,
                    332,
                    355,
                    235,
                    310,
                    262,
                    250,
                    349,
                    261,
                    333,
                    237,
                    383,
                    230,
                    292,
                    213,
                    318,
                    323,
                    237,
                    259,
                    312,
                    501,
                    77,
                    322,
                    478,
                    226,
                    385,
                    364,
                    442,
                    535,
                    465,
                    506,
                    515,
                    461,
                    523,
                    59,
                    533,
                    692,
                    467,
                    488,
                    505,
                    286,
                    497,
                    523,
                    490,
                    484,
                    478,
                    474,
                    450,
                    507,
                    602,
                    535,
                    487,
                    529,
                    302,
                    499,
                    426,
                    619,
                    99,
                    329,
                    421,
                    442,
                    82,
                    478,
                    552,
                    319,
                    439,
                    428,
                    409,
                    547,
                    368,
                    390,
                    471,
                    472,
                    529,
                    62,
                    354,
                    469,
                    429,
                    370,
                    441,
                    337,
                    462,
                    98,
                    388,
                    439,
                    436,
                    388,
                    328,
                    353,
                    332,
                    419,
                    106,
                    322,
                    439,
                    502,
                    417,
                    337,
                    462,
                    374,
                    401,
                    361,
                    457,
                    405,
                    499,
                    483,
                    126,
                    103,
                    171,
                    115,
                    123,
                    425,
                    400,
                    384,
                    253,
                    382,
                    591,
                    293,
                    457,
                    454,
                    425,
                    465,
                    480,
                    370,
                    421,
                    432,
                    442,
                    433,
                    479,
                    327,
                    412,
                    414,
                    404,
                    520,
                    435,
                    416,
                    354,
                    404,
                    441,
                    455,
                    357,
                    377,
                    651,
                    350,
                    520,
                    357,
                    658,
                    399,
                    322,
                    631,
                    553,
                    433,
                    412,
                    347,
                    421,
                    450,
                    775,
                    622,
                    409,
                    380,
                    447,
                    419,
                    400,
                    442,
                    568,
                    453,
                    418,
                    463,
                    438,
                    419,
                    432,
                    477,
                    392,
                    406,
                    549,
                    527,
                    449,
                    447,
                    414,
                    338,
                    384,
                    543,
                    421,
                    354,
                    424,
                    361,
                    459,
                    412,
                    379,
                    525,
                    508,
                    603,
                    74,
                    504,
                    431,
                    380,
                    336,
                    493,
                    465,
                    474,
                    508,
                    480,
                    492,
                    353,
                    542,
                    393,
                    600,
                    507,
                    392,
                    658,
                    498,
                    555,
                    492,
                    235,
                    423,
                    391,
                    366,
                    630,
                    508,
                    370,
                    357,
                    427,
                    442,
                    476,
                    418,
                    451,
                    425,
                    528,
                    511,
                    400,
                    441,
                    455,
                    440,
                    433,
                    422,
                    411,
                    466,
                    394,
                    442,
                    467,
                    443,
                    298,
                    541,
                    489,
                    469,
                    452,
                    516,
                    79,
                    58,
                    514,
                    451,
                    472,
                    377,
                    472,
                    492,
                    390,
                    428,
                    681,
                    446,
                    485,
                    469,
                    354,
                    485,
                    388,
                    440,
                    456,
                    420,
                    322,
                    530,
                    481,
                    427,
                    451,
                    444,
                    486,
                    331,
                    74,
                    338,
                    447,
                    424,
                    513,
                    611,
                    525,
                    398,
                    387,
                    381,
                    396,
                    441,
                    565,
                    458,
                    388,
                    550,
                    531,
                    506,
                    527,
                    468,
                    475,
                    351,
                    405,
                    441,
                    381,
                    323,
                    459,
                    545,
                    359,
                    342,
                    368,
                    496,
                    458,
                    531,
                    486,
                    363,
                    528,
                    391,
                    339,
                    423,
                    402,
                    398,
                    343,
                    503,
                    415,
                    516,
                    439
                  ],
                  "yaxis": "y"
                },
                {
                  "mode": "markers",
                  "name": "Moderately Active Distance",
                  "type": "scatter",
                  "x": [
                    0.550000011920929,
                    0.689999997615814,
                    1.25999999046326,
                    0.409999996423721,
                    0.779999971389771,
                    1.32000005245209,
                    0.479999989271164,
                    0.349999994039536,
                    0.870000004768372,
                    0.209999993443489,
                    0.569999992847443,
                    0.920000016689301,
                    1.1599999666214,
                    0.5,
                    1.41999995708466,
                    1.60000002384186,
                    0.569999992847443,
                    1.04999995231628,
                    1.08000004291534,
                    0.25,
                    2.11999988555908,
                    0.319999992847443,
                    0.529999971389771,
                    1.1599999666214,
                    1.00999999046326,
                    0,
                    3.14000010490417,
                    0.310000002384186,
                    0,
                    0,
                    0,
                    0.259999990463257,
                    0,
                    0,
                    0,
                    0,
                    0,
                    0.349999994039536,
                    0,
                    0,
                    0,
                    0,
                    0,
                    0,
                    0,
                    0,
                    0,
                    0,
                    0,
                    0,
                    0,
                    0,
                    0,
                    0,
                    0,
                    0,
                    0,
                    0,
                    0,
                    0,
                    0,
                    0,
                    0,
                    0,
                    0,
                    0,
                    1.94000005722046,
                    2.74000000953674,
                    1.41999995708466,
                    0.280000001192093,
                    0.860000014305115,
                    0,
                    1.52999997138977,
                    1.67999994754791,
                    1.45000004768372,
                    0,
                    0.519999980926514,
                    0,
                    0.400000005960464,
                    0,
                    0,
                    0.910000026226044,
                    2.13000011444092,
                    0.970000028610229,
                    1.75,
                    4,
                    2.34999990463257,
                    3.73000001907349,
                    2.45000004768372,
                    4.34999990463257,
                    0,
                    0.579999983310699,
                    4.21999979019165,
                    4.55999994277954,
                    0.430000007152557,
                    4.21999979019165,
                    0.419999986886978,
                    0.28999999165535,
                    1.29999995231628,
                    2.09999990463257,
                    1.98000001907349,
                    6.48000001907349,
                    1.74000000953674,
                    4.57999992370605,
                    4.1100001335144,
                    2.50999999046326,
                    4.13000011444092,
                    5.23999977111816,
                    5.40000009536743,
                    0.239999994635582,
                    0.370000004768372,
                    0,
                    1.03999996185303,
                    1.67999994754791,
                    0,
                    0,
                    0,
                    0.330000013113022,
                    0,
                    0,
                    0.330000013113022,
                    0,
                    0.680000007152557,
                    0,
                    0.810000002384186,
                    0,
                    0.200000002980232,
                    0.280000001192093,
                    0.920000016689301,
                    1.91999995708466,
                    0.330000013113022,
                    0.790000021457672,
                    1.61000001430511,
                    0,
                    0.439999997615814,
                    1.07000005245209,
                    0.469999998807907,
                    1.04999995231628,
                    0,
                    0.560000002384186,
                    0.46000000834465,
                    0.740000009536743,
                    0,
                    0,
                    0.400000005960464,
                    0,
                    0.400000005960464,
                    0.689999997615814,
                    1.72000002861023,
                    0.389999985694885,
                    1.11000001430511,
                    0.319999992847443,
                    0.509999990463257,
                    1.05999994277954,
                    2.50999999046326,
                    0.430000007152557,
                    2,
                    0.680000007152557,
                    0.0799999982118607,
                    0.930000007152557,
                    1.66999995708466,
                    2.76999998092651,
                    1.25999999046326,
                    0.730000019073486,
                    0.649999976158142,
                    0.790000021457672,
                    0,
                    0,
                    0,
                    0,
                    0,
                    0,
                    0,
                    0,
                    0,
                    0,
                    0,
                    0.0399999991059303,
                    0.0299999993294477,
                    0,
                    0,
                    0,
                    0,
                    0.189999997615814,
                    0.109999999403954,
                    0,
                    0.239999994635582,
                    0,
                    0.189999997615814,
                    0.25,
                    0,
                    0,
                    1,
                    0,
                    0.970000028610229,
                    2.02999997138977,
                    1.85000002384186,
                    0,
                    0.5,
                    0,
                    0,
                    0,
                    0.419999986886978,
                    1.25,
                    3.46000003814697,
                    1.49000000953674,
                    0.370000004768372,
                    1.23000001907349,
                    2.04999995231628,
                    3.24000000953674,
                    5.11999988555908,
                    0.819999992847443,
                    0.349999994039536,
                    0.800000011920929,
                    0.419999986886978,
                    0.920000016689301,
                    2.02999997138977,
                    0,
                    0.730000019073486,
                    0.219999998807907,
                    0.660000026226044,
                    2.30999994277954,
                    0.569999992847443,
                    1.87999999523163,
                    2.16000008583069,
                    0,
                    0.790000021457672,
                    0,
                    2.45000004768372,
                    1.98000001907349,
                    0,
                    0,
                    0,
                    1.6599999666214,
                    0,
                    2.16000008583069,
                    0.629999995231628,
                    0,
                    0,
                    0.569999992847443,
                    0.930000007152557,
                    1,
                    0.75,
                    0.639999985694885,
                    0,
                    0,
                    0.409999996423721,
                    1.20000004768372,
                    0,
                    1.6599999666214,
                    0.540000021457672,
                    0,
                    0.469999998807907,
                    0.889999985694885,
                    1.61000001430511,
                    0,
                    0.400000005960464,
                    0.379999995231628,
                    0.219999998807907,
                    0.310000002384186,
                    1.60000002384186,
                    1.27999997138977,
                    0.829999983310699,
                    0.720000028610229,
                    0.639999985694885,
                    0.340000003576279,
                    1.6599999666214,
                    0.790000021457672,
                    0.360000014305115,
                    2.15000009536743,
                    0.670000016689301,
                    0.649999976158142,
                    0.400000005960464,
                    1.16999995708466,
                    0.610000014305115,
                    0.790000021457672,
                    1.44000005722046,
                    0.349999994039536,
                    0.150000005960464,
                    0.25,
                    0.469999998807907,
                    0.75,
                    0.300000011920929,
                    0.850000023841858,
                    0,
                    0,
                    0,
                    0.479999989271164,
                    0.400000005960464,
                    0,
                    0,
                    0,
                    0,
                    0,
                    0,
                    0,
                    0,
                    0,
                    0,
                    0,
                    0,
                    0.579999983310699,
                    0.860000014305115,
                    0,
                    0.829999983310699,
                    1.21000003814697,
                    0,
                    0,
                    0.189999997615814,
                    0.680000007152557,
                    2.39000010490417,
                    2.13000011444092,
                    0.189999997615814,
                    2.09999990463257,
                    1.54999995231628,
                    2,
                    0,
                    1.67999994754791,
                    0.419999986886978,
                    2.01999998092651,
                    0.239999994635582,
                    0.479999989271164,
                    0.759999990463257,
                    0,
                    2,
                    2.03999996185303,
                    1.67999994754791,
                    1.1599999666214,
                    0,
                    0,
                    0.519999980926514,
                    1.17999994754791,
                    1.75,
                    0.310000002384186,
                    0.25,
                    0,
                    0,
                    0.150000005960464,
                    0.209999993443489,
                    0.330000013113022,
                    1.11000001430511,
                    1.23000001907349,
                    0.449999988079071,
                    0.300000011920929,
                    0.970000028610229,
                    0,
                    0.699999988079071,
                    0.769999980926514,
                    0.180000007152557,
                    1.63999998569489,
                    1.03999996185303,
                    0.899999976158142,
                    0.660000026226044,
                    0.850000023841858,
                    0.119999997317791,
                    1.42999994754791,
                    2.32999992370605,
                    1.52999997138977,
                    1.71000003814697,
                    1.38999998569489,
                    0.270000010728836,
                    0.230000004172325,
                    0.629999995231628,
                    0.879999995231628,
                    0.709999978542328,
                    0.649999976158142,
                    1.02999997138977,
                    1.14999997615814,
                    1.07000005245209,
                    0,
                    0.560000002384186,
                    0.879999995231628,
                    0.439999997615814,
                    0.819999992847443,
                    0.589999973773956,
                    0.519999980926514,
                    0,
                    0.870000004768372,
                    0.920000016689301,
                    0.180000007152557,
                    0.490000009536743,
                    0.360000014305115,
                    0,
                    0.560000002384186,
                    0.170000001788139,
                    1.05999994277954,
                    0.490000009536743,
                    0.159999996423721,
                    0.25,
                    0,
                    0,
                    0.660000026226044,
                    0.639999985694885,
                    0.589999973773956,
                    0.270000010728836,
                    0,
                    0,
                    0,
                    0,
                    0.280000001192093,
                    0.280000001192093,
                    0.439999997615814,
                    0,
                    0,
                    0.280000001192093,
                    0.360000014305115,
                    0,
                    0,
                    0,
                    0
                  ],
                  "xaxis": "x2",
                  "y": [
                    327,
                    384,
                    412,
                    340,
                    700,
                    304,
                    360,
                    325,
                    361,
                    430,
                    277,
                    245,
                    366,
                    341,
                    404,
                    369,
                    277,
                    273,
                    247,
                    334,
                    331,
                    594,
                    338,
                    383,
                    285,
                    119,
                    124,
                    796,
                    137,
                    644,
                    722,
                    590,
                    750,
                    398,
                    475,
                    296,
                    166,
                    503,
                    531,
                    545,
                    523,
                    524,
                    437,
                    498,
                    461,
                    477,
                    520,
                    522,
                    555,
                    506,
                    508,
                    513,
                    490,
                    573,
                    527,
                    511,
                    538,
                    468,
                    524,
                    511,
                    541,
                    531,
                    357,
                    523,
                    456,
                    61,
                    467,
                    445,
                    452,
                    556,
                    500,
                    465,
                    460,
                    405,
                    374,
                    442,
                    433,
                    436,
                    448,
                    408,
                    411,
                    274,
                    295,
                    291,
                    424,
                    283,
                    381,
                    412,
                    219,
                    152,
                    332,
                    355,
                    235,
                    310,
                    262,
                    250,
                    349,
                    261,
                    333,
                    237,
                    383,
                    230,
                    292,
                    213,
                    318,
                    323,
                    237,
                    259,
                    312,
                    501,
                    77,
                    322,
                    478,
                    226,
                    385,
                    364,
                    442,
                    535,
                    465,
                    506,
                    515,
                    461,
                    523,
                    59,
                    533,
                    692,
                    467,
                    488,
                    505,
                    286,
                    497,
                    523,
                    490,
                    484,
                    478,
                    474,
                    450,
                    507,
                    602,
                    535,
                    487,
                    529,
                    302,
                    499,
                    426,
                    619,
                    99,
                    329,
                    421,
                    442,
                    82,
                    478,
                    552,
                    319,
                    439,
                    428,
                    409,
                    547,
                    368,
                    390,
                    471,
                    472,
                    529,
                    62,
                    354,
                    469,
                    429,
                    370,
                    441,
                    337,
                    462,
                    98,
                    388,
                    439,
                    436,
                    388,
                    328,
                    353,
                    332,
                    419,
                    106,
                    322,
                    439,
                    502,
                    417,
                    337,
                    462,
                    374,
                    401,
                    361,
                    457,
                    405,
                    499,
                    483,
                    126,
                    103,
                    171,
                    115,
                    123,
                    425,
                    400,
                    384,
                    253,
                    382,
                    591,
                    293,
                    457,
                    454,
                    425,
                    465,
                    480,
                    370,
                    421,
                    432,
                    442,
                    433,
                    479,
                    327,
                    412,
                    414,
                    404,
                    520,
                    435,
                    416,
                    354,
                    404,
                    441,
                    455,
                    357,
                    377,
                    651,
                    350,
                    520,
                    357,
                    658,
                    399,
                    322,
                    631,
                    553,
                    433,
                    412,
                    347,
                    421,
                    450,
                    775,
                    622,
                    409,
                    380,
                    447,
                    419,
                    400,
                    442,
                    568,
                    453,
                    418,
                    463,
                    438,
                    419,
                    432,
                    477,
                    392,
                    406,
                    549,
                    527,
                    449,
                    447,
                    414,
                    338,
                    384,
                    543,
                    421,
                    354,
                    424,
                    361,
                    459,
                    412,
                    379,
                    525,
                    508,
                    603,
                    74,
                    504,
                    431,
                    380,
                    336,
                    493,
                    465,
                    474,
                    508,
                    480,
                    492,
                    353,
                    542,
                    393,
                    600,
                    507,
                    392,
                    658,
                    498,
                    555,
                    492,
                    235,
                    423,
                    391,
                    366,
                    630,
                    508,
                    370,
                    357,
                    427,
                    442,
                    476,
                    418,
                    451,
                    425,
                    528,
                    511,
                    400,
                    441,
                    455,
                    440,
                    433,
                    422,
                    411,
                    466,
                    394,
                    442,
                    467,
                    443,
                    298,
                    541,
                    489,
                    469,
                    452,
                    516,
                    79,
                    58,
                    514,
                    451,
                    472,
                    377,
                    472,
                    492,
                    390,
                    428,
                    681,
                    446,
                    485,
                    469,
                    354,
                    485,
                    388,
                    440,
                    456,
                    420,
                    322,
                    530,
                    481,
                    427,
                    451,
                    444,
                    486,
                    331,
                    74,
                    338,
                    447,
                    424,
                    513,
                    611,
                    525,
                    398,
                    387,
                    381,
                    396,
                    441,
                    565,
                    458,
                    388,
                    550,
                    531,
                    506,
                    527,
                    468,
                    475,
                    351,
                    405,
                    441,
                    381,
                    323,
                    459,
                    545,
                    359,
                    342,
                    368,
                    496,
                    458,
                    531,
                    486,
                    363,
                    528,
                    391,
                    339,
                    423,
                    402,
                    398,
                    343,
                    503,
                    415,
                    516,
                    439
                  ],
                  "yaxis": "y2"
                },
                {
                  "mode": "markers",
                  "name": "Very Active Distance",
                  "type": "scatter",
                  "x": [
                    1.87999999523163,
                    1.57000005245209,
                    2.14000010490417,
                    2.71000003814697,
                    3.19000005722046,
                    3.52999997138977,
                    1.96000003814697,
                    1.3400000333786,
                    2.80999994277954,
                    2.92000007629395,
                    5.28999996185303,
                    2.32999992370605,
                    3.53999996185303,
                    1.05999994277954,
                    3.55999994277954,
                    2.28999996185303,
                    3.21000003814697,
                    3.73000001907349,
                    2.92000007629395,
                    1.97000002861023,
                    2.46000003814697,
                    3.52999997138977,
                    3.45000004768372,
                    3.34999990463257,
                    2.55999994277954,
                    0,
                    0.629999995231628,
                    0.0700000002980232,
                    0,
                    0,
                    0,
                    0,
                    0,
                    0,
                    0,
                    0,
                    0,
                    0.189999997615814,
                    0,
                    0,
                    0,
                    0,
                    0,
                    0,
                    0,
                    0,
                    0,
                    0,
                    0,
                    0,
                    0,
                    0,
                    0,
                    0,
                    0,
                    0,
                    0,
                    0,
                    0,
                    0,
                    0,
                    0,
                    0,
                    0,
                    0,
                    0,
                    1.6599999666214,
                    0.0199999995529652,
                    0.0700000002980232,
                    0.0799999982118607,
                    0.790000021457672,
                    0,
                    1.85000002384186,
                    0.560000002384186,
                    2.77999997138977,
                    0,
                    1.26999998092651,
                    0,
                    1.86000001430511,
                    0,
                    0,
                    3.05999994277954,
                    2.02999997138977,
                    0.319999992847443,
                    1.04999995231628,
                    2.02999997138977,
                    0.699999988079071,
                    0.25,
                    2.24000000953674,
                    0.200000002980232,
                    0,
                    2.32999992370605,
                    0,
                    3.26999998092651,
                    5.61999988555908,
                    0.449999988079071,
                    0,
                    1.37000000476837,
                    3.74000000953674,
                    3.69000005722046,
                    2.67000007629395,
                    1.53999996185303,
                    3.3199999332428,
                    1.80999994277954,
                    1.75999999046326,
                    3.10999989509583,
                    0,
                    0.680000007152557,
                    0.0700000002980232,
                    0.150000005960464,
                    0.449999988079071,
                    0,
                    0.670000016689301,
                    2.61999988555908,
                    0,
                    0,
                    0,
                    0.109999999403954,
                    0,
                    0,
                    0.0700000002980232,
                    0,
                    0,
                    0,
                    0.0599999986588955,
                    0,
                    0.0599999986588955,
                    0,
                    0.569999992847443,
                    0.409999996423721,
                    1.00999999046326,
                    0.449999988079071,
                    0.400000005960464,
                    0,
                    0,
                    0.579999983310699,
                    0.409999996423721,
                    0.189999997615814,
                    0,
                    0.140000000596046,
                    0.209999993443489,
                    0.200000002980232,
                    0,
                    0,
                    0.209999993443489,
                    0,
                    3.55999994277954,
                    1.37000000476837,
                    1.10000002384186,
                    0.370000004768372,
                    3.29999995231628,
                    4.5,
                    1.08000004291534,
                    0.939999997615814,
                    0.699999988079071,
                    1.28999996185303,
                    0.699999988079071,
                    1.00999999046326,
                    3.76999998092651,
                    2.78999996185303,
                    0.629999995231628,
                    9.44999980926514,
                    9.89000034332275,
                    0.340000003576279,
                    0.810000002384186,
                    0.529999971389771,
                    0,
                    0,
                    0,
                    0,
                    0,
                    0,
                    0,
                    0,
                    0,
                    0,
                    0,
                    2.41000008583069,
                    2.61999988555908,
                    0,
                    0,
                    0,
                    0,
                    2.21000003814697,
                    2.48000001907349,
                    0,
                    0.119999997317791,
                    0,
                    2.13000011444092,
                    0,
                    0,
                    0,
                    2.25,
                    0,
                    0.419999986886978,
                    0.430000007152557,
                    1.01999998092651,
                    0,
                    1.79999995231628,
                    0,
                    0,
                    0,
                    0.0700000002980232,
                    0.239999994635582,
                    0.959999978542328,
                    1.82000005245209,
                    0.879999995231628,
                    0.159999996423721,
                    0.310000002384186,
                    0.759999990463257,
                    1.20000004768372,
                    0.490000009536743,
                    0.0700000002980232,
                    0.0900000035762787,
                    1.12999999523163,
                    1.05999994277954,
                    0.319999992847443,
                    0,
                    0.340000003576279,
                    0.670000016689301,
                    0.0799999982118607,
                    0.370000004768372,
                    0,
                    0.0799999982118607,
                    0.779999971389771,
                    0,
                    1.37000000476837,
                    0,
                    4,
                    4.15999984741211,
                    0,
                    0,
                    0,
                    4.28000020980835,
                    0,
                    2.95000004768372,
                    1.37999999523163,
                    0,
                    0,
                    2.9300000667572,
                    2.36999988555908,
                    1.13999998569489,
                    3.71000003814697,
                    2.78999996185303,
                    0,
                    0,
                    1.05999994277954,
                    1.5,
                    0,
                    3.4300000667572,
                    1.51999998092651,
                    0,
                    0.219999998807907,
                    2.13000011444092,
                    3.86999988555908,
                    0,
                    0.579999983310699,
                    3.59999990463257,
                    0.319999992847443,
                    3.32999992370605,
                    3.92000007629395,
                    6.6399998664856,
                    5.98000001907349,
                    4.8600001335144,
                    7.01999998092651,
                    4.11999988555908,
                    3.65000009536743,
                    2.42000007629395,
                    1.21000003814697,
                    7.65000009536743,
                    1.35000002384186,
                    0.850000023841858,
                    1.80999994277954,
                    3.25,
                    2.83999991416931,
                    5.82999992370605,
                    5.30999994277954,
                    1.12000000476837,
                    4.51999998092651,
                    1.55999994277954,
                    2.5,
                    2.55999994277954,
                    1.83000004291534,
                    0.579999983310699,
                    0,
                    0,
                    0,
                    2.02999997138977,
                    0.980000019073486,
                    0,
                    0,
                    0,
                    0,
                    0,
                    0,
                    0,
                    0,
                    0,
                    0,
                    0,
                    0,
                    1.11000001430511,
                    0.870000004768372,
                    0,
                    3.40000009536743,
                    0.569999992847443,
                    0,
                    0,
                    3.66000008583069,
                    0.330000013113022,
                    0.829999983310699,
                    2.09999990463257,
                    4.28000020980835,
                    3.99000000953674,
                    1.76999998092651,
                    4.19999980926514,
                    0,
                    3.01999998092651,
                    2.57999992370605,
                    0.550000011920929,
                    2.50999999046326,
                    0.819999992847443,
                    2.24000000953674,
                    0,
                    1.20000004768372,
                    1.74000000953674,
                    0.469999998807907,
                    0.990000009536743,
                    0,
                    0,
                    0,
                    3.90000009536743,
                    3.47000002861023,
                    1.49000000953674,
                    0,
                    0,
                    0,
                    5.26999998092651,
                    0.560000002384186,
                    2.02999997138977,
                    2.03999996185303,
                    3.52999997138977,
                    7.6399998664856,
                    1.36000001430511,
                    2.86999988555908,
                    0,
                    3.75,
                    4.15999984741211,
                    5.63000011444092,
                    2.78999996185303,
                    3.11999988555908,
                    2.29999995231628,
                    3.48000001907349,
                    2.74000000953674,
                    5.28000020980835,
                    3.8199999332428,
                    1.46000003814697,
                    2.30999994277954,
                    4.26000022888184,
                    2.89000010490417,
                    0.379999995231628,
                    9.57999992370605,
                    12.539999961853,
                    12.4399995803833,
                    0.829999983310699,
                    4.96000003814697,
                    5.61999988555908,
                    4.90999984741211,
                    5.36999988555908,
                    0,
                    5.05000019073486,
                    5.30000019073486,
                    2.23000001907349,
                    6.90000009536743,
                    4.90999984741211,
                    1.51999998092651,
                    0,
                    5.05000019073486,
                    7.51000022888184,
                    0.330000013113022,
                    0.899999976158142,
                    0.25,
                    0,
                    6.03000020980835,
                    0.629999995231628,
                    1.3400000333786,
                    1.55999994277954,
                    0.889999985694885,
                    1.54999995231628,
                    0,
                    0,
                    1.26999998092651,
                    0.660000026226044,
                    1.38999998569489,
                    0.649999976158142,
                    0,
                    0,
                    0,
                    0,
                    0,
                    0.0500000007450581,
                    0.159999996423721,
                    0,
                    0,
                    0.140000000596046,
                    0.330000013113022,
                    0,
                    0,
                    0,
                    0
                  ],
                  "xaxis": "x3",
                  "y": [
                    327,
                    384,
                    412,
                    340,
                    700,
                    304,
                    360,
                    325,
                    361,
                    430,
                    277,
                    245,
                    366,
                    341,
                    404,
                    369,
                    277,
                    273,
                    247,
                    334,
                    331,
                    594,
                    338,
                    383,
                    285,
                    119,
                    124,
                    796,
                    137,
                    644,
                    722,
                    590,
                    750,
                    398,
                    475,
                    296,
                    166,
                    503,
                    531,
                    545,
                    523,
                    524,
                    437,
                    498,
                    461,
                    477,
                    520,
                    522,
                    555,
                    506,
                    508,
                    513,
                    490,
                    573,
                    527,
                    511,
                    538,
                    468,
                    524,
                    511,
                    541,
                    531,
                    357,
                    523,
                    456,
                    61,
                    467,
                    445,
                    452,
                    556,
                    500,
                    465,
                    460,
                    405,
                    374,
                    442,
                    433,
                    436,
                    448,
                    408,
                    411,
                    274,
                    295,
                    291,
                    424,
                    283,
                    381,
                    412,
                    219,
                    152,
                    332,
                    355,
                    235,
                    310,
                    262,
                    250,
                    349,
                    261,
                    333,
                    237,
                    383,
                    230,
                    292,
                    213,
                    318,
                    323,
                    237,
                    259,
                    312,
                    501,
                    77,
                    322,
                    478,
                    226,
                    385,
                    364,
                    442,
                    535,
                    465,
                    506,
                    515,
                    461,
                    523,
                    59,
                    533,
                    692,
                    467,
                    488,
                    505,
                    286,
                    497,
                    523,
                    490,
                    484,
                    478,
                    474,
                    450,
                    507,
                    602,
                    535,
                    487,
                    529,
                    302,
                    499,
                    426,
                    619,
                    99,
                    329,
                    421,
                    442,
                    82,
                    478,
                    552,
                    319,
                    439,
                    428,
                    409,
                    547,
                    368,
                    390,
                    471,
                    472,
                    529,
                    62,
                    354,
                    469,
                    429,
                    370,
                    441,
                    337,
                    462,
                    98,
                    388,
                    439,
                    436,
                    388,
                    328,
                    353,
                    332,
                    419,
                    106,
                    322,
                    439,
                    502,
                    417,
                    337,
                    462,
                    374,
                    401,
                    361,
                    457,
                    405,
                    499,
                    483,
                    126,
                    103,
                    171,
                    115,
                    123,
                    425,
                    400,
                    384,
                    253,
                    382,
                    591,
                    293,
                    457,
                    454,
                    425,
                    465,
                    480,
                    370,
                    421,
                    432,
                    442,
                    433,
                    479,
                    327,
                    412,
                    414,
                    404,
                    520,
                    435,
                    416,
                    354,
                    404,
                    441,
                    455,
                    357,
                    377,
                    651,
                    350,
                    520,
                    357,
                    658,
                    399,
                    322,
                    631,
                    553,
                    433,
                    412,
                    347,
                    421,
                    450,
                    775,
                    622,
                    409,
                    380,
                    447,
                    419,
                    400,
                    442,
                    568,
                    453,
                    418,
                    463,
                    438,
                    419,
                    432,
                    477,
                    392,
                    406,
                    549,
                    527,
                    449,
                    447,
                    414,
                    338,
                    384,
                    543,
                    421,
                    354,
                    424,
                    361,
                    459,
                    412,
                    379,
                    525,
                    508,
                    603,
                    74,
                    504,
                    431,
                    380,
                    336,
                    493,
                    465,
                    474,
                    508,
                    480,
                    492,
                    353,
                    542,
                    393,
                    600,
                    507,
                    392,
                    658,
                    498,
                    555,
                    492,
                    235,
                    423,
                    391,
                    366,
                    630,
                    508,
                    370,
                    357,
                    427,
                    442,
                    476,
                    418,
                    451,
                    425,
                    528,
                    511,
                    400,
                    441,
                    455,
                    440,
                    433,
                    422,
                    411,
                    466,
                    394,
                    442,
                    467,
                    443,
                    298,
                    541,
                    489,
                    469,
                    452,
                    516,
                    79,
                    58,
                    514,
                    451,
                    472,
                    377,
                    472,
                    492,
                    390,
                    428,
                    681,
                    446,
                    485,
                    469,
                    354,
                    485,
                    388,
                    440,
                    456,
                    420,
                    322,
                    530,
                    481,
                    427,
                    451,
                    444,
                    486,
                    331,
                    74,
                    338,
                    447,
                    424,
                    513,
                    611,
                    525,
                    398,
                    387,
                    381,
                    396,
                    441,
                    565,
                    458,
                    388,
                    550,
                    531,
                    506,
                    527,
                    468,
                    475,
                    351,
                    405,
                    441,
                    381,
                    323,
                    459,
                    545,
                    359,
                    342,
                    368,
                    496,
                    458,
                    531,
                    486,
                    363,
                    528,
                    391,
                    339,
                    423,
                    402,
                    398,
                    343,
                    503,
                    415,
                    516,
                    439
                  ],
                  "yaxis": "y3"
                }
              ],
              "layout": {
                "height": 600,
                "hovermode": "x unified",
                "legend": {
                  "orientation": "h",
                  "title": {
                    "text": ""
                  },
                  "x": 1,
                  "xanchor": "right",
                  "y": 1.02,
                  "yanchor": "bottom"
                },
                "template": {
                  "data": {
                    "bar": [
                      {
                        "error_x": {
                          "color": "#2a3f5f"
                        },
                        "error_y": {
                          "color": "#2a3f5f"
                        },
                        "marker": {
                          "line": {
                            "color": "#E5ECF6",
                            "width": 0.5
                          },
                          "pattern": {
                            "fillmode": "overlay",
                            "size": 10,
                            "solidity": 0.2
                          }
                        },
                        "type": "bar"
                      }
                    ],
                    "barpolar": [
                      {
                        "marker": {
                          "line": {
                            "color": "#E5ECF6",
                            "width": 0.5
                          },
                          "pattern": {
                            "fillmode": "overlay",
                            "size": 10,
                            "solidity": 0.2
                          }
                        },
                        "type": "barpolar"
                      }
                    ],
                    "carpet": [
                      {
                        "aaxis": {
                          "endlinecolor": "#2a3f5f",
                          "gridcolor": "white",
                          "linecolor": "white",
                          "minorgridcolor": "white",
                          "startlinecolor": "#2a3f5f"
                        },
                        "baxis": {
                          "endlinecolor": "#2a3f5f",
                          "gridcolor": "white",
                          "linecolor": "white",
                          "minorgridcolor": "white",
                          "startlinecolor": "#2a3f5f"
                        },
                        "type": "carpet"
                      }
                    ],
                    "choropleth": [
                      {
                        "colorbar": {
                          "outlinewidth": 0,
                          "ticks": ""
                        },
                        "type": "choropleth"
                      }
                    ],
                    "contour": [
                      {
                        "colorbar": {
                          "outlinewidth": 0,
                          "ticks": ""
                        },
                        "colorscale": [
                          [
                            0,
                            "#0d0887"
                          ],
                          [
                            0.1111111111111111,
                            "#46039f"
                          ],
                          [
                            0.2222222222222222,
                            "#7201a8"
                          ],
                          [
                            0.3333333333333333,
                            "#9c179e"
                          ],
                          [
                            0.4444444444444444,
                            "#bd3786"
                          ],
                          [
                            0.5555555555555556,
                            "#d8576b"
                          ],
                          [
                            0.6666666666666666,
                            "#ed7953"
                          ],
                          [
                            0.7777777777777778,
                            "#fb9f3a"
                          ],
                          [
                            0.8888888888888888,
                            "#fdca26"
                          ],
                          [
                            1,
                            "#f0f921"
                          ]
                        ],
                        "type": "contour"
                      }
                    ],
                    "contourcarpet": [
                      {
                        "colorbar": {
                          "outlinewidth": 0,
                          "ticks": ""
                        },
                        "type": "contourcarpet"
                      }
                    ],
                    "heatmap": [
                      {
                        "colorbar": {
                          "outlinewidth": 0,
                          "ticks": ""
                        },
                        "colorscale": [
                          [
                            0,
                            "#0d0887"
                          ],
                          [
                            0.1111111111111111,
                            "#46039f"
                          ],
                          [
                            0.2222222222222222,
                            "#7201a8"
                          ],
                          [
                            0.3333333333333333,
                            "#9c179e"
                          ],
                          [
                            0.4444444444444444,
                            "#bd3786"
                          ],
                          [
                            0.5555555555555556,
                            "#d8576b"
                          ],
                          [
                            0.6666666666666666,
                            "#ed7953"
                          ],
                          [
                            0.7777777777777778,
                            "#fb9f3a"
                          ],
                          [
                            0.8888888888888888,
                            "#fdca26"
                          ],
                          [
                            1,
                            "#f0f921"
                          ]
                        ],
                        "type": "heatmap"
                      }
                    ],
                    "heatmapgl": [
                      {
                        "colorbar": {
                          "outlinewidth": 0,
                          "ticks": ""
                        },
                        "colorscale": [
                          [
                            0,
                            "#0d0887"
                          ],
                          [
                            0.1111111111111111,
                            "#46039f"
                          ],
                          [
                            0.2222222222222222,
                            "#7201a8"
                          ],
                          [
                            0.3333333333333333,
                            "#9c179e"
                          ],
                          [
                            0.4444444444444444,
                            "#bd3786"
                          ],
                          [
                            0.5555555555555556,
                            "#d8576b"
                          ],
                          [
                            0.6666666666666666,
                            "#ed7953"
                          ],
                          [
                            0.7777777777777778,
                            "#fb9f3a"
                          ],
                          [
                            0.8888888888888888,
                            "#fdca26"
                          ],
                          [
                            1,
                            "#f0f921"
                          ]
                        ],
                        "type": "heatmapgl"
                      }
                    ],
                    "histogram": [
                      {
                        "marker": {
                          "pattern": {
                            "fillmode": "overlay",
                            "size": 10,
                            "solidity": 0.2
                          }
                        },
                        "type": "histogram"
                      }
                    ],
                    "histogram2d": [
                      {
                        "colorbar": {
                          "outlinewidth": 0,
                          "ticks": ""
                        },
                        "colorscale": [
                          [
                            0,
                            "#0d0887"
                          ],
                          [
                            0.1111111111111111,
                            "#46039f"
                          ],
                          [
                            0.2222222222222222,
                            "#7201a8"
                          ],
                          [
                            0.3333333333333333,
                            "#9c179e"
                          ],
                          [
                            0.4444444444444444,
                            "#bd3786"
                          ],
                          [
                            0.5555555555555556,
                            "#d8576b"
                          ],
                          [
                            0.6666666666666666,
                            "#ed7953"
                          ],
                          [
                            0.7777777777777778,
                            "#fb9f3a"
                          ],
                          [
                            0.8888888888888888,
                            "#fdca26"
                          ],
                          [
                            1,
                            "#f0f921"
                          ]
                        ],
                        "type": "histogram2d"
                      }
                    ],
                    "histogram2dcontour": [
                      {
                        "colorbar": {
                          "outlinewidth": 0,
                          "ticks": ""
                        },
                        "colorscale": [
                          [
                            0,
                            "#0d0887"
                          ],
                          [
                            0.1111111111111111,
                            "#46039f"
                          ],
                          [
                            0.2222222222222222,
                            "#7201a8"
                          ],
                          [
                            0.3333333333333333,
                            "#9c179e"
                          ],
                          [
                            0.4444444444444444,
                            "#bd3786"
                          ],
                          [
                            0.5555555555555556,
                            "#d8576b"
                          ],
                          [
                            0.6666666666666666,
                            "#ed7953"
                          ],
                          [
                            0.7777777777777778,
                            "#fb9f3a"
                          ],
                          [
                            0.8888888888888888,
                            "#fdca26"
                          ],
                          [
                            1,
                            "#f0f921"
                          ]
                        ],
                        "type": "histogram2dcontour"
                      }
                    ],
                    "mesh3d": [
                      {
                        "colorbar": {
                          "outlinewidth": 0,
                          "ticks": ""
                        },
                        "type": "mesh3d"
                      }
                    ],
                    "parcoords": [
                      {
                        "line": {
                          "colorbar": {
                            "outlinewidth": 0,
                            "ticks": ""
                          }
                        },
                        "type": "parcoords"
                      }
                    ],
                    "pie": [
                      {
                        "automargin": true,
                        "type": "pie"
                      }
                    ],
                    "scatter": [
                      {
                        "marker": {
                          "colorbar": {
                            "outlinewidth": 0,
                            "ticks": ""
                          }
                        },
                        "type": "scatter"
                      }
                    ],
                    "scatter3d": [
                      {
                        "line": {
                          "colorbar": {
                            "outlinewidth": 0,
                            "ticks": ""
                          }
                        },
                        "marker": {
                          "colorbar": {
                            "outlinewidth": 0,
                            "ticks": ""
                          }
                        },
                        "type": "scatter3d"
                      }
                    ],
                    "scattercarpet": [
                      {
                        "marker": {
                          "colorbar": {
                            "outlinewidth": 0,
                            "ticks": ""
                          }
                        },
                        "type": "scattercarpet"
                      }
                    ],
                    "scattergeo": [
                      {
                        "marker": {
                          "colorbar": {
                            "outlinewidth": 0,
                            "ticks": ""
                          }
                        },
                        "type": "scattergeo"
                      }
                    ],
                    "scattergl": [
                      {
                        "marker": {
                          "colorbar": {
                            "outlinewidth": 0,
                            "ticks": ""
                          }
                        },
                        "type": "scattergl"
                      }
                    ],
                    "scattermapbox": [
                      {
                        "marker": {
                          "colorbar": {
                            "outlinewidth": 0,
                            "ticks": ""
                          }
                        },
                        "type": "scattermapbox"
                      }
                    ],
                    "scatterpolar": [
                      {
                        "marker": {
                          "colorbar": {
                            "outlinewidth": 0,
                            "ticks": ""
                          }
                        },
                        "type": "scatterpolar"
                      }
                    ],
                    "scatterpolargl": [
                      {
                        "marker": {
                          "colorbar": {
                            "outlinewidth": 0,
                            "ticks": ""
                          }
                        },
                        "type": "scatterpolargl"
                      }
                    ],
                    "scatterternary": [
                      {
                        "marker": {
                          "colorbar": {
                            "outlinewidth": 0,
                            "ticks": ""
                          }
                        },
                        "type": "scatterternary"
                      }
                    ],
                    "surface": [
                      {
                        "colorbar": {
                          "outlinewidth": 0,
                          "ticks": ""
                        },
                        "colorscale": [
                          [
                            0,
                            "#0d0887"
                          ],
                          [
                            0.1111111111111111,
                            "#46039f"
                          ],
                          [
                            0.2222222222222222,
                            "#7201a8"
                          ],
                          [
                            0.3333333333333333,
                            "#9c179e"
                          ],
                          [
                            0.4444444444444444,
                            "#bd3786"
                          ],
                          [
                            0.5555555555555556,
                            "#d8576b"
                          ],
                          [
                            0.6666666666666666,
                            "#ed7953"
                          ],
                          [
                            0.7777777777777778,
                            "#fb9f3a"
                          ],
                          [
                            0.8888888888888888,
                            "#fdca26"
                          ],
                          [
                            1,
                            "#f0f921"
                          ]
                        ],
                        "type": "surface"
                      }
                    ],
                    "table": [
                      {
                        "cells": {
                          "fill": {
                            "color": "#EBF0F8"
                          },
                          "line": {
                            "color": "white"
                          }
                        },
                        "header": {
                          "fill": {
                            "color": "#C8D4E3"
                          },
                          "line": {
                            "color": "white"
                          }
                        },
                        "type": "table"
                      }
                    ]
                  },
                  "layout": {
                    "annotationdefaults": {
                      "arrowcolor": "#2a3f5f",
                      "arrowhead": 0,
                      "arrowwidth": 1
                    },
                    "autotypenumbers": "strict",
                    "coloraxis": {
                      "colorbar": {
                        "outlinewidth": 0,
                        "ticks": ""
                      }
                    },
                    "colorscale": {
                      "diverging": [
                        [
                          0,
                          "#8e0152"
                        ],
                        [
                          0.1,
                          "#c51b7d"
                        ],
                        [
                          0.2,
                          "#de77ae"
                        ],
                        [
                          0.3,
                          "#f1b6da"
                        ],
                        [
                          0.4,
                          "#fde0ef"
                        ],
                        [
                          0.5,
                          "#f7f7f7"
                        ],
                        [
                          0.6,
                          "#e6f5d0"
                        ],
                        [
                          0.7,
                          "#b8e186"
                        ],
                        [
                          0.8,
                          "#7fbc41"
                        ],
                        [
                          0.9,
                          "#4d9221"
                        ],
                        [
                          1,
                          "#276419"
                        ]
                      ],
                      "sequential": [
                        [
                          0,
                          "#0d0887"
                        ],
                        [
                          0.1111111111111111,
                          "#46039f"
                        ],
                        [
                          0.2222222222222222,
                          "#7201a8"
                        ],
                        [
                          0.3333333333333333,
                          "#9c179e"
                        ],
                        [
                          0.4444444444444444,
                          "#bd3786"
                        ],
                        [
                          0.5555555555555556,
                          "#d8576b"
                        ],
                        [
                          0.6666666666666666,
                          "#ed7953"
                        ],
                        [
                          0.7777777777777778,
                          "#fb9f3a"
                        ],
                        [
                          0.8888888888888888,
                          "#fdca26"
                        ],
                        [
                          1,
                          "#f0f921"
                        ]
                      ],
                      "sequentialminus": [
                        [
                          0,
                          "#0d0887"
                        ],
                        [
                          0.1111111111111111,
                          "#46039f"
                        ],
                        [
                          0.2222222222222222,
                          "#7201a8"
                        ],
                        [
                          0.3333333333333333,
                          "#9c179e"
                        ],
                        [
                          0.4444444444444444,
                          "#bd3786"
                        ],
                        [
                          0.5555555555555556,
                          "#d8576b"
                        ],
                        [
                          0.6666666666666666,
                          "#ed7953"
                        ],
                        [
                          0.7777777777777778,
                          "#fb9f3a"
                        ],
                        [
                          0.8888888888888888,
                          "#fdca26"
                        ],
                        [
                          1,
                          "#f0f921"
                        ]
                      ]
                    },
                    "colorway": [
                      "#636efa",
                      "#EF553B",
                      "#00cc96",
                      "#ab63fa",
                      "#FFA15A",
                      "#19d3f3",
                      "#FF6692",
                      "#B6E880",
                      "#FF97FF",
                      "#FECB52"
                    ],
                    "font": {
                      "color": "#2a3f5f"
                    },
                    "geo": {
                      "bgcolor": "white",
                      "lakecolor": "white",
                      "landcolor": "#E5ECF6",
                      "showlakes": true,
                      "showland": true,
                      "subunitcolor": "white"
                    },
                    "hoverlabel": {
                      "align": "left"
                    },
                    "hovermode": "closest",
                    "mapbox": {
                      "style": "light"
                    },
                    "paper_bgcolor": "white",
                    "plot_bgcolor": "#E5ECF6",
                    "polar": {
                      "angularaxis": {
                        "gridcolor": "white",
                        "linecolor": "white",
                        "ticks": ""
                      },
                      "bgcolor": "#E5ECF6",
                      "radialaxis": {
                        "gridcolor": "white",
                        "linecolor": "white",
                        "ticks": ""
                      }
                    },
                    "scene": {
                      "xaxis": {
                        "backgroundcolor": "#E5ECF6",
                        "gridcolor": "white",
                        "gridwidth": 2,
                        "linecolor": "white",
                        "showbackground": true,
                        "ticks": "",
                        "zerolinecolor": "white"
                      },
                      "yaxis": {
                        "backgroundcolor": "#E5ECF6",
                        "gridcolor": "white",
                        "gridwidth": 2,
                        "linecolor": "white",
                        "showbackground": true,
                        "ticks": "",
                        "zerolinecolor": "white"
                      },
                      "zaxis": {
                        "backgroundcolor": "#E5ECF6",
                        "gridcolor": "white",
                        "gridwidth": 2,
                        "linecolor": "white",
                        "showbackground": true,
                        "ticks": "",
                        "zerolinecolor": "white"
                      }
                    },
                    "shapedefaults": {
                      "line": {
                        "color": "#2a3f5f"
                      }
                    },
                    "ternary": {
                      "aaxis": {
                        "gridcolor": "white",
                        "linecolor": "white",
                        "ticks": ""
                      },
                      "baxis": {
                        "gridcolor": "white",
                        "linecolor": "white",
                        "ticks": ""
                      },
                      "bgcolor": "#E5ECF6",
                      "caxis": {
                        "gridcolor": "white",
                        "linecolor": "white",
                        "ticks": ""
                      }
                    },
                    "title": {
                      "x": 0.05
                    },
                    "xaxis": {
                      "automargin": true,
                      "gridcolor": "white",
                      "linecolor": "white",
                      "ticks": "",
                      "title": {
                        "standoff": 15
                      },
                      "zerolinecolor": "white",
                      "zerolinewidth": 2
                    },
                    "yaxis": {
                      "automargin": true,
                      "gridcolor": "white",
                      "linecolor": "white",
                      "ticks": "",
                      "title": {
                        "standoff": 15
                      },
                      "zerolinecolor": "white",
                      "zerolinewidth": 2
                    }
                  }
                },
                "title": {
                  "text": "Distance in activities vs Sleep Time "
                },
                "width": 1200,
                "xaxis": {
                  "anchor": "y",
                  "domain": [
                    0,
                    0.2888888888888889
                  ],
                  "title": {
                    "text": "Distance in lightly activities"
                  }
                },
                "xaxis2": {
                  "anchor": "y2",
                  "domain": [
                    0.35555555555555557,
                    0.6444444444444445
                  ],
                  "title": {
                    "text": "Distance in moderately activities"
                  }
                },
                "xaxis3": {
                  "anchor": "y3",
                  "domain": [
                    0.7111111111111111,
                    1
                  ],
                  "title": {
                    "text": "Distance in very active activities"
                  }
                },
                "yaxis": {
                  "anchor": "x",
                  "domain": [
                    0,
                    1
                  ],
                  "side": "left",
                  "title": {
                    "text": "Time Slept"
                  }
                },
                "yaxis2": {
                  "anchor": "x2",
                  "domain": [
                    0,
                    1
                  ],
                  "matches": "y",
                  "showticklabels": false
                },
                "yaxis3": {
                  "anchor": "x3",
                  "domain": [
                    0,
                    1
                  ],
                  "matches": "y",
                  "showticklabels": false
                }
              }
            }
          },
          "metadata": {},
          "output_type": "display_data"
        }
      ],
      "source": [
        "# Figure Subplots\n",
        "fig = make_subplots(rows=1, cols=3 ,shared_yaxes=True)\n",
        "\n",
        "fig.add_trace(\n",
        "    go.Scatter(x=df_analysis_calories_steps['LightActiveDistance'], y=df_analysis_calories_steps['TotalMinutesAsleep'], mode='markers',name='Lightly Activities Distance'),\n",
        "    row=1, col=1,\n",
        ")\n",
        "\n",
        "\n",
        "fig.add_trace(\n",
        "    go.Scatter(x=df_analysis_calories_steps['ModeratelyActiveDistance'], y=df_analysis_calories_steps['TotalMinutesAsleep'], mode='markers',name='Moderately Active Distance'),\n",
        "    row=1, col=2\n",
        ")\n",
        "\n",
        "\n",
        "fig.add_trace(\n",
        "    go.Scatter(x=df_analysis_calories_steps['VeryActiveDistance'], y=df_analysis_calories_steps['TotalMinutesAsleep'], mode='markers',name='Very Active Distance'),\n",
        "    row=1, col=3\n",
        ")\n",
        "\n",
        "fig.update_layout(height=600, width=1200, title_text=\"Distance in activities vs Sleep Time \", hovermode=\"x unified\")\n",
        "\n",
        "fig.update_layout(legend=dict(\n",
        "                      orientation=\"h\",\n",
        "                      yanchor=\"bottom\",\n",
        "                      y=1.02,\n",
        "                      xanchor=\"right\",\n",
        "                      x=1,\n",
        "                      title=''\n",
        "                  ),xaxis=dict(\n",
        "                      title = 'Distance in lightly activities',\n",
        "                      ), \n",
        "                    yaxis=dict(\n",
        "                      title='Time Slept',\n",
        "                      side='left',\n",
        "))\n",
        "\n",
        "fig.update_xaxes(row=1, col=2, title = 'Distance in moderately activities')\n",
        "fig.update_xaxes(row=1, col=3, title = 'Distance in very active activities')\n",
        "\n",
        "\n",
        "# fig.update_traces(connectgaps=False)\n",
        "\n",
        "fig.show()"
      ]
    },
    {
      "cell_type": "markdown",
      "metadata": {
        "id": "gxdxO-ze9dFe"
      },
      "source": [
        "Same as Time in activities vs Sleep Time."
      ]
    },
    {
      "cell_type": "markdown",
      "metadata": {
        "id": "l1qWnZip0ls7"
      },
      "source": [
        "### Calories vs time in activities"
      ]
    },
    {
      "cell_type": "code",
      "execution_count": 43,
      "metadata": {
        "id": "7MgP7S9x0lKz"
      },
      "outputs": [],
      "source": [
        "dailyActivity = pd.read_csv(\"Data_Coursera_CaseStudy02/dailyActivity_merged.csv\", index_col=[0])\n",
        "caloriesDay = pd.read_csv(\"Data_Coursera_CaseStudy02/dailyCalories_merged.csv\", index_col=[0])\n",
        "\n",
        "# Remove the time data from sleepDay Dataframe\n",
        "# sleepDay['SleepDay'] = sleepDay['SleepDay'].str.replace(' 12:00:00 AM','')\n",
        "\n",
        "# Renaming the columns\n",
        "caloriesDay.rename(columns={'ActivityDay': 'Day'}, inplace=True)\n",
        "# Renaming the columns\n",
        "dailyActivity.rename(columns={'ActivityDate': 'Day'}, inplace=True)\n"
      ]
    },
    {
      "cell_type": "code",
      "execution_count": null,
      "metadata": {
        "id": "uqtUKKWa07PT"
      },
      "outputs": [],
      "source": [
        "# Merging the Dataframes\n",
        "df_analysis_calories_activities = pd.merge(dailyActivity, caloriesDay, on = ['Id', 'Day'])\n",
        "df_analysis_calories_activities"
      ]
    },
    {
      "cell_type": "code",
      "execution_count": 45,
      "metadata": {
        "colab": {
          "base_uri": "https://localhost:8080/",
          "height": 617
        },
        "id": "qyaAlGw506l7",
        "outputId": "0a06296c-b52c-42bf-afba-cdb873854b92"
      },
      "outputs": [
        {
          "data": {
            "application/vnd.plotly.v1+json": {
              "config": {
                "plotlyServerURL": "https://plot.ly"
              },
              "data": [
                {
                  "mode": "markers",
                  "name": "Lightly Activities",
                  "type": "scatter",
                  "x": [
                    328,
                    217,
                    181,
                    209,
                    221,
                    164,
                    233,
                    264,
                    205,
                    211,
                    130,
                    262,
                    238,
                    216,
                    279,
                    243,
                    189,
                    243,
                    217,
                    246,
                    277,
                    254,
                    203,
                    250,
                    289,
                    175,
                    203,
                    206,
                    214,
                    251,
                    146,
                    148,
                    236,
                    96,
                    176,
                    127,
                    202,
                    141,
                    151,
                    186,
                    199,
                    227,
                    185,
                    202,
                    140,
                    154,
                    115,
                    150,
                    224,
                    171,
                    166,
                    96,
                    118,
                    117,
                    102,
                    182,
                    152,
                    91,
                    139,
                    112,
                    107,
                    256,
                    135,
                    252,
                    170,
                    212,
                    186,
                    121,
                    278,
                    125,
                    38,
                    86,
                    160,
                    89,
                    94,
                    223,
                    118,
                    227,
                    120,
                    402,
                    146,
                    148,
                    221,
                    52,
                    81,
                    369,
                    243,
                    295,
                    303,
                    155,
                    49,
                    339,
                    248,
                    373,
                    176,
                    147,
                    199,
                    217,
                    10,
                    1,
                    308,
                    220,
                    139,
                    1,
                    302,
                    247,
                    184,
                    75,
                    184,
                    87,
                    120,
                    2,
                    55,
                    32,
                    88,
                    51,
                    17,
                    10,
                    145,
                    75,
                    12,
                    192,
                    95,
                    70,
                    94,
                    17,
                    87,
                    108,
                    48,
                    227,
                    292,
                    257,
                    282,
                    151,
                    331,
                    311,
                    250,
                    276,
                    255,
                    273,
                    249,
                    216,
                    217,
                    275,
                    282,
                    291,
                    281,
                    361,
                    245,
                    277,
                    250,
                    272,
                    253,
                    295,
                    149,
                    135,
                    297,
                    271,
                    224,
                    236,
                    181,
                    238,
                    197,
                    188,
                    150,
                    60,
                    182,
                    141,
                    327,
                    153,
                    162,
                    432,
                    164,
                    260,
                    288,
                    286,
                    331,
                    352,
                    233,
                    191,
                    355,
                    304,
                    345,
                    475,
                    383,
                    229,
                    258,
                    401,
                    17,
                    330,
                    343,
                    306,
                    335,
                    191,
                    245,
                    195,
                    249,
                    260,
                    228,
                    283,
                    127,
                    266,
                    242,
                    204,
                    152,
                    147,
                    82,
                    76,
                    45,
                    234,
                    40,
                    123,
                    206,
                    52,
                    223,
                    204,
                    319,
                    247,
                    145,
                    290,
                    300,
                    128,
                    320,
                    195,
                    206,
                    284,
                    268,
                    249,
                    206,
                    382,
                    269,
                    208,
                    206,
                    360,
                    360,
                    277,
                    227,
                    295,
                    229,
                    4,
                    356,
                    404,
                    331,
                    448,
                    305,
                    160,
                    311,
                    389,
                    378,
                    371,
                    366,
                    330,
                    190,
                    359,
                    309,
                    197,
                    213,
                    206,
                    248,
                    196,
                    334,
                    363,
                    420,
                    311,
                    370,
                    52,
                    326,
                    345,
                    373,
                    319,
                    268,
                    280,
                    371,
                    370,
                    335,
                    356,
                    322,
                    343,
                    376,
                    274,
                    376,
                    206,
                    303,
                    292,
                    416,
                    333,
                    346,
                    385,
                    402,
                    300,
                    172,
                    131,
                    153,
                    214,
                    183,
                    153,
                    205,
                    214,
                    221,
                    164,
                    242,
                    188,
                    252,
                    129,
                    133,
                    170,
                    176,
                    190,
                    150,
                    194,
                    124,
                    176,
                    258,
                    142,
                    178,
                    168,
                    208,
                    171,
                    151,
                    196,
                    9,
                    331,
                    3,
                    87,
                    55,
                    2,
                    2,
                    31,
                    174,
                    346,
                    196,
                    177,
                    184,
                    263,
                    173,
                    206,
                    134,
                    21,
                    164,
                    160,
                    88,
                    0,
                    96,
                    339,
                    228,
                    194,
                    3,
                    58,
                    311,
                    306,
                    34,
                    176,
                    233,
                    191,
                    390,
                    288,
                    300,
                    359,
                    289,
                    196,
                    67,
                    344,
                    287,
                    313,
                    328,
                    314,
                    279,
                    153,
                    374,
                    329,
                    311,
                    2,
                    0,
                    150,
                    219,
                    299,
                    253,
                    201,
                    239,
                    249,
                    228,
                    272,
                    220,
                    215,
                    239,
                    301,
                    224,
                    241,
                    234,
                    236,
                    300,
                    241,
                    204,
                    306,
                    251,
                    199,
                    262,
                    260,
                    178,
                    258,
                    267,
                    256,
                    108,
                    196,
                    194,
                    231,
                    350,
                    225,
                    114,
                    162,
                    121,
                    137,
                    215,
                    317,
                    201,
                    244,
                    179,
                    180,
                    194,
                    236,
                    226,
                    290,
                    240,
                    200,
                    233,
                    180,
                    185,
                    229,
                    108,
                    308,
                    266,
                    231,
                    232,
                    58,
                    318,
                    127,
                    279,
                    262,
                    308,
                    304,
                    331,
                    248,
                    222,
                    432,
                    273,
                    308,
                    395,
                    340,
                    283,
                    312,
                    367,
                    197,
                    293,
                    190,
                    383,
                    237,
                    252,
                    370,
                    202,
                    233,
                    238,
                    339,
                    220,
                    324,
                    247,
                    263,
                    258,
                    271,
                    256,
                    335,
                    302,
                    191,
                    179,
                    260,
                    144,
                    72,
                    408,
                    281,
                    270,
                    216,
                    238,
                    232,
                    267,
                    263,
                    195,
                    313,
                    251,
                    241,
                    207,
                    439,
                    192,
                    253,
                    262,
                    235,
                    68,
                    277,
                    226,
                    256,
                    239,
                    288,
                    46,
                    206,
                    249,
                    148,
                    177,
                    270,
                    272,
                    104,
                    201,
                    238,
                    206,
                    165,
                    270,
                    84,
                    237,
                    227,
                    247,
                    224,
                    241,
                    229,
                    96,
                    210,
                    251,
                    265,
                    195,
                    48,
                    140,
                    144,
                    176,
                    199,
                    158,
                    159,
                    130,
                    111,
                    113,
                    175,
                    200,
                    223,
                    141,
                    214,
                    181,
                    190,
                    141,
                    165,
                    163,
                    178,
                    235,
                    212,
                    141,
                    143,
                    79,
                    70,
                    194,
                    63,
                    513,
                    518,
                    312,
                    241,
                    480,
                    349,
                    294,
                    402,
                    512,
                    362,
                    352,
                    458,
                    141,
                    461,
                    343,
                    397,
                    236,
                    156,
                    487,
                    133,
                    412,
                    318,
                    197,
                    199,
                    350,
                    363,
                    328,
                    258,
                    225,
                    271,
                    321,
                    258,
                    302,
                    258,
                    249,
                    287,
                    255,
                    324,
                    282,
                    268,
                    240,
                    272,
                    239,
                    305,
                    227,
                    251,
                    264,
                    85,
                    105,
                    58,
                    9,
                    19,
                    146,
                    178,
                    20,
                    11,
                    92,
                    47,
                    15,
                    84,
                    50,
                    1,
                    75,
                    49,
                    189,
                    142,
                    86,
                    217,
                    280,
                    295,
                    238,
                    195,
                    297,
                    214,
                    240,
                    347,
                    199,
                    282,
                    254,
                    279,
                    288,
                    369,
                    237,
                    215,
                    313,
                    267,
                    284,
                    305,
                    299,
                    328,
                    151,
                    231,
                    275,
                    199,
                    105,
                    355,
                    261,
                    304,
                    202,
                    203,
                    305,
                    284,
                    304,
                    347,
                    327,
                    261,
                    223,
                    419,
                    379,
                    424,
                    337,
                    401,
                    382,
                    200,
                    237,
                    250,
                    330,
                    317,
                    247,
                    153,
                    155,
                    189,
                    139,
                    3,
                    114,
                    124,
                    145,
                    206,
                    153,
                    90,
                    125,
                    129,
                    132,
                    145,
                    161,
                    182,
                    308,
                    258,
                    139,
                    152,
                    135,
                    149,
                    154,
                    209,
                    147,
                    171,
                    106,
                    128,
                    58,
                    123,
                    156,
                    193,
                    158,
                    83,
                    195,
                    195,
                    191,
                    158,
                    170,
                    117,
                    223,
                    182,
                    209,
                    185,
                    183,
                    153,
                    159,
                    131,
                    51,
                    95,
                    165,
                    123,
                    130,
                    90,
                    148,
                    228,
                    148,
                    115,
                    184,
                    39,
                    154,
                    96,
                    33,
                    105,
                    115,
                    157,
                    130,
                    164,
                    216,
                    172,
                    120,
                    191,
                    82,
                    118,
                    108,
                    104,
                    20,
                    136,
                    156,
                    169,
                    174,
                    190,
                    142,
                    93,
                    174,
                    154,
                    169,
                    145,
                    159,
                    136,
                    135,
                    141,
                    161,
                    192,
                    139,
                    172,
                    121,
                    127,
                    142,
                    195,
                    167,
                    214,
                    166,
                    158,
                    139,
                    171,
                    152,
                    184,
                    102,
                    196,
                    163,
                    134,
                    65,
                    0,
                    0,
                    105,
                    166,
                    167,
                    158,
                    212,
                    238,
                    206,
                    122,
                    214,
                    129,
                    203,
                    258,
                    317,
                    117,
                    0,
                    0,
                    0,
                    70,
                    166,
                    250,
                    182,
                    110,
                    162,
                    177,
                    116,
                    82,
                    84,
                    126,
                    12,
                    139,
                    9,
                    195,
                    232,
                    19,
                    80,
                    112,
                    310,
                    380,
                    301,
                    79,
                    101,
                    156,
                    129,
                    312,
                    216,
                    298,
                    281,
                    429,
                    307,
                    191,
                    214,
                    225,
                    226,
                    236,
                    300,
                    227,
                    218,
                    258,
                    235,
                    231,
                    210,
                    223,
                    166,
                    105,
                    229,
                    212,
                    188,
                    232,
                    271,
                    245,
                    217,
                    224,
                    213,
                    137
                  ],
                  "xaxis": "x",
                  "y": [
                    1985,
                    1797,
                    1776,
                    1745,
                    1863,
                    1728,
                    1921,
                    2035,
                    1786,
                    1775,
                    1827,
                    1949,
                    1788,
                    2013,
                    1970,
                    2159,
                    1898,
                    1837,
                    1947,
                    1820,
                    2004,
                    1990,
                    1819,
                    1959,
                    1896,
                    1821,
                    1740,
                    1819,
                    1859,
                    1783,
                    1432,
                    1411,
                    1572,
                    1344,
                    1463,
                    1554,
                    1604,
                    1435,
                    1446,
                    1467,
                    1470,
                    1562,
                    1617,
                    1492,
                    1402,
                    1670,
                    1401,
                    1404,
                    1655,
                    2690,
                    1497,
                    1334,
                    1368,
                    1370,
                    1341,
                    1474,
                    1427,
                    1328,
                    1393,
                    1359,
                    1002,
                    3199,
                    2902,
                    3226,
                    2750,
                    3493,
                    3011,
                    2806,
                    3300,
                    2430,
                    2140,
                    2344,
                    2677,
                    2413,
                    2497,
                    3123,
                    2489,
                    3108,
                    2498,
                    3846,
                    2696,
                    2580,
                    3324,
                    2222,
                    2463,
                    3328,
                    3404,
                    2987,
                    3008,
                    2799,
                    1276,
                    2030,
                    1860,
                    2130,
                    1725,
                    1657,
                    1793,
                    1814,
                    1366,
                    1349,
                    2062,
                    1827,
                    1645,
                    1348,
                    1992,
                    1856,
                    1763,
                    1541,
                    1742,
                    1549,
                    1589,
                    1351,
                    2220,
                    2151,
                    2383,
                    2221,
                    2111,
                    2093,
                    2499,
                    2324,
                    2100,
                    2638,
                    2351,
                    2411,
                    2505,
                    2195,
                    2338,
                    2383,
                    2229,
                    2390,
                    2601,
                    2312,
                    2525,
                    2177,
                    2782,
                    2770,
                    2489,
                    2897,
                    3158,
                    2638,
                    2069,
                    2529,
                    2470,
                    2793,
                    2463,
                    2296,
                    2611,
                    2732,
                    2380,
                    2473,
                    2752,
                    2649,
                    2609,
                    2498,
                    1995,
                    1848,
                    2709,
                    2797,
                    2544,
                    1853,
                    1459,
                    1521,
                    1431,
                    1444,
                    1373,
                    1214,
                    1419,
                    1356,
                    1667,
                    1370,
                    1399,
                    1916,
                    1401,
                    1576,
                    1595,
                    1593,
                    1649,
                    1692,
                    1506,
                    1447,
                    1690,
                    1604,
                    1658,
                    1926,
                    1736,
                    1491,
                    1555,
                    1869,
                    1141,
                    1698,
                    1364,
                    2124,
                    2003,
                    1696,
                    1801,
                    1724,
                    1852,
                    1905,
                    1811,
                    1922,
                    1610,
                    1851,
                    1804,
                    1725,
                    1654,
                    1632,
                    1481,
                    1473,
                    1410,
                    1779,
                    1403,
                    1613,
                    1878,
                    1426,
                    1780,
                    1742,
                    1972,
                    1821,
                    1630,
                    1899,
                    1903,
                    1125,
                    2344,
                    2038,
                    2010,
                    2133,
                    2670,
                    1882,
                    1944,
                    2346,
                    2198,
                    2048,
                    1946,
                    2629,
                    2187,
                    2095,
                    1861,
                    2194,
                    1854,
                    403,
                    1982,
                    2004,
                    1893,
                    2063,
                    2148,
                    1529,
                    1890,
                    1956,
                    2094,
                    1970,
                    2241,
                    2021,
                    1898,
                    1907,
                    1882,
                    1966,
                    1835,
                    1780,
                    1830,
                    1739,
                    1878,
                    1906,
                    2015,
                    1971,
                    1910,
                    1897,
                    2096,
                    1906,
                    1962,
                    1826,
                    1431,
                    1788,
                    2093,
                    2065,
                    1908,
                    1908,
                    1964,
                    2014,
                    1985,
                    1867,
                    2124,
                    1669,
                    1995,
                    1921,
                    2010,
                    2057,
                    2095,
                    1972,
                    2044,
                    1946,
                    1237,
                    1450,
                    1495,
                    1433,
                    1468,
                    1625,
                    1529,
                    1584,
                    1638,
                    1554,
                    1397,
                    1481,
                    1638,
                    1655,
                    1570,
                    1551,
                    1377,
                    1407,
                    1545,
                    1650,
                    1501,
                    1760,
                    1710,
                    1628,
                    1618,
                    1590,
                    1574,
                    1633,
                    1667,
                    1630,
                    52,
                    3654,
                    2011,
                    2951,
                    3051,
                    1990,
                    1995,
                    2207,
                    2828,
                    3879,
                    3429,
                    2704,
                    2975,
                    3089,
                    2785,
                    2926,
                    2645,
                    1120,
                    2286,
                    2306,
                    1527,
                    2115,
                    2135,
                    2302,
                    1985,
                    1884,
                    1464,
                    1632,
                    2200,
                    2220,
                    1792,
                    1886,
                    1945,
                    1880,
                    2314,
                    2236,
                    2324,
                    2367,
                    2175,
                    2092,
                    1593,
                    2270,
                    2235,
                    2282,
                    2530,
                    2266,
                    2158,
                    1792,
                    2345,
                    2260,
                    2232,
                    257,
                    2955,
                    3092,
                    2998,
                    3066,
                    3073,
                    2572,
                    3274,
                    3015,
                    3083,
                    3069,
                    3544,
                    3306,
                    2885,
                    3288,
                    2929,
                    3074,
                    2969,
                    2979,
                    3283,
                    2926,
                    3147,
                    3290,
                    3162,
                    2899,
                    3425,
                    4022,
                    3934,
                    3013,
                    3061,
                    2954,
                    1623,
                    2113,
                    2095,
                    2194,
                    2496,
                    2180,
                    1933,
                    2248,
                    1954,
                    1974,
                    2150,
                    2432,
                    2149,
                    2247,
                    2070,
                    2291,
                    2361,
                    2203,
                    2196,
                    2363,
                    2246,
                    2336,
                    2421,
                    2070,
                    2120,
                    2211,
                    2123,
                    2423,
                    2281,
                    2181,
                    2499,
                    1212,
                    1909,
                    1722,
                    1922,
                    2121,
                    1997,
                    2117,
                    2116,
                    1876,
                    1788,
                    2486,
                    2094,
                    2085,
                    2173,
                    2225,
                    2223,
                    2098,
                    2185,
                    1918,
                    2105,
                    1692,
                    2066,
                    1953,
                    1842,
                    2262,
                    1722,
                    1973,
                    2666,
                    2223,
                    1889,
                    2131,
                    1452,
                    2947,
                    2898,
                    2984,
                    2896,
                    3328,
                    3394,
                    3013,
                    2812,
                    3061,
                    2729,
                    2241,
                    3691,
                    3538,
                    3064,
                    2784,
                    2908,
                    3033,
                    3165,
                    3115,
                    2859,
                    3145,
                    3004,
                    3006,
                    2859,
                    3683,
                    3287,
                    2990,
                    3172,
                    3069,
                    1240,
                    2026,
                    1718,
                    2324,
                    2254,
                    1831,
                    1397,
                    1683,
                    2284,
                    1570,
                    2066,
                    2105,
                    1776,
                    1507,
                    2033,
                    2093,
                    1922,
                    1999,
                    2169,
                    1463,
                    1747,
                    1996,
                    2116,
                    1698,
                    2156,
                    1916,
                    1494,
                    1762,
                    2272,
                    2335,
                    1693,
                    741,
                    3405,
                    2551,
                    4022,
                    4005,
                    4274,
                    4552,
                    3625,
                    3501,
                    3192,
                    4018,
                    3329,
                    3152,
                    4392,
                    3374,
                    3088,
                    3294,
                    3580,
                    3544,
                    4501,
                    4546,
                    3014,
                    3795,
                    2755,
                    3004,
                    2643,
                    2489,
                    3841,
                    1665,
                    2865,
                    2828,
                    2225,
                    2018,
                    2606,
                    2536,
                    4900,
                    2409,
                    2651,
                    2305,
                    2450,
                    2576,
                    1879,
                    2560,
                    2275,
                    2361,
                    2044,
                    1902,
                    2636,
                    1838,
                    2469,
                    2250,
                    1248,
                    2560,
                    2905,
                    2952,
                    2896,
                    2783,
                    3171,
                    2766,
                    2839,
                    2701,
                    2796,
                    2703,
                    2771,
                    2743,
                    2687,
                    2843,
                    3327,
                    2725,
                    2671,
                    2718,
                    2682,
                    2806,
                    2613,
                    2712,
                    2175,
                    2400,
                    2507,
                    2127,
                    2225,
                    2067,
                    2798,
                    3727,
                    1922,
                    2053,
                    2484,
                    2584,
                    1993,
                    2280,
                    2319,
                    1843,
                    2496,
                    1032,
                    1994,
                    1718,
                    1466,
                    1756,
                    2173,
                    2027,
                    2039,
                    2046,
                    2174,
                    2179,
                    2086,
                    2571,
                    1705,
                    2194,
                    2012,
                    2034,
                    2182,
                    2254,
                    2002,
                    1740,
                    2162,
                    2072,
                    2086,
                    2066,
                    1850,
                    1947,
                    1659,
                    2105,
                    2361,
                    1855,
                    928,
                    2937,
                    2742,
                    2668,
                    2098,
                    2076,
                    2383,
                    2832,
                    2812,
                    3096,
                    2763,
                    2889,
                    2284,
                    2667,
                    3055,
                    2939,
                    2830,
                    2836,
                    3180,
                    2051,
                    2225,
                    2642,
                    2976,
                    2933,
                    2553,
                    2772,
                    2516,
                    2734,
                    2395,
                    1635,
                    2743,
                    2944,
                    2997,
                    2463,
                    2846,
                    1965,
                    2049,
                    2752,
                    2781,
                    2693,
                    2862,
                    2616,
                    2995,
                    2730,
                    2754,
                    2754,
                    2655,
                    2386,
                    2924,
                    2739,
                    2534,
                    2960,
                    2800,
                    2735,
                    1199,
                    3186,
                    3140,
                    3411,
                    3410,
                    2867,
                    3213,
                    3133,
                    3114,
                    3043,
                    3103,
                    2655,
                    3554,
                    3577,
                    3403,
                    2846,
                    2852,
                    3062,
                    2794,
                    2408,
                    1886,
                    1988,
                    3023,
                    2918,
                    2950,
                    2859,
                    3331,
                    3589,
                    2765,
                    2926,
                    2809,
                    1505,
                    2044,
                    1935,
                    1705,
                    1632,
                    1880,
                    2112,
                    1829,
                    1763,
                    1931,
                    2218,
                    1651,
                    2132,
                    1976,
                    1909,
                    1813,
                    2008,
                    1580,
                    1854,
                    3635,
                    4079,
                    4163,
                    3666,
                    3363,
                    2572,
                    4157,
                    4092,
                    3787,
                    4236,
                    4044,
                    2908,
                    2741,
                    4005,
                    3763,
                    3061,
                    2884,
                    2982,
                    2660,
                    3369,
                    3491,
                    3784,
                    3110,
                    3783,
                    3644,
                    2799,
                    2685,
                    3721,
                    3586,
                    3788,
                    1976,
                    2650,
                    2654,
                    2443,
                    2505,
                    2693,
                    2439,
                    2536,
                    2668,
                    2647,
                    2883,
                    2944,
                    3012,
                    2889,
                    2547,
                    3093,
                    3142,
                    2757,
                    3513,
                    3164,
                    2596,
                    2894,
                    3212,
                    2516,
                    3266,
                    2683,
                    2810,
                    2940,
                    2947,
                    2846,
                    2804,
                    2044,
                    1934,
                    1963,
                    2009,
                    1721,
                    2188,
                    1720,
                    2419,
                    2748,
                    1799,
                    1928,
                    2067,
                    2780,
                    3101,
                    2896,
                    1962,
                    2015,
                    2297,
                    2067,
                    3921,
                    3566,
                    3793,
                    3934,
                    4547,
                    3545,
                    2761,
                    3676,
                    3679,
                    3659,
                    3427,
                    3891,
                    3455,
                    3802,
                    2860,
                    3808,
                    3060,
                    2698,
                    4398,
                    2786,
                    2189,
                    2817,
                    3477,
                    3052,
                    4015,
                    4142,
                    2847,
                    3710,
                    2832,
                    3832,
                    1849
                  ],
                  "yaxis": "y"
                },
                {
                  "mode": "markers",
                  "name": "Fairly Active",
                  "type": "scatter",
                  "x": [
                    13,
                    19,
                    11,
                    34,
                    10,
                    20,
                    16,
                    31,
                    12,
                    8,
                    27,
                    21,
                    5,
                    14,
                    23,
                    11,
                    28,
                    12,
                    34,
                    35,
                    15,
                    24,
                    22,
                    24,
                    6,
                    46,
                    8,
                    11,
                    31,
                    23,
                    0,
                    0,
                    0,
                    0,
                    0,
                    22,
                    7,
                    0,
                    0,
                    0,
                    0,
                    0,
                    18,
                    0,
                    0,
                    36,
                    5,
                    0,
                    23,
                    63,
                    6,
                    0,
                    0,
                    0,
                    0,
                    0,
                    0,
                    0,
                    0,
                    0,
                    0,
                    51,
                    16,
                    58,
                    4,
                    42,
                    13,
                    33,
                    58,
                    0,
                    0,
                    0,
                    15,
                    0,
                    1,
                    41,
                    0,
                    53,
                    0,
                    71,
                    24,
                    7,
                    94,
                    0,
                    12,
                    6,
                    17,
                    0,
                    6,
                    19,
                    0,
                    0,
                    0,
                    0,
                    0,
                    0,
                    8,
                    12,
                    0,
                    0,
                    13,
                    0,
                    0,
                    0,
                    0,
                    0,
                    0,
                    7,
                    0,
                    0,
                    0,
                    0,
                    0,
                    0,
                    9,
                    0,
                    0,
                    0,
                    0,
                    6,
                    0,
                    0,
                    0,
                    1,
                    8,
                    0,
                    0,
                    0,
                    0,
                    14,
                    5,
                    3,
                    9,
                    11,
                    29,
                    3,
                    7,
                    63,
                    53,
                    10,
                    0,
                    26,
                    8,
                    24,
                    20,
                    20,
                    40,
                    23,
                    28,
                    8,
                    14,
                    27,
                    20,
                    17,
                    2,
                    0,
                    47,
                    28,
                    25,
                    16,
                    8,
                    0,
                    0,
                    0,
                    0,
                    0,
                    0,
                    0,
                    0,
                    0,
                    0,
                    0,
                    0,
                    0,
                    0,
                    0,
                    0,
                    0,
                    0,
                    0,
                    0,
                    0,
                    0,
                    0,
                    0,
                    0,
                    0,
                    0,
                    0,
                    0,
                    0,
                    9,
                    0,
                    0,
                    0,
                    0,
                    0,
                    7,
                    11,
                    11,
                    10,
                    0,
                    0,
                    0,
                    5,
                    0,
                    0,
                    0,
                    0,
                    0,
                    0,
                    6,
                    10,
                    0,
                    11,
                    0,
                    0,
                    0,
                    0,
                    0,
                    0,
                    0,
                    13,
                    32,
                    48,
                    24,
                    72,
                    7,
                    16,
                    7,
                    43,
                    26,
                    27,
                    35,
                    0,
                    11,
                    0,
                    9,
                    0,
                    0,
                    21,
                    8,
                    0,
                    0,
                    1,
                    8,
                    6,
                    0,
                    5,
                    10,
                    0,
                    5,
                    1,
                    0,
                    5,
                    0,
                    7,
                    23,
                    20,
                    18,
                    7,
                    6,
                    0,
                    23,
                    5,
                    11,
                    0,
                    0,
                    0,
                    0,
                    0,
                    0,
                    8,
                    25,
                    0,
                    0,
                    2,
                    7,
                    0,
                    3,
                    9,
                    0,
                    2,
                    7,
                    0,
                    2,
                    13,
                    0,
                    0,
                    4,
                    0,
                    19,
                    46,
                    23,
                    42,
                    83,
                    58,
                    95,
                    67,
                    98,
                    0,
                    12,
                    92,
                    95,
                    9,
                    95,
                    10,
                    8,
                    32,
                    52,
                    40,
                    143,
                    41,
                    96,
                    88,
                    55,
                    86,
                    116,
                    122,
                    115,
                    0,
                    15,
                    0,
                    18,
                    21,
                    0,
                    0,
                    11,
                    0,
                    46,
                    42,
                    0,
                    0,
                    0,
                    5,
                    0,
                    8,
                    0,
                    0,
                    0,
                    6,
                    0,
                    15,
                    9,
                    0,
                    0,
                    0,
                    9,
                    0,
                    18,
                    0,
                    19,
                    0,
                    5,
                    8,
                    21,
                    47,
                    8,
                    18,
                    38,
                    0,
                    11,
                    26,
                    13,
                    34,
                    11,
                    28,
                    0,
                    14,
                    12,
                    18,
                    0,
                    0,
                    14,
                    35,
                    0,
                    9,
                    0,
                    8,
                    16,
                    42,
                    12,
                    25,
                    5,
                    8,
                    31,
                    23,
                    48,
                    9,
                    16,
                    43,
                    15,
                    4,
                    18,
                    21,
                    39,
                    45,
                    56,
                    38,
                    19,
                    14,
                    18,
                    0,
                    0,
                    0,
                    0,
                    0,
                    0,
                    0,
                    6,
                    0,
                    0,
                    0,
                    0,
                    0,
                    0,
                    0,
                    1,
                    1,
                    0,
                    0,
                    0,
                    0,
                    4,
                    2,
                    0,
                    6,
                    0,
                    4,
                    8,
                    0,
                    0,
                    22,
                    0,
                    0,
                    7,
                    0,
                    30,
                    12,
                    19,
                    15,
                    9,
                    0,
                    21,
                    25,
                    5,
                    0,
                    10,
                    41,
                    14,
                    11,
                    29,
                    29,
                    0,
                    0,
                    10,
                    0,
                    8,
                    0,
                    16,
                    35,
                    30,
                    18,
                    31,
                    0,
                    0,
                    0,
                    0,
                    8,
                    24,
                    66,
                    30,
                    8,
                    29,
                    41,
                    0,
                    66,
                    95,
                    15,
                    8,
                    16,
                    9,
                    19,
                    36,
                    40,
                    0,
                    15,
                    5,
                    16,
                    46,
                    125,
                    12,
                    37,
                    41,
                    0,
                    13,
                    0,
                    41,
                    38,
                    0,
                    0,
                    0,
                    28,
                    0,
                    42,
                    16,
                    0,
                    0,
                    11,
                    18,
                    16,
                    13,
                    15,
                    0,
                    0,
                    9,
                    29,
                    0,
                    29,
                    9,
                    0,
                    8,
                    22,
                    40,
                    0,
                    6,
                    16,
                    11,
                    30,
                    54,
                    56,
                    37,
                    32,
                    23,
                    16,
                    74,
                    30,
                    24,
                    65,
                    38,
                    32,
                    16,
                    51,
                    36,
                    45,
                    72,
                    20,
                    8,
                    9,
                    21,
                    16,
                    11,
                    37,
                    15,
                    6,
                    15,
                    0,
                    0,
                    0,
                    10,
                    19,
                    0,
                    0,
                    0,
                    7,
                    0,
                    0,
                    0,
                    0,
                    0,
                    0,
                    0,
                    0,
                    0,
                    0,
                    0,
                    0,
                    0,
                    0,
                    0,
                    0,
                    0,
                    12,
                    0,
                    0,
                    0,
                    0,
                    0,
                    3,
                    0,
                    0,
                    0,
                    95,
                    0,
                    0,
                    0,
                    0,
                    0,
                    0,
                    0,
                    0,
                    18,
                    24,
                    0,
                    18,
                    24,
                    31,
                    113,
                    0,
                    18,
                    13,
                    30,
                    13,
                    9,
                    34,
                    0,
                    35,
                    5,
                    14,
                    24,
                    0,
                    0,
                    3,
                    13,
                    42,
                    41,
                    4,
                    27,
                    33,
                    41,
                    0,
                    31,
                    7,
                    38,
                    8,
                    15,
                    16,
                    0,
                    39,
                    36,
                    36,
                    22,
                    0,
                    0,
                    14,
                    21,
                    34,
                    7,
                    8,
                    8,
                    22,
                    6,
                    0,
                    0,
                    0,
                    31,
                    17,
                    33,
                    34,
                    50,
                    25,
                    0,
                    24,
                    22,
                    12,
                    16,
                    42,
                    0,
                    0,
                    14,
                    31,
                    23,
                    13,
                    6,
                    26,
                    32,
                    21,
                    0,
                    51,
                    69,
                    13,
                    6,
                    59,
                    0,
                    0,
                    39,
                    33,
                    6,
                    48,
                    36,
                    17,
                    15,
                    26,
                    36,
                    12,
                    14,
                    35,
                    42,
                    27,
                    50,
                    23,
                    40,
                    4,
                    8,
                    12,
                    5,
                    8,
                    6,
                    21,
                    6,
                    7,
                    5,
                    6,
                    3,
                    14,
                    33,
                    9,
                    5,
                    10,
                    9,
                    8,
                    1,
                    0,
                    0,
                    22,
                    8,
                    9,
                    15,
                    20,
                    14,
                    12,
                    10,
                    7,
                    4,
                    2,
                    11,
                    16,
                    0,
                    51,
                    5,
                    16,
                    0,
                    18,
                    20,
                    0,
                    26,
                    4,
                    54,
                    14,
                    5,
                    16,
                    14,
                    15,
                    14,
                    21,
                    23,
                    21,
                    0,
                    10,
                    19,
                    8,
                    16,
                    12,
                    10,
                    0,
                    16,
                    18,
                    4,
                    10,
                    7,
                    0,
                    10,
                    4,
                    20,
                    10,
                    3,
                    5,
                    0,
                    0,
                    13,
                    13,
                    10,
                    6,
                    7,
                    23,
                    0,
                    0,
                    0,
                    0,
                    22,
                    10,
                    27,
                    18,
                    54,
                    44,
                    44,
                    6,
                    91,
                    5,
                    28,
                    67,
                    28,
                    2,
                    0,
                    0,
                    0,
                    0,
                    22,
                    0,
                    72,
                    4,
                    43,
                    71,
                    0,
                    0,
                    0,
                    0,
                    0,
                    10,
                    0,
                    20,
                    45,
                    8,
                    0,
                    0,
                    0,
                    14,
                    20,
                    0,
                    0,
                    0,
                    0,
                    7,
                    18,
                    13,
                    1,
                    29,
                    15,
                    5,
                    13,
                    19,
                    13,
                    2,
                    6,
                    1,
                    8,
                    3,
                    8,
                    8,
                    5,
                    4,
                    12,
                    0,
                    3,
                    8,
                    15,
                    17,
                    28,
                    4,
                    19,
                    11,
                    12,
                    1
                  ],
                  "xaxis": "x2",
                  "y": [
                    1985,
                    1797,
                    1776,
                    1745,
                    1863,
                    1728,
                    1921,
                    2035,
                    1786,
                    1775,
                    1827,
                    1949,
                    1788,
                    2013,
                    1970,
                    2159,
                    1898,
                    1837,
                    1947,
                    1820,
                    2004,
                    1990,
                    1819,
                    1959,
                    1896,
                    1821,
                    1740,
                    1819,
                    1859,
                    1783,
                    1432,
                    1411,
                    1572,
                    1344,
                    1463,
                    1554,
                    1604,
                    1435,
                    1446,
                    1467,
                    1470,
                    1562,
                    1617,
                    1492,
                    1402,
                    1670,
                    1401,
                    1404,
                    1655,
                    2690,
                    1497,
                    1334,
                    1368,
                    1370,
                    1341,
                    1474,
                    1427,
                    1328,
                    1393,
                    1359,
                    1002,
                    3199,
                    2902,
                    3226,
                    2750,
                    3493,
                    3011,
                    2806,
                    3300,
                    2430,
                    2140,
                    2344,
                    2677,
                    2413,
                    2497,
                    3123,
                    2489,
                    3108,
                    2498,
                    3846,
                    2696,
                    2580,
                    3324,
                    2222,
                    2463,
                    3328,
                    3404,
                    2987,
                    3008,
                    2799,
                    1276,
                    2030,
                    1860,
                    2130,
                    1725,
                    1657,
                    1793,
                    1814,
                    1366,
                    1349,
                    2062,
                    1827,
                    1645,
                    1348,
                    1992,
                    1856,
                    1763,
                    1541,
                    1742,
                    1549,
                    1589,
                    1351,
                    2220,
                    2151,
                    2383,
                    2221,
                    2111,
                    2093,
                    2499,
                    2324,
                    2100,
                    2638,
                    2351,
                    2411,
                    2505,
                    2195,
                    2338,
                    2383,
                    2229,
                    2390,
                    2601,
                    2312,
                    2525,
                    2177,
                    2782,
                    2770,
                    2489,
                    2897,
                    3158,
                    2638,
                    2069,
                    2529,
                    2470,
                    2793,
                    2463,
                    2296,
                    2611,
                    2732,
                    2380,
                    2473,
                    2752,
                    2649,
                    2609,
                    2498,
                    1995,
                    1848,
                    2709,
                    2797,
                    2544,
                    1853,
                    1459,
                    1521,
                    1431,
                    1444,
                    1373,
                    1214,
                    1419,
                    1356,
                    1667,
                    1370,
                    1399,
                    1916,
                    1401,
                    1576,
                    1595,
                    1593,
                    1649,
                    1692,
                    1506,
                    1447,
                    1690,
                    1604,
                    1658,
                    1926,
                    1736,
                    1491,
                    1555,
                    1869,
                    1141,
                    1698,
                    1364,
                    2124,
                    2003,
                    1696,
                    1801,
                    1724,
                    1852,
                    1905,
                    1811,
                    1922,
                    1610,
                    1851,
                    1804,
                    1725,
                    1654,
                    1632,
                    1481,
                    1473,
                    1410,
                    1779,
                    1403,
                    1613,
                    1878,
                    1426,
                    1780,
                    1742,
                    1972,
                    1821,
                    1630,
                    1899,
                    1903,
                    1125,
                    2344,
                    2038,
                    2010,
                    2133,
                    2670,
                    1882,
                    1944,
                    2346,
                    2198,
                    2048,
                    1946,
                    2629,
                    2187,
                    2095,
                    1861,
                    2194,
                    1854,
                    403,
                    1982,
                    2004,
                    1893,
                    2063,
                    2148,
                    1529,
                    1890,
                    1956,
                    2094,
                    1970,
                    2241,
                    2021,
                    1898,
                    1907,
                    1882,
                    1966,
                    1835,
                    1780,
                    1830,
                    1739,
                    1878,
                    1906,
                    2015,
                    1971,
                    1910,
                    1897,
                    2096,
                    1906,
                    1962,
                    1826,
                    1431,
                    1788,
                    2093,
                    2065,
                    1908,
                    1908,
                    1964,
                    2014,
                    1985,
                    1867,
                    2124,
                    1669,
                    1995,
                    1921,
                    2010,
                    2057,
                    2095,
                    1972,
                    2044,
                    1946,
                    1237,
                    1450,
                    1495,
                    1433,
                    1468,
                    1625,
                    1529,
                    1584,
                    1638,
                    1554,
                    1397,
                    1481,
                    1638,
                    1655,
                    1570,
                    1551,
                    1377,
                    1407,
                    1545,
                    1650,
                    1501,
                    1760,
                    1710,
                    1628,
                    1618,
                    1590,
                    1574,
                    1633,
                    1667,
                    1630,
                    52,
                    3654,
                    2011,
                    2951,
                    3051,
                    1990,
                    1995,
                    2207,
                    2828,
                    3879,
                    3429,
                    2704,
                    2975,
                    3089,
                    2785,
                    2926,
                    2645,
                    1120,
                    2286,
                    2306,
                    1527,
                    2115,
                    2135,
                    2302,
                    1985,
                    1884,
                    1464,
                    1632,
                    2200,
                    2220,
                    1792,
                    1886,
                    1945,
                    1880,
                    2314,
                    2236,
                    2324,
                    2367,
                    2175,
                    2092,
                    1593,
                    2270,
                    2235,
                    2282,
                    2530,
                    2266,
                    2158,
                    1792,
                    2345,
                    2260,
                    2232,
                    257,
                    2955,
                    3092,
                    2998,
                    3066,
                    3073,
                    2572,
                    3274,
                    3015,
                    3083,
                    3069,
                    3544,
                    3306,
                    2885,
                    3288,
                    2929,
                    3074,
                    2969,
                    2979,
                    3283,
                    2926,
                    3147,
                    3290,
                    3162,
                    2899,
                    3425,
                    4022,
                    3934,
                    3013,
                    3061,
                    2954,
                    1623,
                    2113,
                    2095,
                    2194,
                    2496,
                    2180,
                    1933,
                    2248,
                    1954,
                    1974,
                    2150,
                    2432,
                    2149,
                    2247,
                    2070,
                    2291,
                    2361,
                    2203,
                    2196,
                    2363,
                    2246,
                    2336,
                    2421,
                    2070,
                    2120,
                    2211,
                    2123,
                    2423,
                    2281,
                    2181,
                    2499,
                    1212,
                    1909,
                    1722,
                    1922,
                    2121,
                    1997,
                    2117,
                    2116,
                    1876,
                    1788,
                    2486,
                    2094,
                    2085,
                    2173,
                    2225,
                    2223,
                    2098,
                    2185,
                    1918,
                    2105,
                    1692,
                    2066,
                    1953,
                    1842,
                    2262,
                    1722,
                    1973,
                    2666,
                    2223,
                    1889,
                    2131,
                    1452,
                    2947,
                    2898,
                    2984,
                    2896,
                    3328,
                    3394,
                    3013,
                    2812,
                    3061,
                    2729,
                    2241,
                    3691,
                    3538,
                    3064,
                    2784,
                    2908,
                    3033,
                    3165,
                    3115,
                    2859,
                    3145,
                    3004,
                    3006,
                    2859,
                    3683,
                    3287,
                    2990,
                    3172,
                    3069,
                    1240,
                    2026,
                    1718,
                    2324,
                    2254,
                    1831,
                    1397,
                    1683,
                    2284,
                    1570,
                    2066,
                    2105,
                    1776,
                    1507,
                    2033,
                    2093,
                    1922,
                    1999,
                    2169,
                    1463,
                    1747,
                    1996,
                    2116,
                    1698,
                    2156,
                    1916,
                    1494,
                    1762,
                    2272,
                    2335,
                    1693,
                    741,
                    3405,
                    2551,
                    4022,
                    4005,
                    4274,
                    4552,
                    3625,
                    3501,
                    3192,
                    4018,
                    3329,
                    3152,
                    4392,
                    3374,
                    3088,
                    3294,
                    3580,
                    3544,
                    4501,
                    4546,
                    3014,
                    3795,
                    2755,
                    3004,
                    2643,
                    2489,
                    3841,
                    1665,
                    2865,
                    2828,
                    2225,
                    2018,
                    2606,
                    2536,
                    4900,
                    2409,
                    2651,
                    2305,
                    2450,
                    2576,
                    1879,
                    2560,
                    2275,
                    2361,
                    2044,
                    1902,
                    2636,
                    1838,
                    2469,
                    2250,
                    1248,
                    2560,
                    2905,
                    2952,
                    2896,
                    2783,
                    3171,
                    2766,
                    2839,
                    2701,
                    2796,
                    2703,
                    2771,
                    2743,
                    2687,
                    2843,
                    3327,
                    2725,
                    2671,
                    2718,
                    2682,
                    2806,
                    2613,
                    2712,
                    2175,
                    2400,
                    2507,
                    2127,
                    2225,
                    2067,
                    2798,
                    3727,
                    1922,
                    2053,
                    2484,
                    2584,
                    1993,
                    2280,
                    2319,
                    1843,
                    2496,
                    1032,
                    1994,
                    1718,
                    1466,
                    1756,
                    2173,
                    2027,
                    2039,
                    2046,
                    2174,
                    2179,
                    2086,
                    2571,
                    1705,
                    2194,
                    2012,
                    2034,
                    2182,
                    2254,
                    2002,
                    1740,
                    2162,
                    2072,
                    2086,
                    2066,
                    1850,
                    1947,
                    1659,
                    2105,
                    2361,
                    1855,
                    928,
                    2937,
                    2742,
                    2668,
                    2098,
                    2076,
                    2383,
                    2832,
                    2812,
                    3096,
                    2763,
                    2889,
                    2284,
                    2667,
                    3055,
                    2939,
                    2830,
                    2836,
                    3180,
                    2051,
                    2225,
                    2642,
                    2976,
                    2933,
                    2553,
                    2772,
                    2516,
                    2734,
                    2395,
                    1635,
                    2743,
                    2944,
                    2997,
                    2463,
                    2846,
                    1965,
                    2049,
                    2752,
                    2781,
                    2693,
                    2862,
                    2616,
                    2995,
                    2730,
                    2754,
                    2754,
                    2655,
                    2386,
                    2924,
                    2739,
                    2534,
                    2960,
                    2800,
                    2735,
                    1199,
                    3186,
                    3140,
                    3411,
                    3410,
                    2867,
                    3213,
                    3133,
                    3114,
                    3043,
                    3103,
                    2655,
                    3554,
                    3577,
                    3403,
                    2846,
                    2852,
                    3062,
                    2794,
                    2408,
                    1886,
                    1988,
                    3023,
                    2918,
                    2950,
                    2859,
                    3331,
                    3589,
                    2765,
                    2926,
                    2809,
                    1505,
                    2044,
                    1935,
                    1705,
                    1632,
                    1880,
                    2112,
                    1829,
                    1763,
                    1931,
                    2218,
                    1651,
                    2132,
                    1976,
                    1909,
                    1813,
                    2008,
                    1580,
                    1854,
                    3635,
                    4079,
                    4163,
                    3666,
                    3363,
                    2572,
                    4157,
                    4092,
                    3787,
                    4236,
                    4044,
                    2908,
                    2741,
                    4005,
                    3763,
                    3061,
                    2884,
                    2982,
                    2660,
                    3369,
                    3491,
                    3784,
                    3110,
                    3783,
                    3644,
                    2799,
                    2685,
                    3721,
                    3586,
                    3788,
                    1976,
                    2650,
                    2654,
                    2443,
                    2505,
                    2693,
                    2439,
                    2536,
                    2668,
                    2647,
                    2883,
                    2944,
                    3012,
                    2889,
                    2547,
                    3093,
                    3142,
                    2757,
                    3513,
                    3164,
                    2596,
                    2894,
                    3212,
                    2516,
                    3266,
                    2683,
                    2810,
                    2940,
                    2947,
                    2846,
                    2804,
                    2044,
                    1934,
                    1963,
                    2009,
                    1721,
                    2188,
                    1720,
                    2419,
                    2748,
                    1799,
                    1928,
                    2067,
                    2780,
                    3101,
                    2896,
                    1962,
                    2015,
                    2297,
                    2067,
                    3921,
                    3566,
                    3793,
                    3934,
                    4547,
                    3545,
                    2761,
                    3676,
                    3679,
                    3659,
                    3427,
                    3891,
                    3455,
                    3802,
                    2860,
                    3808,
                    3060,
                    2698,
                    4398,
                    2786,
                    2189,
                    2817,
                    3477,
                    3052,
                    4015,
                    4142,
                    2847,
                    3710,
                    2832,
                    3832,
                    1849
                  ],
                  "yaxis": "y2"
                },
                {
                  "mode": "markers",
                  "name": "Very Active",
                  "type": "scatter",
                  "x": [
                    25,
                    21,
                    30,
                    29,
                    36,
                    38,
                    42,
                    50,
                    28,
                    19,
                    66,
                    41,
                    39,
                    73,
                    31,
                    78,
                    48,
                    16,
                    52,
                    33,
                    41,
                    50,
                    36,
                    45,
                    24,
                    37,
                    44,
                    46,
                    46,
                    36,
                    0,
                    0,
                    0,
                    0,
                    0,
                    15,
                    17,
                    0,
                    0,
                    0,
                    0,
                    0,
                    16,
                    0,
                    0,
                    17,
                    0,
                    0,
                    11,
                    186,
                    7,
                    0,
                    0,
                    0,
                    0,
                    0,
                    0,
                    0,
                    0,
                    0,
                    0,
                    2,
                    30,
                    5,
                    3,
                    51,
                    29,
                    15,
                    5,
                    0,
                    0,
                    0,
                    0,
                    0,
                    8,
                    11,
                    0,
                    3,
                    0,
                    9,
                    3,
                    1,
                    10,
                    0,
                    6,
                    11,
                    41,
                    0,
                    32,
                    12,
                    0,
                    0,
                    0,
                    0,
                    0,
                    0,
                    2,
                    0,
                    0,
                    0,
                    2,
                    0,
                    0,
                    0,
                    0,
                    0,
                    0,
                    0,
                    0,
                    0,
                    0,
                    0,
                    0,
                    0,
                    0,
                    0,
                    0,
                    0,
                    0,
                    1,
                    0,
                    0,
                    0,
                    14,
                    16,
                    10,
                    0,
                    0,
                    0,
                    42,
                    43,
                    32,
                    27,
                    41,
                    28,
                    48,
                    31,
                    48,
                    104,
                    52,
                    0,
                    37,
                    44,
                    55,
                    19,
                    6,
                    21,
                    13,
                    25,
                    36,
                    72,
                    36,
                    55,
                    24,
                    20,
                    0,
                    35,
                    57,
                    58,
                    16,
                    3,
                    0,
                    0,
                    0,
                    0,
                    0,
                    0,
                    0,
                    0,
                    0,
                    0,
                    0,
                    0,
                    0,
                    0,
                    0,
                    0,
                    0,
                    0,
                    0,
                    0,
                    0,
                    0,
                    0,
                    0,
                    0,
                    0,
                    0,
                    0,
                    0,
                    0,
                    13,
                    0,
                    0,
                    0,
                    0,
                    0,
                    0,
                    0,
                    0,
                    1,
                    0,
                    0,
                    0,
                    3,
                    0,
                    0,
                    0,
                    0,
                    0,
                    0,
                    5,
                    20,
                    0,
                    0,
                    0,
                    0,
                    0,
                    0,
                    0,
                    0,
                    0,
                    28,
                    19,
                    1,
                    1,
                    66,
                    1,
                    11,
                    0,
                    11,
                    23,
                    9,
                    32,
                    0,
                    15,
                    0,
                    26,
                    0,
                    0,
                    2,
                    0,
                    0,
                    0,
                    47,
                    0,
                    1,
                    0,
                    22,
                    2,
                    46,
                    28,
                    46,
                    0,
                    2,
                    46,
                    28,
                    20,
                    5,
                    7,
                    0,
                    1,
                    0,
                    13,
                    0,
                    75,
                    46,
                    0,
                    0,
                    0,
                    0,
                    0,
                    16,
                    6,
                    0,
                    0,
                    11,
                    20,
                    0,
                    15,
                    18,
                    0,
                    20,
                    14,
                    0,
                    22,
                    24,
                    0,
                    0,
                    17,
                    0,
                    44,
                    31,
                    5,
                    15,
                    31,
                    11,
                    4,
                    19,
                    2,
                    0,
                    33,
                    0,
                    30,
                    50,
                    7,
                    0,
                    15,
                    36,
                    43,
                    41,
                    24,
                    47,
                    14,
                    14,
                    29,
                    0,
                    9,
                    8,
                    1,
                    4,
                    4,
                    0,
                    36,
                    65,
                    0,
                    0,
                    0,
                    0,
                    13,
                    38,
                    0,
                    0,
                    0,
                    3,
                    0,
                    2,
                    0,
                    0,
                    0,
                    3,
                    0,
                    8,
                    1,
                    0,
                    0,
                    0,
                    1,
                    0,
                    0,
                    0,
                    1,
                    0,
                    1,
                    0,
                    8,
                    6,
                    13,
                    6,
                    6,
                    0,
                    0,
                    8,
                    8,
                    27,
                    6,
                    3,
                    0,
                    2,
                    3,
                    3,
                    0,
                    0,
                    1,
                    10,
                    0,
                    6,
                    0,
                    27,
                    20,
                    19,
                    7,
                    77,
                    58,
                    14,
                    11,
                    14,
                    11,
                    19,
                    13,
                    14,
                    12,
                    33,
                    18,
                    35,
                    12,
                    33,
                    120,
                    107,
                    6,
                    13,
                    8,
                    0,
                    0,
                    0,
                    0,
                    0,
                    0,
                    0,
                    25,
                    0,
                    0,
                    0,
                    0,
                    0,
                    0,
                    0,
                    29,
                    32,
                    0,
                    0,
                    0,
                    0,
                    27,
                    30,
                    0,
                    2,
                    0,
                    26,
                    0,
                    0,
                    0,
                    34,
                    0,
                    0,
                    19,
                    0,
                    17,
                    8,
                    7,
                    14,
                    1,
                    0,
                    6,
                    20,
                    5,
                    0,
                    18,
                    12,
                    27,
                    1,
                    15,
                    7,
                    0,
                    0,
                    21,
                    0,
                    14,
                    0,
                    23,
                    66,
                    6,
                    11,
                    4,
                    0,
                    0,
                    0,
                    0,
                    1,
                    3,
                    12,
                    22,
                    10,
                    2,
                    4,
                    0,
                    9,
                    15,
                    6,
                    1,
                    1,
                    14,
                    12,
                    4,
                    5,
                    0,
                    4,
                    8,
                    1,
                    5,
                    9,
                    0,
                    1,
                    10,
                    0,
                    19,
                    0,
                    61,
                    58,
                    0,
                    0,
                    0,
                    69,
                    0,
                    47,
                    25,
                    0,
                    0,
                    51,
                    40,
                    16,
                    49,
                    46,
                    0,
                    0,
                    23,
                    26,
                    0,
                    44,
                    21,
                    0,
                    3,
                    59,
                    61,
                    0,
                    8,
                    86,
                    15,
                    118,
                    115,
                    184,
                    200,
                    114,
                    108,
                    87,
                    110,
                    62,
                    24,
                    210,
                    61,
                    38,
                    63,
                    99,
                    97,
                    207,
                    194,
                    37,
                    97,
                    25,
                    45,
                    41,
                    34,
                    104,
                    45,
                    0,
                    7,
                    0,
                    0,
                    0,
                    26,
                    11,
                    0,
                    0,
                    0,
                    0,
                    0,
                    0,
                    0,
                    0,
                    0,
                    0,
                    0,
                    0,
                    0,
                    0,
                    0,
                    0,
                    0,
                    0,
                    0,
                    0,
                    0,
                    31,
                    0,
                    0,
                    0,
                    0,
                    0,
                    8,
                    0,
                    0,
                    0,
                    8,
                    0,
                    0,
                    0,
                    0,
                    0,
                    0,
                    0,
                    0,
                    17,
                    14,
                    0,
                    36,
                    5,
                    30,
                    70,
                    0,
                    11,
                    33,
                    42,
                    2,
                    3,
                    9,
                    0,
                    12,
                    2,
                    50,
                    8,
                    0,
                    0,
                    50,
                    5,
                    13,
                    35,
                    48,
                    53,
                    30,
                    58,
                    0,
                    35,
                    36,
                    7,
                    38,
                    12,
                    32,
                    0,
                    18,
                    21,
                    15,
                    14,
                    0,
                    0,
                    0,
                    43,
                    62,
                    24,
                    0,
                    53,
                    56,
                    34,
                    0,
                    0,
                    0,
                    48,
                    53,
                    60,
                    30,
                    64,
                    2,
                    0,
                    51,
                    16,
                    50,
                    16,
                    55,
                    0,
                    0,
                    64,
                    58,
                    53,
                    44,
                    59,
                    31,
                    35,
                    30,
                    0,
                    61,
                    67,
                    87,
                    19,
                    58,
                    0,
                    0,
                    69,
                    70,
                    55,
                    54,
                    24,
                    42,
                    30,
                    66,
                    57,
                    45,
                    24,
                    84,
                    20,
                    32,
                    67,
                    72,
                    57,
                    5,
                    116,
                    95,
                    119,
                    132,
                    96,
                    111,
                    102,
                    90,
                    89,
                    100,
                    60,
                    125,
                    129,
                    118,
                    68,
                    60,
                    90,
                    58,
                    27,
                    0,
                    0,
                    87,
                    89,
                    93,
                    90,
                    121,
                    125,
                    66,
                    96,
                    60,
                    28,
                    40,
                    35,
                    29,
                    0,
                    6,
                    41,
                    16,
                    0,
                    5,
                    49,
                    0,
                    30,
                    41,
                    7,
                    19,
                    45,
                    11,
                    16,
                    65,
                    116,
                    123,
                    60,
                    64,
                    0,
                    117,
                    120,
                    82,
                    137,
                    113,
                    19,
                    0,
                    117,
                    90,
                    4,
                    11,
                    3,
                    0,
                    71,
                    63,
                    71,
                    19,
                    66,
                    74,
                    0,
                    0,
                    71,
                    63,
                    72,
                    8,
                    0,
                    2,
                    0,
                    0,
                    0,
                    0,
                    4,
                    7,
                    0,
                    35,
                    4,
                    7,
                    2,
                    18,
                    1,
                    77,
                    0,
                    46,
                    2,
                    10,
                    0,
                    0,
                    0,
                    0,
                    2,
                    0,
                    3,
                    66,
                    9,
                    5,
                    0,
                    0,
                    0,
                    0,
                    0,
                    0,
                    0,
                    1,
                    8,
                    3,
                    0,
                    0,
                    0,
                    6,
                    10,
                    0,
                    0,
                    0,
                    0,
                    85,
                    108,
                    68,
                    106,
                    94,
                    58,
                    29,
                    82,
                    73,
                    82,
                    61,
                    102,
                    64,
                    113,
                    22,
                    93,
                    58,
                    18,
                    124,
                    36,
                    0,
                    19,
                    66,
                    67,
                    96,
                    105,
                    17,
                    73,
                    18,
                    88,
                    23
                  ],
                  "xaxis": "x3",
                  "y": [
                    1985,
                    1797,
                    1776,
                    1745,
                    1863,
                    1728,
                    1921,
                    2035,
                    1786,
                    1775,
                    1827,
                    1949,
                    1788,
                    2013,
                    1970,
                    2159,
                    1898,
                    1837,
                    1947,
                    1820,
                    2004,
                    1990,
                    1819,
                    1959,
                    1896,
                    1821,
                    1740,
                    1819,
                    1859,
                    1783,
                    1432,
                    1411,
                    1572,
                    1344,
                    1463,
                    1554,
                    1604,
                    1435,
                    1446,
                    1467,
                    1470,
                    1562,
                    1617,
                    1492,
                    1402,
                    1670,
                    1401,
                    1404,
                    1655,
                    2690,
                    1497,
                    1334,
                    1368,
                    1370,
                    1341,
                    1474,
                    1427,
                    1328,
                    1393,
                    1359,
                    1002,
                    3199,
                    2902,
                    3226,
                    2750,
                    3493,
                    3011,
                    2806,
                    3300,
                    2430,
                    2140,
                    2344,
                    2677,
                    2413,
                    2497,
                    3123,
                    2489,
                    3108,
                    2498,
                    3846,
                    2696,
                    2580,
                    3324,
                    2222,
                    2463,
                    3328,
                    3404,
                    2987,
                    3008,
                    2799,
                    1276,
                    2030,
                    1860,
                    2130,
                    1725,
                    1657,
                    1793,
                    1814,
                    1366,
                    1349,
                    2062,
                    1827,
                    1645,
                    1348,
                    1992,
                    1856,
                    1763,
                    1541,
                    1742,
                    1549,
                    1589,
                    1351,
                    2220,
                    2151,
                    2383,
                    2221,
                    2111,
                    2093,
                    2499,
                    2324,
                    2100,
                    2638,
                    2351,
                    2411,
                    2505,
                    2195,
                    2338,
                    2383,
                    2229,
                    2390,
                    2601,
                    2312,
                    2525,
                    2177,
                    2782,
                    2770,
                    2489,
                    2897,
                    3158,
                    2638,
                    2069,
                    2529,
                    2470,
                    2793,
                    2463,
                    2296,
                    2611,
                    2732,
                    2380,
                    2473,
                    2752,
                    2649,
                    2609,
                    2498,
                    1995,
                    1848,
                    2709,
                    2797,
                    2544,
                    1853,
                    1459,
                    1521,
                    1431,
                    1444,
                    1373,
                    1214,
                    1419,
                    1356,
                    1667,
                    1370,
                    1399,
                    1916,
                    1401,
                    1576,
                    1595,
                    1593,
                    1649,
                    1692,
                    1506,
                    1447,
                    1690,
                    1604,
                    1658,
                    1926,
                    1736,
                    1491,
                    1555,
                    1869,
                    1141,
                    1698,
                    1364,
                    2124,
                    2003,
                    1696,
                    1801,
                    1724,
                    1852,
                    1905,
                    1811,
                    1922,
                    1610,
                    1851,
                    1804,
                    1725,
                    1654,
                    1632,
                    1481,
                    1473,
                    1410,
                    1779,
                    1403,
                    1613,
                    1878,
                    1426,
                    1780,
                    1742,
                    1972,
                    1821,
                    1630,
                    1899,
                    1903,
                    1125,
                    2344,
                    2038,
                    2010,
                    2133,
                    2670,
                    1882,
                    1944,
                    2346,
                    2198,
                    2048,
                    1946,
                    2629,
                    2187,
                    2095,
                    1861,
                    2194,
                    1854,
                    403,
                    1982,
                    2004,
                    1893,
                    2063,
                    2148,
                    1529,
                    1890,
                    1956,
                    2094,
                    1970,
                    2241,
                    2021,
                    1898,
                    1907,
                    1882,
                    1966,
                    1835,
                    1780,
                    1830,
                    1739,
                    1878,
                    1906,
                    2015,
                    1971,
                    1910,
                    1897,
                    2096,
                    1906,
                    1962,
                    1826,
                    1431,
                    1788,
                    2093,
                    2065,
                    1908,
                    1908,
                    1964,
                    2014,
                    1985,
                    1867,
                    2124,
                    1669,
                    1995,
                    1921,
                    2010,
                    2057,
                    2095,
                    1972,
                    2044,
                    1946,
                    1237,
                    1450,
                    1495,
                    1433,
                    1468,
                    1625,
                    1529,
                    1584,
                    1638,
                    1554,
                    1397,
                    1481,
                    1638,
                    1655,
                    1570,
                    1551,
                    1377,
                    1407,
                    1545,
                    1650,
                    1501,
                    1760,
                    1710,
                    1628,
                    1618,
                    1590,
                    1574,
                    1633,
                    1667,
                    1630,
                    52,
                    3654,
                    2011,
                    2951,
                    3051,
                    1990,
                    1995,
                    2207,
                    2828,
                    3879,
                    3429,
                    2704,
                    2975,
                    3089,
                    2785,
                    2926,
                    2645,
                    1120,
                    2286,
                    2306,
                    1527,
                    2115,
                    2135,
                    2302,
                    1985,
                    1884,
                    1464,
                    1632,
                    2200,
                    2220,
                    1792,
                    1886,
                    1945,
                    1880,
                    2314,
                    2236,
                    2324,
                    2367,
                    2175,
                    2092,
                    1593,
                    2270,
                    2235,
                    2282,
                    2530,
                    2266,
                    2158,
                    1792,
                    2345,
                    2260,
                    2232,
                    257,
                    2955,
                    3092,
                    2998,
                    3066,
                    3073,
                    2572,
                    3274,
                    3015,
                    3083,
                    3069,
                    3544,
                    3306,
                    2885,
                    3288,
                    2929,
                    3074,
                    2969,
                    2979,
                    3283,
                    2926,
                    3147,
                    3290,
                    3162,
                    2899,
                    3425,
                    4022,
                    3934,
                    3013,
                    3061,
                    2954,
                    1623,
                    2113,
                    2095,
                    2194,
                    2496,
                    2180,
                    1933,
                    2248,
                    1954,
                    1974,
                    2150,
                    2432,
                    2149,
                    2247,
                    2070,
                    2291,
                    2361,
                    2203,
                    2196,
                    2363,
                    2246,
                    2336,
                    2421,
                    2070,
                    2120,
                    2211,
                    2123,
                    2423,
                    2281,
                    2181,
                    2499,
                    1212,
                    1909,
                    1722,
                    1922,
                    2121,
                    1997,
                    2117,
                    2116,
                    1876,
                    1788,
                    2486,
                    2094,
                    2085,
                    2173,
                    2225,
                    2223,
                    2098,
                    2185,
                    1918,
                    2105,
                    1692,
                    2066,
                    1953,
                    1842,
                    2262,
                    1722,
                    1973,
                    2666,
                    2223,
                    1889,
                    2131,
                    1452,
                    2947,
                    2898,
                    2984,
                    2896,
                    3328,
                    3394,
                    3013,
                    2812,
                    3061,
                    2729,
                    2241,
                    3691,
                    3538,
                    3064,
                    2784,
                    2908,
                    3033,
                    3165,
                    3115,
                    2859,
                    3145,
                    3004,
                    3006,
                    2859,
                    3683,
                    3287,
                    2990,
                    3172,
                    3069,
                    1240,
                    2026,
                    1718,
                    2324,
                    2254,
                    1831,
                    1397,
                    1683,
                    2284,
                    1570,
                    2066,
                    2105,
                    1776,
                    1507,
                    2033,
                    2093,
                    1922,
                    1999,
                    2169,
                    1463,
                    1747,
                    1996,
                    2116,
                    1698,
                    2156,
                    1916,
                    1494,
                    1762,
                    2272,
                    2335,
                    1693,
                    741,
                    3405,
                    2551,
                    4022,
                    4005,
                    4274,
                    4552,
                    3625,
                    3501,
                    3192,
                    4018,
                    3329,
                    3152,
                    4392,
                    3374,
                    3088,
                    3294,
                    3580,
                    3544,
                    4501,
                    4546,
                    3014,
                    3795,
                    2755,
                    3004,
                    2643,
                    2489,
                    3841,
                    1665,
                    2865,
                    2828,
                    2225,
                    2018,
                    2606,
                    2536,
                    4900,
                    2409,
                    2651,
                    2305,
                    2450,
                    2576,
                    1879,
                    2560,
                    2275,
                    2361,
                    2044,
                    1902,
                    2636,
                    1838,
                    2469,
                    2250,
                    1248,
                    2560,
                    2905,
                    2952,
                    2896,
                    2783,
                    3171,
                    2766,
                    2839,
                    2701,
                    2796,
                    2703,
                    2771,
                    2743,
                    2687,
                    2843,
                    3327,
                    2725,
                    2671,
                    2718,
                    2682,
                    2806,
                    2613,
                    2712,
                    2175,
                    2400,
                    2507,
                    2127,
                    2225,
                    2067,
                    2798,
                    3727,
                    1922,
                    2053,
                    2484,
                    2584,
                    1993,
                    2280,
                    2319,
                    1843,
                    2496,
                    1032,
                    1994,
                    1718,
                    1466,
                    1756,
                    2173,
                    2027,
                    2039,
                    2046,
                    2174,
                    2179,
                    2086,
                    2571,
                    1705,
                    2194,
                    2012,
                    2034,
                    2182,
                    2254,
                    2002,
                    1740,
                    2162,
                    2072,
                    2086,
                    2066,
                    1850,
                    1947,
                    1659,
                    2105,
                    2361,
                    1855,
                    928,
                    2937,
                    2742,
                    2668,
                    2098,
                    2076,
                    2383,
                    2832,
                    2812,
                    3096,
                    2763,
                    2889,
                    2284,
                    2667,
                    3055,
                    2939,
                    2830,
                    2836,
                    3180,
                    2051,
                    2225,
                    2642,
                    2976,
                    2933,
                    2553,
                    2772,
                    2516,
                    2734,
                    2395,
                    1635,
                    2743,
                    2944,
                    2997,
                    2463,
                    2846,
                    1965,
                    2049,
                    2752,
                    2781,
                    2693,
                    2862,
                    2616,
                    2995,
                    2730,
                    2754,
                    2754,
                    2655,
                    2386,
                    2924,
                    2739,
                    2534,
                    2960,
                    2800,
                    2735,
                    1199,
                    3186,
                    3140,
                    3411,
                    3410,
                    2867,
                    3213,
                    3133,
                    3114,
                    3043,
                    3103,
                    2655,
                    3554,
                    3577,
                    3403,
                    2846,
                    2852,
                    3062,
                    2794,
                    2408,
                    1886,
                    1988,
                    3023,
                    2918,
                    2950,
                    2859,
                    3331,
                    3589,
                    2765,
                    2926,
                    2809,
                    1505,
                    2044,
                    1935,
                    1705,
                    1632,
                    1880,
                    2112,
                    1829,
                    1763,
                    1931,
                    2218,
                    1651,
                    2132,
                    1976,
                    1909,
                    1813,
                    2008,
                    1580,
                    1854,
                    3635,
                    4079,
                    4163,
                    3666,
                    3363,
                    2572,
                    4157,
                    4092,
                    3787,
                    4236,
                    4044,
                    2908,
                    2741,
                    4005,
                    3763,
                    3061,
                    2884,
                    2982,
                    2660,
                    3369,
                    3491,
                    3784,
                    3110,
                    3783,
                    3644,
                    2799,
                    2685,
                    3721,
                    3586,
                    3788,
                    1976,
                    2650,
                    2654,
                    2443,
                    2505,
                    2693,
                    2439,
                    2536,
                    2668,
                    2647,
                    2883,
                    2944,
                    3012,
                    2889,
                    2547,
                    3093,
                    3142,
                    2757,
                    3513,
                    3164,
                    2596,
                    2894,
                    3212,
                    2516,
                    3266,
                    2683,
                    2810,
                    2940,
                    2947,
                    2846,
                    2804,
                    2044,
                    1934,
                    1963,
                    2009,
                    1721,
                    2188,
                    1720,
                    2419,
                    2748,
                    1799,
                    1928,
                    2067,
                    2780,
                    3101,
                    2896,
                    1962,
                    2015,
                    2297,
                    2067,
                    3921,
                    3566,
                    3793,
                    3934,
                    4547,
                    3545,
                    2761,
                    3676,
                    3679,
                    3659,
                    3427,
                    3891,
                    3455,
                    3802,
                    2860,
                    3808,
                    3060,
                    2698,
                    4398,
                    2786,
                    2189,
                    2817,
                    3477,
                    3052,
                    4015,
                    4142,
                    2847,
                    3710,
                    2832,
                    3832,
                    1849
                  ],
                  "yaxis": "y3"
                }
              ],
              "layout": {
                "height": 600,
                "hovermode": "x unified",
                "legend": {
                  "orientation": "h",
                  "title": {
                    "text": ""
                  },
                  "x": 1,
                  "xanchor": "right",
                  "y": 1.02,
                  "yanchor": "bottom"
                },
                "template": {
                  "data": {
                    "bar": [
                      {
                        "error_x": {
                          "color": "#2a3f5f"
                        },
                        "error_y": {
                          "color": "#2a3f5f"
                        },
                        "marker": {
                          "line": {
                            "color": "#E5ECF6",
                            "width": 0.5
                          },
                          "pattern": {
                            "fillmode": "overlay",
                            "size": 10,
                            "solidity": 0.2
                          }
                        },
                        "type": "bar"
                      }
                    ],
                    "barpolar": [
                      {
                        "marker": {
                          "line": {
                            "color": "#E5ECF6",
                            "width": 0.5
                          },
                          "pattern": {
                            "fillmode": "overlay",
                            "size": 10,
                            "solidity": 0.2
                          }
                        },
                        "type": "barpolar"
                      }
                    ],
                    "carpet": [
                      {
                        "aaxis": {
                          "endlinecolor": "#2a3f5f",
                          "gridcolor": "white",
                          "linecolor": "white",
                          "minorgridcolor": "white",
                          "startlinecolor": "#2a3f5f"
                        },
                        "baxis": {
                          "endlinecolor": "#2a3f5f",
                          "gridcolor": "white",
                          "linecolor": "white",
                          "minorgridcolor": "white",
                          "startlinecolor": "#2a3f5f"
                        },
                        "type": "carpet"
                      }
                    ],
                    "choropleth": [
                      {
                        "colorbar": {
                          "outlinewidth": 0,
                          "ticks": ""
                        },
                        "type": "choropleth"
                      }
                    ],
                    "contour": [
                      {
                        "colorbar": {
                          "outlinewidth": 0,
                          "ticks": ""
                        },
                        "colorscale": [
                          [
                            0,
                            "#0d0887"
                          ],
                          [
                            0.1111111111111111,
                            "#46039f"
                          ],
                          [
                            0.2222222222222222,
                            "#7201a8"
                          ],
                          [
                            0.3333333333333333,
                            "#9c179e"
                          ],
                          [
                            0.4444444444444444,
                            "#bd3786"
                          ],
                          [
                            0.5555555555555556,
                            "#d8576b"
                          ],
                          [
                            0.6666666666666666,
                            "#ed7953"
                          ],
                          [
                            0.7777777777777778,
                            "#fb9f3a"
                          ],
                          [
                            0.8888888888888888,
                            "#fdca26"
                          ],
                          [
                            1,
                            "#f0f921"
                          ]
                        ],
                        "type": "contour"
                      }
                    ],
                    "contourcarpet": [
                      {
                        "colorbar": {
                          "outlinewidth": 0,
                          "ticks": ""
                        },
                        "type": "contourcarpet"
                      }
                    ],
                    "heatmap": [
                      {
                        "colorbar": {
                          "outlinewidth": 0,
                          "ticks": ""
                        },
                        "colorscale": [
                          [
                            0,
                            "#0d0887"
                          ],
                          [
                            0.1111111111111111,
                            "#46039f"
                          ],
                          [
                            0.2222222222222222,
                            "#7201a8"
                          ],
                          [
                            0.3333333333333333,
                            "#9c179e"
                          ],
                          [
                            0.4444444444444444,
                            "#bd3786"
                          ],
                          [
                            0.5555555555555556,
                            "#d8576b"
                          ],
                          [
                            0.6666666666666666,
                            "#ed7953"
                          ],
                          [
                            0.7777777777777778,
                            "#fb9f3a"
                          ],
                          [
                            0.8888888888888888,
                            "#fdca26"
                          ],
                          [
                            1,
                            "#f0f921"
                          ]
                        ],
                        "type": "heatmap"
                      }
                    ],
                    "heatmapgl": [
                      {
                        "colorbar": {
                          "outlinewidth": 0,
                          "ticks": ""
                        },
                        "colorscale": [
                          [
                            0,
                            "#0d0887"
                          ],
                          [
                            0.1111111111111111,
                            "#46039f"
                          ],
                          [
                            0.2222222222222222,
                            "#7201a8"
                          ],
                          [
                            0.3333333333333333,
                            "#9c179e"
                          ],
                          [
                            0.4444444444444444,
                            "#bd3786"
                          ],
                          [
                            0.5555555555555556,
                            "#d8576b"
                          ],
                          [
                            0.6666666666666666,
                            "#ed7953"
                          ],
                          [
                            0.7777777777777778,
                            "#fb9f3a"
                          ],
                          [
                            0.8888888888888888,
                            "#fdca26"
                          ],
                          [
                            1,
                            "#f0f921"
                          ]
                        ],
                        "type": "heatmapgl"
                      }
                    ],
                    "histogram": [
                      {
                        "marker": {
                          "pattern": {
                            "fillmode": "overlay",
                            "size": 10,
                            "solidity": 0.2
                          }
                        },
                        "type": "histogram"
                      }
                    ],
                    "histogram2d": [
                      {
                        "colorbar": {
                          "outlinewidth": 0,
                          "ticks": ""
                        },
                        "colorscale": [
                          [
                            0,
                            "#0d0887"
                          ],
                          [
                            0.1111111111111111,
                            "#46039f"
                          ],
                          [
                            0.2222222222222222,
                            "#7201a8"
                          ],
                          [
                            0.3333333333333333,
                            "#9c179e"
                          ],
                          [
                            0.4444444444444444,
                            "#bd3786"
                          ],
                          [
                            0.5555555555555556,
                            "#d8576b"
                          ],
                          [
                            0.6666666666666666,
                            "#ed7953"
                          ],
                          [
                            0.7777777777777778,
                            "#fb9f3a"
                          ],
                          [
                            0.8888888888888888,
                            "#fdca26"
                          ],
                          [
                            1,
                            "#f0f921"
                          ]
                        ],
                        "type": "histogram2d"
                      }
                    ],
                    "histogram2dcontour": [
                      {
                        "colorbar": {
                          "outlinewidth": 0,
                          "ticks": ""
                        },
                        "colorscale": [
                          [
                            0,
                            "#0d0887"
                          ],
                          [
                            0.1111111111111111,
                            "#46039f"
                          ],
                          [
                            0.2222222222222222,
                            "#7201a8"
                          ],
                          [
                            0.3333333333333333,
                            "#9c179e"
                          ],
                          [
                            0.4444444444444444,
                            "#bd3786"
                          ],
                          [
                            0.5555555555555556,
                            "#d8576b"
                          ],
                          [
                            0.6666666666666666,
                            "#ed7953"
                          ],
                          [
                            0.7777777777777778,
                            "#fb9f3a"
                          ],
                          [
                            0.8888888888888888,
                            "#fdca26"
                          ],
                          [
                            1,
                            "#f0f921"
                          ]
                        ],
                        "type": "histogram2dcontour"
                      }
                    ],
                    "mesh3d": [
                      {
                        "colorbar": {
                          "outlinewidth": 0,
                          "ticks": ""
                        },
                        "type": "mesh3d"
                      }
                    ],
                    "parcoords": [
                      {
                        "line": {
                          "colorbar": {
                            "outlinewidth": 0,
                            "ticks": ""
                          }
                        },
                        "type": "parcoords"
                      }
                    ],
                    "pie": [
                      {
                        "automargin": true,
                        "type": "pie"
                      }
                    ],
                    "scatter": [
                      {
                        "marker": {
                          "colorbar": {
                            "outlinewidth": 0,
                            "ticks": ""
                          }
                        },
                        "type": "scatter"
                      }
                    ],
                    "scatter3d": [
                      {
                        "line": {
                          "colorbar": {
                            "outlinewidth": 0,
                            "ticks": ""
                          }
                        },
                        "marker": {
                          "colorbar": {
                            "outlinewidth": 0,
                            "ticks": ""
                          }
                        },
                        "type": "scatter3d"
                      }
                    ],
                    "scattercarpet": [
                      {
                        "marker": {
                          "colorbar": {
                            "outlinewidth": 0,
                            "ticks": ""
                          }
                        },
                        "type": "scattercarpet"
                      }
                    ],
                    "scattergeo": [
                      {
                        "marker": {
                          "colorbar": {
                            "outlinewidth": 0,
                            "ticks": ""
                          }
                        },
                        "type": "scattergeo"
                      }
                    ],
                    "scattergl": [
                      {
                        "marker": {
                          "colorbar": {
                            "outlinewidth": 0,
                            "ticks": ""
                          }
                        },
                        "type": "scattergl"
                      }
                    ],
                    "scattermapbox": [
                      {
                        "marker": {
                          "colorbar": {
                            "outlinewidth": 0,
                            "ticks": ""
                          }
                        },
                        "type": "scattermapbox"
                      }
                    ],
                    "scatterpolar": [
                      {
                        "marker": {
                          "colorbar": {
                            "outlinewidth": 0,
                            "ticks": ""
                          }
                        },
                        "type": "scatterpolar"
                      }
                    ],
                    "scatterpolargl": [
                      {
                        "marker": {
                          "colorbar": {
                            "outlinewidth": 0,
                            "ticks": ""
                          }
                        },
                        "type": "scatterpolargl"
                      }
                    ],
                    "scatterternary": [
                      {
                        "marker": {
                          "colorbar": {
                            "outlinewidth": 0,
                            "ticks": ""
                          }
                        },
                        "type": "scatterternary"
                      }
                    ],
                    "surface": [
                      {
                        "colorbar": {
                          "outlinewidth": 0,
                          "ticks": ""
                        },
                        "colorscale": [
                          [
                            0,
                            "#0d0887"
                          ],
                          [
                            0.1111111111111111,
                            "#46039f"
                          ],
                          [
                            0.2222222222222222,
                            "#7201a8"
                          ],
                          [
                            0.3333333333333333,
                            "#9c179e"
                          ],
                          [
                            0.4444444444444444,
                            "#bd3786"
                          ],
                          [
                            0.5555555555555556,
                            "#d8576b"
                          ],
                          [
                            0.6666666666666666,
                            "#ed7953"
                          ],
                          [
                            0.7777777777777778,
                            "#fb9f3a"
                          ],
                          [
                            0.8888888888888888,
                            "#fdca26"
                          ],
                          [
                            1,
                            "#f0f921"
                          ]
                        ],
                        "type": "surface"
                      }
                    ],
                    "table": [
                      {
                        "cells": {
                          "fill": {
                            "color": "#EBF0F8"
                          },
                          "line": {
                            "color": "white"
                          }
                        },
                        "header": {
                          "fill": {
                            "color": "#C8D4E3"
                          },
                          "line": {
                            "color": "white"
                          }
                        },
                        "type": "table"
                      }
                    ]
                  },
                  "layout": {
                    "annotationdefaults": {
                      "arrowcolor": "#2a3f5f",
                      "arrowhead": 0,
                      "arrowwidth": 1
                    },
                    "autotypenumbers": "strict",
                    "coloraxis": {
                      "colorbar": {
                        "outlinewidth": 0,
                        "ticks": ""
                      }
                    },
                    "colorscale": {
                      "diverging": [
                        [
                          0,
                          "#8e0152"
                        ],
                        [
                          0.1,
                          "#c51b7d"
                        ],
                        [
                          0.2,
                          "#de77ae"
                        ],
                        [
                          0.3,
                          "#f1b6da"
                        ],
                        [
                          0.4,
                          "#fde0ef"
                        ],
                        [
                          0.5,
                          "#f7f7f7"
                        ],
                        [
                          0.6,
                          "#e6f5d0"
                        ],
                        [
                          0.7,
                          "#b8e186"
                        ],
                        [
                          0.8,
                          "#7fbc41"
                        ],
                        [
                          0.9,
                          "#4d9221"
                        ],
                        [
                          1,
                          "#276419"
                        ]
                      ],
                      "sequential": [
                        [
                          0,
                          "#0d0887"
                        ],
                        [
                          0.1111111111111111,
                          "#46039f"
                        ],
                        [
                          0.2222222222222222,
                          "#7201a8"
                        ],
                        [
                          0.3333333333333333,
                          "#9c179e"
                        ],
                        [
                          0.4444444444444444,
                          "#bd3786"
                        ],
                        [
                          0.5555555555555556,
                          "#d8576b"
                        ],
                        [
                          0.6666666666666666,
                          "#ed7953"
                        ],
                        [
                          0.7777777777777778,
                          "#fb9f3a"
                        ],
                        [
                          0.8888888888888888,
                          "#fdca26"
                        ],
                        [
                          1,
                          "#f0f921"
                        ]
                      ],
                      "sequentialminus": [
                        [
                          0,
                          "#0d0887"
                        ],
                        [
                          0.1111111111111111,
                          "#46039f"
                        ],
                        [
                          0.2222222222222222,
                          "#7201a8"
                        ],
                        [
                          0.3333333333333333,
                          "#9c179e"
                        ],
                        [
                          0.4444444444444444,
                          "#bd3786"
                        ],
                        [
                          0.5555555555555556,
                          "#d8576b"
                        ],
                        [
                          0.6666666666666666,
                          "#ed7953"
                        ],
                        [
                          0.7777777777777778,
                          "#fb9f3a"
                        ],
                        [
                          0.8888888888888888,
                          "#fdca26"
                        ],
                        [
                          1,
                          "#f0f921"
                        ]
                      ]
                    },
                    "colorway": [
                      "#636efa",
                      "#EF553B",
                      "#00cc96",
                      "#ab63fa",
                      "#FFA15A",
                      "#19d3f3",
                      "#FF6692",
                      "#B6E880",
                      "#FF97FF",
                      "#FECB52"
                    ],
                    "font": {
                      "color": "#2a3f5f"
                    },
                    "geo": {
                      "bgcolor": "white",
                      "lakecolor": "white",
                      "landcolor": "#E5ECF6",
                      "showlakes": true,
                      "showland": true,
                      "subunitcolor": "white"
                    },
                    "hoverlabel": {
                      "align": "left"
                    },
                    "hovermode": "closest",
                    "mapbox": {
                      "style": "light"
                    },
                    "paper_bgcolor": "white",
                    "plot_bgcolor": "#E5ECF6",
                    "polar": {
                      "angularaxis": {
                        "gridcolor": "white",
                        "linecolor": "white",
                        "ticks": ""
                      },
                      "bgcolor": "#E5ECF6",
                      "radialaxis": {
                        "gridcolor": "white",
                        "linecolor": "white",
                        "ticks": ""
                      }
                    },
                    "scene": {
                      "xaxis": {
                        "backgroundcolor": "#E5ECF6",
                        "gridcolor": "white",
                        "gridwidth": 2,
                        "linecolor": "white",
                        "showbackground": true,
                        "ticks": "",
                        "zerolinecolor": "white"
                      },
                      "yaxis": {
                        "backgroundcolor": "#E5ECF6",
                        "gridcolor": "white",
                        "gridwidth": 2,
                        "linecolor": "white",
                        "showbackground": true,
                        "ticks": "",
                        "zerolinecolor": "white"
                      },
                      "zaxis": {
                        "backgroundcolor": "#E5ECF6",
                        "gridcolor": "white",
                        "gridwidth": 2,
                        "linecolor": "white",
                        "showbackground": true,
                        "ticks": "",
                        "zerolinecolor": "white"
                      }
                    },
                    "shapedefaults": {
                      "line": {
                        "color": "#2a3f5f"
                      }
                    },
                    "ternary": {
                      "aaxis": {
                        "gridcolor": "white",
                        "linecolor": "white",
                        "ticks": ""
                      },
                      "baxis": {
                        "gridcolor": "white",
                        "linecolor": "white",
                        "ticks": ""
                      },
                      "bgcolor": "#E5ECF6",
                      "caxis": {
                        "gridcolor": "white",
                        "linecolor": "white",
                        "ticks": ""
                      }
                    },
                    "title": {
                      "x": 0.05
                    },
                    "xaxis": {
                      "automargin": true,
                      "gridcolor": "white",
                      "linecolor": "white",
                      "ticks": "",
                      "title": {
                        "standoff": 15
                      },
                      "zerolinecolor": "white",
                      "zerolinewidth": 2
                    },
                    "yaxis": {
                      "automargin": true,
                      "gridcolor": "white",
                      "linecolor": "white",
                      "ticks": "",
                      "title": {
                        "standoff": 15
                      },
                      "zerolinecolor": "white",
                      "zerolinewidth": 2
                    }
                  }
                },
                "title": {
                  "text": "Activity Time vs Calories"
                },
                "width": 1200,
                "xaxis": {
                  "anchor": "y",
                  "domain": [
                    0,
                    0.2888888888888889
                  ],
                  "title": {
                    "text": "Time spent in lightly activities"
                  }
                },
                "xaxis2": {
                  "anchor": "y2",
                  "domain": [
                    0.35555555555555557,
                    0.6444444444444445
                  ],
                  "title": {
                    "text": "Time spent in fairly activities"
                  }
                },
                "xaxis3": {
                  "anchor": "y3",
                  "domain": [
                    0.7111111111111111,
                    1
                  ],
                  "title": {
                    "text": "Time spent in very active activities"
                  }
                },
                "yaxis": {
                  "anchor": "x",
                  "domain": [
                    0,
                    1
                  ],
                  "side": "left",
                  "title": {
                    "text": "Calories"
                  }
                },
                "yaxis2": {
                  "anchor": "x2",
                  "domain": [
                    0,
                    1
                  ],
                  "matches": "y",
                  "showticklabels": false
                },
                "yaxis3": {
                  "anchor": "x3",
                  "domain": [
                    0,
                    1
                  ],
                  "matches": "y",
                  "showticklabels": false
                }
              }
            }
          },
          "metadata": {},
          "output_type": "display_data"
        }
      ],
      "source": [
        "# Figure Subplots\n",
        "fig = make_subplots(rows=1, cols=3 ,shared_yaxes=True)\n",
        "\n",
        "fig.add_trace(\n",
        "    go.Scatter(x=dailyActivity['LightlyActiveMinutes'], y=dailyActivity['Calories'], mode='markers',name='Lightly Activities'),\n",
        "    row=1, col=1,\n",
        ")\n",
        "\n",
        "\n",
        "fig.add_trace(\n",
        "    go.Scatter(x=dailyActivity['FairlyActiveMinutes'], y=dailyActivity['Calories'], mode='markers',name='Fairly Active'),\n",
        "    row=1, col=2\n",
        ")\n",
        "\n",
        "\n",
        "fig.add_trace(\n",
        "    go.Scatter(x=dailyActivity['VeryActiveMinutes'], y=dailyActivity['Calories'], mode='markers',name='Very Active'),\n",
        "    row=1, col=3\n",
        ")\n",
        "\n",
        "fig.update_layout(height=600, width=1200, title_text=\"Activity Time vs Calories\", hovermode=\"x unified\")\n",
        "\n",
        "fig.update_layout(legend=dict(\n",
        "                      orientation=\"h\",\n",
        "                      yanchor=\"bottom\",\n",
        "                      y=1.02,\n",
        "                      xanchor=\"right\",\n",
        "                      x=1,\n",
        "                      title=''\n",
        "                  ),xaxis=dict(\n",
        "                      title = 'Time spent in lightly activities',\n",
        "                      ), \n",
        "                    yaxis=dict(\n",
        "                      title='Calories',\n",
        "                      side='left',\n",
        "))\n",
        "\n",
        "fig.update_xaxes(row=1, col=2, title = 'Time spent in fairly activities')\n",
        "fig.update_xaxes(row=1, col=3, title = 'Time spent in very active activities')\n",
        "\n",
        "\n",
        "# fig.update_traces(connectgaps=False)\n",
        "\n",
        "fig.show()"
      ]
    },
    {
      "cell_type": "markdown",
      "metadata": {
        "id": "Zkn0mpP74Sx2"
      },
      "source": []
    },
    {
      "cell_type": "markdown",
      "metadata": {
        "id": "WyyrZvYo9tZa"
      },
      "source": [
        "### Average time by type of activity"
      ]
    },
    {
      "cell_type": "code",
      "execution_count": 46,
      "metadata": {
        "colab": {
          "base_uri": "https://localhost:8080/",
          "height": 542
        },
        "id": "omrf-mt51-tM",
        "outputId": "ac9371f0-6a41-4128-e557-0e8219dce3ca"
      },
      "outputs": [
        {
          "data": {
            "application/vnd.plotly.v1+json": {
              "config": {
                "plotlyServerURL": "https://plot.ly"
              },
              "data": [
                {
                  "alignmentgroup": "True",
                  "hovertemplate": "labels=%{x}<br>Mean time in activities=%{y}<extra></extra>",
                  "legendgroup": "",
                  "marker": {
                    "color": "#636efa",
                    "pattern": {
                      "shape": ""
                    }
                  },
                  "name": "",
                  "offsetgroup": "",
                  "orientation": "v",
                  "showlegend": false,
                  "textposition": "auto",
                  "type": "bar",
                  "x": [
                    "Ligthly",
                    "Fairly",
                    "Very active"
                  ],
                  "xaxis": "x",
                  "y": [
                    210.0162224797219,
                    14.775202780996525,
                    23.015063731170336
                  ],
                  "yaxis": "y"
                }
              ],
              "layout": {
                "barmode": "relative",
                "legend": {
                  "tracegroupgap": 0
                },
                "template": {
                  "data": {
                    "bar": [
                      {
                        "error_x": {
                          "color": "#2a3f5f"
                        },
                        "error_y": {
                          "color": "#2a3f5f"
                        },
                        "marker": {
                          "line": {
                            "color": "#E5ECF6",
                            "width": 0.5
                          },
                          "pattern": {
                            "fillmode": "overlay",
                            "size": 10,
                            "solidity": 0.2
                          }
                        },
                        "type": "bar"
                      }
                    ],
                    "barpolar": [
                      {
                        "marker": {
                          "line": {
                            "color": "#E5ECF6",
                            "width": 0.5
                          },
                          "pattern": {
                            "fillmode": "overlay",
                            "size": 10,
                            "solidity": 0.2
                          }
                        },
                        "type": "barpolar"
                      }
                    ],
                    "carpet": [
                      {
                        "aaxis": {
                          "endlinecolor": "#2a3f5f",
                          "gridcolor": "white",
                          "linecolor": "white",
                          "minorgridcolor": "white",
                          "startlinecolor": "#2a3f5f"
                        },
                        "baxis": {
                          "endlinecolor": "#2a3f5f",
                          "gridcolor": "white",
                          "linecolor": "white",
                          "minorgridcolor": "white",
                          "startlinecolor": "#2a3f5f"
                        },
                        "type": "carpet"
                      }
                    ],
                    "choropleth": [
                      {
                        "colorbar": {
                          "outlinewidth": 0,
                          "ticks": ""
                        },
                        "type": "choropleth"
                      }
                    ],
                    "contour": [
                      {
                        "colorbar": {
                          "outlinewidth": 0,
                          "ticks": ""
                        },
                        "colorscale": [
                          [
                            0,
                            "#0d0887"
                          ],
                          [
                            0.1111111111111111,
                            "#46039f"
                          ],
                          [
                            0.2222222222222222,
                            "#7201a8"
                          ],
                          [
                            0.3333333333333333,
                            "#9c179e"
                          ],
                          [
                            0.4444444444444444,
                            "#bd3786"
                          ],
                          [
                            0.5555555555555556,
                            "#d8576b"
                          ],
                          [
                            0.6666666666666666,
                            "#ed7953"
                          ],
                          [
                            0.7777777777777778,
                            "#fb9f3a"
                          ],
                          [
                            0.8888888888888888,
                            "#fdca26"
                          ],
                          [
                            1,
                            "#f0f921"
                          ]
                        ],
                        "type": "contour"
                      }
                    ],
                    "contourcarpet": [
                      {
                        "colorbar": {
                          "outlinewidth": 0,
                          "ticks": ""
                        },
                        "type": "contourcarpet"
                      }
                    ],
                    "heatmap": [
                      {
                        "colorbar": {
                          "outlinewidth": 0,
                          "ticks": ""
                        },
                        "colorscale": [
                          [
                            0,
                            "#0d0887"
                          ],
                          [
                            0.1111111111111111,
                            "#46039f"
                          ],
                          [
                            0.2222222222222222,
                            "#7201a8"
                          ],
                          [
                            0.3333333333333333,
                            "#9c179e"
                          ],
                          [
                            0.4444444444444444,
                            "#bd3786"
                          ],
                          [
                            0.5555555555555556,
                            "#d8576b"
                          ],
                          [
                            0.6666666666666666,
                            "#ed7953"
                          ],
                          [
                            0.7777777777777778,
                            "#fb9f3a"
                          ],
                          [
                            0.8888888888888888,
                            "#fdca26"
                          ],
                          [
                            1,
                            "#f0f921"
                          ]
                        ],
                        "type": "heatmap"
                      }
                    ],
                    "heatmapgl": [
                      {
                        "colorbar": {
                          "outlinewidth": 0,
                          "ticks": ""
                        },
                        "colorscale": [
                          [
                            0,
                            "#0d0887"
                          ],
                          [
                            0.1111111111111111,
                            "#46039f"
                          ],
                          [
                            0.2222222222222222,
                            "#7201a8"
                          ],
                          [
                            0.3333333333333333,
                            "#9c179e"
                          ],
                          [
                            0.4444444444444444,
                            "#bd3786"
                          ],
                          [
                            0.5555555555555556,
                            "#d8576b"
                          ],
                          [
                            0.6666666666666666,
                            "#ed7953"
                          ],
                          [
                            0.7777777777777778,
                            "#fb9f3a"
                          ],
                          [
                            0.8888888888888888,
                            "#fdca26"
                          ],
                          [
                            1,
                            "#f0f921"
                          ]
                        ],
                        "type": "heatmapgl"
                      }
                    ],
                    "histogram": [
                      {
                        "marker": {
                          "pattern": {
                            "fillmode": "overlay",
                            "size": 10,
                            "solidity": 0.2
                          }
                        },
                        "type": "histogram"
                      }
                    ],
                    "histogram2d": [
                      {
                        "colorbar": {
                          "outlinewidth": 0,
                          "ticks": ""
                        },
                        "colorscale": [
                          [
                            0,
                            "#0d0887"
                          ],
                          [
                            0.1111111111111111,
                            "#46039f"
                          ],
                          [
                            0.2222222222222222,
                            "#7201a8"
                          ],
                          [
                            0.3333333333333333,
                            "#9c179e"
                          ],
                          [
                            0.4444444444444444,
                            "#bd3786"
                          ],
                          [
                            0.5555555555555556,
                            "#d8576b"
                          ],
                          [
                            0.6666666666666666,
                            "#ed7953"
                          ],
                          [
                            0.7777777777777778,
                            "#fb9f3a"
                          ],
                          [
                            0.8888888888888888,
                            "#fdca26"
                          ],
                          [
                            1,
                            "#f0f921"
                          ]
                        ],
                        "type": "histogram2d"
                      }
                    ],
                    "histogram2dcontour": [
                      {
                        "colorbar": {
                          "outlinewidth": 0,
                          "ticks": ""
                        },
                        "colorscale": [
                          [
                            0,
                            "#0d0887"
                          ],
                          [
                            0.1111111111111111,
                            "#46039f"
                          ],
                          [
                            0.2222222222222222,
                            "#7201a8"
                          ],
                          [
                            0.3333333333333333,
                            "#9c179e"
                          ],
                          [
                            0.4444444444444444,
                            "#bd3786"
                          ],
                          [
                            0.5555555555555556,
                            "#d8576b"
                          ],
                          [
                            0.6666666666666666,
                            "#ed7953"
                          ],
                          [
                            0.7777777777777778,
                            "#fb9f3a"
                          ],
                          [
                            0.8888888888888888,
                            "#fdca26"
                          ],
                          [
                            1,
                            "#f0f921"
                          ]
                        ],
                        "type": "histogram2dcontour"
                      }
                    ],
                    "mesh3d": [
                      {
                        "colorbar": {
                          "outlinewidth": 0,
                          "ticks": ""
                        },
                        "type": "mesh3d"
                      }
                    ],
                    "parcoords": [
                      {
                        "line": {
                          "colorbar": {
                            "outlinewidth": 0,
                            "ticks": ""
                          }
                        },
                        "type": "parcoords"
                      }
                    ],
                    "pie": [
                      {
                        "automargin": true,
                        "type": "pie"
                      }
                    ],
                    "scatter": [
                      {
                        "marker": {
                          "colorbar": {
                            "outlinewidth": 0,
                            "ticks": ""
                          }
                        },
                        "type": "scatter"
                      }
                    ],
                    "scatter3d": [
                      {
                        "line": {
                          "colorbar": {
                            "outlinewidth": 0,
                            "ticks": ""
                          }
                        },
                        "marker": {
                          "colorbar": {
                            "outlinewidth": 0,
                            "ticks": ""
                          }
                        },
                        "type": "scatter3d"
                      }
                    ],
                    "scattercarpet": [
                      {
                        "marker": {
                          "colorbar": {
                            "outlinewidth": 0,
                            "ticks": ""
                          }
                        },
                        "type": "scattercarpet"
                      }
                    ],
                    "scattergeo": [
                      {
                        "marker": {
                          "colorbar": {
                            "outlinewidth": 0,
                            "ticks": ""
                          }
                        },
                        "type": "scattergeo"
                      }
                    ],
                    "scattergl": [
                      {
                        "marker": {
                          "colorbar": {
                            "outlinewidth": 0,
                            "ticks": ""
                          }
                        },
                        "type": "scattergl"
                      }
                    ],
                    "scattermapbox": [
                      {
                        "marker": {
                          "colorbar": {
                            "outlinewidth": 0,
                            "ticks": ""
                          }
                        },
                        "type": "scattermapbox"
                      }
                    ],
                    "scatterpolar": [
                      {
                        "marker": {
                          "colorbar": {
                            "outlinewidth": 0,
                            "ticks": ""
                          }
                        },
                        "type": "scatterpolar"
                      }
                    ],
                    "scatterpolargl": [
                      {
                        "marker": {
                          "colorbar": {
                            "outlinewidth": 0,
                            "ticks": ""
                          }
                        },
                        "type": "scatterpolargl"
                      }
                    ],
                    "scatterternary": [
                      {
                        "marker": {
                          "colorbar": {
                            "outlinewidth": 0,
                            "ticks": ""
                          }
                        },
                        "type": "scatterternary"
                      }
                    ],
                    "surface": [
                      {
                        "colorbar": {
                          "outlinewidth": 0,
                          "ticks": ""
                        },
                        "colorscale": [
                          [
                            0,
                            "#0d0887"
                          ],
                          [
                            0.1111111111111111,
                            "#46039f"
                          ],
                          [
                            0.2222222222222222,
                            "#7201a8"
                          ],
                          [
                            0.3333333333333333,
                            "#9c179e"
                          ],
                          [
                            0.4444444444444444,
                            "#bd3786"
                          ],
                          [
                            0.5555555555555556,
                            "#d8576b"
                          ],
                          [
                            0.6666666666666666,
                            "#ed7953"
                          ],
                          [
                            0.7777777777777778,
                            "#fb9f3a"
                          ],
                          [
                            0.8888888888888888,
                            "#fdca26"
                          ],
                          [
                            1,
                            "#f0f921"
                          ]
                        ],
                        "type": "surface"
                      }
                    ],
                    "table": [
                      {
                        "cells": {
                          "fill": {
                            "color": "#EBF0F8"
                          },
                          "line": {
                            "color": "white"
                          }
                        },
                        "header": {
                          "fill": {
                            "color": "#C8D4E3"
                          },
                          "line": {
                            "color": "white"
                          }
                        },
                        "type": "table"
                      }
                    ]
                  },
                  "layout": {
                    "annotationdefaults": {
                      "arrowcolor": "#2a3f5f",
                      "arrowhead": 0,
                      "arrowwidth": 1
                    },
                    "autotypenumbers": "strict",
                    "coloraxis": {
                      "colorbar": {
                        "outlinewidth": 0,
                        "ticks": ""
                      }
                    },
                    "colorscale": {
                      "diverging": [
                        [
                          0,
                          "#8e0152"
                        ],
                        [
                          0.1,
                          "#c51b7d"
                        ],
                        [
                          0.2,
                          "#de77ae"
                        ],
                        [
                          0.3,
                          "#f1b6da"
                        ],
                        [
                          0.4,
                          "#fde0ef"
                        ],
                        [
                          0.5,
                          "#f7f7f7"
                        ],
                        [
                          0.6,
                          "#e6f5d0"
                        ],
                        [
                          0.7,
                          "#b8e186"
                        ],
                        [
                          0.8,
                          "#7fbc41"
                        ],
                        [
                          0.9,
                          "#4d9221"
                        ],
                        [
                          1,
                          "#276419"
                        ]
                      ],
                      "sequential": [
                        [
                          0,
                          "#0d0887"
                        ],
                        [
                          0.1111111111111111,
                          "#46039f"
                        ],
                        [
                          0.2222222222222222,
                          "#7201a8"
                        ],
                        [
                          0.3333333333333333,
                          "#9c179e"
                        ],
                        [
                          0.4444444444444444,
                          "#bd3786"
                        ],
                        [
                          0.5555555555555556,
                          "#d8576b"
                        ],
                        [
                          0.6666666666666666,
                          "#ed7953"
                        ],
                        [
                          0.7777777777777778,
                          "#fb9f3a"
                        ],
                        [
                          0.8888888888888888,
                          "#fdca26"
                        ],
                        [
                          1,
                          "#f0f921"
                        ]
                      ],
                      "sequentialminus": [
                        [
                          0,
                          "#0d0887"
                        ],
                        [
                          0.1111111111111111,
                          "#46039f"
                        ],
                        [
                          0.2222222222222222,
                          "#7201a8"
                        ],
                        [
                          0.3333333333333333,
                          "#9c179e"
                        ],
                        [
                          0.4444444444444444,
                          "#bd3786"
                        ],
                        [
                          0.5555555555555556,
                          "#d8576b"
                        ],
                        [
                          0.6666666666666666,
                          "#ed7953"
                        ],
                        [
                          0.7777777777777778,
                          "#fb9f3a"
                        ],
                        [
                          0.8888888888888888,
                          "#fdca26"
                        ],
                        [
                          1,
                          "#f0f921"
                        ]
                      ]
                    },
                    "colorway": [
                      "#636efa",
                      "#EF553B",
                      "#00cc96",
                      "#ab63fa",
                      "#FFA15A",
                      "#19d3f3",
                      "#FF6692",
                      "#B6E880",
                      "#FF97FF",
                      "#FECB52"
                    ],
                    "font": {
                      "color": "#2a3f5f"
                    },
                    "geo": {
                      "bgcolor": "white",
                      "lakecolor": "white",
                      "landcolor": "#E5ECF6",
                      "showlakes": true,
                      "showland": true,
                      "subunitcolor": "white"
                    },
                    "hoverlabel": {
                      "align": "left"
                    },
                    "hovermode": "closest",
                    "mapbox": {
                      "style": "light"
                    },
                    "paper_bgcolor": "white",
                    "plot_bgcolor": "#E5ECF6",
                    "polar": {
                      "angularaxis": {
                        "gridcolor": "white",
                        "linecolor": "white",
                        "ticks": ""
                      },
                      "bgcolor": "#E5ECF6",
                      "radialaxis": {
                        "gridcolor": "white",
                        "linecolor": "white",
                        "ticks": ""
                      }
                    },
                    "scene": {
                      "xaxis": {
                        "backgroundcolor": "#E5ECF6",
                        "gridcolor": "white",
                        "gridwidth": 2,
                        "linecolor": "white",
                        "showbackground": true,
                        "ticks": "",
                        "zerolinecolor": "white"
                      },
                      "yaxis": {
                        "backgroundcolor": "#E5ECF6",
                        "gridcolor": "white",
                        "gridwidth": 2,
                        "linecolor": "white",
                        "showbackground": true,
                        "ticks": "",
                        "zerolinecolor": "white"
                      },
                      "zaxis": {
                        "backgroundcolor": "#E5ECF6",
                        "gridcolor": "white",
                        "gridwidth": 2,
                        "linecolor": "white",
                        "showbackground": true,
                        "ticks": "",
                        "zerolinecolor": "white"
                      }
                    },
                    "shapedefaults": {
                      "line": {
                        "color": "#2a3f5f"
                      }
                    },
                    "ternary": {
                      "aaxis": {
                        "gridcolor": "white",
                        "linecolor": "white",
                        "ticks": ""
                      },
                      "baxis": {
                        "gridcolor": "white",
                        "linecolor": "white",
                        "ticks": ""
                      },
                      "bgcolor": "#E5ECF6",
                      "caxis": {
                        "gridcolor": "white",
                        "linecolor": "white",
                        "ticks": ""
                      }
                    },
                    "title": {
                      "x": 0.05
                    },
                    "xaxis": {
                      "automargin": true,
                      "gridcolor": "white",
                      "linecolor": "white",
                      "ticks": "",
                      "title": {
                        "standoff": 15
                      },
                      "zerolinecolor": "white",
                      "zerolinewidth": 2
                    },
                    "yaxis": {
                      "automargin": true,
                      "gridcolor": "white",
                      "linecolor": "white",
                      "ticks": "",
                      "title": {
                        "standoff": 15
                      },
                      "zerolinecolor": "white",
                      "zerolinewidth": 2
                    }
                  }
                },
                "title": {
                  "text": "Average time by type of activity"
                },
                "xaxis": {
                  "anchor": "y",
                  "domain": [
                    0,
                    1
                  ],
                  "title": {
                    "text": "Type of Activity"
                  }
                },
                "yaxis": {
                  "anchor": "x",
                  "domain": [
                    0,
                    1
                  ],
                  "side": "left",
                  "title": {
                    "text": "Mean time (minutes)"
                  }
                }
              }
            }
          },
          "metadata": {},
          "output_type": "display_data"
        }
      ],
      "source": [
        "# Bar chart: Average time by type of activity\n",
        "\n",
        "data = {'labels': ['Ligthly', 'Fairly', 'Very active'],\n",
        "        'Mean time in activities': [np.average(dailyActivity['LightlyActiveMinutes']), np.average(dailyActivity['FairlyActiveMinutes']), np.average(dailyActivity['VeryActiveMinutes'])]}\n",
        "\n",
        "fig = px.bar(data, x='labels', y='Mean time in activities', title = 'Average time by type of activity')\n",
        "\n",
        "fig.update_layout(xaxis=dict(\n",
        "                    title = 'Type of Activity',\n",
        "                    ), \n",
        "                  yaxis=dict(\n",
        "                    title='Mean time (minutes)',\n",
        "                    side='left'                 \n",
        "                    )\n",
        ")\n",
        "\n",
        "fig.show()"
      ]
    },
    {
      "cell_type": "markdown",
      "metadata": {
        "id": "V6l50NNf4xiM"
      },
      "source": [
        "### AVG Steps vs Body Mass Index"
      ]
    },
    {
      "cell_type": "code",
      "execution_count": 47,
      "metadata": {
        "colab": {
          "base_uri": "https://localhost:8080/",
          "height": 542
        },
        "id": "ZJM4jFYs4xO8",
        "outputId": "3c5fa487-8c70-44cb-f5c7-84e18d237d99"
      },
      "outputs": [
        {
          "data": {
            "application/vnd.plotly.v1+json": {
              "config": {
                "plotlyServerURL": "https://plot.ly"
              },
              "data": [
                {
                  "hovertemplate": "x=%{x}<br>y=%{y}<extra></extra>",
                  "legendgroup": "",
                  "marker": {
                    "color": "#636efa",
                    "symbol": "circle"
                  },
                  "mode": "markers",
                  "name": "",
                  "orientation": "v",
                  "showlegend": false,
                  "type": "scatter",
                  "x": [
                    22.6499996185303,
                    22.6499996185303,
                    47.5400009155273,
                    21.4500007629395,
                    21.6900005340576,
                    27.4500007629395,
                    27.3799991607666,
                    27.25,
                    27.4599990844727,
                    27.3199996948242,
                    27.0400009155273,
                    27,
                    28,
                    24.3899993896484,
                    24.2399997711182,
                    24.1000003814697,
                    24,
                    24.2099990844727,
                    23.9599990844727,
                    23.8899993896484,
                    23.9599990844727,
                    24.1000003814697,
                    23.9599990844727,
                    23.9599990844727,
                    24,
                    24,
                    24.1000003814697,
                    23.8899993896484,
                    23.8899993896484,
                    23.9599990844727,
                    23.8199996948242,
                    24.1000003814697,
                    24,
                    23.8199996948242,
                    23.8500003814697,
                    23.9300003051758,
                    24,
                    23.8899993896484,
                    23.8899993896484,
                    24.3500003814697,
                    24.2399997711182,
                    24.1700000762939,
                    24.1700000762939,
                    25.6800003051758,
                    25.4099998474121,
                    25.3099994659424,
                    25.5900001525879,
                    25.6800003051758,
                    25.5300006866455,
                    25.4099998474121,
                    25.2900009155273,
                    25.5900001525879,
                    25.5900001525879,
                    25.5599994659424,
                    25.4899997711182,
                    25.5599994659424,
                    25.4899997711182,
                    25.4099998474121,
                    25.5900001525879,
                    25.5300006866455,
                    25.4099998474121,
                    25.2600002288818,
                    25.4400005340576,
                    25.5599994659424,
                    25.6100006103516,
                    25.5599994659424,
                    25.1399993896484
                  ],
                  "xaxis": "x",
                  "y": [
                    12520.633333333333,
                    12520.633333333333,
                    1670.5882352941176,
                    7555.774193548387,
                    7555.774193548387,
                    7268.8387096774195,
                    7268.8387096774195,
                    7685.129032258064,
                    7685.129032258064,
                    7685.129032258064,
                    7685.129032258064,
                    7685.129032258064,
                    8897.607142857143,
                    9794.806451612903,
                    9794.806451612903,
                    9794.806451612903,
                    9794.806451612903,
                    9794.806451612903,
                    9794.806451612903,
                    9794.806451612903,
                    9794.806451612903,
                    9794.806451612903,
                    9794.806451612903,
                    9794.806451612903,
                    9794.806451612903,
                    9794.806451612903,
                    9794.806451612903,
                    9794.806451612903,
                    9794.806451612903,
                    9794.806451612903,
                    9794.806451612903,
                    9794.806451612903,
                    9794.806451612903,
                    9794.806451612903,
                    9794.806451612903,
                    9794.806451612903,
                    9794.806451612903,
                    9794.806451612903,
                    9794.806451612903,
                    9794.806451612903,
                    9794.806451612903,
                    9794.806451612903,
                    9794.806451612903,
                    16040.032258064517,
                    16040.032258064517,
                    16040.032258064517,
                    16040.032258064517,
                    16040.032258064517,
                    16040.032258064517,
                    16040.032258064517,
                    16040.032258064517,
                    16040.032258064517,
                    16040.032258064517,
                    16040.032258064517,
                    16040.032258064517,
                    16040.032258064517,
                    16040.032258064517,
                    16040.032258064517,
                    16040.032258064517,
                    16040.032258064517,
                    16040.032258064517,
                    16040.032258064517,
                    16040.032258064517,
                    16040.032258064517,
                    16040.032258064517,
                    16040.032258064517,
                    16040.032258064517
                  ],
                  "yaxis": "y"
                }
              ],
              "layout": {
                "legend": {
                  "orientation": "h",
                  "title": {
                    "text": ""
                  },
                  "tracegroupgap": 0,
                  "x": 1,
                  "xanchor": "right",
                  "y": 1.02,
                  "yanchor": "bottom"
                },
                "template": {
                  "data": {
                    "bar": [
                      {
                        "error_x": {
                          "color": "#2a3f5f"
                        },
                        "error_y": {
                          "color": "#2a3f5f"
                        },
                        "marker": {
                          "line": {
                            "color": "#E5ECF6",
                            "width": 0.5
                          },
                          "pattern": {
                            "fillmode": "overlay",
                            "size": 10,
                            "solidity": 0.2
                          }
                        },
                        "type": "bar"
                      }
                    ],
                    "barpolar": [
                      {
                        "marker": {
                          "line": {
                            "color": "#E5ECF6",
                            "width": 0.5
                          },
                          "pattern": {
                            "fillmode": "overlay",
                            "size": 10,
                            "solidity": 0.2
                          }
                        },
                        "type": "barpolar"
                      }
                    ],
                    "carpet": [
                      {
                        "aaxis": {
                          "endlinecolor": "#2a3f5f",
                          "gridcolor": "white",
                          "linecolor": "white",
                          "minorgridcolor": "white",
                          "startlinecolor": "#2a3f5f"
                        },
                        "baxis": {
                          "endlinecolor": "#2a3f5f",
                          "gridcolor": "white",
                          "linecolor": "white",
                          "minorgridcolor": "white",
                          "startlinecolor": "#2a3f5f"
                        },
                        "type": "carpet"
                      }
                    ],
                    "choropleth": [
                      {
                        "colorbar": {
                          "outlinewidth": 0,
                          "ticks": ""
                        },
                        "type": "choropleth"
                      }
                    ],
                    "contour": [
                      {
                        "colorbar": {
                          "outlinewidth": 0,
                          "ticks": ""
                        },
                        "colorscale": [
                          [
                            0,
                            "#0d0887"
                          ],
                          [
                            0.1111111111111111,
                            "#46039f"
                          ],
                          [
                            0.2222222222222222,
                            "#7201a8"
                          ],
                          [
                            0.3333333333333333,
                            "#9c179e"
                          ],
                          [
                            0.4444444444444444,
                            "#bd3786"
                          ],
                          [
                            0.5555555555555556,
                            "#d8576b"
                          ],
                          [
                            0.6666666666666666,
                            "#ed7953"
                          ],
                          [
                            0.7777777777777778,
                            "#fb9f3a"
                          ],
                          [
                            0.8888888888888888,
                            "#fdca26"
                          ],
                          [
                            1,
                            "#f0f921"
                          ]
                        ],
                        "type": "contour"
                      }
                    ],
                    "contourcarpet": [
                      {
                        "colorbar": {
                          "outlinewidth": 0,
                          "ticks": ""
                        },
                        "type": "contourcarpet"
                      }
                    ],
                    "heatmap": [
                      {
                        "colorbar": {
                          "outlinewidth": 0,
                          "ticks": ""
                        },
                        "colorscale": [
                          [
                            0,
                            "#0d0887"
                          ],
                          [
                            0.1111111111111111,
                            "#46039f"
                          ],
                          [
                            0.2222222222222222,
                            "#7201a8"
                          ],
                          [
                            0.3333333333333333,
                            "#9c179e"
                          ],
                          [
                            0.4444444444444444,
                            "#bd3786"
                          ],
                          [
                            0.5555555555555556,
                            "#d8576b"
                          ],
                          [
                            0.6666666666666666,
                            "#ed7953"
                          ],
                          [
                            0.7777777777777778,
                            "#fb9f3a"
                          ],
                          [
                            0.8888888888888888,
                            "#fdca26"
                          ],
                          [
                            1,
                            "#f0f921"
                          ]
                        ],
                        "type": "heatmap"
                      }
                    ],
                    "heatmapgl": [
                      {
                        "colorbar": {
                          "outlinewidth": 0,
                          "ticks": ""
                        },
                        "colorscale": [
                          [
                            0,
                            "#0d0887"
                          ],
                          [
                            0.1111111111111111,
                            "#46039f"
                          ],
                          [
                            0.2222222222222222,
                            "#7201a8"
                          ],
                          [
                            0.3333333333333333,
                            "#9c179e"
                          ],
                          [
                            0.4444444444444444,
                            "#bd3786"
                          ],
                          [
                            0.5555555555555556,
                            "#d8576b"
                          ],
                          [
                            0.6666666666666666,
                            "#ed7953"
                          ],
                          [
                            0.7777777777777778,
                            "#fb9f3a"
                          ],
                          [
                            0.8888888888888888,
                            "#fdca26"
                          ],
                          [
                            1,
                            "#f0f921"
                          ]
                        ],
                        "type": "heatmapgl"
                      }
                    ],
                    "histogram": [
                      {
                        "marker": {
                          "pattern": {
                            "fillmode": "overlay",
                            "size": 10,
                            "solidity": 0.2
                          }
                        },
                        "type": "histogram"
                      }
                    ],
                    "histogram2d": [
                      {
                        "colorbar": {
                          "outlinewidth": 0,
                          "ticks": ""
                        },
                        "colorscale": [
                          [
                            0,
                            "#0d0887"
                          ],
                          [
                            0.1111111111111111,
                            "#46039f"
                          ],
                          [
                            0.2222222222222222,
                            "#7201a8"
                          ],
                          [
                            0.3333333333333333,
                            "#9c179e"
                          ],
                          [
                            0.4444444444444444,
                            "#bd3786"
                          ],
                          [
                            0.5555555555555556,
                            "#d8576b"
                          ],
                          [
                            0.6666666666666666,
                            "#ed7953"
                          ],
                          [
                            0.7777777777777778,
                            "#fb9f3a"
                          ],
                          [
                            0.8888888888888888,
                            "#fdca26"
                          ],
                          [
                            1,
                            "#f0f921"
                          ]
                        ],
                        "type": "histogram2d"
                      }
                    ],
                    "histogram2dcontour": [
                      {
                        "colorbar": {
                          "outlinewidth": 0,
                          "ticks": ""
                        },
                        "colorscale": [
                          [
                            0,
                            "#0d0887"
                          ],
                          [
                            0.1111111111111111,
                            "#46039f"
                          ],
                          [
                            0.2222222222222222,
                            "#7201a8"
                          ],
                          [
                            0.3333333333333333,
                            "#9c179e"
                          ],
                          [
                            0.4444444444444444,
                            "#bd3786"
                          ],
                          [
                            0.5555555555555556,
                            "#d8576b"
                          ],
                          [
                            0.6666666666666666,
                            "#ed7953"
                          ],
                          [
                            0.7777777777777778,
                            "#fb9f3a"
                          ],
                          [
                            0.8888888888888888,
                            "#fdca26"
                          ],
                          [
                            1,
                            "#f0f921"
                          ]
                        ],
                        "type": "histogram2dcontour"
                      }
                    ],
                    "mesh3d": [
                      {
                        "colorbar": {
                          "outlinewidth": 0,
                          "ticks": ""
                        },
                        "type": "mesh3d"
                      }
                    ],
                    "parcoords": [
                      {
                        "line": {
                          "colorbar": {
                            "outlinewidth": 0,
                            "ticks": ""
                          }
                        },
                        "type": "parcoords"
                      }
                    ],
                    "pie": [
                      {
                        "automargin": true,
                        "type": "pie"
                      }
                    ],
                    "scatter": [
                      {
                        "marker": {
                          "colorbar": {
                            "outlinewidth": 0,
                            "ticks": ""
                          }
                        },
                        "type": "scatter"
                      }
                    ],
                    "scatter3d": [
                      {
                        "line": {
                          "colorbar": {
                            "outlinewidth": 0,
                            "ticks": ""
                          }
                        },
                        "marker": {
                          "colorbar": {
                            "outlinewidth": 0,
                            "ticks": ""
                          }
                        },
                        "type": "scatter3d"
                      }
                    ],
                    "scattercarpet": [
                      {
                        "marker": {
                          "colorbar": {
                            "outlinewidth": 0,
                            "ticks": ""
                          }
                        },
                        "type": "scattercarpet"
                      }
                    ],
                    "scattergeo": [
                      {
                        "marker": {
                          "colorbar": {
                            "outlinewidth": 0,
                            "ticks": ""
                          }
                        },
                        "type": "scattergeo"
                      }
                    ],
                    "scattergl": [
                      {
                        "marker": {
                          "colorbar": {
                            "outlinewidth": 0,
                            "ticks": ""
                          }
                        },
                        "type": "scattergl"
                      }
                    ],
                    "scattermapbox": [
                      {
                        "marker": {
                          "colorbar": {
                            "outlinewidth": 0,
                            "ticks": ""
                          }
                        },
                        "type": "scattermapbox"
                      }
                    ],
                    "scatterpolar": [
                      {
                        "marker": {
                          "colorbar": {
                            "outlinewidth": 0,
                            "ticks": ""
                          }
                        },
                        "type": "scatterpolar"
                      }
                    ],
                    "scatterpolargl": [
                      {
                        "marker": {
                          "colorbar": {
                            "outlinewidth": 0,
                            "ticks": ""
                          }
                        },
                        "type": "scatterpolargl"
                      }
                    ],
                    "scatterternary": [
                      {
                        "marker": {
                          "colorbar": {
                            "outlinewidth": 0,
                            "ticks": ""
                          }
                        },
                        "type": "scatterternary"
                      }
                    ],
                    "surface": [
                      {
                        "colorbar": {
                          "outlinewidth": 0,
                          "ticks": ""
                        },
                        "colorscale": [
                          [
                            0,
                            "#0d0887"
                          ],
                          [
                            0.1111111111111111,
                            "#46039f"
                          ],
                          [
                            0.2222222222222222,
                            "#7201a8"
                          ],
                          [
                            0.3333333333333333,
                            "#9c179e"
                          ],
                          [
                            0.4444444444444444,
                            "#bd3786"
                          ],
                          [
                            0.5555555555555556,
                            "#d8576b"
                          ],
                          [
                            0.6666666666666666,
                            "#ed7953"
                          ],
                          [
                            0.7777777777777778,
                            "#fb9f3a"
                          ],
                          [
                            0.8888888888888888,
                            "#fdca26"
                          ],
                          [
                            1,
                            "#f0f921"
                          ]
                        ],
                        "type": "surface"
                      }
                    ],
                    "table": [
                      {
                        "cells": {
                          "fill": {
                            "color": "#EBF0F8"
                          },
                          "line": {
                            "color": "white"
                          }
                        },
                        "header": {
                          "fill": {
                            "color": "#C8D4E3"
                          },
                          "line": {
                            "color": "white"
                          }
                        },
                        "type": "table"
                      }
                    ]
                  },
                  "layout": {
                    "annotationdefaults": {
                      "arrowcolor": "#2a3f5f",
                      "arrowhead": 0,
                      "arrowwidth": 1
                    },
                    "autotypenumbers": "strict",
                    "coloraxis": {
                      "colorbar": {
                        "outlinewidth": 0,
                        "ticks": ""
                      }
                    },
                    "colorscale": {
                      "diverging": [
                        [
                          0,
                          "#8e0152"
                        ],
                        [
                          0.1,
                          "#c51b7d"
                        ],
                        [
                          0.2,
                          "#de77ae"
                        ],
                        [
                          0.3,
                          "#f1b6da"
                        ],
                        [
                          0.4,
                          "#fde0ef"
                        ],
                        [
                          0.5,
                          "#f7f7f7"
                        ],
                        [
                          0.6,
                          "#e6f5d0"
                        ],
                        [
                          0.7,
                          "#b8e186"
                        ],
                        [
                          0.8,
                          "#7fbc41"
                        ],
                        [
                          0.9,
                          "#4d9221"
                        ],
                        [
                          1,
                          "#276419"
                        ]
                      ],
                      "sequential": [
                        [
                          0,
                          "#0d0887"
                        ],
                        [
                          0.1111111111111111,
                          "#46039f"
                        ],
                        [
                          0.2222222222222222,
                          "#7201a8"
                        ],
                        [
                          0.3333333333333333,
                          "#9c179e"
                        ],
                        [
                          0.4444444444444444,
                          "#bd3786"
                        ],
                        [
                          0.5555555555555556,
                          "#d8576b"
                        ],
                        [
                          0.6666666666666666,
                          "#ed7953"
                        ],
                        [
                          0.7777777777777778,
                          "#fb9f3a"
                        ],
                        [
                          0.8888888888888888,
                          "#fdca26"
                        ],
                        [
                          1,
                          "#f0f921"
                        ]
                      ],
                      "sequentialminus": [
                        [
                          0,
                          "#0d0887"
                        ],
                        [
                          0.1111111111111111,
                          "#46039f"
                        ],
                        [
                          0.2222222222222222,
                          "#7201a8"
                        ],
                        [
                          0.3333333333333333,
                          "#9c179e"
                        ],
                        [
                          0.4444444444444444,
                          "#bd3786"
                        ],
                        [
                          0.5555555555555556,
                          "#d8576b"
                        ],
                        [
                          0.6666666666666666,
                          "#ed7953"
                        ],
                        [
                          0.7777777777777778,
                          "#fb9f3a"
                        ],
                        [
                          0.8888888888888888,
                          "#fdca26"
                        ],
                        [
                          1,
                          "#f0f921"
                        ]
                      ]
                    },
                    "colorway": [
                      "#636efa",
                      "#EF553B",
                      "#00cc96",
                      "#ab63fa",
                      "#FFA15A",
                      "#19d3f3",
                      "#FF6692",
                      "#B6E880",
                      "#FF97FF",
                      "#FECB52"
                    ],
                    "font": {
                      "color": "#2a3f5f"
                    },
                    "geo": {
                      "bgcolor": "white",
                      "lakecolor": "white",
                      "landcolor": "#E5ECF6",
                      "showlakes": true,
                      "showland": true,
                      "subunitcolor": "white"
                    },
                    "hoverlabel": {
                      "align": "left"
                    },
                    "hovermode": "closest",
                    "mapbox": {
                      "style": "light"
                    },
                    "paper_bgcolor": "white",
                    "plot_bgcolor": "#E5ECF6",
                    "polar": {
                      "angularaxis": {
                        "gridcolor": "white",
                        "linecolor": "white",
                        "ticks": ""
                      },
                      "bgcolor": "#E5ECF6",
                      "radialaxis": {
                        "gridcolor": "white",
                        "linecolor": "white",
                        "ticks": ""
                      }
                    },
                    "scene": {
                      "xaxis": {
                        "backgroundcolor": "#E5ECF6",
                        "gridcolor": "white",
                        "gridwidth": 2,
                        "linecolor": "white",
                        "showbackground": true,
                        "ticks": "",
                        "zerolinecolor": "white"
                      },
                      "yaxis": {
                        "backgroundcolor": "#E5ECF6",
                        "gridcolor": "white",
                        "gridwidth": 2,
                        "linecolor": "white",
                        "showbackground": true,
                        "ticks": "",
                        "zerolinecolor": "white"
                      },
                      "zaxis": {
                        "backgroundcolor": "#E5ECF6",
                        "gridcolor": "white",
                        "gridwidth": 2,
                        "linecolor": "white",
                        "showbackground": true,
                        "ticks": "",
                        "zerolinecolor": "white"
                      }
                    },
                    "shapedefaults": {
                      "line": {
                        "color": "#2a3f5f"
                      }
                    },
                    "ternary": {
                      "aaxis": {
                        "gridcolor": "white",
                        "linecolor": "white",
                        "ticks": ""
                      },
                      "baxis": {
                        "gridcolor": "white",
                        "linecolor": "white",
                        "ticks": ""
                      },
                      "bgcolor": "#E5ECF6",
                      "caxis": {
                        "gridcolor": "white",
                        "linecolor": "white",
                        "ticks": ""
                      }
                    },
                    "title": {
                      "x": 0.05
                    },
                    "xaxis": {
                      "automargin": true,
                      "gridcolor": "white",
                      "linecolor": "white",
                      "ticks": "",
                      "title": {
                        "standoff": 15
                      },
                      "zerolinecolor": "white",
                      "zerolinewidth": 2
                    },
                    "yaxis": {
                      "automargin": true,
                      "gridcolor": "white",
                      "linecolor": "white",
                      "ticks": "",
                      "title": {
                        "standoff": 15
                      },
                      "zerolinecolor": "white",
                      "zerolinewidth": 2
                    }
                  }
                },
                "title": {
                  "text": "BMI vs Average Steps total"
                },
                "xaxis": {
                  "anchor": "y",
                  "domain": [
                    0,
                    1
                  ],
                  "title": {
                    "text": "BMI (Body Mass Index)"
                  }
                },
                "yaxis": {
                  "anchor": "x",
                  "domain": [
                    0,
                    1
                  ],
                  "side": "left",
                  "title": {
                    "text": "Total Steps in a day"
                  }
                }
              }
            }
          },
          "metadata": {},
          "output_type": "display_data"
        }
      ],
      "source": [
        "dailySteps = pd.read_csv(\"Data_Coursera_CaseStudy02/dailySteps_merged.csv\", index_col=[0])\n",
        "weightLogInfo = pd.read_csv(\"Data_Coursera_CaseStudy02/weightLogInfo_merged.csv\", index_col=[0])\n",
        "\n",
        "\n",
        "\n",
        "dailySteps = dailySteps.groupby(by=['Id']).mean()\n",
        "dailySteps.reset_index(inplace=True)\n",
        "\n",
        "df_analysis_steps_BMI = pd.merge(dailySteps, weightLogInfo, on = ['Id'])\n",
        "df_analysis_steps_BMI\n",
        "\n",
        "\n",
        "fig = px.scatter(x=df_analysis_steps_BMI['BMI'], y=df_analysis_steps_BMI['StepTotal'], title=\"BMI vs Average Steps total\")\n",
        "\n",
        "fig.update_layout(legend=dict(\n",
        "                      orientation=\"h\",\n",
        "                      yanchor=\"bottom\",\n",
        "                      y=1.02,\n",
        "                      xanchor=\"right\",\n",
        "                      x=1,\n",
        "                      title=''\n",
        "                  ),xaxis=dict(\n",
        "                      title = 'BMI (Body Mass Index)',\n",
        "                      ), \n",
        "                    yaxis=dict(\n",
        "                      title='Total Steps in a day',\n",
        "                      side='left',\n",
        "))\n",
        "\n",
        "\n",
        "fig.show()\n",
        "\n",
        "# data = {'Status': ['Active', 'Not Active'],\n",
        "#         'number of status': [ len(dailySteps[dailySteps['Status']=='Active']), len(dailySteps[dailySteps['Status']=='Not Active'])]}\n",
        "\n",
        "\n",
        "# fig = px.pie(data, values='number of status', names='Status', title='Percentage of active users based on 10.000 steps daily')\n",
        "# fig.show()\n",
        "\n",
        "# print(f\"Average number of steps taken by day: {np.average(dailySteps['StepTotal'])} steps\")"
      ]
    },
    {
      "cell_type": "markdown",
      "metadata": {
        "id": "9zvdsR6O4UIO"
      },
      "source": [
        "Ok. We do not have much data, but we can presume that people with BMI higher than 40 really has difficulty to do more exercises."
      ]
    },
    {
      "cell_type": "markdown",
      "metadata": {
        "id": "0wc04OyG0AGR"
      },
      "source": [
        "## Act phase\n",
        "\n",
        "It is important to note that the data analyzed in this study only represents a partial sample of Bellabeat clients, and therefore cannot be generalized to the entire population. The sample size of 7~33 people is not large enough to assume that the behaviors observed are representative of the broader population. As such, any conclusions or insights drawn from this data should be considered with caution and should not be applied to the entire Bellabeat client base without further research and analysis. It is important to gather a more significant sample size to accurately reflect the population's behavior and make informed decisions based on the data collected.\n",
        "\n",
        "### Insigths from the data:\n",
        "\n",
        "- Most os these users can't be considered active, with less than 10.000 steps per day;\n",
        "  - The users want to know data about their health, and for that, use the gadgets. But, even so, they can't manages to change their habits to become more active.\n",
        "\n",
        "- Some users do not sleep well;\n",
        "  - We could see a lot of data points below 300 minutes a day.\n",
        "\n",
        "- Most of the users do not have a habit to do exercises;\n",
        "  - The average time spent with lightly activities may be related to the job, and the average with the others activities are too low to be considered to be healthy.\n",
        "\n",
        "- The most active time is from 17h to 20h;\n",
        "  - This time could be the time of leaving work and going to the gym.\n",
        "\n",
        "- People with high BMI tends to make less exercise;\n",
        "\n",
        "\n",
        "### Recomendations\n",
        "\n",
        "Based on the trends and hypothesis that has been found, I recommend create new features to the ibtegration of **Bellabeat Leaf** with **Bellabeat App and/ or Bellabeat membership**.\n",
        "\n",
        "- New sleeping traking system:\n",
        "  - To help users improve their sleep quality, the Bellabeat app could implement a notification system that sends reminders to users who have experienced poor sleep quality. These notifications could provide helpful tips and suggestions related to sleep hygiene, such as establishing a regular bedtime routine or creating a relaxing sleep environment. Additionally, the app could offer guided meditations or breathing exercises to help users relax before bed and improve the quality of their sleep.\n",
        "\n",
        "- Game mode of steps daily task and activity time (with rewards):\n",
        "  - Setting daily step goals can be an effective way to motivate Bellabeat users to walk more. By establishing a daily target, users can track their progress and see how close they are to achieving their goal. This can create a sense of accomplishment and provide a tangible incentive to stay active throughout the day. The Bellabeat app could provide users with personalized step targets based on their current activity levels, and offer rewards or incentives for achieving milestones or consistently meeting their goals.\n",
        "\n",
        "- Social media share options on app:\n",
        "  - Setting options to share the acomplishment of tasks in the actual days should have an excelent impact and incentive people to stay active. An environment of competition and companionship can be created once groups could be formed, and the users can start to help each other.\n",
        "  \n",
        "\n",
        "\n",
        "In conclusion, I believe that more research and analysis is needed to better understand the specific needs and behaviors of Bellabeat users in order to continue to improve and tailor the product to meet their needs.\n",
        "\n",
        "\n",
        "\n"
      ]
    }
  ],
  "metadata": {
    "colab": {
      "collapsed_sections": [
        "BkNA2yZ-B-_D",
        "Wrv0ahx_B8lj"
      ],
      "provenance": []
    },
    "kernelspec": {
      "display_name": "Python 3",
      "name": "python3"
    },
    "language_info": {
      "codemirror_mode": {
        "name": "ipython",
        "version": 3
      },
      "file_extension": ".py",
      "mimetype": "text/x-python",
      "name": "python",
      "nbconvert_exporter": "python",
      "pygments_lexer": "ipython3",
      "version": "3.8.10"
    }
  },
  "nbformat": 4,
  "nbformat_minor": 0
}
